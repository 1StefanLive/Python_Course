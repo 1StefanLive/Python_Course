{
  "nbformat": 4,
  "nbformat_minor": 0,
  "metadata": {
    "colab": {
      "name": "3rd Assignment.ipynb",
      "provenance": [],
      "collapsed_sections": [],
      "toc_visible": true
    },
    "kernelspec": {
      "name": "python3",
      "display_name": "Python 3"
    }
  },
  "cells": [
    {
      "cell_type": "markdown",
      "metadata": {
        "id": "vHFI6GfMGMSm"
      },
      "source": [
        "### Numpy"
      ]
    },
    {
      "cell_type": "code",
      "metadata": {
        "id": "h8b0IZh-mJdc"
      },
      "source": [
        "import numpy as np"
      ],
      "execution_count": null,
      "outputs": []
    },
    {
      "cell_type": "markdown",
      "metadata": {
        "id": "1M6ZR6T6GrFW"
      },
      "source": [
        "1) Create a function that receives an integer N as argument and returns a matrix NxN with 1 on the border and 0 inside.\n",
        "\n",
        "Hint: Indexação\n",
        "\n",
        "Monitoria: Revisar indexação numpy"
      ]
    },
    {
      "cell_type": "code",
      "metadata": {
        "id": "QT8Xgudnly3D"
      },
      "source": [
        "def array_0_1(n):\n",
        "  c = np.ones((n,n))\n",
        "  c[1:-1, 1:-1] = 0\n",
        "  return c"
      ],
      "execution_count": null,
      "outputs": []
    },
    {
      "cell_type": "code",
      "metadata": {
        "id": "Lk60TLkh3qjn",
        "outputId": "cfe3deb6-f44e-4046-a3bc-5fe4535a3128",
        "colab": {
          "base_uri": "https://localhost:8080/"
        }
      },
      "source": [
        "array_0_1(10)"
      ],
      "execution_count": null,
      "outputs": [
        {
          "output_type": "execute_result",
          "data": {
            "text/plain": [
              "array([[1., 1., 1., 1., 1., 1., 1., 1., 1., 1.],\n",
              "       [1., 0., 0., 0., 0., 0., 0., 0., 0., 1.],\n",
              "       [1., 0., 0., 0., 0., 0., 0., 0., 0., 1.],\n",
              "       [1., 0., 0., 0., 0., 0., 0., 0., 0., 1.],\n",
              "       [1., 0., 0., 0., 0., 0., 0., 0., 0., 1.],\n",
              "       [1., 0., 0., 0., 0., 0., 0., 0., 0., 1.],\n",
              "       [1., 0., 0., 0., 0., 0., 0., 0., 0., 1.],\n",
              "       [1., 0., 0., 0., 0., 0., 0., 0., 0., 1.],\n",
              "       [1., 0., 0., 0., 0., 0., 0., 0., 0., 1.],\n",
              "       [1., 1., 1., 1., 1., 1., 1., 1., 1., 1.]])"
            ]
          },
          "metadata": {
            "tags": []
          },
          "execution_count": 3
        }
      ]
    },
    {
      "cell_type": "markdown",
      "metadata": {
        "id": "nkPlX2_YHVBJ"
      },
      "source": [
        "2) Create a function that transpose a matrix without using the method np.transpose or np.array.T.\n",
        "\n",
        "Hint: Criar um vetor de ones e prestar atenção no shape desse vetor\n",
        "\n",
        "Monitoria: np.ones, np.zeros - definindo o shape"
      ]
    },
    {
      "cell_type": "code",
      "metadata": {
        "id": "1B5--to-lzEs"
      },
      "source": [
        "def transposing(array):\n",
        "  array_t = np.zeros(tuple(reversed(array.shape)))  \n",
        "  for i in range(array.shape[1]):\n",
        "    for j in range(array.shape[0]):\n",
        "      array_t[i][j] = array[j][i]\n",
        "  return array_t"
      ],
      "execution_count": null,
      "outputs": []
    },
    {
      "cell_type": "code",
      "metadata": {
        "id": "3og6Qb_qdNAU"
      },
      "source": [
        "a = np.array([[2,3],[26,8],[1,1]])"
      ],
      "execution_count": null,
      "outputs": []
    },
    {
      "cell_type": "code",
      "metadata": {
        "id": "AqnAGjjvdQvE",
        "outputId": "89598741-ca21-4a68-c738-8a47a11739a3",
        "colab": {
          "base_uri": "https://localhost:8080/"
        }
      },
      "source": [
        "a.T"
      ],
      "execution_count": null,
      "outputs": [
        {
          "output_type": "execute_result",
          "data": {
            "text/plain": [
              "array([[ 2, 26,  1],\n",
              "       [ 3,  8,  1]])"
            ]
          },
          "metadata": {
            "tags": []
          },
          "execution_count": 6
        }
      ]
    },
    {
      "cell_type": "code",
      "metadata": {
        "id": "-Pf7jfasdYhb",
        "outputId": "4965b40c-fd84-44ee-b127-2fbd0e7170f8",
        "colab": {
          "base_uri": "https://localhost:8080/"
        }
      },
      "source": [
        "a"
      ],
      "execution_count": null,
      "outputs": [
        {
          "output_type": "execute_result",
          "data": {
            "text/plain": [
              "array([[ 2,  3],\n",
              "       [26,  8],\n",
              "       [ 1,  1]])"
            ]
          },
          "metadata": {
            "tags": []
          },
          "execution_count": 7
        }
      ]
    },
    {
      "cell_type": "markdown",
      "metadata": {
        "id": "BjQQns18IJTN"
      },
      "source": [
        "3) Create two 1d arrays with length 10 that contains random integers from 0 to 1000. How many iterations does it take until the sum of their values are the same?"
      ]
    },
    {
      "cell_type": "markdown",
      "metadata": {
        "id": "Ly_BxwkxCiTU"
      },
      "source": [
        "Hint: np.random.randint\n",
        "\n",
        "Monitoria: np.random.randint"
      ]
    },
    {
      "cell_type": "code",
      "metadata": {
        "id": "K1b3PyZsrWPH"
      },
      "source": [
        "count = 0\n",
        "while True:\n",
        "  count +=1\n",
        "  a1 = np.random.randint(1000, size = 10)\n",
        "  a2 = np.random.randint(1000, size = 10)\n",
        "  if a1.sum() == a2.sum():\n",
        "    break"
      ],
      "execution_count": null,
      "outputs": []
    },
    {
      "cell_type": "markdown",
      "metadata": {
        "id": "Wpa8eL4K3jZf"
      },
      "source": [
        "Obviamente, sendo aleatório, cada um terá uma resposta diferente"
      ]
    },
    {
      "cell_type": "code",
      "metadata": {
        "id": "75zP8lb_d08U",
        "outputId": "d56a1e0a-5639-4329-8129-470588ffa3da",
        "colab": {
          "base_uri": "https://localhost:8080/"
        }
      },
      "source": [
        "count"
      ],
      "execution_count": null,
      "outputs": [
        {
          "output_type": "execute_result",
          "data": {
            "text/plain": [
              "787"
            ]
          },
          "metadata": {
            "tags": []
          },
          "execution_count": 9
        }
      ]
    },
    {
      "cell_type": "markdown",
      "metadata": {
        "id": "xQIM-1-BNHr2"
      },
      "source": [
        "### Classes"
      ]
    },
    {
      "cell_type": "markdown",
      "metadata": {
        "id": "R_vi6lpSNLPC"
      },
      "source": [
        "Create a class \"Country\" that contains the following methods:\n",
        "\n",
        "- compare_gdp_per_capita\n",
        "- compare_population_density\n",
        "- development_status \n",
        "\n",
        "Additional information:\n",
        "\n",
        "- To classify the development status (high-income, upper middle income, lower middle income and low-income) use the following methodology: https://www.un.org/en/development/desa/policy/wesp/wesp_current/2014wesp_country_classification.pdf\n",
        "\n",
        "- Consider GNI as GDP\n",
        "\n",
        "- The input will be in the format (name_of_country, population, area_in_km2, gdp), where name_of_country is a string and the other three inputs are integers.\n",
        "\n",
        "\n",
        "**Example**\n",
        "\n",
        "brazil = Country(\"Brazil\", 209500000, 8516000, 1847000000)\n",
        "\n",
        "mexico = Country(\"Mexico\", 126200000, 1973000, 1221000000)\n",
        "\n",
        "brazil.development_status ➞ 'upper middle income'\n",
        "\n",
        "mexico.compare_population_density(brazil) ➞ \"Mexico has a larger population density than Brazil\"\n",
        "\n",
        "brazil.compare_gdp_per_capita(mexico) ➞ \"Brazil is poorer than Mexico\""
      ]
    },
    {
      "cell_type": "code",
      "metadata": {
        "id": "xt5CZp7JCtjk"
      },
      "source": [
        "class Country ():\n",
        "  def __init__(self,name_of_country, population, area, gdp):\n",
        "    self.name_of_country = name_of_country\n",
        "    self.population = population\n",
        "    self.area = area\n",
        "    self.gdp = gdp\n",
        "    self.gdp_per_capita = gdp/population\n",
        "\n",
        "  def compare_gdp_per_capita(self,country):\n",
        "    if self.gdp_per_capita > country.gdp_per_capita:\n",
        "      return f'{self.name_of_country} is richer than {country.name_of_country}'\n",
        "    elif self.gdp_per_capita < country.gdp_per_capita:\n",
        "      return f'{self.name_of_country} is poorer than {country.name_of_country}'\n",
        "    else:\n",
        "      return f'{self.name_of_country} as rich as {country.name_of_country}'\n",
        "\n",
        "  def compare_population_density(self,country):\n",
        "    if self.population/self.area > country.population/country.area:\n",
        "      return f'{self.name_of_country} has a larger population density than {country.name_of_country}'\n",
        "    elif self.population/self.area < country.population/country.area:\n",
        "      return f'{self.name_of_country} has a smaller population density than {country.name_of_country}'\n",
        "    else:\n",
        "      return f'{self.name_of_country} has the same population density of {country.name_of_country}'\n",
        "\n",
        "\n",
        "# Poderia ter feito assim ou como atributo\n",
        "  def development_status(self):\n",
        "    if self.gdp_per_capita < 1035:\n",
        "      return \"low-income\"\n",
        "    elif self.gdp_per_capita >= 1035 and self.gdp_per_capita < 4085:\n",
        "      return \"lower middle income \"\n",
        "    elif self.gdp_per_capita >= 4085 and self.gdp_per_capita < 12615:\n",
        "      return \"upper middle income\"\n",
        "    else:\n",
        "      return \"high-income\""
      ],
      "execution_count": null,
      "outputs": []
    },
    {
      "cell_type": "markdown",
      "metadata": {
        "id": "-xAFEOT32th1"
      },
      "source": [
        "No exemplo eu coloquei 3 zeros a menos em PIB. Logo a avaliação  do método \"development status\" foi anulada"
      ]
    },
    {
      "cell_type": "code",
      "metadata": {
        "id": "ECxoA2-L2YL2",
        "outputId": "4e989115-aa35-4a00-d4f6-455a55bc42f9",
        "colab": {
          "base_uri": "https://localhost:8080/"
        }
      },
      "source": [
        "brazil = Country(\"Brazil\", 209500000, 8516000, 1847000000000)\n",
        "\n",
        "mexico = Country(\"Mexico\", 126200000, 1973000, 1221000000000)\n",
        "\n",
        "print(brazil.development_status())\n",
        "\n",
        "print(mexico.compare_population_density(brazil))\n",
        "\n",
        "print(brazil.compare_gdp_per_capita(mexico))"
      ],
      "execution_count": null,
      "outputs": [
        {
          "output_type": "stream",
          "text": [
            "upper middle income\n",
            "Mexico has a larger population density than Brazil\n",
            "Brazil is poorer than Mexico\n"
          ],
          "name": "stdout"
        }
      ]
    },
    {
      "cell_type": "markdown",
      "metadata": {
        "id": "qLPaKuekVPUh"
      },
      "source": [
        "### General Exercises"
      ]
    },
    {
      "cell_type": "markdown",
      "metadata": {
        "id": "xBIdUgtTWNy0"
      },
      "source": [
        "1) **Counting Sundays** (Project Euler 19)\n",
        "\n",
        "- 1 Jan 1900 was a Monday. \n",
        "- Thirty days has September,\n",
        "April, June and November.\n",
        "- All the rest have thirty-one,\n",
        "- Saving February alone, which has twenty-eight, rain or shine.\n",
        "- And on leap years, twenty-nine.\n",
        "- A leap year occurs on any year evenly divisible by 4, but not on a century unless it is divisible by 400.\n",
        "\n",
        "\n",
        "How many Sundays fell on the first of the month during the twentieth century (1 Jan 1901 to 31 Dec 2000)?"
      ]
    },
    {
      "cell_type": "markdown",
      "metadata": {
        "id": "Izvg29vIEneG"
      },
      "source": [
        "Hint: Usar o OrderedDict\n",
        "\n",
        "Monitoria: Ordered Dict"
      ]
    },
    {
      "cell_type": "code",
      "metadata": {
        "id": "iOHpH4GOZxkw"
      },
      "source": [
        "from collections import OrderedDict"
      ],
      "execution_count": null,
      "outputs": []
    },
    {
      "cell_type": "code",
      "metadata": {
        "id": "Zpr0JCPoWMSN"
      },
      "source": [
        "dict_days = OrderedDict({ \"January\": 31, \"February\" : 28, \"March\" : 31, \"April\" : 30, \"May\" : 31, \"June\" : 30, \"July\" : 31, \"August\" : 31, \"September\" : 30, \"October\" : 31, \"November\" : 30, \"December\" : 31})"
      ],
      "execution_count": null,
      "outputs": []
    },
    {
      "cell_type": "code",
      "metadata": {
        "id": "d8jjFQvMXFbS"
      },
      "source": [
        "day = 1\n",
        "sundays = 0\n",
        "for i in range(1900,2001):\n",
        "  for j in dict_days.keys():\n",
        "    if int(str(i)[2:]) % 4 == 0 and j == 'February':\n",
        "      day += 29\n",
        "      if i > 1900 and day % 7 == 0:\n",
        "        sundays += 1\n",
        "    else:\n",
        "      day += dict_days[j]\n",
        "      if i > 1900 and day % 7 == 0:\n",
        "        sundays += 1"
      ],
      "execution_count": null,
      "outputs": []
    },
    {
      "cell_type": "code",
      "metadata": {
        "id": "nvKxKDL2cowi",
        "outputId": "30c61e5a-f47f-4c38-d56e-5c604254b97b",
        "colab": {
          "base_uri": "https://localhost:8080/"
        }
      },
      "source": [
        "sundays"
      ],
      "execution_count": null,
      "outputs": [
        {
          "output_type": "execute_result",
          "data": {
            "text/plain": [
              "171"
            ]
          },
          "metadata": {
            "tags": []
          },
          "execution_count": 15
        }
      ]
    },
    {
      "cell_type": "markdown",
      "metadata": {
        "id": "9o40QQYTVTjd"
      },
      "source": [
        "2) Create a function that receives a 'CPF' and checks whether it is a valid CPF. The conditions that makes a CPF valid can easily be found on internet."
      ]
    },
    {
      "cell_type": "markdown",
      "metadata": {
        "id": "94bPnAI4G1uQ"
      },
      "source": [
        "Hint: Colocar todas as negativas em if e elif e deixar o else fora"
      ]
    },
    {
      "cell_type": "code",
      "metadata": {
        "id": "4obpsSRLduuN"
      },
      "source": [
        "def valid_cpf(cpf):\n",
        "\n",
        "\n",
        "  digits_list = list(map(lambda x:int(x),list(str(cpf))))\n",
        "  rule_digit_1 = sum([(10-i)*digits_list[i] for i in range(9)])%11\n",
        "  rule_digit_2 = sum([(11-i)*digits_list[i] for i in range(10)])%11\n",
        "\n",
        "  if len(str(cpf)) != 11 or not str(cpf).isnumeric:\n",
        "    return False\n",
        "  elif set(digits_list) == 1:\n",
        "    return False\n",
        "  elif rule_digit_1 in [0,1] and digits_list[-2] != 0:\n",
        "    return False\n",
        "  elif rule_digit_1 not in [0,1] and digits_list[-2] != 11-rule_digit_1:\n",
        "    return False\n",
        "  elif rule_digit_2 in [0,1] and digits_list[-1] != 0:\n",
        "    return False\n",
        "  elif rule_digit_2 not in [0,1] and digits_list[-1] != 11-rule_digit_2:\n",
        "    return False\n",
        "  else:\n",
        "    return True"
      ],
      "execution_count": null,
      "outputs": []
    }
  ]
}