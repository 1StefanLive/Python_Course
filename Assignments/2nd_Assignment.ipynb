{
  "nbformat": 4,
  "nbformat_minor": 0,
  "metadata": {
    "colab": {
      "name": "2nd_Assignment.ipynb",
      "provenance": [],
      "collapsed_sections": []
    },
    "kernelspec": {
      "name": "python3",
      "display_name": "Python 3"
    }
  },
  "cells": [
    {
      "cell_type": "markdown",
      "metadata": {
        "id": "EluRo1fC7YSm",
        "colab_type": "text"
      },
      "source": [
        "## Second list of exercises"
      ]
    },
    {
      "cell_type": "markdown",
      "metadata": {
        "id": "T586rDGKGiEb",
        "colab_type": "text"
      },
      "source": [
        "1) Use list comprehension to create a list that:\n",
        "\n",
        "- a) Given a list of strings, contains the length of them.\n",
        "\n",
        "- b) Contains all the cubes of the multiples of 17 in a range from 1 to 1000.\n",
        "\n",
        "- c) Contains all the numbers from 1 to 100 that starts with 4 or 5 and are even numbers.\n",
        "\n",
        "- d) Contains all the numbers from 1 to 1000 that have the digit 3 in them.\n",
        "\n",
        "- e) Given a list of strings, transform to upper if the first letter is a vowel and invert the string otherwise.\n",
        "\n",
        "       For example, ['apple', 'orange', 'watermelon'] -> ['APPLE','ORANGE', 'nolemretaw']"
      ]
    },
    {
      "cell_type": "markdown",
      "metadata": {
        "id": "X73tSdOdHJNN",
        "colab_type": "text"
      },
      "source": [
        "2) Write function that takes a list with two numbers in it and determines if the sum of the digits of the two numbers are equal to each other."
      ]
    },
    {
      "cell_type": "markdown",
      "metadata": {
        "id": "am_e92rCHNJ-",
        "colab_type": "text"
      },
      "source": [
        "3) Among all the numbers that are made from the product of two 3-digit numbers:\n",
        "\n",
        "- a) How many are odd numbers?\n",
        "\n",
        "- b) How many starts with the digit-8 and ends with digit-9\n",
        "\n",
        "- c) How many are palindromes?"
      ]
    },
    {
      "cell_type": "markdown",
      "metadata": {
        "id": "IJ5A3ICXT56U",
        "colab_type": "text"
      },
      "source": [
        "4) Use functional programming to:"
      ]
    },
    {
      "cell_type": "markdown",
      "metadata": {
        "id": "CQjX0itUV28B",
        "colab_type": "text"
      },
      "source": [
        "- a) Filter the indexes with positive changes in the dictionary 'stock_indexes'. \n"
      ]
    },
    {
      "cell_type": "code",
      "metadata": {
        "id": "x3nUtcLmWNso",
        "colab_type": "code",
        "colab": {}
      },
      "source": [
        "stock_indexes = {'FTSE 100':-0.3, 'DAX': -1.65, 'Dow Jones': -1.1, 'Ibovespa':0.2, 'S&P':0.65}"
      ],
      "execution_count": 32,
      "outputs": []
    },
    {
      "cell_type": "markdown",
      "metadata": {
        "id": "sWzE6gJLWjW3",
        "colab_type": "text"
      },
      "source": [
        "- b) Apply a function that generates a list with the types of each element of the list 'elements'"
      ]
    },
    {
      "cell_type": "code",
      "metadata": {
        "id": "lHyUqNnMX3D2",
        "colab_type": "code",
        "colab": {}
      },
      "source": [
        "elements = [1,'economics', 9.8, 2 + 3j, ['a','b','c'], stock_indexes]"
      ],
      "execution_count": 33,
      "outputs": []
    },
    {
      "cell_type": "markdown",
      "metadata": {
        "id": "_gW12Ti2YM1J",
        "colab_type": "text"
      },
      "source": [
        "- c) Transform a list of lists in a flat list\n",
        "    \n",
        "       For example, [[1,2,4],[10,12,14],[1,2]] -> [1,2,4,10,12,14,1,2]"
      ]
    }
  ]
}