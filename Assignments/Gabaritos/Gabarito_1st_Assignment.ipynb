{
  "nbformat": 4,
  "nbformat_minor": 0,
  "metadata": {
    "kernelspec": {
      "display_name": "Python 3",
      "language": "python",
      "name": "python3"
    },
    "language_info": {
      "codemirror_mode": {
        "name": "ipython",
        "version": 3
      },
      "file_extension": ".py",
      "mimetype": "text/x-python",
      "name": "python",
      "nbconvert_exporter": "python",
      "pygments_lexer": "ipython3",
      "version": "3.7.6"
    },
    "colab": {
      "name": "Gabarito 1st_Assignment.ipynb",
      "provenance": [],
      "collapsed_sections": []
    }
  },
  "cells": [
    {
      "cell_type": "markdown",
      "metadata": {
        "id": "EluRo1fC7YSm"
      },
      "source": [
        "## First list of exercises\n",
        "\n",
        "#### Ordered from the easiest to the \"hardest\""
      ]
    },
    {
      "cell_type": "markdown",
      "metadata": {
        "id": "py4kgaMh7YSn"
      },
      "source": [
        "1) Write a function that takes an integer minutes and converts it to seconds. <font color='green'>(EASY)</font>"
      ]
    },
    {
      "cell_type": "code",
      "metadata": {
        "id": "W94FceP87YSp"
      },
      "source": [
        "def minutes_to_seconds(minutes):\n",
        "  secs = minutes*60\n",
        "  return secs"
      ],
      "execution_count": 2,
      "outputs": []
    },
    {
      "cell_type": "code",
      "metadata": {
        "id": "5JF_rv0YLcq_",
        "outputId": "1177dcfd-4825-4247-db81-c95599fdc513",
        "colab": {
          "base_uri": "https://localhost:8080/",
          "height": 35
        }
      },
      "source": [
        "minutes_to_seconds(15)"
      ],
      "execution_count": 3,
      "outputs": [
        {
          "output_type": "execute_result",
          "data": {
            "text/plain": [
              "900"
            ]
          },
          "metadata": {
            "tags": []
          },
          "execution_count": 3
        }
      ]
    },
    {
      "cell_type": "markdown",
      "metadata": {
        "id": "V8Iygkok7YSv"
      },
      "source": [
        "2) Create a function that converts a date formatted as MM/DD/YYYY to YYYYDDMM. The input is a string!\n",
        "\n",
        "<font color='red'>Quem usou datetime aqui teve ponto descontado. Era uma questão de manipulação de strings.</font>"
      ]
    },
    {
      "cell_type": "code",
      "metadata": {
        "id": "6upXFRJO7YSw"
      },
      "source": [
        "def date_formatting(string_date):\n",
        "  date_list = string_date.split('/')\n",
        "  date_list.reverse()\n",
        "  output = ''.join(date_list)\n",
        "  return output"
      ],
      "execution_count": 4,
      "outputs": []
    },
    {
      "cell_type": "code",
      "metadata": {
        "id": "sNFxLihj9IeO",
        "outputId": "97cd9348-2ed5-4da9-afdd-b0be138e34ff",
        "colab": {
          "base_uri": "https://localhost:8080/",
          "height": 36
        }
      },
      "source": [
        "date_formatting('09/22/2020')"
      ],
      "execution_count": 5,
      "outputs": [
        {
          "output_type": "execute_result",
          "data": {
            "application/vnd.google.colaboratory.intrinsic+json": {
              "type": "string"
            },
            "text/plain": [
              "'20202209'"
            ]
          },
          "metadata": {
            "tags": []
          },
          "execution_count": 5
        }
      ]
    },
    {
      "cell_type": "markdown",
      "metadata": {
        "id": "pQvZBRBl7YS4"
      },
      "source": [
        "3) A typical car can hold four passengers and one driver, allowing five people to travel around. Given n number of people, `return` how many cars are needed to seat everyone comfortably."
      ]
    },
    {
      "cell_type": "code",
      "metadata": {
        "id": "miOwYnQq7YS7"
      },
      "source": [
        "def car(numeric):\n",
        "  if numeric % 5 == 0:\n",
        "    return numeric/5\n",
        "  else:\n",
        "    return numeric//5 + 1\n",
        "    #return int(numeric/5) + 1"
      ],
      "execution_count": 6,
      "outputs": []
    },
    {
      "cell_type": "code",
      "metadata": {
        "id": "LEnhSlcALhd6",
        "outputId": "82563cf6-7fce-4f26-f725-b7494b64d7b4",
        "colab": {
          "base_uri": "https://localhost:8080/",
          "height": 52
        }
      },
      "source": [
        "print(car(19))\n",
        "print(car(21))"
      ],
      "execution_count": 7,
      "outputs": [
        {
          "output_type": "stream",
          "text": [
            "4\n",
            "5\n"
          ],
          "name": "stdout"
        }
      ]
    },
    {
      "cell_type": "markdown",
      "metadata": {
        "id": "ZO_CEExZ7YTD"
      },
      "source": [
        "4) Create a function that replaces all the vowels in a string with the character '#'."
      ]
    },
    {
      "cell_type": "code",
      "metadata": {
        "id": "jOTdsBhB7YTF"
      },
      "source": [
        "def hashtag_vowels(a_string):\n",
        "  vowels = 'aieou' + 'aieou'.upper()\n",
        "  for i in vowels:\n",
        "    a_string = a_string.replace(i,'#')\n",
        "  return a_string"
      ],
      "execution_count": 8,
      "outputs": []
    },
    {
      "cell_type": "code",
      "metadata": {
        "id": "dV7I4nN0BbbY",
        "outputId": "a663366f-51f3-4a66-f22c-f5da18b9bddf",
        "colab": {
          "base_uri": "https://localhost:8080/",
          "height": 36
        }
      },
      "source": [
        "# não considera acentos.\n",
        "\n",
        "hashtag_vowels('Paralelepipedo')"
      ],
      "execution_count": 12,
      "outputs": [
        {
          "output_type": "execute_result",
          "data": {
            "application/vnd.google.colaboratory.intrinsic+json": {
              "type": "string"
            },
            "text/plain": [
              "'P#r#l#l#p#p#d#'"
            ]
          },
          "metadata": {
            "tags": []
          },
          "execution_count": 12
        }
      ]
    },
    {
      "cell_type": "markdown",
      "metadata": {
        "id": "cwFoi6qBK-2E"
      },
      "source": [
        "<font color='green'>Nâo era necessário excluir acentos, de qualquer forma coloquei uma solução que o faz.</font>"
      ]
    },
    {
      "cell_type": "code",
      "metadata": {
        "id": "4kGY0uFaBzHB",
        "outputId": "f85c3857-eb1c-4240-d365-aac70fd053c5",
        "colab": {
          "base_uri": "https://localhost:8080/",
          "height": 36
        }
      },
      "source": [
        "#!pip install unidecode\n",
        "\n",
        "import unidecode"
      ],
      "execution_count": null,
      "outputs": [
        {
          "output_type": "execute_result",
          "data": {
            "application/vnd.google.colaboratory.intrinsic+json": {
              "type": "string"
            },
            "text/plain": [
              "'Area'"
            ]
          },
          "metadata": {
            "tags": []
          },
          "execution_count": 28
        }
      ]
    },
    {
      "cell_type": "code",
      "metadata": {
        "id": "2-gFDrwkBr3l"
      },
      "source": [
        "def hashtag_vowels_with_accent(a_string):\n",
        "  vowels = 'aieou' + 'aieou'.upper()\n",
        "  for i in vowels:\n",
        "    a_string = unidecode.unidecode(a_string).replace(i,'#')\n",
        "  return a_string"
      ],
      "execution_count": null,
      "outputs": []
    },
    {
      "cell_type": "code",
      "metadata": {
        "id": "iBi_4un0CVQZ",
        "outputId": "7ed18391-991a-4028-bba2-e4c53000aff9",
        "colab": {
          "base_uri": "https://localhost:8080/",
          "height": 36
        }
      },
      "source": [
        "hashtag_vowels_with_accent('Paralelepípedo')"
      ],
      "execution_count": null,
      "outputs": [
        {
          "output_type": "execute_result",
          "data": {
            "application/vnd.google.colaboratory.intrinsic+json": {
              "type": "string"
            },
            "text/plain": [
              "'P#r#l#l#p#p#d#'"
            ]
          },
          "metadata": {
            "tags": []
          },
          "execution_count": 31
        }
      ]
    },
    {
      "cell_type": "markdown",
      "metadata": {
        "id": "FYD3iuoF7YTL"
      },
      "source": [
        "5) Write a function that inverts the keys and values of a dictionary."
      ]
    },
    {
      "cell_type": "code",
      "metadata": {
        "id": "KPYSn3Wo7YTM"
      },
      "source": [
        "def invert_keys_values(dictionary):\n",
        "  dictionary2 = dict()\n",
        "  for i,j in dictionary.items():\n",
        "    dictionary2[j] = i \n",
        "  return dictionary2"
      ],
      "execution_count": 13,
      "outputs": []
    },
    {
      "cell_type": "code",
      "metadata": {
        "id": "d3yRFUD6Lz-Q",
        "outputId": "ca5bfe40-129c-40e6-88ec-d2efe390f063",
        "colab": {
          "base_uri": "https://localhost:8080/",
          "height": 35
        }
      },
      "source": [
        "invert_keys_values({'a':1,'b':2})"
      ],
      "execution_count": 14,
      "outputs": [
        {
          "output_type": "execute_result",
          "data": {
            "text/plain": [
              "{1: 'a', 2: 'b'}"
            ]
          },
          "metadata": {
            "tags": []
          },
          "execution_count": 14
        }
      ]
    },
    {
      "cell_type": "markdown",
      "metadata": {
        "id": "thED9zJq7YTR"
      },
      "source": [
        "6) Create a function that takes a list of strings and return a list, sorted from shortest to longest."
      ]
    },
    {
      "cell_type": "code",
      "metadata": {
        "id": "sQVQHJpx7YTS"
      },
      "source": [
        "# Versão 1\n",
        "\n",
        "def len_string(list_string):\n",
        "    dict_strings = dict()\n",
        "    a_list = []\n",
        "\n",
        "    # creating a dictionary with the word:len(word)\n",
        "    for i in list_string:\n",
        "      dict_strings[i] = len(i)\n",
        "    \n",
        "    # sorting it\n",
        "    for j in sorted(dict_strings.items(), key = lambda x:x[1]):\n",
        "      a_list.append(j[0])\n",
        "\n",
        "    return a_list"
      ],
      "execution_count": 15,
      "outputs": []
    },
    {
      "cell_type": "code",
      "metadata": {
        "id": "2jCBMRW1L506",
        "outputId": "7fec92c9-8dee-4531-8e11-9c8e4215938d",
        "colab": {
          "base_uri": "https://localhost:8080/",
          "height": 35
        }
      },
      "source": [
        "len_string(['1','999999999','666666','333'])"
      ],
      "execution_count": 16,
      "outputs": [
        {
          "output_type": "execute_result",
          "data": {
            "text/plain": [
              "['1', '333', '666666', '999999999']"
            ]
          },
          "metadata": {
            "tags": []
          },
          "execution_count": 16
        }
      ]
    },
    {
      "cell_type": "code",
      "metadata": {
        "id": "UZ9rwtcaEOjS"
      },
      "source": [
        "# Versão 2\n",
        "\n",
        "def len_string2(list_string):\n",
        "  list_string.sort(key=lambda x:len(x))\n",
        "  return list_string"
      ],
      "execution_count": 18,
      "outputs": []
    },
    {
      "cell_type": "code",
      "metadata": {
        "id": "jpT112ahMDwI",
        "outputId": "4e878fc4-8216-4095-cae1-51414968636d",
        "colab": {
          "base_uri": "https://localhost:8080/",
          "height": 35
        }
      },
      "source": [
        "len_string2(['1','999999999','666666','333'])"
      ],
      "execution_count": 19,
      "outputs": [
        {
          "output_type": "execute_result",
          "data": {
            "text/plain": [
              "['1', '333', '666666', '999999999']"
            ]
          },
          "metadata": {
            "tags": []
          },
          "execution_count": 19
        }
      ]
    },
    {
      "cell_type": "markdown",
      "metadata": {
        "id": "Dk9XB17L7YTY"
      },
      "source": [
        "7) Create a function that returns True if the first list is a subset of the second. Return False otherwise.\n",
        "\n",
        "<font color='red'>ANULADA - enunciado ambíguo e eu não explicitei que não era para usar set (minha ideia inicial) - todas as soluções ganharam o ponto, exceto que nem tentou. </font>"
      ]
    },
    {
      "cell_type": "code",
      "metadata": {
        "id": "PkGrla307YTZ"
      },
      "source": [
        "def subset_list(first_list,second_list):\n",
        "  a = []\n",
        "  second_list_copy = second_list.copy()\n",
        "  for i in first_list:\n",
        "    if i in second_list:\n",
        "      a.append(i)\n",
        "      try:\n",
        "        second_list_copy.remove(i)\n",
        "      except:\n",
        "        return False  \n",
        "  print(a)    \n",
        "  if a == first_list:\n",
        "    return True\n",
        "  else:\n",
        "    return False"
      ],
      "execution_count": null,
      "outputs": []
    },
    {
      "cell_type": "code",
      "metadata": {
        "id": "9vLAqeemcbjV",
        "outputId": "c23b4fcf-60e2-4ea9-ec9c-0da19c874dc3",
        "colab": {
          "base_uri": "https://localhost:8080/",
          "height": 52
        }
      },
      "source": [
        "subset_list([1,2,3], [1,2,3,4,5,6])"
      ],
      "execution_count": null,
      "outputs": [
        {
          "output_type": "stream",
          "text": [
            "[1, 2, 3]\n"
          ],
          "name": "stdout"
        },
        {
          "output_type": "execute_result",
          "data": {
            "text/plain": [
              "True"
            ]
          },
          "metadata": {
            "tags": []
          },
          "execution_count": 4
        }
      ]
    },
    {
      "cell_type": "markdown",
      "metadata": {
        "id": "ou_5mpxh7YTe"
      },
      "source": [
        "8) Create a function that takes an integer and returns the factorial of that integer. That is, the integer multiplied by all positive lower integers."
      ]
    },
    {
      "cell_type": "code",
      "metadata": {
        "id": "K3TyaPMh7YTf"
      },
      "source": [
        "def fatorial(integer):\n",
        "  a = 1\n",
        "  for i in range(1,integer+1):\n",
        "    a *= i #a = a*1\n",
        "  return a"
      ],
      "execution_count": 20,
      "outputs": []
    },
    {
      "cell_type": "code",
      "metadata": {
        "id": "Cq5NK5x8vQPZ",
        "outputId": "b51c1cbe-b693-4929-f65a-83f083ea9858",
        "colab": {
          "base_uri": "https://localhost:8080/",
          "height": 35
        }
      },
      "source": [
        "fatorial(0)"
      ],
      "execution_count": 21,
      "outputs": [
        {
          "output_type": "execute_result",
          "data": {
            "text/plain": [
              "1"
            ]
          },
          "metadata": {
            "tags": []
          },
          "execution_count": 21
        }
      ]
    },
    {
      "cell_type": "code",
      "metadata": {
        "id": "3j7TFZzRMLcq",
        "outputId": "004ca85d-0866-4e9f-fa8a-719039932d26",
        "colab": {
          "base_uri": "https://localhost:8080/",
          "height": 35
        }
      },
      "source": [
        "fatorial(5)"
      ],
      "execution_count": 22,
      "outputs": [
        {
          "output_type": "execute_result",
          "data": {
            "text/plain": [
              "120"
            ]
          },
          "metadata": {
            "tags": []
          },
          "execution_count": 22
        }
      ]
    },
    {
      "cell_type": "markdown",
      "metadata": {
        "id": "32yVTekk7YTk"
      },
      "source": [
        "9) Create a function that takes a number as an argument and returns how many times it is multiple of 3."
      ]
    },
    {
      "cell_type": "code",
      "metadata": {
        "id": "uqpmby097YTl"
      },
      "source": [
        "def multiple_3(integer):\n",
        "  count_times = 0\n",
        "  while integer % 3 == 0:\n",
        "    integer /= 3 \n",
        "    count_times += 1\n",
        "  return count_times"
      ],
      "execution_count": 23,
      "outputs": []
    },
    {
      "cell_type": "code",
      "metadata": {
        "id": "64NThv05MN3M",
        "outputId": "0d90d88e-b054-457e-f42c-a8089a6e13be",
        "colab": {
          "base_uri": "https://localhost:8080/",
          "height": 35
        }
      },
      "source": [
        "multiple_3(3*3*3*3*4)"
      ],
      "execution_count": 24,
      "outputs": [
        {
          "output_type": "execute_result",
          "data": {
            "text/plain": [
              "4"
            ]
          },
          "metadata": {
            "tags": []
          },
          "execution_count": 24
        }
      ]
    },
    {
      "cell_type": "markdown",
      "metadata": {
        "id": "h66ZpY8h7YTq"
      },
      "source": [
        "10) Create a function that sorts a list and removes all duplicate items from it. (Don't use 'set')"
      ]
    },
    {
      "cell_type": "code",
      "metadata": {
        "id": "tUin392n7YTr"
      },
      "source": [
        "def sort_and_remove_duplicate(a_list):\n",
        "  new_list = []\n",
        "  for i in a_list:\n",
        "    if str(i) not in new_list:\n",
        "      new_list.append(str(i))\n",
        "  new_list.sort()\n",
        "  return new_list\n"
      ],
      "execution_count": 25,
      "outputs": []
    },
    {
      "cell_type": "code",
      "metadata": {
        "id": "BQ0DieJQx1vE",
        "outputId": "db8124ec-531f-43d7-d7d3-8cfc58ed77f3",
        "colab": {
          "base_uri": "https://localhost:8080/",
          "height": 35
        }
      },
      "source": [
        "sort_and_remove_duplicate([9]*3+[6]*2+[1,2,3]*3)"
      ],
      "execution_count": 26,
      "outputs": [
        {
          "output_type": "execute_result",
          "data": {
            "text/plain": [
              "['1', '2', '3', '6', '9']"
            ]
          },
          "metadata": {
            "tags": []
          },
          "execution_count": 26
        }
      ]
    },
    {
      "cell_type": "code",
      "metadata": {
        "id": "gJBuOZMHx-rX",
        "outputId": "6b601f12-1050-49f6-e03f-7ccc4c8a3fdc",
        "colab": {
          "base_uri": "https://localhost:8080/",
          "height": 35
        }
      },
      "source": [
        "sort_and_remove_duplicate(['a']*10+['b']*4+['c']*3)"
      ],
      "execution_count": 27,
      "outputs": [
        {
          "output_type": "execute_result",
          "data": {
            "text/plain": [
              "['a', 'b', 'c']"
            ]
          },
          "metadata": {
            "tags": []
          },
          "execution_count": 27
        }
      ]
    }
  ]
}