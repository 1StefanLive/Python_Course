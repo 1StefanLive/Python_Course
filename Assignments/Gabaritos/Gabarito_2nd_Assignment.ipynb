{
  "nbformat": 4,
  "nbformat_minor": 0,
  "metadata": {
    "colab": {
      "name": "Gabarito 2nd_Assignment.ipynb",
      "provenance": [],
      "collapsed_sections": []
    },
    "kernelspec": {
      "name": "python3",
      "display_name": "Python 3"
    }
  },
  "cells": [
    {
      "cell_type": "markdown",
      "metadata": {
        "id": "EluRo1fC7YSm"
      },
      "source": [
        "## Second list of exercises"
      ]
    },
    {
      "cell_type": "markdown",
      "metadata": {
        "id": "T586rDGKGiEb"
      },
      "source": [
        "1) Use list comprehension to create a list that:\n",
        "\n",
        "- a) Given a list of strings, contains the length of them.\n",
        "\n",
        "- b) Contains all the cubes of the multiples of 17 in a range from 1 to 1000.\n",
        "\n",
        "- c) Contains all the numbers from 1 to 100 that starts with 4 or 5 and are even numbers.\n",
        "\n",
        "- d) Contains all the numbers from 1 to 1000 that have the digit 3 in them.\n",
        "\n",
        "- e) Given a list of strings, transform to upper if the first letter is a vowel and invert the string otherwise.\n",
        "\n",
        "       For example, ['apple', 'orange', 'watermelon'] -> ['APPLE','ORANGE', 'nolemretaw']"
      ]
    },
    {
      "cell_type": "code",
      "metadata": {
        "id": "RK23IXmcbVNp",
        "outputId": "8e54b4d7-8054-4a19-c96a-d69b38415d17",
        "colab": {
          "base_uri": "https://localhost:8080/",
          "height": 126
        }
      },
      "source": [
        "# a)\n",
        "\n",
        "list_strings = ['Ricardo','Fernanda','Pedro','Renato', 'Amanda']\n",
        "print([len(i) for i in list_strings])\n",
        "\n",
        "# b)\n",
        "\n",
        "print([i**3 for i in range(1,1001) if i % 17 == 0])\n",
        "\n",
        "# c)\n",
        "\n",
        "print([i for i in range(1,101) if str(i)[0] in ['4','5'] and  i % 2 == 0])\n",
        "\n",
        "# d) \n",
        "\n",
        "print([i for i in range(1,1001) if '3' in str(i)])\n",
        "\n",
        "# e) \n",
        "\n",
        "print([i.upper() if i[0] in 'aeiou'+'aeiou'.upper() else i[-1::-1] for i in list_strings])"
      ],
      "execution_count": null,
      "outputs": [
        {
          "output_type": "stream",
          "text": [
            "[7, 8, 5, 6, 6]\n",
            "[4913, 39304, 132651, 314432, 614125, 1061208, 1685159, 2515456, 3581577, 4913000, 6539203, 8489664, 10793861, 13481272, 16581375, 20123648, 24137569, 28652616, 33698267, 39304000, 45499293, 52313624, 59776471, 67917312, 76765625, 86350888, 96702579, 107850176, 119823157, 132651000, 146363183, 160989184, 176558481, 193100552, 210644875, 229220928, 248858189, 269586136, 291434247, 314432000, 338608873, 363994344, 390617891, 418508992, 447697125, 478211768, 510082399, 543338496, 578009537, 614125000, 651714363, 690807104, 731432701, 773620632, 817400375, 862801408, 909853209, 958585256]\n",
            "[4, 40, 42, 44, 46, 48, 50, 52, 54, 56, 58]\n",
            "[3, 13, 23, 30, 31, 32, 33, 34, 35, 36, 37, 38, 39, 43, 53, 63, 73, 83, 93]\n",
            "['odraciR', 'adnanreF', 'ordeP', 'otaneR', 'AMANDA']\n"
          ],
          "name": "stdout"
        }
      ]
    },
    {
      "cell_type": "markdown",
      "metadata": {
        "id": "X73tSdOdHJNN"
      },
      "source": [
        "2) Write function that takes a list with two numbers in it and determines if the sum of the digits of the two numbers are equal to each other."
      ]
    },
    {
      "cell_type": "code",
      "metadata": {
        "id": "U31YeRZGmAbf",
        "outputId": "48fcacf0-ab79-4cb4-e842-2e06d81af483",
        "colab": {
          "base_uri": "https://localhost:8080/",
          "height": 35
        }
      },
      "source": [
        "sum(map(lambda x:int(x), ['1','2']))"
      ],
      "execution_count": null,
      "outputs": [
        {
          "output_type": "execute_result",
          "data": {
            "text/plain": [
              "3"
            ]
          },
          "metadata": {
            "tags": []
          },
          "execution_count": 4
        }
      ]
    },
    {
      "cell_type": "code",
      "metadata": {
        "id": "eZyofM9af_ws"
      },
      "source": [
        "def sum_list_digits(lista):\n",
        "  soma1 = sum(map(lambda x:int(x),str(lista[0])))\n",
        "  soma2 = sum(map(lambda x:int(x),str(lista[1])))\n",
        "  # Não é preciso essa parte\n",
        "  if len(lista) != 2:\n",
        "    return 'Tamanho da lista não é 2'\n",
        "  elif soma1 == soma2:\n",
        "    return True\n",
        "  else:\n",
        "    return False"
      ],
      "execution_count": null,
      "outputs": []
    },
    {
      "cell_type": "code",
      "metadata": {
        "id": "LNlGfG0Wmip1",
        "outputId": "e6de6d34-5f2f-48e7-ed1d-dee2714cddeb",
        "colab": {
          "base_uri": "https://localhost:8080/",
          "height": 35
        }
      },
      "source": [
        "sum_list_digits([352,532])"
      ],
      "execution_count": null,
      "outputs": [
        {
          "output_type": "execute_result",
          "data": {
            "text/plain": [
              "True"
            ]
          },
          "metadata": {
            "tags": []
          },
          "execution_count": 31
        }
      ]
    },
    {
      "cell_type": "markdown",
      "metadata": {
        "id": "am_e92rCHNJ-"
      },
      "source": [
        "3) Among all the numbers that are made from the product of two 3-digit numbers:\n",
        "\n",
        "- a) How many are odd numbers?\n",
        "\n",
        "- b) How many starts with the digit-8 and ends with digit-9\n",
        "\n",
        "- c) How many are palindromes?"
      ]
    },
    {
      "cell_type": "code",
      "metadata": {
        "id": "CClH2YiLgATd",
        "outputId": "c3941ad8-304e-4372-bff5-d352f0e1d18d",
        "colab": {
          "base_uri": "https://localhost:8080/",
          "height": 70
        }
      },
      "source": [
        "# Conjunto de produtos\n",
        "\n",
        "product_list = set()\n",
        "for i in range(100,1000):\n",
        "  for j in range(100,1000):\n",
        "    product_list.add(i*j)\n",
        "\n",
        "# a)\n",
        "\n",
        "print('Resposta 3a',len([i for i in list(product_list) if i % 2 != 0]))\n",
        "\n",
        "# b)\n",
        "\n",
        "print('Resposta 3b', len([i for i in list(product_list) if str(i)[0] == '8' and str(i)[-1] == '9']))\n",
        "\n",
        "# c) \n",
        "\n",
        "print('Resposta 3c', len([i for i in list(product_list) if str(i) == str(i)[-1::-1]]))\n"
      ],
      "execution_count": null,
      "outputs": [
        {
          "output_type": "stream",
          "text": [
            "Resposta 3a 81888\n",
            "Resposta 3b 652\n",
            "Resposta 3c 655\n"
          ],
          "name": "stdout"
        }
      ]
    },
    {
      "cell_type": "markdown",
      "metadata": {
        "id": "IJ5A3ICXT56U"
      },
      "source": [
        "4) Use functional programming to:"
      ]
    },
    {
      "cell_type": "markdown",
      "metadata": {
        "id": "CQjX0itUV28B"
      },
      "source": [
        "- a) Filter the indexes with positive changes in the dictionary 'stock_indexes'. \n"
      ]
    },
    {
      "cell_type": "code",
      "metadata": {
        "id": "x3nUtcLmWNso"
      },
      "source": [
        "stock_indexes = {'FTSE 100':-0.3, 'DAX': -1.65, 'Dow Jones': -1.1, 'Ibovespa':0.2, 'S&P':0.65}"
      ],
      "execution_count": null,
      "outputs": []
    },
    {
      "cell_type": "code",
      "metadata": {
        "id": "30Dn8oWxeeKc",
        "outputId": "76991992-80f9-4b73-a99d-cd8e0057a4dc",
        "colab": {
          "base_uri": "https://localhost:8080/",
          "height": 35
        }
      },
      "source": [
        "dict(filter(lambda x:x[1]>0, stock_indexes.items()))"
      ],
      "execution_count": null,
      "outputs": [
        {
          "output_type": "execute_result",
          "data": {
            "text/plain": [
              "{'Ibovespa': 0.2, 'S&P': 0.65}"
            ]
          },
          "metadata": {
            "tags": []
          },
          "execution_count": 14
        }
      ]
    },
    {
      "cell_type": "markdown",
      "metadata": {
        "id": "sWzE6gJLWjW3"
      },
      "source": [
        "- b) Apply a function that generates a list with the types of each element of the list 'elements'"
      ]
    },
    {
      "cell_type": "code",
      "metadata": {
        "id": "lHyUqNnMX3D2"
      },
      "source": [
        "elements = [1,'economics', 9.8, 2 + 3j, ['a','b','c'], stock_indexes]"
      ],
      "execution_count": null,
      "outputs": []
    },
    {
      "cell_type": "code",
      "metadata": {
        "id": "9foZuNqQevTt",
        "outputId": "94fdb641-81a1-4eba-f5ae-84c881eb3ee2",
        "colab": {
          "base_uri": "https://localhost:8080/",
          "height": 35
        }
      },
      "source": [
        "list(map(lambda x:type(x), elements))"
      ],
      "execution_count": null,
      "outputs": [
        {
          "output_type": "execute_result",
          "data": {
            "text/plain": [
              "[int, str, float, complex, list, dict]"
            ]
          },
          "metadata": {
            "tags": []
          },
          "execution_count": 17
        }
      ]
    },
    {
      "cell_type": "markdown",
      "metadata": {
        "id": "_gW12Ti2YM1J"
      },
      "source": [
        "- c) Transform a list of lists in a flat list\n",
        "    \n",
        "       For example, [[1,2,4],[10,12,14],[1,2]] -> [1,2,4,10,12,14,1,2]"
      ]
    },
    {
      "cell_type": "code",
      "metadata": {
        "id": "NA2D69Izfc7_"
      },
      "source": [
        "from functools import reduce"
      ],
      "execution_count": null,
      "outputs": []
    },
    {
      "cell_type": "code",
      "metadata": {
        "id": "TPM8t1oQfJD4"
      },
      "source": [
        "list_of_lists = [[1,2,4],[10,12,14],[1,2]] "
      ],
      "execution_count": null,
      "outputs": []
    },
    {
      "cell_type": "code",
      "metadata": {
        "id": "bBuiEcFgfA6g",
        "outputId": "f2e70711-b593-41fd-9a3f-90568db7dcaa",
        "colab": {
          "base_uri": "https://localhost:8080/",
          "height": 35
        }
      },
      "source": [
        "list(reduce(lambda x,y:x+y,list_of_lists))"
      ],
      "execution_count": null,
      "outputs": [
        {
          "output_type": "execute_result",
          "data": {
            "text/plain": [
              "[1, 2, 4, 10, 12, 14, 1, 2]"
            ]
          },
          "metadata": {
            "tags": []
          },
          "execution_count": 31
        }
      ]
    }
  ]
}