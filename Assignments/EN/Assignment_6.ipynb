{
 "cells": [
  {
   "cell_type": "markdown",
   "metadata": {},
   "source": [
    "<img src=\"https://communications.univie.ac.at/fileadmin/_processed_/csm_Uni_Logo_2016_2f47aacf37.jpg\" \n",
    "     alt=\"Logo Universität Wien\" \n",
    "     width=\"200\"/>\n",
    "\n",
    "# Practical Machine Learning for Natural Language Processing - 2023 SS  \n",
    "\n",
    "### Assigment 2 - \"Classic\" Python   \n",
    "\n",
    "This assigment is an adaptation for Python of the original exercise [\"Unix for Poets\"](https://www.cs.upc.edu/~padro/Unixforpoets.pdf)"
   ]
  },
  {
   "cell_type": "markdown",
   "metadata": {},
   "source": [
    "***"
   ]
  },
  {
   "cell_type": "markdown",
   "metadata": {},
   "source": [
    "### 1. Generator Functions  \n",
    "\n",
    "(a) Using [generator functions](https://github.com/rsouza/Python_Course/blob/master/Notebooks/Python_Basic/03_Functions.ipynb), create an object that emulates an eight-sided die (1-8) that is biased, such that the probability of this generator function returning a certain value is proportional to the value itself (for example, the face \"6\" is 3 times more likely to come out than face \"2\");  \n",
    "\n",
    "(b) Using the plt.plot or plt.hist commands, graphically show the result of 10000 plots;  \n",
    "\n",
    "(c) Modify this generator function so that it terminates automatically when all possible values (1,2,3,4,5,6,7,8) have been returned at least once. In this case, it will return the total absolute time that has occurred since the first iteration.  "
   ]
  },
  {
   "cell_type": "code",
   "execution_count": null,
   "metadata": {},
   "outputs": [],
   "source": [
    "# a)"
   ]
  },
  {
   "cell_type": "code",
   "execution_count": null,
   "metadata": {},
   "outputs": [],
   "source": [
    "# b)"
   ]
  },
  {
   "cell_type": "code",
   "execution_count": null,
   "metadata": {},
   "outputs": [],
   "source": [
    "# c)"
   ]
  },
  {
   "cell_type": "code",
   "execution_count": null,
   "metadata": {},
   "outputs": [],
   "source": [
    "Questão 4 (3.0 pontos)\n",
    "\n",
    "Crie uma classe chamada \"Elevador\" que recebe, ao instanciada, o número de andares do edifício e inicia no andar mais baixo.\n",
    "Crie métodos e propriedades para permitir que o elevador:\n",
    "\n",
    "    Receba uma chamada (usuário aperta um botão em um andar);\n",
    "    Receba um andar como destino (usuários apertam botões dentro do elevador);\n",
    "    Informe em qual andar o elevador está;\n",
    "    Informe a sequência de andares ainda por visitar;\n",
    "    Informe a quantidade de vezes que parou em cada andar (passar pelo andar sem \"parar\" no andar não conta);\n",
    "\n",
    "Leve em consideração que cada deslocamento de andar demora 3 segundos.\n",
    "Simule o comportamento do elevador atendendo à dez usuários, que têm andar de origem, andar de destino e sequência de chegada (fora e dentro do elevador) definidos aleatóriamente.\n"
   ]
  },
  {
   "cell_type": "code",
   "execution_count": null,
   "metadata": {},
   "outputs": [],
   "source": [
    "Questão bônus I (0.5 ponto)\n",
    "\n",
    "Ilustre graficamente as posições do elevador acima para a simulação pedida:\n"
   ]
  },
  {
   "cell_type": "code",
   "execution_count": null,
   "metadata": {},
   "outputs": [],
   "source": [
    "Questão bônus II (0.5 ponto)   \n",
    "\n",
    "Crie um simulador de prédio inteligente, controlando chamadas feitas para n > 1 elevadores:  "
   ]
  }
 ],
 "metadata": {
  "kernelspec": {
   "display_name": "Python 3 (ipykernel)",
   "language": "python",
   "name": "python3"
  },
  "language_info": {
   "codemirror_mode": {
    "name": "ipython",
    "version": 3
   },
   "file_extension": ".py",
   "mimetype": "text/x-python",
   "name": "python",
   "nbconvert_exporter": "python",
   "pygments_lexer": "ipython3",
   "version": "3.10.6"
  }
 },
 "nbformat": 4,
 "nbformat_minor": 4
}
