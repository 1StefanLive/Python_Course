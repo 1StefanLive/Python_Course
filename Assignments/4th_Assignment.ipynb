{
  "nbformat": 4,
  "nbformat_minor": 0,
  "metadata": {
    "colab": {
      "name": "4th Assignment.ipynb",
      "provenance": [],
      "collapsed_sections": []
    },
    "kernelspec": {
      "name": "python3",
      "display_name": "Python 3"
    }
  },
  "cells": [
    {
      "cell_type": "markdown",
      "metadata": {
        "id": "3duU0xhIw7X2",
        "colab_type": "text"
      },
      "source": [
        "**Instruções**\n",
        "\n",
        "- A planilha para fazer o exercício está dentro de arquivo compactado está no site do IBGE: Estatísticas > Econômicas > Contas Nacionais > Produto Interno Bruto dos Municípios\n",
        "\n",
        "- Todos os dados necessários estão na planilha \"PIB dos Municípios - base de dados 2010-2017.xls\"\n",
        "\n",
        "- O conteúdo da lista está nos notebooks 14, 15 e 16. Procurar no stackoverflow/documentação/google é essencial também. O conhecimento medido aqui também envolve saber procurar as dúvidas na internet. Até a entrega ainda haverá outra aula de Pandas. De qualquer forma, sugiro fortemente já começar a fazer agora, assim como já consultar o notebook que ainda não foi dado: \"16_Pandas_EDA\".\n",
        "\n",
        "- Pode-se usar qualquer pacote de visualização nos exercícios de gráficos (matplotlib, seaborn, pandas.plot, etc.). É necessário que os gráficos sejam informativos, logo título dos eixos são obrigatórios (algum tipo de variação nas cores e senso estético são bem-vindos também).\n",
        "\n",
        "- Pode-se usar qualquer pacote em qualquer questão. Em caso de dúvidas sobre o enunciado das questões, me enviem um email.\n",
        "\n",
        "- A entrega é para o dia 05/10/2020"
      ]
    },
    {
      "cell_type": "markdown",
      "metadata": {
        "id": "ArjUo45xa1g5",
        "colab_type": "text"
      },
      "source": [
        "# Questões"
      ]
    },
    {
      "cell_type": "markdown",
      "metadata": {
        "id": "axjfnTf0YvPO",
        "colab_type": "text"
      },
      "source": [
        "### 1) Crie uma coluna no DataFrame gerado pela leitura do csv com a proporção Impostos/PIB. "
      ]
    },
    {
      "cell_type": "markdown",
      "metadata": {
        "id": "LePf5zRHYz13",
        "colab_type": "text"
      },
      "source": [
        "### 2) Use um método de pd.Series que crie uma série com a quantidade de municípios por UF. [Considere apenas o ano de 2017]."
      ]
    },
    {
      "cell_type": "markdown",
      "metadata": {
        "id": "ITz4XA95Yzre",
        "colab_type": "text"
      },
      "source": [
        "### 3) Existe alguma relação entre PIB per capita e atividade com maior valor adicionado bruto? Faça uma média de PIB per capita por atividade com maior valor adicionado bruto. [Considere todos os anos]"
      ]
    },
    {
      "cell_type": "markdown",
      "metadata": {
        "id": "JZ9EwDQZYzhu",
        "colab_type": "text"
      },
      "source": [
        "### 4) Faça um gráfico de barras com a resposta da questão 3."
      ]
    },
    {
      "cell_type": "markdown",
      "metadata": {
        "id": "Uul80Ei4YzWS",
        "colab_type": "text"
      },
      "source": [
        "### 5) Crie um dicionário com 'UF:Cidade com maior PIB per capita em 2017' para todas as UFs (excluindo DF)."
      ]
    },
    {
      "cell_type": "markdown",
      "metadata": {
        "id": "K7nGfXa5YzMT",
        "colab_type": "text"
      },
      "source": [
        "### 6) Qual (grande) região mais cresceu entre 2010 e 2017?"
      ]
    },
    {
      "cell_type": "markdown",
      "metadata": {
        "id": "B0XDRMlVYzBr",
        "colab_type": "text"
      },
      "source": [
        "### 7) Quais os 10 municípios que mais perderam PIB no triênio 2014-2015-2016?"
      ]
    },
    {
      "cell_type": "markdown",
      "metadata": {
        "id": "UzqHHZddYy2c",
        "colab_type": "text"
      },
      "source": [
        "### 8) Quais os 10 municípios do RJ que mais cresceram entre 2010-2017"
      ]
    },
    {
      "cell_type": "markdown",
      "metadata": {
        "id": "v0zcly7_Yymy",
        "colab_type": "text"
      },
      "source": [
        "### 9) Faça um heatmap as UFs no eixo x e taxa média de crescimento entre 2010 e 2017."
      ]
    },
    {
      "cell_type": "markdown",
      "metadata": {
        "id": "BOIADKCkZUBi",
        "colab_type": "text"
      },
      "source": [
        "### 10) Crie uma função que receba a 'UF' (sigla) e plote um gráfico de linha do  PIB (eixo y) e os anos no eixo x."
      ]
    }
  ]
}