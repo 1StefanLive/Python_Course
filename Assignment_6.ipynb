{
 "cells": [
  {
   "cell_type": "markdown",
   "metadata": {},
   "source": [
    "<img src=\"https://communications.univie.ac.at/fileadmin/_processed_/csm_Uni_Logo_2016_2f47aacf37.jpg\" \n",
    "     alt=\"Logo Universität Wien\" \n",
    "     width=\"200\"/>\n",
    "\n",
    "# Practical Machine Learning for Natural Language Processing - 2023 SS  \n",
    "\n",
    "### Assigment 2 - Generators and Classes   \n",
    "\n",
    "In this assigment we are going to play with generators and instances/classes - structures that retain state.  "
   ]
  },
  {
   "cell_type": "markdown",
   "metadata": {},
   "source": [
    "***"
   ]
  },
  {
   "cell_type": "markdown",
   "metadata": {},
   "source": [
    "### 1. Alea Iacta Est  \n",
    "\n",
    "(a) Using [generator functions](https://github.com/rsouza/Python_Course/blob/master/Notebooks/Python_Basic/03_Functions.ipynb), create an object that emulates an eight-sided dice (1-8) that is biased, such that the probability of this generator function returning a certain value is proportional to the value itself (i.e. the face \"6\" is 3 times more likely to come out than face \"2\");  \n",
    "\n",
    " <img src=\"https://cdn11.bigcommerce.com/s-70184/images/stencil/608x608/products/532/7428/d8-dice-blue__64321.1664335674.jpg\" alt=\"8-Dice\" style=\"width:250px;height:300px;\"> \n",
    "\n",
    "(b) Using [Matplotlib](https://matplotlib.org/) plt.plot or plt.hist commands, show graphically the result of 10000 casts of the die;  \n",
    "\n",
    "(c) Modify this generator function so that it terminates automatically when all possible values (1,2,3,4,5,6,7,8) have been cast at least once. In this case, it will return the total absolute time that has elapsed since the first iteration.  (hint: a function can have both **return** and **yield** commands)  "
   ]
  },
  {
   "cell_type": "code",
   "execution_count": 1,
   "metadata": {},
   "outputs": [
    {
     "data": {
      "text/plain": [
       "[7]"
      ]
     },
     "execution_count": 1,
     "metadata": {},
     "output_type": "execute_result"
    }
   ],
   "source": [
    "# a)\n",
    "import random\n",
    "\n",
    "def eight_sided_dice():\n",
    "    sides_dice = [1,2,3,4,5,6,7,8]\n",
    "    roll_dice = random.choices(sides_dice, weights = [1,2,3,4,5,6,7,8], k = 1)\n",
    "    result = roll_dice\n",
    "    return result\n",
    "\n",
    "eight_sided_dice()"
   ]
  },
  {
   "cell_type": "code",
   "execution_count": 13,
   "metadata": {},
   "outputs": [
    {
     "name": "stdout",
     "output_type": "stream",
     "text": [
      "[[8], [4], [8], [4], [5], [8], [8], [7], [8], [7], [7], [6], [8], [5], [8], [7], [4], [7], [4], [6], [6], [8], [8], [8], [7], [5], [7], [8], [6], [5], [8], [3], [2], [5], [5], [8], [6], [7], [7], [5], [8], [8], [6], [7], [4], [6], [1], [7], [7], [8], [2], [8], [7], [8], [2], [6], [3], [5], [5], [4], [8], [7], [6], [7], [4], [5], [6], [1], [4], [4], [7], [6], [8], [6], [6], [1], [7], [5], [8], [5], [8], [6], [7], [6], [7], [2], [3], [5], [5], [4], [4], [8], [8], [1], [6], [4], [8], [2], [3], [6]]\n",
      "[8, 4, 8, 4, 5, 8, 8, 7, 8, 7, 7, 6, 8, 5, 8, 7, 4, 7, 4, 6, 6, 8, 8, 8, 7, 5, 7, 8, 6, 5, 8, 3, 2, 5, 5, 8, 6, 7, 7, 5, 8, 8, 6, 7, 4, 6, 1, 7, 7, 8, 2, 8, 7, 8, 2, 6, 3, 5, 5, 4, 8, 7, 6, 7, 4, 5, 6, 1, 4, 4, 7, 6, 8, 6, 6, 1, 7, 5, 8, 5, 8, 6, 7, 6, 7, 2, 3, 5, 5, 4, 4, 8, 8, 1, 6, 4, 8, 2, 3, 6]\n"
     ]
    },
    {
     "data": {
      "image/png": "[encoded data removed]",
      "text/plain": [
       "<Figure size 640x480 with 1 Axes>"
      ]
     },
     "metadata": {},
     "output_type": "display_data"
    }
   ],
   "source": [
    "# b)\n",
    "import matplotlib.pyplot as plt\n",
    "\n",
    "tenthousand_rolls = [eight_sided_dice() for roll_dice in range(1, 1001)]\n",
    "print(tenthousand_rolls[0:100])\n",
    "\n",
    "tenthousand_convert = [i for sublist in tenthousand_rolls for i in sublist]\n",
    "print(tenthousand_convert[0:100])\n",
    "\n",
    "plt.hist(tenthousand_convert, bins = 8)\n",
    "plt.show()"
   ]
  },
  {
   "cell_type": "code",
   "execution_count": 30,
   "metadata": {},
   "outputs": [
    {
     "data": {
      "text/plain": [
       "3.0994415283203125e-05"
      ]
     },
     "execution_count": 30,
     "metadata": {},
     "output_type": "execute_result"
    }
   ],
   "source": [
    "# c)\n",
    "import time\n",
    "\n",
    "def modify_eight_sided_dice():\n",
    "    result = []\n",
    "    values = set()\n",
    "    time_start = time.time()\n",
    "    while len(values) < 8:\n",
    "        value = random.randint(1,8)\n",
    "        values.add(value)\n",
    "    time_end = time.time()\n",
    "    absolute_elapsed = time_end - time_start\n",
    "    return absolute_elapsed\n",
    "    \n",
    "modify_eight_sided_dice()\n",
    "    "
   ]
  },
  {
   "cell_type": "markdown",
   "metadata": {},
   "source": [
    "### 2. A ticket to the first Class    \n",
    "\n",
    "+ Create a Class called \"Elevator\". Each instance of this class receives as parameters the number of floors in the building and starts the elevator on the lowest floor.  \n",
    "+ This Class should have methods and properties to allow the elevator to:\n",
    "<br></br>\n",
    "    + Receive a call - user(s) press a button to go to specific floor(s);  \n",
    "    + Receive a floor as a destination - when users enter the elevator, each one may press a button to choose destination floor;  \n",
    "    + Store and inform which floor the elevator is at each moment(consider that trips for consecutive floors takes 5 seconds, and stopping takes 10 seconds);  \n",
    "    + Store and inform which users are in the elevator;  \n",
    "    + Store and inform the sequence of floors yet to be visited;  \n",
    "    + Store the number of times the elevator stopped in each floor (passing through the floor without \"stopping\" on the floor does not count);  \n",
    "    + Refuses commands to go to inexistent floors.  \n",
    "<br></br>\n",
    "+ Simulate the behavior of the elevator serving ten users, each one calling from a random floor, and chosing a random destination floor.   \n",
    "+ Graphically illustrate the current elevator position for the requested simulation.   \n",
    "+ (BONUS) Create a smart building simulator, controlling calls made to n > 1 elevators and routing elevator properly.  "
   ]
  },
  {
   "cell_type": "code",
   "execution_count": 1,
   "metadata": {},
   "outputs": [],
   "source": [
    "# I tried to look into some elevator simulations\n",
    "# online but the task was too hard for me :( "
   ]
  },
  {
   "cell_type": "code",
   "execution_count": null,
   "metadata": {},
   "outputs": [],
   "source": []
  },
  {
   "cell_type": "code",
   "execution_count": null,
   "metadata": {},
   "outputs": [],
   "source": []
  }
 ],
 "metadata": {
  "kernelspec": {
   "display_name": "Python 3 (ipykernel)",
   "language": "python",
   "name": "python3"
  },
  "language_info": {
   "codemirror_mode": {
    "name": "ipython",
    "version": 3
   },
   "file_extension": ".py",
   "mimetype": "text/x-python",
   "name": "python",
   "nbconvert_exporter": "python",
   "pygments_lexer": "ipython3",
   "version": "3.9.13"
  }
 },
 "nbformat": 4,
 "nbformat_minor": 4
}
