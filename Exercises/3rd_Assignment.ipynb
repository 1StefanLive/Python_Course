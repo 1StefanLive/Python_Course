{
 "cells": [
  {
   "cell_type": "markdown",
   "metadata": {
    "colab_type": "text",
    "id": "vHFI6GfMGMSm"
   },
   "source": [
    "### Numpy"
   ]
  },
  {
   "cell_type": "markdown",
   "metadata": {
    "colab_type": "text",
    "id": "1M6ZR6T6GrFW"
   },
   "source": [
    "1) Create a function that receives an integer N as argument and returns a matrix NxN with 1 on the border and 0 inside"
   ]
  },
  {
   "cell_type": "markdown",
   "metadata": {
    "colab_type": "text",
    "id": "nkPlX2_YHVBJ"
   },
   "source": [
    "2) Create a function that transpose a matrix without using the method np.transpose or np.array.T."
   ]
  },
  {
   "cell_type": "markdown",
   "metadata": {
    "colab_type": "text",
    "id": "BjQQns18IJTN"
   },
   "source": [
    "3) Create two 1d arrays with length 10 that contains random integers from 0 to 1000. How many iterations does it take until the sum of their values are the same?"
   ]
  },
  {
   "cell_type": "markdown",
   "metadata": {
    "colab_type": "text",
    "id": "xQIM-1-BNHr2"
   },
   "source": [
    "### Classes"
   ]
  },
  {
   "cell_type": "markdown",
   "metadata": {
    "colab_type": "text",
    "id": "R_vi6lpSNLPC"
   },
   "source": [
    "Create a class \"Country\" that contains the following methods:\n",
    "\n",
    "- compare_gdp_per_capita\n",
    "- compare_population_density\n",
    "- development_status \n",
    "\n",
    "Additional information:\n",
    "\n",
    "- To classify the development status (high-income, upper middle income, lower middle income and low-income) use the following methodology: https://www.un.org/en/development/desa/policy/wesp/wesp_current/2014wesp_country_classification.pdf\n",
    "\n",
    "- Consider GNI as GDP\n",
    "\n",
    "- The input will be in the format (name_of_country, population, area_in_km2, gdp), where name_of_country is a string and the other three inputs are integers.\n",
    "\n",
    "\n",
    "**Example**\n",
    "\n",
    "brazil = Country(\"Brazil\", 209500000, 8516000, 1847000000)\n",
    "\n",
    "mexico = Country(\"Mexico\", 126200000, 1973000, 1221000000)\n",
    "\n",
    "brazil.development_status ➞ 'upper middle income'\n",
    "\n",
    "mexico.compare_population_density(brazil) ➞ \"Mexico has a larger population density than Brazil\"\n",
    "\n",
    "brazil.compare_gdp_per_capita(mexico) ➞ \"Brazil is poorer than Mexico\""
   ]
  },
  {
   "cell_type": "markdown",
   "metadata": {
    "colab_type": "text",
    "id": "qLPaKuekVPUh"
   },
   "source": [
    "### General Exercises"
   ]
  },
  {
   "cell_type": "markdown",
   "metadata": {
    "colab_type": "text",
    "id": "xBIdUgtTWNy0"
   },
   "source": [
    "1) **Counting Sundays** (Project Euler 19)\n",
    "\n",
    "- 1 Jan 1900 was a Monday. \n",
    "- Thirty days has September,\n",
    "April, June and November.\n",
    "- All the rest have thirty-one,\n",
    "- Saving February alone, which has twenty-eight, rain or shine.\n",
    "- And on leap years, twenty-nine.\n",
    "- A leap year occurs on any year evenly divisible by 4, but not on a century unless it is divisible by 400.\n",
    "\n",
    "\n",
    "How many Sundays fell on the first of the month during the twentieth century (1 Jan 1901 to 31 Dec 2000)?"
   ]
  },
  {
   "cell_type": "markdown",
   "metadata": {
    "colab_type": "text",
    "id": "9o40QQYTVTjd"
   },
   "source": [
    "2) Create a function that receives a 'CPF' and checks whether it is a valid CPF. The conditions that makes a CPF valid can easily be found on internet."
   ]
  }
 ],
 "metadata": {
  "colab": {
   "collapsed_sections": [],
   "name": "3rd Assignment.ipynb",
   "provenance": []
  },
  "kernelspec": {
   "display_name": "Python 3",
   "language": "python",
   "name": "python3"
  },
  "language_info": {
   "codemirror_mode": {
    "name": "ipython",
    "version": 3
   },
   "file_extension": ".py",
   "mimetype": "text/x-python",
   "name": "python",
   "nbconvert_exporter": "python",
   "pygments_lexer": "ipython3",
   "version": "3.8.5"
  }
 },
 "nbformat": 4,
 "nbformat_minor": 4
}
