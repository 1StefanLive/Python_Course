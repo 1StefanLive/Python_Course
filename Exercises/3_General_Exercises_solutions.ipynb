{
 "cells": [
  {
   "cell_type": "markdown",
   "metadata": {
    "colab_type": "text",
    "id": "pattWp_yvpLL"
   },
   "source": [
    "## Exercises\n",
    "\n",
    "You should use everything that you've learned: Data structures, conditional, loops and functions "
   ]
  },
  {
   "cell_type": "markdown",
   "metadata": {
    "colab_type": "text",
    "id": "ck9o6OOEvpLM"
   },
   "source": [
    "### Exercise 1  <font color='green'>(EASY)</font>"
   ]
  },
  {
   "cell_type": "markdown",
   "metadata": {
    "colab_type": "text",
    "id": "1rVLW9ZJvpLN"
   },
   "source": [
    "a) Create a function that checks if the number is even or odd"
   ]
  },
  {
   "cell_type": "code",
   "execution_count": null,
   "metadata": {
    "colab": {},
    "colab_type": "code",
    "id": "GXwabN6u-REU"
   },
   "outputs": [],
   "source": [
    "def even_odd(num):\n",
    "    if num %2==0:\n",
    "        return 'is_even'\n",
    "    else:\n",
    "        return 'is_odd'"
   ]
  },
  {
   "cell_type": "markdown",
   "metadata": {
    "colab_type": "text",
    "id": "yzGK5dYvvpLP"
   },
   "source": [
    "b) Create a function that receives a list, an element, a position and add the element in the given position in the list. This list is going to be the output of the function. "
   ]
  },
  {
   "cell_type": "code",
   "execution_count": null,
   "metadata": {
    "colab": {},
    "colab_type": "code",
    "id": "heHNjDZi-awh"
   },
   "outputs": [],
   "source": [
    "def add_element_list(a_list, element, position):\n",
    "    a_list.insert(position,element)\n",
    "    return a_list"
   ]
  },
  {
   "cell_type": "markdown",
   "metadata": {
    "colab_type": "text",
    "id": "-egK1A8ovpLQ"
   },
   "source": [
    "c) Create a function that receives multiple parameters and returns a list with all the parameters"
   ]
  },
  {
   "cell_type": "code",
   "execution_count": null,
   "metadata": {
    "colab": {},
    "colab_type": "code",
    "id": "E8Thq2UU-3QW"
   },
   "outputs": [],
   "source": [
    "def multiple_parameters(*args):\n",
    "    return list(args)"
   ]
  },
  {
   "cell_type": "markdown",
   "metadata": {
    "colab_type": "text",
    "id": "Nn6XfMZbvpLQ"
   },
   "source": [
    "### Exercise 2 <font color='blue'>(MEDIUM)</font>\n",
    "\n",
    "a) Create a function (or a set of functions) that receives an integer and returns it in \"written_form\".\n",
    "\n",
    "Example:  \n",
    "\n",
    "    print(written_number(234))  \n",
    "    > 'two hundred and thirty-four'  "
   ]
  },
  {
   "cell_type": "code",
   "execution_count": 57,
   "metadata": {
    "colab": {},
    "colab_type": "code",
    "id": "NHVFO9nxQ2BO"
   },
   "outputs": [],
   "source": [
    "def written_number(n):\n",
    "    digits_written_nums =  {0: '',1: 'one',2: 'two',3: 'three', 4: 'four', 5: 'five', 6: 'six',7: 'seven',8: 'eight',9: 'nine',\n",
    "                        10: 'ten', 11: 'eleven', 12: 'twelve', 13: 'thirteen', 14: 'fourteen', 15: 'fifteen', 16: 'sixteen', 17: 'seventeen',18: 'eighteen', 19: 'nineteen',\n",
    "                        20: 'twenty', 30: 'thirty', 40: 'forty', 50: 'fifty', 60: 'sixty', 70: 'seventy', 80: 'eighty', 90: 'ninety'}\n",
    "    \n",
    "    # empty string\n",
    "    written_num =  ''\n",
    "\n",
    "    # decomposing the number!\n",
    "\n",
    "    # hundred\n",
    "    if n >= 100:\n",
    "        written_num  =  written_num + digits_written_nums[n//100]\n",
    "        written_num  = written_num +  \" hundred \"\n",
    "        # here n is replaced to rest of n/100\n",
    "        n = n%100\n",
    "        if n is not 0:\n",
    "            written_num  =  written_num + 'and '\n",
    "\n",
    "    # hundred + >20\n",
    "    if n > 20:\n",
    "        written_num  = written_num + digits_written_nums[n-n%10]\n",
    "        written_num  = written_num + ' '\n",
    "        written_num  = written_num +  digits_written_nums[n%10]\n",
    "\n",
    "    # hundred + <20\n",
    "    # elif is required because if n>20, this block is not necessa\n",
    "    elif n <= 20:\n",
    "        written_num  +=  digits_written_nums[n]\n",
    "\n",
    "    # Return the number as string\n",
    "    return written_num"
   ]
  },
  {
   "cell_type": "markdown",
   "metadata": {
    "colab_type": "text",
    "id": "BSEA-bQXvpLR"
   },
   "source": [
    "b) Given a string, create a function that finds every word that contains a letter given as a parameter"
   ]
  },
  {
   "cell_type": "code",
   "execution_count": 3,
   "metadata": {
    "colab": {
     "base_uri": "https://localhost:8080/",
     "height": 35
    },
    "colab_type": "code",
    "id": "VQgCHYadNZ95",
    "outputId": "92275d25-44df-4848-b24b-6523bcbaecb3"
   },
   "outputs": [
    {
     "data": {
      "application/vnd.google.colaboratory.intrinsic+json": {
       "type": "string"
      },
      "text/plain": [
       "'!\"#$%&\\'()*+,-./:;<=>?@[\\\\]^_`{|}~'"
      ]
     },
     "execution_count": 3,
     "metadata": {
      "tags": []
     },
     "output_type": "execute_result"
    }
   ],
   "source": [
    "import string\n",
    "\n",
    "string.punctuation"
   ]
  },
  {
   "cell_type": "code",
   "execution_count": 17,
   "metadata": {
    "colab": {},
    "colab_type": "code",
    "id": "3xVz42jcC3f5"
   },
   "outputs": [],
   "source": [
    "def find_letter(text,letter):\n",
    "    \n",
    "    # storing every word in a list of strings\n",
    "    \n",
    "    words = []\n",
    "    for w in text.split():\n",
    "        words.append(w.lower().strip(string.punctuation))\n",
    "    \n",
    "    # storing only the words that contains the letter\n",
    "\n",
    "    chosen_words = []\n",
    "    for w in words:\n",
    "        if letter in w:\n",
    "            chosen_words.append(w)\n",
    "\n",
    "    return chosen_words"
   ]
  },
  {
   "cell_type": "code",
   "execution_count": 15,
   "metadata": {
    "colab": {},
    "colab_type": "code",
    "id": "w8HOvR2QNgTv"
   },
   "outputs": [],
   "source": [
    "a = 'Texto que tem alguns elementos a b c d e'\n",
    "b = 'e'"
   ]
  },
  {
   "cell_type": "code",
   "execution_count": 16,
   "metadata": {
    "colab": {
     "base_uri": "https://localhost:8080/",
     "height": 34
    },
    "colab_type": "code",
    "id": "pBWWjKb4NlJO",
    "outputId": "d121ef70-a035-43df-cb3d-d521ebc6eaab"
   },
   "outputs": [
    {
     "data": {
      "text/plain": [
       "['texto', 'que', 'tem', 'elementos', 'e']"
      ]
     },
     "execution_count": 16,
     "metadata": {
      "tags": []
     },
     "output_type": "execute_result"
    }
   ],
   "source": [
    "find_letter(a,b)"
   ]
  },
  {
   "cell_type": "markdown",
   "metadata": {
    "colab_type": "text",
    "id": "qVPXMpEWvpLR"
   },
   "source": [
    "### Exercise 3 <font color='red'>(HARD)</font>\n",
    "\n",
    "If the numbers 1 to 5 are written out in words: one, two, three, four, five, then there are 3 + 3 + 5 + 4 + 4 = 19 letters used in total.\n",
    "\n",
    "If all the numbers from 1 to 1000 (one thousand) inclusive were written out in words, how many letters would be used?\n",
    "\n",
    "\n",
    "NOTE: Do not count spaces or hyphens. For example, 342 (three hundred and forty-two) contains 23 letters and 115 (one hundred and fifteen) contains 20 letters. The use of \"and\" when writing out numbers is in compliance with British usage.\n",
    "\n",
    "https://projecteuler.net/index.php?section=problems&id=17"
   ]
  },
  {
   "cell_type": "code",
   "execution_count": 61,
   "metadata": {
    "colab": {},
    "colab_type": "code",
    "id": "hVXD-3eBWffu"
   },
   "outputs": [],
   "source": [
    "import random"
   ]
  },
  {
   "cell_type": "code",
   "execution_count": 65,
   "metadata": {
    "colab": {},
    "colab_type": "code",
    "id": "rEfO7KI_DXWl"
   },
   "outputs": [],
   "source": [
    "def count_characters(a_string):\n",
    "    a_string = a_string.replace(' ','')\n",
    "    return(len(a_string))"
   ]
  },
  {
   "cell_type": "code",
   "execution_count": 66,
   "metadata": {
    "colab": {
     "base_uri": "https://localhost:8080/",
     "height": 34
    },
    "colab_type": "code",
    "id": "ieUiUyUzDaC1",
    "outputId": "fe7d528e-5a36-4948-836e-e8fec6f9bc7a"
   },
   "outputs": [
    {
     "name": "stdout",
     "output_type": "stream",
     "text": [
      "21113\n"
     ]
    }
   ],
   "source": [
    "total = 0\n",
    "for num in range(1,1000):\n",
    "    total += count_characters(written_number(num))\n",
    "print(total)"
   ]
  },
  {
   "cell_type": "code",
   "execution_count": null,
   "metadata": {
    "colab": {},
    "colab_type": "code",
    "id": "k47qivfPW94a"
   },
   "outputs": [],
   "source": []
  }
 ],
 "metadata": {
  "colab": {
   "collapsed_sections": [],
   "name": "Cópia de 3_General_Exercises.ipynb",
   "provenance": []
  },
  "kernelspec": {
   "display_name": "Python 3",
   "language": "python",
   "name": "python3"
  },
  "language_info": {
   "codemirror_mode": {
    "name": "ipython",
    "version": 3
   },
   "file_extension": ".py",
   "mimetype": "text/x-python",
   "name": "python",
   "nbconvert_exporter": "python",
   "pygments_lexer": "ipython3",
   "version": "3.7.6"
  }
 },
 "nbformat": 4,
 "nbformat_minor": 1
}
