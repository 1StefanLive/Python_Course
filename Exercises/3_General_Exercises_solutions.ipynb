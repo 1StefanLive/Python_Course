{
  "nbformat": 4,
  "nbformat_minor": 0,
  "metadata": {
    "kernelspec": {
      "display_name": "Python 3",
      "language": "python",
      "name": "python3"
    },
    "language_info": {
      "codemirror_mode": {
        "name": "ipython",
        "version": 3
      },
      "file_extension": ".py",
      "mimetype": "text/x-python",
      "name": "python",
      "nbconvert_exporter": "python",
      "pygments_lexer": "ipython3",
      "version": "3.7.6"
    },
    "colab": {
      "name": "Cópia de 3_General_Exercises.ipynb",
      "provenance": [],
      "collapsed_sections": []
    }
  },
  "cells": [
    {
      "cell_type": "markdown",
      "metadata": {
        "id": "pattWp_yvpLL",
        "colab_type": "text"
      },
      "source": [
        "## Exercises\n",
        "\n",
        "You should use everything that you've learned: Data structures, conditional, loops and functions "
      ]
    },
    {
      "cell_type": "markdown",
      "metadata": {
        "id": "ck9o6OOEvpLM",
        "colab_type": "text"
      },
      "source": [
        "### Exercise 1  <font color='green'>(EASY)</font>"
      ]
    },
    {
      "cell_type": "markdown",
      "metadata": {
        "id": "1rVLW9ZJvpLN",
        "colab_type": "text"
      },
      "source": [
        "a) Create a function that checks if the number is even or odd"
      ]
    },
    {
      "cell_type": "code",
      "metadata": {
        "id": "GXwabN6u-REU",
        "colab_type": "code",
        "colab": {}
      },
      "source": [
        "def even_odd(num):\n",
        "  if num %2==0:\n",
        "    return 'is_even'\n",
        "  else:\n",
        "    return 'is_odd'"
      ],
      "execution_count": null,
      "outputs": []
    },
    {
      "cell_type": "markdown",
      "metadata": {
        "id": "yzGK5dYvvpLP",
        "colab_type": "text"
      },
      "source": [
        "b) Create a function that receives a list, an element, a position and add the element in the given position in the list. This list is going to be the output of the function. "
      ]
    },
    {
      "cell_type": "code",
      "metadata": {
        "id": "heHNjDZi-awh",
        "colab_type": "code",
        "colab": {}
      },
      "source": [
        "def add_element_list(a_list, element, position):\n",
        "  a_list.insert(position,element)\n",
        "  return a_list"
      ],
      "execution_count": null,
      "outputs": []
    },
    {
      "cell_type": "markdown",
      "metadata": {
        "id": "-egK1A8ovpLQ",
        "colab_type": "text"
      },
      "source": [
        "c) Create a function that receives multiple parameters and returns a list with all the parameters"
      ]
    },
    {
      "cell_type": "code",
      "metadata": {
        "id": "E8Thq2UU-3QW",
        "colab_type": "code",
        "colab": {}
      },
      "source": [
        "def multiple_parameters(*args):\n",
        "  return list(args)"
      ],
      "execution_count": null,
      "outputs": []
    },
    {
      "cell_type": "markdown",
      "metadata": {
        "id": "Nn6XfMZbvpLQ",
        "colab_type": "text"
      },
      "source": [
        "### Exercise 2 <font color='blue'>(MEDIUM)</font>\n"
      ]
    },
    {
      "cell_type": "markdown",
      "metadata": {
        "id": "BSEA-bQXvpLR",
        "colab_type": "text"
      },
      "source": [
        "Given a string, create a function that finds every word that contains a letter given as a parameter"
      ]
    },
    {
      "cell_type": "code",
      "metadata": {
        "id": "VQgCHYadNZ95",
        "colab_type": "code",
        "colab": {
          "base_uri": "https://localhost:8080/",
          "height": 35
        },
        "outputId": "92275d25-44df-4848-b24b-6523bcbaecb3"
      },
      "source": [
        "import string\n",
        "\n",
        "string.punctuation"
      ],
      "execution_count": 3,
      "outputs": [
        {
          "output_type": "execute_result",
          "data": {
            "application/vnd.google.colaboratory.intrinsic+json": {
              "type": "string"
            },
            "text/plain": [
              "'!\"#$%&\\'()*+,-./:;<=>?@[\\\\]^_`{|}~'"
            ]
          },
          "metadata": {
            "tags": []
          },
          "execution_count": 3
        }
      ]
    },
    {
      "cell_type": "code",
      "metadata": {
        "id": "3xVz42jcC3f5",
        "colab_type": "code",
        "colab": {}
      },
      "source": [
        "def find_letter(text,letter):\n",
        "    \n",
        "    # storing every word in a list of strings\n",
        "    \n",
        "    words = []\n",
        "    for w in text.split():\n",
        "      words.append(w.lower().strip(string.punctuation))\n",
        "    \n",
        "    # storing only the words that contains the letter\n",
        "\n",
        "    chosen_words = []\n",
        "    for w in words:\n",
        "      if letter in w:\n",
        "        chosen_words.append(w)\n",
        "\n",
        "    return chosen_words"
      ],
      "execution_count": 17,
      "outputs": []
    },
    {
      "cell_type": "code",
      "metadata": {
        "id": "w8HOvR2QNgTv",
        "colab_type": "code",
        "colab": {}
      },
      "source": [
        "a = 'Texto que tem alguns elementos a b c d e'\n",
        "b = 'e'"
      ],
      "execution_count": 15,
      "outputs": []
    },
    {
      "cell_type": "code",
      "metadata": {
        "id": "pBWWjKb4NlJO",
        "colab_type": "code",
        "colab": {
          "base_uri": "https://localhost:8080/",
          "height": 34
        },
        "outputId": "d121ef70-a035-43df-cb3d-d521ebc6eaab"
      },
      "source": [
        "find_letter(a,b)"
      ],
      "execution_count": 16,
      "outputs": [
        {
          "output_type": "execute_result",
          "data": {
            "text/plain": [
              "['texto', 'que', 'tem', 'elementos', 'e']"
            ]
          },
          "metadata": {
            "tags": []
          },
          "execution_count": 16
        }
      ]
    },
    {
      "cell_type": "markdown",
      "metadata": {
        "id": "qVPXMpEWvpLR",
        "colab_type": "text"
      },
      "source": [
        "### Exercise 3 <font color='red'>(HARD)</font>\n",
        "\n",
        "If the numbers 1 to 5 are written out in words: one, two, three, four, five, then there are 3 + 3 + 5 + 4 + 4 = 19 letters used in total.\n",
        "\n",
        "If all the numbers from 1 to 1000 (one thousand) inclusive were written out in words, how many letters would be used?\n",
        "\n",
        "\n",
        "NOTE: Do not count spaces or hyphens. For example, 342 (three hundred and forty-two) contains 23 letters and 115 (one hundred and fifteen) contains 20 letters. The use of \"and\" when writing out numbers is in compliance with British usage.\n",
        "\n",
        "https://projecteuler.net/index.php?section=problems&id=17\n",
        "\n",
        "Hint: Create a function (or a set of functions) that receives an integer and returns it in \"written_form\".\n",
        "\n",
        "Example:  \n",
        "\n",
        "    print(written_number(234))  \n",
        "    > 'two hundred and thirty-four'  "
      ]
    },
    {
      "cell_type": "code",
      "metadata": {
        "id": "hVXD-3eBWffu",
        "colab_type": "code",
        "colab": {}
      },
      "source": [
        "def written_number(n):\n",
        "    digits_written_nums =  {0: '',1: 'one',2: 'two',3: 'three', 4: 'four', 5: 'five', 6: 'six',7: 'seven',8: 'eight',9: 'nine',\n",
        "                        10: 'ten', 11: 'eleven', 12: 'twelve', 13: 'thirteen', 14: 'fourteen', 15: 'fifteen', 16: 'sixteen', 17: 'seventeen',18: 'eighteen', 19: 'nineteen',\n",
        "                        20: 'twenty', 30: 'thirty', 40: 'forty', 50: 'fifty', 60: 'sixty', 70: 'seventy', 80: 'eighty', 90: 'ninety'}\n",
        "    \n",
        "    # empty string\n",
        "    written_num =  ''\n",
        "\n",
        "    # decomposing the number!\n",
        "\n",
        "    # hundred\n",
        "    if n >= 100:\n",
        "        written_num  =  written_num + digits_written_nums[n//100]\n",
        "        written_num  = written_num +  \" hundred \"\n",
        "        # here n is replaced to rest of n/100\n",
        "        n = n%100\n",
        "        if n is not 0:\n",
        "            written_num  =  written_num + 'and '\n",
        "\n",
        "    # hundred + >20\n",
        "    if n > 20:\n",
        "        written_num  = written_num + digits_written_nums[n-n%10]\n",
        "        written_num  = written_num + ' '\n",
        "        written_num  = written_num +  digits_written_nums[n%10]\n",
        "\n",
        "    # hundred + <20\n",
        "    # elif is required because if n>20, this block is not necessa\n",
        "    elif n <= 20:\n",
        "        written_num  +=  digits_written_nums[n]\n",
        "\n",
        "    # Return the number as string\n",
        "    return written_num"
      ],
      "execution_count": 61,
      "outputs": []
    },
    {
      "cell_type": "code",
      "metadata": {
        "id": "rEfO7KI_DXWl",
        "colab_type": "code",
        "colab": {}
      },
      "source": [
        "def count_characters(a_string):\n",
        "    a_string = a_string.replace(' ','')\n",
        "    return(len(a_string))"
      ],
      "execution_count": 65,
      "outputs": []
    },
    {
      "cell_type": "code",
      "metadata": {
        "id": "ieUiUyUzDaC1",
        "colab_type": "code",
        "colab": {
          "base_uri": "https://localhost:8080/",
          "height": 34
        },
        "outputId": "fe7d528e-5a36-4948-836e-e8fec6f9bc7a"
      },
      "source": [
        "total = 0\n",
        "for num in range(1,1000):\n",
        "    total += count_characters(written_number(num))\n",
        "print(total)"
      ],
      "execution_count": 66,
      "outputs": [
        {
          "output_type": "stream",
          "text": [
            "21113\n"
          ],
          "name": "stdout"
        }
      ]
    }
  ]
}