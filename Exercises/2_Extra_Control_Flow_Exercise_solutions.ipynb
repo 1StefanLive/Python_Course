{
  "nbformat": 4,
  "nbformat_minor": 0,
  "metadata": {
    "kernelspec": {
      "display_name": "Python 3",
      "language": "python",
      "name": "python3"
    },
    "language_info": {
      "codemirror_mode": {
        "name": "ipython",
        "version": 3
      },
      "file_extension": ".py",
      "mimetype": "text/x-python",
      "name": "python",
      "nbconvert_exporter": "python",
      "pygments_lexer": "ipython3",
      "version": "3.7.6"
    },
    "colab": {
      "name": "Cópia de 2_Extra_Control_Flow_Exercise.ipynb",
      "provenance": [],
      "collapsed_sections": []
    }
  },
  "cells": [
    {
      "cell_type": "markdown",
      "metadata": {
        "id": "GJpZOyxavjq0",
        "colab_type": "text"
      },
      "source": [
        "## Exercises\n",
        "#### Control Flow"
      ]
    },
    {
      "cell_type": "markdown",
      "metadata": {
        "id": "UvTDXLdXvjq2",
        "colab_type": "text"
      },
      "source": [
        "### Exercise 1\n",
        "\n",
        "#### Largest palindrome product (Project Euler 4)\n",
        "\n",
        "https://projecteuler.net/problem=4  \n",
        "\n",
        "\"A palindromic number reads the same both ways. The largest palindrome made from the product of two 2-digit numbers is 9009 = 91 × 99.\"  \n",
        "\n",
        "**Find the largest palindrome made from the product of two 3-digit numbers.**"
      ]
    },
    {
      "cell_type": "markdown",
      "metadata": {
        "id": "qazTN5OQvjq2",
        "colab_type": "text"
      },
      "source": [
        "###### Hint: How to reverse a string?"
      ]
    },
    {
      "cell_type": "code",
      "metadata": {
        "jupyter": {
          "outputs_hidden": false
        },
        "id": "3LkF9RTxvjq3",
        "colab_type": "code",
        "colab": {
          "base_uri": "https://localhost:8080/",
          "height": 35
        },
        "outputId": "dcfc0524-67bd-4bc5-dec9-6ef81fa27e87"
      },
      "source": [
        "'A random string'[-1::-1]"
      ],
      "execution_count": 13,
      "outputs": [
        {
          "output_type": "execute_result",
          "data": {
            "application/vnd.google.colaboratory.intrinsic+json": {
              "type": "string"
            },
            "text/plain": [
              "'gnirts modnar A'"
            ]
          },
          "metadata": {
            "tags": []
          },
          "execution_count": 13
        }
      ]
    },
    {
      "cell_type": "code",
      "metadata": {
        "id": "extTmjtIvjq8",
        "colab_type": "code",
        "colab": {}
      },
      "source": [
        "#storing every product with 3-digit numbers\n",
        "\n",
        "products = set([])\n",
        "for i in range(100,1000):\n",
        "    for j in range(100,1000):\n",
        "        products.add(i*j)"
      ],
      "execution_count": 14,
      "outputs": []
    },
    {
      "cell_type": "code",
      "metadata": {
        "id": "5gnJuhXrF0W5",
        "colab_type": "code",
        "colab": {
          "base_uri": "https://localhost:8080/",
          "height": 34
        },
        "outputId": "4fa1e024-9e3b-439d-9a9e-1b81980bf5a0"
      },
      "source": [
        "len(products)"
      ],
      "execution_count": 15,
      "outputs": [
        {
          "output_type": "execute_result",
          "data": {
            "text/plain": [
              "227521"
            ]
          },
          "metadata": {
            "tags": []
          },
          "execution_count": 15
        }
      ]
    },
    {
      "cell_type": "code",
      "metadata": {
        "id": "KNjnfejpCTyd",
        "colab_type": "code",
        "colab": {}
      },
      "source": [
        "#Testing whether they are palindromes\n",
        "\n",
        "largest_palindrome = 0\n",
        "for number in products:\n",
        "    #transforming the integer into a string (to reverse it!)\n",
        "    string_number = str(number)\n",
        "    #two logic tests: is it a palindrome? and is it the largest one?\n",
        "    if string_number == string_number[-1::-1] and int(string_number) > largest_palindrome:\n",
        "        largest_palindrome = int(string_number)"
      ],
      "execution_count": 16,
      "outputs": []
    },
    {
      "cell_type": "code",
      "metadata": {
        "id": "RnqBYR0MHHwe",
        "colab_type": "code",
        "colab": {
          "base_uri": "https://localhost:8080/",
          "height": 34
        },
        "outputId": "6f6a2355-ae83-45d4-ae95-422efce1f888"
      },
      "source": [
        "print(largest_palindrome)"
      ],
      "execution_count": 17,
      "outputs": [
        {
          "output_type": "stream",
          "text": [
            "906609\n"
          ],
          "name": "stdout"
        }
      ]
    },
    {
      "cell_type": "markdown",
      "metadata": {
        "id": "kMgDWqUovjq_",
        "colab_type": "text"
      },
      "source": [
        "### Exercise 2\n",
        "\n",
        "#### Longest Collatz sequence\n",
        "\n",
        "\n",
        "The following iterative sequence is defined for the set of positive integers:\n",
        "\n",
        "n → n/2 (n is even)\n",
        "n → 3n + 1 (n is odd)\n",
        "\n",
        "Using the rule above and starting with 13, we generate the following sequence:\n",
        "\n",
        "13 → 40 → 20 → 10 → 5 → 16 → 8 → 4 → 2 → 1\n",
        "It can be seen that this sequence (starting at 13 and finishing at 1) contains 10 terms. Although it has not been proved yet (Collatz Problem), it is thought that all starting numbers finish at 1.\n",
        "\n",
        "**Which starting number, under one million, produces the longest chain?**\n",
        "\n",
        "NOTE: Once the chain starts the terms are allowed to go above one million.\n",
        "\n",
        "https://projecteuler.net/problem=14"
      ]
    },
    {
      "cell_type": "code",
      "metadata": {
        "id": "OhW4mTEILN87",
        "colab_type": "code",
        "colab": {}
      },
      "source": [
        "# First example\n",
        "\n",
        "seq = []\n",
        "num = 13\n",
        "while num != 1:\n",
        "        # rule for even numbers\n",
        "        if num%2 == 0:\n",
        "            num /= 2\n",
        "        else:\n",
        "        # rule for odd numbers  \n",
        "            num = (3*num) + 1\n",
        "        seq.append(int(num))"
      ],
      "execution_count": 34,
      "outputs": []
    },
    {
      "cell_type": "code",
      "metadata": {
        "id": "dGZb6UhELRh3",
        "colab_type": "code",
        "colab": {
          "base_uri": "https://localhost:8080/",
          "height": 34
        },
        "outputId": "410f614d-f54f-4f76-8f10-10f32a0e44d5"
      },
      "source": [
        "seq"
      ],
      "execution_count": 33,
      "outputs": [
        {
          "output_type": "execute_result",
          "data": {
            "text/plain": [
              "[40, 20, 10, 5, 16, 8, 4, 2, 1]"
            ]
          },
          "metadata": {
            "tags": []
          },
          "execution_count": 33
        }
      ]
    },
    {
      "cell_type": "code",
      "metadata": {
        "id": "X_9NPZDzvjq_",
        "colab_type": "code",
        "colab": {}
      },
      "source": [
        "sequences = []\n",
        "for i in range(2,1000001):\n",
        "    seq = []\n",
        "    num = i\n",
        "    # here it is computed the Collatz sequence\n",
        "    while num != 1:\n",
        "        # rule for even numbers\n",
        "        if num%2 == 0:\n",
        "            num /= 2\n",
        "        else:\n",
        "        # rule for odd numbers  \n",
        "            num = (3*num) + 1\n",
        "        seq.append(int(num))\n",
        "    #for every number, this list is storing a tuple with the number and the length of its Collatz sequence        \n",
        "    sequences.append((i,len(seq)+1))"
      ],
      "execution_count": 25,
      "outputs": []
    },
    {
      "cell_type": "code",
      "metadata": {
        "id": "vzUaxWulIt5j",
        "colab_type": "code",
        "colab": {
          "base_uri": "https://localhost:8080/",
          "height": 34
        },
        "outputId": "2e265d9f-471f-43ed-94e6-4f530fc4908e"
      },
      "source": [
        "len(sequences)"
      ],
      "execution_count": 26,
      "outputs": [
        {
          "output_type": "execute_result",
          "data": {
            "text/plain": [
              "999999"
            ]
          },
          "metadata": {
            "tags": []
          },
          "execution_count": 26
        }
      ]
    },
    {
      "cell_type": "code",
      "metadata": {
        "id": "S7qQvBIxMJ46",
        "colab_type": "code",
        "colab": {
          "base_uri": "https://localhost:8080/",
          "height": 34
        },
        "outputId": "1db75778-4574-4f14-fb6f-c772fc4219c4"
      },
      "source": [
        "# Same idea of sorting a dictionary\n",
        "\n",
        "sorted(sequences, key = lambda x:x[1], reverse=True)[:1]"
      ],
      "execution_count": 38,
      "outputs": [
        {
          "output_type": "execute_result",
          "data": {
            "text/plain": [
              "[(837799, 525)]"
            ]
          },
          "metadata": {
            "tags": []
          },
          "execution_count": 38
        }
      ]
    }
  ]
}