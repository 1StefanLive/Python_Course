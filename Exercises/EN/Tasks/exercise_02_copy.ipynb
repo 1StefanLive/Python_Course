{
 "cells": [
  {
   "cell_type": "markdown",
   "id": "another-administrator",
   "metadata": {
    "slideshow": {
     "slide_type": "slide"
    }
   },
   "source": [
    "#Exercise: Copy"
   ]
  },
  {
   "cell_type": "markdown",
   "id": "adapted-treatment",
   "metadata": {},
   "source": [
    "Create a small script that copies one file to another. \n",
    "\n",
    "- How many lines of code do you need?  \n",
    "- Can you do it in one?\n",
    "- Is there an advantage?\n",
    "\n",
    "Taken from [www.learnpythonthehardway.org](http://learnpythonthehardway.org/book/ex17.html)"
   ]
  },
  {
   "cell_type": "markdown",
   "id": "animated-contemporary",
   "metadata": {},
   "source": [
    "## "
   ]
  }
 ],
 "metadata": {
  "css": [
   ""
  ],
  "kernelspec": {
   "display_name": "Python 3 (ipykernel)",
   "language": "python",
   "name": "python3"
  },
  "language_info": {
   "codemirror_mode": {
    "name": "ipython",
    "version": 3
   },
   "file_extension": ".py",
   "mimetype": "text/x-python",
   "name": "python",
   "nbconvert_exporter": "python",
   "pygments_lexer": "ipython3",
   "version": "3.8.10"
  }
 },
 "nbformat": 4,
 "nbformat_minor": 5
}
