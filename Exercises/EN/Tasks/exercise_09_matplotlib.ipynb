{
 "cells": [
  {
   "cell_type": "markdown",
   "id": "defined-blast",
   "metadata": {},
   "source": [
    "#Matplotlib Exercise"
   ]
  },
  {
   "cell_type": "markdown",
   "id": "fantastic-talent",
   "metadata": {},
   "source": [
    "This is part of the homework assignemnt three given in Roger Peng [Coursera](https://www.coursera.org) class [Computing for Data Analysis](https://www.coursera.org/course/compdata)."
   ]
  },
  {
   "cell_type": "code",
   "execution_count": 1,
   "id": "electoral-insulin",
   "metadata": {
    "collapsed": false,
    "jupyter": {
     "outputs_hidden": false
    }
   },
   "outputs": [],
   "source": [
    "import pandas as pd\n",
    "import numpy as np\n",
    "import os"
   ]
  },
  {
   "cell_type": "markdown",
   "id": "first-verification",
   "metadata": {},
   "source": [
    "##Hospital Comparison"
   ]
  },
  {
   "cell_type": "code",
   "execution_count": 2,
   "id": "indian-damages",
   "metadata": {
    "collapsed": false,
    "jupyter": {
     "outputs_hidden": false
    }
   },
   "outputs": [
    {
     "name": "stdout",
     "output_type": "stream",
     "text": [
      "4706\n"
     ]
    }
   ],
   "source": [
    "df = pd.read_csv(os.path.join('data','outcome-of-care-measures.csv'))\n",
    "print len(df)"
   ]
  },
  {
   "cell_type": "markdown",
   "id": "indoor-happening",
   "metadata": {},
   "source": [
    "### Plot the 30-day mortality rates for heart attack\n",
    "\n",
    "You can get this information from column:\n",
    "\n",
    "    df['Hospital 30-Day Death (Mortality) Rates from Heart Attack'].head()\n",
    "\n",
    "Your plot should look like the following:\n",
    "\n",
    "<img src=\"img/hospital1.png\"/>\n"
   ]
  },
  {
   "cell_type": "markdown",
   "id": "documentary-fashion",
   "metadata": {},
   "source": [
    "###Plot the 30-day mortality rates for heart attack, heart failure, and pneumonia\n",
    "\n",
    "Here are the columns you are interested in:"
   ]
  },
  {
   "cell_type": "code",
   "execution_count": 5,
   "id": "local-component",
   "metadata": {
    "collapsed": false,
    "jupyter": {
     "outputs_hidden": false
    }
   },
   "outputs": [
    {
     "name": "stdout",
     "output_type": "stream",
     "text": [
      "Hospital 30-Day Death (Mortality) Rates from Heart Attack\n",
      "Hospital 30-Day Death (Mortality) Rates from Heart Failure\n",
      "Hospital 30-Day Death (Mortality) Rates from Pneumonia\n"
     ]
    }
   ],
   "source": [
    "for c in df.iloc[:,[10,16,22]].columns:\n",
    "    print c"
   ]
  },
  {
   "cell_type": "markdown",
   "id": "commercial-purchase",
   "metadata": {},
   "source": [
    "Your plot should look like:\n",
    "\n",
    "<img src=\"img/hospital2.png\"/>\n"
   ]
  },
  {
   "cell_type": "markdown",
   "id": "conventional-hazard",
   "metadata": {},
   "source": [
    "###Plot 30-day death rates by state"
   ]
  },
  {
   "cell_type": "markdown",
   "id": "exposed-scoop",
   "metadata": {},
   "source": [
    "Here are the columns you are interested in."
   ]
  },
  {
   "cell_type": "code",
   "execution_count": 9,
   "id": "opposed-dressing",
   "metadata": {
    "collapsed": false,
    "jupyter": {
     "outputs_hidden": false
    }
   },
   "outputs": [
    {
     "name": "stdout",
     "output_type": "stream",
     "text": [
      "  state  rate\n",
      "0    AL  14.3\n",
      "1    AL  18.5\n",
      "2    AL  18.1\n",
      "3    AL   NaN\n",
      "4    AL   NaN\n"
     ]
    }
   ],
   "source": [
    "tmp = df.iloc[:,[6,10]]\n",
    "tmp.columns = ['state','rate']\n",
    "tmp['rate'] = tmp['rate'].convert_objects(convert_numeric=True)\n",
    "print tmp.head()"
   ]
  },
  {
   "cell_type": "markdown",
   "id": "north-campus",
   "metadata": {},
   "source": [
    "Make a boxplot that resembles the following, which is sorted by the mean.\n",
    "\n",
    "<img src=\"img/hospital3.png\"/>\n"
   ]
  },
  {
   "cell_type": "code",
   "execution_count": null,
   "id": "cfbd903a-a522-4478-93c6-36bfbbedb01f",
   "metadata": {},
   "outputs": [],
   "source": []
  }
 ],
 "metadata": {
  "css": [
   ""
  ],
  "kernelspec": {
   "display_name": "Python 3 (ipykernel)",
   "language": "python",
   "name": "python3"
  },
  "language_info": {
   "codemirror_mode": {
    "name": "ipython",
    "version": 3
   },
   "file_extension": ".py",
   "mimetype": "text/x-python",
   "name": "python",
   "nbconvert_exporter": "python",
   "pygments_lexer": "ipython3",
   "version": "3.8.10"
  }
 },
 "nbformat": 4,
 "nbformat_minor": 5
}
