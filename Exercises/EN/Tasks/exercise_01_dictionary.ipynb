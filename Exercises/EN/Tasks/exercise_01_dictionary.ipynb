{
 "cells": [
  {
   "cell_type": "markdown",
   "id": "unexpected-browse",
   "metadata": {
    "slideshow": {
     "slide_type": "slide"
    }
   },
   "source": [
    "#Exercise: Using Dictionaries"
   ]
  },
  {
   "cell_type": "markdown",
   "id": "amateur-morris",
   "metadata": {},
   "source": [
    "##Dictionary\n",
    "\n",
    "Consider the following dictionarys:"
   ]
  },
  {
   "cell_type": "code",
   "execution_count": 1,
   "id": "central-cloud",
   "metadata": {
    "collapsed": false,
    "jupyter": {
     "outputs_hidden": false
    }
   },
   "outputs": [],
   "source": [
    "zipcodes = {}\n",
    "zipcodes['80403'] = 'Boulder, CO, Boulder County'\n",
    "zipcodes['80123'] = 'Monument, CO El Paso County'\n",
    "zipcodes['80919'] = 'Colorado Springs, CO El Paso County'"
   ]
  },
  {
   "cell_type": "code",
   "execution_count": 2,
   "id": "nasty-shell",
   "metadata": {
    "collapsed": false,
    "jupyter": {
     "outputs_hidden": false
    }
   },
   "outputs": [],
   "source": [
    "names = {}\n",
    "names['Pat'] = '80403'\n",
    "names['Bob'] = '80919'\n",
    "names['Jane'] = '80132'"
   ]
  },
  {
   "cell_type": "markdown",
   "id": "collaborative-bridal",
   "metadata": {},
   "source": [
    "It's efficient because I can linke a `name` with `zipcode` information.  Then I can print `name` information."
   ]
  },
  {
   "cell_type": "code",
   "execution_count": 3,
   "id": "ongoing-exemption",
   "metadata": {
    "collapsed": false,
    "jupyter": {
     "outputs_hidden": false
    }
   },
   "outputs": [
    {
     "name": "stdout",
     "output_type": "stream",
     "text": [
      "Pat lives in Boulder, CO, Boulder County\n"
     ]
    }
   ],
   "source": [
    "name = 'Pat'\n",
    "\n",
    "print name, 'lives in', zipcodes[names[name]]"
   ]
  },
  {
   "cell_type": "markdown",
   "id": "regulation-gossip",
   "metadata": {},
   "source": [
    "1. Add a phone number to the `names` dictionary. \n",
    "\n",
    "    Your new output should look like:\n",
    "\n",
    "        Pat is from Boulder CO, Boulder County :  xxx-xxx-xxxx"
   ]
  }
 ],
 "metadata": {
  "css": [
   ""
  ],
  "kernelspec": {
   "display_name": "Python 3 (ipykernel)",
   "language": "python",
   "name": "python3"
  },
  "language_info": {
   "codemirror_mode": {
    "name": "ipython",
    "version": 3
   },
   "file_extension": ".py",
   "mimetype": "text/x-python",
   "name": "python",
   "nbconvert_exporter": "python",
   "pygments_lexer": "ipython3",
   "version": "3.8.10"
  }
 },
 "nbformat": 4,
 "nbformat_minor": 5
}
