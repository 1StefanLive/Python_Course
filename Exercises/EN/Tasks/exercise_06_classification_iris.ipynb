{
 "cells": [
  {
   "cell_type": "markdown",
   "id": "liquid-birth",
   "metadata": {},
   "source": [
    "#Exercise: Classification"
   ]
  },
  {
   "cell_type": "markdown",
   "id": "caroline-spectrum",
   "metadata": {},
   "source": [
    "*Supervised learning* algorithms take a set of attributes (or features) and assigns them a class label based on a set of known instances.  Examples include spam filters for email and fraudulent transactions for credit cards. The nearest-neighbor classifier is one of the more simple *supervised learning* algorithms.  Given a known set of class instances, the nearest-neighbor algorithm simply computes the distance from the unknown candidate to all other instances in the set.  The unknown candidate is assigned the class label of the closest instance. \n",
    "\n",
    "This example splits the `iris` dataset into two sets. We pretend we don't know the class of the second set and use the nearest-neighbor classifier to guess the correct class.\n",
    "\n",
    "This example is taken from Phillipp Janert's book, [Data Analysis with Open Source Tools](http://shop.oreilly.com/product/9780596802363.do)."
   ]
  },
  {
   "cell_type": "markdown",
   "id": "falling-injury",
   "metadata": {},
   "source": [
    "## Data"
   ]
  },
  {
   "cell_type": "markdown",
   "id": "functioning-reader",
   "metadata": {},
   "source": [
    "- The known set of classes is often called the *training data*.  \n",
    "- We test the classifiers effectiveness on the *test data*."
   ]
  },
  {
   "cell_type": "code",
   "execution_count": 21,
   "id": "first-munich",
   "metadata": {
    "collapsed": false,
    "jupyter": {
     "outputs_hidden": false
    }
   },
   "outputs": [],
   "source": [
    "import os\n",
    "filename = os.path.join('data','iris_train.csv')\n",
    "train = np.loadtxt(filename, delimiter=',', usecols=(0,1,2,3), skiprows=1)\n",
    "train_label = np.loadtxt(filename, delimiter=',', usecols=(4,), skiprows=1, dtype=str)"
   ]
  },
  {
   "cell_type": "code",
   "execution_count": 22,
   "id": "casual-thread",
   "metadata": {
    "collapsed": false,
    "jupyter": {
     "outputs_hidden": false
    }
   },
   "outputs": [
    {
     "name": "stdout",
     "output_type": "stream",
     "text": [
      "[[ 4.9  3.   1.4  0.2]\n",
      " [ 4.7  3.2  1.3  0.2]\n",
      " [ 4.6  3.1  1.5  0.2]\n",
      " [ 5.   3.6  1.4  0.2]]\n"
     ]
    }
   ],
   "source": [
    "print iris[1:5,]"
   ]
  },
  {
   "cell_type": "code",
   "execution_count": 24,
   "id": "pressing-quarterly",
   "metadata": {
    "collapsed": false,
    "jupyter": {
     "outputs_hidden": false
    }
   },
   "outputs": [
    {
     "name": "stdout",
     "output_type": "stream",
     "text": [
      "['Iris-setosa' 'Iris-versicolor' 'Iris-virginica']\n"
     ]
    }
   ],
   "source": [
    "print np.unique(train_label)"
   ]
  },
  {
   "cell_type": "code",
   "execution_count": 34,
   "id": "descending-liver",
   "metadata": {
    "collapsed": false,
    "jupyter": {
     "outputs_hidden": false
    }
   },
   "outputs": [
    {
     "name": "stdout",
     "output_type": "stream",
     "text": [
      "[[ 5.4  3.9  1.3  0.4]\n",
      " [ 5.   3.6  1.4  0.2]\n",
      " [ 4.6  3.4  1.4  0.3]\n",
      " [ 5.   3.4  1.6  0.4]]\n"
     ]
    }
   ],
   "source": [
    "filename = os.path.join('data','iris_test.csv')\n",
    "test = np.loadtxt(filename, delimiter=',', usecols=(0,1,2,3), skiprows=1)\n",
    "test_label = np.loadtxt(filename, delimiter=',', usecols=(4,), skiprows=1, dtype=str)\n",
    "print test[1:5,]"
   ]
  },
  {
   "cell_type": "markdown",
   "id": "protected-neighbor",
   "metadata": {},
   "source": [
    "## Classify\n",
    "\n",
    "- For each point in the `test` set, find the closest point in the `train` set.\n",
    "    - You will probably use `broadcasting`\n",
    "    - Consider using `np.argmin`\n",
    "- The `test` instance gets the label of the closest point."
   ]
  },
  {
   "cell_type": "markdown",
   "id": "interracial-terry",
   "metadata": {},
   "source": [
    "## Accuracy?\n",
    "\n",
    "- For each `test` instance, check the estimated label against the actual label `test_label`.\n"
   ]
  }
 ],
 "metadata": {
  "css": [
   ""
  ],
  "kernelspec": {
   "display_name": "Python 3 (ipykernel)",
   "language": "python",
   "name": "python3"
  },
  "language_info": {
   "codemirror_mode": {
    "name": "ipython",
    "version": 3
   },
   "file_extension": ".py",
   "mimetype": "text/x-python",
   "name": "python",
   "nbconvert_exporter": "python",
   "pygments_lexer": "ipython3",
   "version": "3.8.10"
  }
 },
 "nbformat": 4,
 "nbformat_minor": 5
}
