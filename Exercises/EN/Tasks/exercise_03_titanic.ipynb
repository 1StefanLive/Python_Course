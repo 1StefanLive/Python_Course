{
 "cells": [
  {
   "cell_type": "markdown",
   "id": "subjective-midnight",
   "metadata": {},
   "source": [
    "#Exercise: Titanic Data"
   ]
  },
  {
   "cell_type": "markdown",
   "id": "remarkable-fellowship",
   "metadata": {},
   "source": [
    "This is the 892 line training set from [Kaggle](http://www.kaggle.com/c/titanic-gettingStarted/data).  Here is some help with filename paths."
   ]
  },
  {
   "cell_type": "code",
   "execution_count": 1,
   "id": "attended-equity",
   "metadata": {
    "collapsed": false,
    "jupyter": {
     "outputs_hidden": false
    }
   },
   "outputs": [
    {
     "name": "stdout",
     "output_type": "stream",
     "text": [
      "data/titanic.csv\n"
     ]
    }
   ],
   "source": [
    "import os, csv\n",
    "data_path = os.path.join('data','titanic.csv')\n",
    "print data_path"
   ]
  },
  {
   "cell_type": "markdown",
   "id": "boxed-facial",
   "metadata": {},
   "source": [
    "### Read the data\n",
    "\n",
    "- Consider using the `csv` module\n",
    "- Verify that you get `892` lines"
   ]
  },
  {
   "cell_type": "markdown",
   "id": "extensive-tomato",
   "metadata": {},
   "source": [
    "### What percent of the people survied?\n",
    "\n",
    "- If the first column is a one, they survived.\n",
    "- You *may* need to catch a `ValueError`\n",
    "- Make sure you compare the same types:\n",
    "```python\n",
    "    d[0] == '1'\n",
    "    int(d[0]) == 1\n",
    "```"
   ]
  },
  {
   "cell_type": "markdown",
   "id": "standard-performance",
   "metadata": {},
   "source": [
    "### Function\n",
    "\n",
    "Write a function that returns a dictionary of the number of `survived`, `not survived`, and `unknown`.  Here is the example function call:\n",
    "```python\n",
    "print titanic_function(data)\n",
    "\n",
    "{'unknown': 1, 'survived': 342, 'not survived': 549}\n",
    "\n",
    "```\n"
   ]
  },
  {
   "cell_type": "markdown",
   "id": "referenced-vertical",
   "metadata": {},
   "source": [
    "###What percent of males survived? Females?"
   ]
  }
 ],
 "metadata": {
  "css": [
   ""
  ],
  "kernelspec": {
   "display_name": "Python 3 (ipykernel)",
   "language": "python",
   "name": "python3"
  },
  "language_info": {
   "codemirror_mode": {
    "name": "ipython",
    "version": 3
   },
   "file_extension": ".py",
   "mimetype": "text/x-python",
   "name": "python",
   "nbconvert_exporter": "python",
   "pygments_lexer": "ipython3",
   "version": "3.8.10"
  }
 },
 "nbformat": 4,
 "nbformat_minor": 5
}
