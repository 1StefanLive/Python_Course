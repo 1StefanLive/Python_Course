{
 "cells": [
  {
   "cell_type": "markdown",
   "metadata": {},
   "source": [
    "**Questão 1 (1.5 pts):** Suponha que o semestre só possua duas disciplinas: Cálculo II e Linguagens de Programação. Crie uma função `boletim()` que recebe duas tuplas (ou listas) de três elementos representando as notas da A1, A2 e AS nesta ordem. A primeira tupla (ou lista) se refere às notas de Cálculo II e a segunda, de Lingagens de Programação. Retorne um dicionário cujas chaves são os nomes da disciplina e os valores são outro dict de chaves 'A1','A2' e 'AS' e valores sendo as notas correspondentes. Veja exemplo abaixo.\n",
    "\n",
    ">```python\n",
    ">>>> boletim((4,8,7),(9,8,0))\n",
    ">{'Cálculo II': {'A1': 4, 'A2': 8, 'AS': 7}, 'Linguagens de Programação': {'A1': 9, 'A2': 8, 'AS': 0}}\n",
    "```"
   ]
  },
  {
   "cell_type": "code",
   "execution_count": null,
   "metadata": {},
   "outputs": [],
   "source": []
  },
  {
   "cell_type": "markdown",
   "metadata": {},
   "source": [
    "**Questão 2 (1.5 pts):** Programe a função `ordena()`, que recebe como único argumento um dicionário **d**, para que ordene esse dicionário com base em seus valores e retorne o dicionário ordenado. Os casos de teste não terão valores iguais. Vide exemplos:\n",
    "\n",
    ">```python\n",
    ">>>> ordena({1: 2, 3: 4, 4: 3, 2: 1, 0: 0})\n",
    ">{0: 0, 2: 1, 1: 2, 4: 3, 3: 4}\n",
    ">\n",
    ">>>> ordena({\"peixe\":1, \"ave\":10, \"bovino\":5, \"suino\":8})\n",
    ">{\"peixe\":1, \"bovino\":5, \"suino\":8, \"ave\":10}\n",
    "```"
   ]
  },
  {
   "cell_type": "code",
   "execution_count": null,
   "metadata": {},
   "outputs": [],
   "source": []
  },
  {
   "cell_type": "markdown",
   "metadata": {},
   "source": [
    "**Questão 3 (1.5 pts):** Programe a função `concatena()` para que ela receba como argumentos uma quantidade indeterminada de dicionários. Daí,concatene-os na ordem dada, gerando um único dicionário que deve ser dado como retorno da função. Os casos de teste não terão chaves em comum. Veja os exemplos:\n",
    "\n",
    ">```python\n",
    ">>>> concatena({1:'a',2:'b'},{3:'c',4:'d'},{5:'e',6:'f'})\n",
    ">{1:'a',2:'b',3:'c',4:'d',5:'e',6:'f'}\n",
    ">\n",
    ">>>> concatena({'a':1,'b':2,'c':3},{'d':4,'e':5,'f':6})\n",
    ">{'a':1,'b':2,'c':3,'d':4,'e':5,'f':6}\n",
    "```"
   ]
  },
  {
   "cell_type": "code",
   "execution_count": null,
   "metadata": {},
   "outputs": [],
   "source": []
  },
  {
   "cell_type": "markdown",
   "metadata": {},
   "source": [
    "**Questão 4 (1.5 pts):** Crie uma classe chamada `Triangulo`, cujo contrutor receba as medidas de seus três lados (em qualquer ordem). Implemente um método chamado `tipo`, que retorne:\n",
    "- 0 se as medidas não formam um triângulo\n",
    "- 1 se o triângulo for equilátero\n",
    "- 2 se o triângulo for isósceles\n",
    "- 3 se o triângulo for escaleno\n",
    "\n",
    "Veja exemplo:\n",
    "\n",
    ">```python\n",
    ">>>> tri = Triangulo(5,5,5) #Equilátero\n",
    ">>>> tri.tipo() \n",
    ">1\n",
    "```"
   ]
  },
  {
   "cell_type": "code",
   "execution_count": null,
   "metadata": {},
   "outputs": [],
   "source": []
  },
  {
   "cell_type": "markdown",
   "metadata": {},
   "source": [
    "**Questão 5 (2 pts):** A classe `Point` representa um objeto ponto no plano cartesiano. Programe-a para que ela tenha os métodos `show()`, `move()` e `dist()`. O primeiro deve retornar uma tupla com as coordenadas do ponto. A segunda deve receber como argumentos os deslocamentos em cada um dos eixos e atualizar a posição do objeto. Já a última, deve receber como argumento outro ponto e retornar a distância euclidiana entre os dois pontos. A correção da `dist()` aceitará uma margem de erro de 0.1. Não mude as linhas já existentes nessa questão e não crie ou remova funções ou classes. Com a classe devidamente implementada, deve ser possível executar a seguinte série de comandos:\n",
    "\n",
    ">```python\n",
    ">>>> p1 = Point(2, 3)\n",
    ">>>> p2 = Point(3, 3)\n",
    ">>>> p1.show()\n",
    ">(2, 3)\n",
    ">>>> p2.show()\n",
    ">(3, 3)\n",
    ">>>> p1.move(10, -10)\n",
    ">>>> p1.show()\n",
    ">(12, -7)\n",
    ">>>> p2.show()\n",
    ">(3, 3)\n",
    ">>>> p1.dist(p2)\n",
    ">13.45362404707371\n",
    "```"
   ]
  },
  {
   "cell_type": "code",
   "execution_count": null,
   "metadata": {},
   "outputs": [],
   "source": []
  },
  {
   "cell_type": "markdown",
   "metadata": {},
   "source": [
    "**Questão 6 (2 pts):** Você deve programar as duas classes `funcionario` e `gerente` de forma que gerente seja filha de funcionário. Os atributos de funcionario são nome, CPF, salario e departamento. Alem desses, a classe gerente deve ter também como acréscimo os atributos senha e gerenciados (que representa o número de funcionários que ele gerencia). Garanta que seus construtores estejam condizentes. Além disso, a classe funcionario deve ter o metodo `bonificar()`, que não recebe parâmetros e aumenta em 10% o salário do funcionário. A classe gerente deve ter os métodos `autenticarSenha(senha)`, que retorna um booleano resultante da validação do atributo senha com a entrada, e o método `bonificar()`, que aumenta em 15% seu salário. Não mude as linhas já existentes nessa questão e não crie ou remova funções ou classes.\n",
    "\n",
    "```python\n",
    ">>> f1=funcionario(\"João\",01234567890,2500,\"TI\")\n",
    ">>> f2=funcionario(\"Paulo\",12345678901,1800,\"TI\")\n",
    ">>> f3=gerente(\"Marta\",23456789012,6000,\"TI\",101101,2)\n",
    ">>> f1.nome()\n",
    "João\n",
    ">>> f2.CPF()\n",
    "12345678901\n",
    ">>> f3.separtamento()\n",
    "TI\n",
    ">>> f2.bonificar()\n",
    ">>> f2.salario()\n",
    "1980.00 #Consideraremos uma margem de erro\n",
    ">>> f3.bonificar()\n",
    "6900.00\n",
    ">>> f3.autenticarSenha(101101)\n",
    "True\n",
    ">>> f3.autenticarSenha(123456)\n",
    "False\n",
    "```\n",
    "\n"
   ]
  },
  {
   "cell_type": "code",
   "execution_count": null,
   "metadata": {},
   "outputs": [],
   "source": []
  },
  {
   "cell_type": "markdown",
   "metadata": {},
   "source": [
    "## Desafio\n",
    "\n",
    "**Questão 7:** Há uma variável chamada alice com o primeiro capítulo do livro Alice no País das Maravilhas em sua versão em inglês. O texto já foi devidamente limpo, removendo pontuações, caracteres especiais e espaçamentos desnecessários, ou seja, o trabalho sujo já foi feito ;)\n",
    "\n",
    "Sua missão é imprimir um dicionário cujas chaves são as palavras únicas do texto, e os valores são a quantidade de vezes que cada palavras se repete no capítulo.\n",
    "\n",
    "Extra: Tente descobrir as top 10 palavras mais usadas. Veja a imagem abaixo para ter uma ideia da resposta (Quanto maior a palavra mais vezes ela se repete).\n",
    "\n",
    "![](https://lh3.googleusercontent.com/qFLNTi7E9xPMmLz_-SQxpaNkkAfHCI_RlLGDUtx1OBAgnRZr3eSBs4eobXx9GAOh5V_GWw=s170)\n",
    "\n",
    "Livro: http://www.gutenberg.org/files/11/11-0.txt\n",
    "\n",
    "Geração da Imagem: https://pypi.org/project/wordcloud/"
   ]
  },
  {
   "cell_type": "code",
   "execution_count": 5,
   "metadata": {},
   "outputs": [],
   "source": [
    "alice = \"down the rabbit hole alice was beginning to get very tired of sitting by her sister on the bank and of having nothing to do once or twice she had peeped into the book her sister was reading but it had no pictures or conversations in it and what is the use of a book thought alice without pictures or conversations so she was considering in her own mind as well as she could for the hot day made her feel very sleepy and stupid whether the pleasure of making a daisy chain would be worth the trouble of getting up and picking the daisies when suddenly a white rabbit with pink eyes ran close by her there was nothing so very remarkable in that nor did alice think it so very much out of the way to hear the rabbit say to itself oh dear oh dear i shall be late when she thought it over afterwards it occurred to her that she ought to have wondered at this but at the time it all seemed quite natural but when the rabbit actually took a watch out of its waistcoat pocket and looked at it and then hurried on alice started to her feet for it flashed across her mind that she had never before seen a rabbit with either a waistcoat pocket or a watch to take out of it and burning with curiosity she ran across the field after it and fortunately was just in time to see it pop down a large rabbit hole under the hedge in another moment down went alice after it never once considering how in the world she was to get out again the rabbit hole went straight on like a tunnel for some way and then dipped suddenly down so suddenly that alice had not a moment to think about stopping herself before she found herself falling down a very deep well either the well was very deep or she fell very slowly for she had plenty of time as she went down to look about her and to wonder what was going to happen next first she tried to look down and make out what she was coming to but it was too dark to see anything then she looked at the sides of the well and noticed that they were filled with cupboards and book shelves here and there she saw maps and pictures hung upon pegs she took down a jar from one of the shelves as she passed it was labelled orange marmalade but to her great disappointment it was empty she did not like to drop the jar for fear of killing somebody underneath so managed to put it into one of the cupboards as she fell past it well thought alice to herself after such a fall as this i shall think nothing of tumbling down stairs how brave they ll all think me at home why i wouldn t say anything about it even if i fell off the top of the house which was very likely true down down down would the fall never come to an end i wonder how many miles i ve fallen by this time she said aloud i must be getting somewhere near the centre of the earth let me see that would be four thousand miles down i think for you see alice had learnt several things of this sort in her lessons in the schoolroom and though this was not a very good opportunity for showing off her knowledge as there was no one to listen to her still it was good practice to say it over yes that s about the right distance but then i wonder what latitude or longitude i ve got to alice had no idea what latitude was or longitude either but thought they were nice grand words to say presently she began again i wonder if i shall fall right through the earth how funny it ll seem to come out among the people that walk with their heads downward the antipathies i think she was rather glad there was no one listening this time as it didn t sound at all the right word but i shall have to ask them what the name of the country is you know please ma am is this new zealand or australia and she tried to curtsey as she spoke fancy curtseying as you re falling through the air do you think you could manage it and what an ignorant little girl she ll think me for asking no it ll never do to ask perhaps i shall see it written up somewhere down down down there was nothing else to do so alice soon began talking again dinah ll miss me very much to night i should think dinah was the cat i hope they ll remember her saucer of milk at tea time dinah my dear i wish you were down here with me there are no mice in the air i m afraid but you might catch a bat and that s very like a mouse you know but do cats eat bats i wonder and here alice began to get rather sleepy and went on saying to herself in a dreamy sort of way do cats eat bats do cats eat bats and sometimes do bats eat cats for you see as she couldn t answer either question it didn t much matter which way she put it she felt that she was dozing off and had just begun to dream that she was walking hand in hand with dinah and saying to her very earnestly now dinah tell me the truth did you ever eat a bat when suddenly thump thump down she came upon a heap of sticks and dry leaves and the fall was over alice was not a bit hurt and she jumped up on to her feet in a moment she looked up but it was all dark overhead before her was another long passage and the white rabbit was still in sight hurrying down it there was not a moment to be lost away went alice like the wind and was just in time to hear it say as it turned a corner oh my ears and whiskers how late it s getting she was close behind it when she turned the corner but the rabbit was no longer to be seen she found herself in a long low hall which was lit up by a row of lamps hanging from the roof there were doors all round the hall but they were all locked and when alice had been all the way down one side and up the other trying every door she walked sadly down the middle wondering how she was ever to get out again suddenly she came upon a little three legged table all made of solid glass there was nothing on it except a tiny golden key and alice s first thought was that it might belong to one of the doors of the hall but alas either the locks were too large or the key was too small but at any rate it would not open any of them however on the second time round she came upon a low curtain she had not noticed before and behind it was a little door about fifteen inches high she tried the little golden key in the lock and to her great delight it fitted alice opened the door and found that it led into a small passage not much larger than a rat hole she knelt down and looked along the passage into the loveliest garden you ever saw how she longed to get out of that dark hall and wander about among those beds of bright flowers and those cool fountains but she could not even get her head through the doorway and even if my head would go through thought poor alice it would be of very little use without my shoulders oh how i wish i could shut up like a telescope i think i could if i only knew how to begin for you see so many out of the way things had happened lately that alice had begun to think that very few things indeed were really impossible there seemed to be no use in waiting by the little door so she went back to the table half hoping she might find another key on it or at any rate a book of rules for shutting people up like telescopes this time she found a little bottle on it which certainly was not here before said alice and round the neck of the bottle was a paper label with the words drink me beautifully printed on it in large letters it was all very well to say drink me but the wise little alice was not going to do that in a hurry no i ll look first she said and see whether it s marked poison or not for she had read several nice little histories about children who had got burnt and eaten up by wild beasts and other unpleasant things all because they would not remember the simple rules their friends had taught them such as that a red hot poker will burn you if you hold it too long and that if you cut your finger very deeply with a knife it usually bleeds and she had never forgotten that if you drink much from a bottle marked poison it is almost certain to disagree with you sooner or later however this bottle was not marked poison so alice ventured to taste it and finding it very nice it had in fact a sort of mixed flavour of cherry tart custard pine apple roast turkey toffee and hot buttered toast she very soon finished it off what a curious feeling said alice i must be shutting up like a telescope and so it was indeed she was now only ten inches high and her face brightened up at the thought that she was now the right size for going through the little door into that lovely garden first however she waited for a few minutes to see if she was going to shrink any further she felt a little nervous about this for it might end you know said alice to herself in my going out altogether like a candle i wonder what i should be like then and she tried to fancy what the flame of a candle is like after the candle is blown out for she could not remember ever having seen such a thing after a while finding that nothing more happened she decided on going into the garden at once but alas for poor alice when she got to the door she found she had forgotten the little golden key and when she went back to the table for it she found she could not possibly reach it she could see it quite plainly through the glass and she tried her best to climb up one of the legs of the table but it was too slippery and when she had tired herself out with trying the poor little thing sat down and cried come there s no use in crying like that said alice to herself rather sharply i advise you to leave off this minute she generally gave herself very good advice though she very seldom followed it and sometimes she scolded herself so severely as to bring tears into her eyes and once she remembered trying to box her own ears for having cheated herself in a game of croquet she was playing against herself for this curious child was very fond of pretending to be two people but it s no use now thought poor alice to pretend to be two people why there s hardly enough of me left to make one respectable person soon her eye fell on a little glass box that was lying under the table she opened it and found in it a very small cake on which the words eat me were beautifully marked in currants well i ll eat it said alice and if it makes me grow larger i can reach the key and if it makes me grow smaller i can creep under the door so either way i ll get into the garden and i don t care which happens she ate a little bit and said anxiously to herself which way which way holding her hand on the top of her head to feel which way it was growing and she was quite surprised to find that she remained the same size to be sure this generally happens when one eats cake but alice had got so much into the way of expecting nothing but out of the way things to happen that it seemed quite dull and stupid for life to go on in the common way so she set to work and very soon finished off the cake\""
   ]
  },
  {
   "cell_type": "code",
   "execution_count": null,
   "metadata": {},
   "outputs": [],
   "source": []
  },
  {
   "cell_type": "code",
   "execution_count": null,
   "metadata": {},
   "outputs": [],
   "source": []
  }
 ],
 "metadata": {
  "kernelspec": {
   "display_name": "Python 3",
   "language": "python",
   "name": "python3"
  },
  "language_info": {
   "codemirror_mode": {
    "name": "ipython",
    "version": 3
   },
   "file_extension": ".py",
   "mimetype": "text/x-python",
   "name": "python",
   "nbconvert_exporter": "python",
   "pygments_lexer": "ipython3",
   "version": "3.8.6"
  }
 },
 "nbformat": 4,
 "nbformat_minor": 4
}
