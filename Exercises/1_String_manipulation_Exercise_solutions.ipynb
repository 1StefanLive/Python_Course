{
 "cells": [
  {
   "cell_type": "code",
   "execution_count": 2,
   "metadata": {
    "colab": {},
    "colab_type": "code",
    "id": "_7l_9ZgxdMUp"
   },
   "outputs": [],
   "source": [
    "import requests\n",
    "import re\n",
    "from bs4 import BeautifulSoup\n",
    "import string"
   ]
  },
  {
   "cell_type": "code",
   "execution_count": 3,
   "metadata": {
    "colab": {},
    "colab_type": "code",
    "id": "CMwe5lqUdMUu"
   },
   "outputs": [],
   "source": [
    "page = requests.get(\"http://www.vatican.va/archive/bible/genesis/documents/bible_genesis_en.html\")\n",
    "soup = BeautifulSoup(page.content, 'html.parser')\n",
    "\n",
    "for script in soup([\"script\", \"style\"]):\n",
    "    script.decompose()"
   ]
  },
  {
   "cell_type": "code",
   "execution_count": 4,
   "metadata": {
    "colab": {},
    "colab_type": "code",
    "id": "uVNnr4S6tkvU"
   },
   "outputs": [],
   "source": [
    "genesis = soup.get_text()\n",
    "genesis = re.sub(r'[\\n]+','\\n', genesis)"
   ]
  },
  {
   "cell_type": "markdown",
   "metadata": {
    "colab_type": "text",
    "id": "icrl03pEdXyd"
   },
   "source": [
    "## Questions\n",
    "\n",
    "1) How many times the word 'God' appear (as an isolated word)?\n",
    "\n",
    "2) What are the 5 most common words?\n",
    "\n",
    "3) What are the words that appear only once (hapaxes)?"
   ]
  },
  {
   "cell_type": "markdown",
   "metadata": {
    "colab_type": "text",
    "id": "GmsIFpYJssJN"
   },
   "source": [
    "**for** loops and **if** statements are required to answer the questions"
   ]
  },
  {
   "cell_type": "markdown",
   "metadata": {},
   "source": [
    "## 1st version\n",
    "\n",
    "Using if, for but only lists and sets"
   ]
  },
  {
   "cell_type": "code",
   "execution_count": 5,
   "metadata": {
    "colab": {},
    "colab_type": "code",
    "id": "8QYlso3VpUke"
   },
   "outputs": [],
   "source": [
    "# Removing undesirable characters\n",
    "for j in string.punctuation:\n",
    "    genesis = genesis.replace(j,' ')"
   ]
  },
  {
   "cell_type": "markdown",
   "metadata": {
    "colab_type": "text",
    "id": "Vq6qqEU0z6Zm"
   },
   "source": [
    "### Question 1"
   ]
  },
  {
   "cell_type": "code",
   "execution_count": 6,
   "metadata": {
    "colab": {
     "base_uri": "https://localhost:8080/",
     "height": 34
    },
    "colab_type": "code",
    "id": "gLoRChE4fmS6",
    "outputId": "c440a959-66ef-4d20-f5c1-78c0bd54cc8d"
   },
   "outputs": [
    {
     "data": {
      "text/plain": [
       "227"
      ]
     },
     "execution_count": 6,
     "metadata": {},
     "output_type": "execute_result"
    }
   ],
   "source": [
    "# wrong way! We are not counting 'God' as an isolated word here.\n",
    "genesis.count('God')"
   ]
  },
  {
   "cell_type": "code",
   "execution_count": 7,
   "metadata": {
    "colab": {
     "base_uri": "https://localhost:8080/",
     "height": 34
    },
    "colab_type": "code",
    "id": "iDNhKUJ_eQYj",
    "outputId": "ae0f4e9f-5ac8-49ef-fe67-c0554145e7b5"
   },
   "outputs": [
    {
     "data": {
      "text/plain": [
       "227"
      ]
     },
     "execution_count": 7,
     "metadata": {},
     "output_type": "execute_result"
    }
   ],
   "source": [
    "genesis.split().count('God')"
   ]
  },
  {
   "cell_type": "markdown",
   "metadata": {
    "colab_type": "text",
    "id": "ahVinp2GsHqt"
   },
   "source": [
    "Coincidentally, there are no words that contain 'God'. Ex: Goddess"
   ]
  },
  {
   "cell_type": "markdown",
   "metadata": {
    "colab_type": "text",
    "id": "fsGrKYf2z-9C"
   },
   "source": [
    "### Question 2"
   ]
  },
  {
   "cell_type": "markdown",
   "metadata": {
    "colab_type": "text",
    "id": "lL4mqhHAuJ_q"
   },
   "source": [
    "To accomplish this task we need to convert all uppercase characters into lowercase characters"
   ]
  },
  {
   "cell_type": "code",
   "execution_count": 8,
   "metadata": {
    "colab": {},
    "colab_type": "code",
    "id": "DywmtTL8uROS"
   },
   "outputs": [],
   "source": [
    "genesis = genesis.lower()"
   ]
  },
  {
   "cell_type": "markdown",
   "metadata": {
    "colab_type": "text",
    "id": "GfZ6FdqS0k0m"
   },
   "source": [
    "**word_list**: list that contains every word of the string (no duplicates)"
   ]
  },
  {
   "cell_type": "code",
   "execution_count": 9,
   "metadata": {
    "colab": {},
    "colab_type": "code",
    "id": "vAvw-MbC0MbS"
   },
   "outputs": [],
   "source": [
    "word_list = [] \n",
    "# using the data structure 'set' to remove duplicates\n",
    "for isolated_string in list(set(genesis.split())):\n",
    "# ignoring numeric strings  \n",
    "    if isolated_string.isalpha():   \n",
    "        word_list.append(isolated_string)"
   ]
  },
  {
   "cell_type": "markdown",
   "metadata": {
    "colab_type": "text",
    "id": "r8lg6Ev709dL"
   },
   "source": [
    "**count_list**: list that contains the frequency of every element of **word_list**"
   ]
  },
  {
   "cell_type": "code",
   "execution_count": 10,
   "metadata": {
    "colab": {},
    "colab_type": "code",
    "id": "No_hmhR60NNt"
   },
   "outputs": [],
   "source": [
    "count_list = []\n",
    "for word in word_list:\n",
    "    count_list.append(genesis.split().count(word))"
   ]
  },
  {
   "cell_type": "markdown",
   "metadata": {
    "colab_type": "text",
    "id": "ugOQM9x8voI3"
   },
   "source": [
    "For the same index, we have the word and the associated frequency. The natural data structure here would be dictionaries or dataframe."
   ]
  },
  {
   "cell_type": "code",
   "execution_count": 11,
   "metadata": {
    "colab": {
     "base_uri": "https://localhost:8080/",
     "height": 34
    },
    "colab_type": "code",
    "id": "ZmbxJn3ruvxb",
    "outputId": "3469e69e-6a3b-4715-e541-8506c6fbd03c"
   },
   "outputs": [
    {
     "data": {
      "text/plain": [
       "True"
      ]
     },
     "execution_count": 11,
     "metadata": {},
     "output_type": "execute_result"
    }
   ],
   "source": [
    "len(count_list) == len(word_list)"
   ]
  },
  {
   "cell_type": "markdown",
   "metadata": {
    "colab_type": "text",
    "id": "f_JiuJIYvNwC"
   },
   "source": [
    "Making a copy in order to create an ordered version of **count_list**. Bearing in mind that `list.sort` is an inplace method, i.e., our **count_list**'s order would be modified and we want to preserve it."
   ]
  },
  {
   "cell_type": "code",
   "execution_count": 12,
   "metadata": {
    "colab": {},
    "colab_type": "code",
    "id": "5juPkI_PBjWp"
   },
   "outputs": [],
   "source": [
    "sorted_count_list = count_list.copy()"
   ]
  },
  {
   "cell_type": "code",
   "execution_count": 13,
   "metadata": {
    "colab": {},
    "colab_type": "code",
    "id": "SMzdCM224xh9"
   },
   "outputs": [],
   "source": [
    "sorted_count_list.sort(reverse = True)"
   ]
  },
  {
   "cell_type": "code",
   "execution_count": 14,
   "metadata": {
    "colab": {},
    "colab_type": "code",
    "id": "y9Ro0Hoiv0Dc"
   },
   "outputs": [],
   "source": [
    "list_5_freq = sorted_count_list[:5]"
   ]
  },
  {
   "cell_type": "code",
   "execution_count": 15,
   "metadata": {
    "colab": {
     "base_uri": "https://localhost:8080/",
     "height": 34
    },
    "colab_type": "code",
    "id": "FUemI2eKwPe1",
    "outputId": "7827aef7-96d2-4e89-b442-e5d53d9121c3"
   },
   "outputs": [
    {
     "data": {
      "text/plain": [
       "[2475, 2018, 1271, 1078, 650]"
      ]
     },
     "execution_count": 15,
     "metadata": {},
     "output_type": "execute_result"
    }
   ],
   "source": [
    "list_5_freq"
   ]
  },
  {
   "cell_type": "code",
   "execution_count": 16,
   "metadata": {
    "colab": {
     "base_uri": "https://localhost:8080/",
     "height": 101
    },
    "colab_type": "code",
    "id": "7Hdf28hf1N8k",
    "outputId": "17033b55-c6bc-4443-d729-8401b6fc1155"
   },
   "outputs": [
    {
     "name": "stdout",
     "output_type": "stream",
     "text": [
      "the\n",
      "and\n",
      "of\n",
      "to\n",
      "you\n"
     ]
    }
   ],
   "source": [
    "#Let's find the index in count_list to find the index in word_list\n",
    "\n",
    "for i in range(5):\n",
    "    word_index = count_list.index(list_5_freq[i])\n",
    "    print(word_list[word_index])"
   ]
  },
  {
   "cell_type": "markdown",
   "metadata": {
    "colab_type": "text",
    "id": "yaFzRrW_1ldx"
   },
   "source": [
    "### Question 3"
   ]
  },
  {
   "cell_type": "markdown",
   "metadata": {
    "colab_type": "text",
    "id": "Q8Sqw_z5z-QI"
   },
   "source": [
    "Let's create **list_one_time** to receive the **hapaxes**"
   ]
  },
  {
   "cell_type": "code",
   "execution_count": 17,
   "metadata": {
    "colab": {},
    "colab_type": "code",
    "id": "uq2ASnXuy0z-"
   },
   "outputs": [],
   "source": [
    "list_one_time = []\n",
    "for freq,word in zip(count_list,word_list):\n",
    "    if freq == 1:\n",
    "        list_one_time.append(word)"
   ]
  },
  {
   "cell_type": "code",
   "execution_count": 18,
   "metadata": {
    "colab": {},
    "colab_type": "code",
    "id": "Xp7KFmDg0iTC"
   },
   "outputs": [
    {
     "data": {
      "text/plain": [
       "['sorts',\n",
       " 'private',\n",
       " 'powerful',\n",
       " 'marriages',\n",
       " 'reckoned',\n",
       " 'sandal',\n",
       " 'ass',\n",
       " 'pishon',\n",
       " 'tarried',\n",
       " 'means',\n",
       " 'fury',\n",
       " 'crouches',\n",
       " 'invoked',\n",
       " 'dread',\n",
       " 'stands',\n",
       " 'salt',\n",
       " 'hardship',\n",
       " 'arvadites',\n",
       " 'silence',\n",
       " 'spared',\n",
       " 'songs',\n",
       " 'concubines',\n",
       " 'war',\n",
       " 'pangs',\n",
       " 'leaped',\n",
       " 'settlements',\n",
       " 'strong',\n",
       " 'bedad',\n",
       " 'jubal',\n",
       " 'pleasing',\n",
       " 'afflicted',\n",
       " 'pleasure',\n",
       " 'belonged',\n",
       " 'beasts',\n",
       " 'vengeance',\n",
       " 'rings',\n",
       " 'spying',\n",
       " 'stuff',\n",
       " 'denied',\n",
       " 'casluhim',\n",
       " 'lifeblood',\n",
       " 'visions',\n",
       " 'tamarisk',\n",
       " 'penuel',\n",
       " 'tarshish',\n",
       " 'darker',\n",
       " 'amorite',\n",
       " 'depart',\n",
       " 'belongs',\n",
       " 'jahzeel',\n",
       " 'delighted',\n",
       " 'asshurim',\n",
       " 'breadth',\n",
       " 'governor',\n",
       " 'grazed',\n",
       " 'hate',\n",
       " 'worse',\n",
       " 'recorded',\n",
       " 'ladder',\n",
       " 'reproach',\n",
       " 'hired',\n",
       " 'beast',\n",
       " 'confused',\n",
       " 'chariots',\n",
       " 'mantle',\n",
       " 'cheated',\n",
       " 'weighed',\n",
       " 'fondling',\n",
       " 'streaks',\n",
       " 'ending',\n",
       " 'lacking',\n",
       " 'ornaments',\n",
       " 'foes',\n",
       " 'realizing',\n",
       " 'displeased',\n",
       " 'cover',\n",
       " 'corrupted',\n",
       " 'heth',\n",
       " 'wandering',\n",
       " 'raised',\n",
       " 'gates',\n",
       " 'change',\n",
       " 'relief',\n",
       " 'inherit',\n",
       " 'earthly',\n",
       " 'judged',\n",
       " 'fly',\n",
       " 'pathrusim',\n",
       " 'sinned',\n",
       " 'mahanaim',\n",
       " 'circumcise',\n",
       " 'jamin',\n",
       " 'miscarried',\n",
       " 'nineteen',\n",
       " 'houses',\n",
       " 'heads',\n",
       " 'jabbok',\n",
       " 'leaving',\n",
       " 'supplanted',\n",
       " 'reaching',\n",
       " 'descending',\n",
       " 'stripped',\n",
       " 'imnah',\n",
       " 'lehabim',\n",
       " 'oldest',\n",
       " 'width',\n",
       " 'learn',\n",
       " 'square',\n",
       " 'jezer',\n",
       " 'fifths',\n",
       " 'owner',\n",
       " 'heifer',\n",
       " 'loss',\n",
       " 'sabtah',\n",
       " 'sets',\n",
       " 'measures',\n",
       " 'distress',\n",
       " 'chosen',\n",
       " 'understood',\n",
       " 'ways',\n",
       " 'odor',\n",
       " 'diklah',\n",
       " 'rosh',\n",
       " 'innocence',\n",
       " 'sewed',\n",
       " 'pleaded',\n",
       " 'desolate',\n",
       " 'obedience',\n",
       " 'delayed',\n",
       " 'weight',\n",
       " 'reassured',\n",
       " 'asshur',\n",
       " 'warriors',\n",
       " 'lesser',\n",
       " 'caravan',\n",
       " 'esek',\n",
       " 'jetheth',\n",
       " 'mourn',\n",
       " 'gaza',\n",
       " 'tenderly',\n",
       " 'erected',\n",
       " 'prayer',\n",
       " 'itself',\n",
       " 'enter',\n",
       " 'coffin',\n",
       " 'foolish',\n",
       " 'cease',\n",
       " 'guni',\n",
       " 'raided',\n",
       " 'stretches',\n",
       " 'measure',\n",
       " 'localities',\n",
       " 'brick',\n",
       " 'tahash',\n",
       " 'hundredfold',\n",
       " 'sixteen',\n",
       " 'captured',\n",
       " 'eri',\n",
       " 'broken',\n",
       " 'rooms',\n",
       " 'jidlaph',\n",
       " 'jealous',\n",
       " 'hallowed',\n",
       " 'blossoms',\n",
       " 'ishvah',\n",
       " 'wear',\n",
       " 'refresh',\n",
       " 'dares',\n",
       " 'costly',\n",
       " 'turning',\n",
       " 'sered',\n",
       " 'rib',\n",
       " 'fiercely',\n",
       " 'conceal',\n",
       " 'tools',\n",
       " 'downcast',\n",
       " 'abate',\n",
       " 'birthday',\n",
       " 'rider',\n",
       " 'storehouses',\n",
       " 'breach',\n",
       " 'border',\n",
       " 'sprung',\n",
       " 'hemdan',\n",
       " 'signs',\n",
       " 'rodanim',\n",
       " 'ephah',\n",
       " 'plainly',\n",
       " 'plowing',\n",
       " 'lifting',\n",
       " 'addressed',\n",
       " 'grudge',\n",
       " 'belonging',\n",
       " 'malchiel',\n",
       " 'monsters',\n",
       " 'sacrifice',\n",
       " 'naamah',\n",
       " 'poverty',\n",
       " 'avenged',\n",
       " 'violently',\n",
       " 'terrifying',\n",
       " 'eighteen',\n",
       " 'strongly',\n",
       " 'trembled',\n",
       " 'deborah',\n",
       " 'interpreter',\n",
       " 'cruel',\n",
       " 'expert',\n",
       " 'facing',\n",
       " 'mind',\n",
       " 'observed',\n",
       " 'shelter',\n",
       " 'enraged',\n",
       " 'endures',\n",
       " 'practice',\n",
       " 'indignant',\n",
       " 'thousands',\n",
       " 'foremost',\n",
       " 'iscah',\n",
       " 'wounding',\n",
       " 'ehi',\n",
       " 'shuah',\n",
       " 'profit',\n",
       " 'clear',\n",
       " 'males',\n",
       " 'sacrifices',\n",
       " 'herb',\n",
       " 'complained',\n",
       " 'strangers',\n",
       " 'kohath',\n",
       " 'opportunity',\n",
       " 'onam',\n",
       " 'overseers',\n",
       " 'alvan',\n",
       " 'reaped',\n",
       " 'flour',\n",
       " 'honesty',\n",
       " 'short',\n",
       " 'control',\n",
       " 'beak',\n",
       " 'kindly',\n",
       " 'sinners',\n",
       " 'cheran',\n",
       " 'tells',\n",
       " 'sweat',\n",
       " 'peaceably',\n",
       " 'honey',\n",
       " 'raven',\n",
       " 'mourned',\n",
       " 'grieved',\n",
       " 'herd',\n",
       " 'seated',\n",
       " 'watering',\n",
       " 'attacked',\n",
       " 'wickedly',\n",
       " 'south',\n",
       " 'lower',\n",
       " 'blesses',\n",
       " 'cakes',\n",
       " 'shortly',\n",
       " 'enjoy',\n",
       " 'justice',\n",
       " 'burned',\n",
       " 'lean',\n",
       " 'falsely',\n",
       " 'judgment',\n",
       " 'viper',\n",
       " 'battle',\n",
       " 'errand',\n",
       " 'kneel',\n",
       " 'anamim',\n",
       " 'royal',\n",
       " 'traders',\n",
       " 'summer',\n",
       " 'judith',\n",
       " 'eldest',\n",
       " 'enmity',\n",
       " 'prevail',\n",
       " 'ezbon',\n",
       " 'striven',\n",
       " 'desired',\n",
       " 'unstable',\n",
       " 'void',\n",
       " 'drying',\n",
       " 'ziphion',\n",
       " 'saving',\n",
       " 'emim',\n",
       " 'meshech',\n",
       " 'hazo',\n",
       " 'anywhere',\n",
       " 'lioness',\n",
       " 'buz',\n",
       " 'thousand',\n",
       " 'store',\n",
       " 'ships',\n",
       " 'hazarmaveth',\n",
       " 'prospered',\n",
       " 'want',\n",
       " 'zimran',\n",
       " 'tola',\n",
       " 'fallen',\n",
       " 'mizraim',\n",
       " 'replaced',\n",
       " 'preserved',\n",
       " 'plucked',\n",
       " 'emptying',\n",
       " 'smoking',\n",
       " 'hunted',\n",
       " 'unloved',\n",
       " 'ashes',\n",
       " 'caphtorim',\n",
       " 'hadoram',\n",
       " 'myriads',\n",
       " 'saddled',\n",
       " 'elohe',\n",
       " 'continue',\n",
       " 'gaham',\n",
       " 'mark',\n",
       " 'seedtime',\n",
       " 'mothers',\n",
       " 'arodi',\n",
       " 'gateway',\n",
       " 'merari',\n",
       " 'onyx',\n",
       " 'purify',\n",
       " 'coastland',\n",
       " 'longs',\n",
       " 'akan',\n",
       " 'leap',\n",
       " 'person',\n",
       " 'recover',\n",
       " 'gradually',\n",
       " 'pursuit',\n",
       " 'breed',\n",
       " 'survivors',\n",
       " 'uppermost',\n",
       " 'council',\n",
       " 'stranger',\n",
       " 'middle',\n",
       " 'offended',\n",
       " 'accad',\n",
       " 'weeping',\n",
       " 'nursing',\n",
       " 'kedemah',\n",
       " 'pastured',\n",
       " 'doe',\n",
       " 'appear',\n",
       " 'edge',\n",
       " 'forgot',\n",
       " 'handsome',\n",
       " 'burst',\n",
       " 'naphish',\n",
       " 'mating',\n",
       " 'departing',\n",
       " 'drawn',\n",
       " 'resting',\n",
       " 'except',\n",
       " 'bowshot',\n",
       " 'saddle',\n",
       " 'jerah',\n",
       " 'sought',\n",
       " 'gihon',\n",
       " 'divide',\n",
       " 'migrated',\n",
       " 'remnant',\n",
       " 'reumah',\n",
       " 'dumah',\n",
       " 'chesed',\n",
       " 'withhold',\n",
       " 'below',\n",
       " 'talked',\n",
       " 'oppressed',\n",
       " 'oversight',\n",
       " 'wall',\n",
       " 'grows',\n",
       " 'twice',\n",
       " 'shuni',\n",
       " 'delight',\n",
       " 'proceed',\n",
       " 'magdiel',\n",
       " 'knead',\n",
       " 'sow',\n",
       " 'body',\n",
       " 'months',\n",
       " 'turtledove',\n",
       " 'horns',\n",
       " 'pildash',\n",
       " 'hadar',\n",
       " 'peopled',\n",
       " 'raid',\n",
       " 'loincloths',\n",
       " 'asks',\n",
       " 'exoneration',\n",
       " 'temanites',\n",
       " 'controlling',\n",
       " 'hurriedly',\n",
       " 'assemble',\n",
       " 'vineyard',\n",
       " 'oaths',\n",
       " 'hundredth',\n",
       " 'zuzim',\n",
       " 'shoulders',\n",
       " 'act',\n",
       " 'dependents',\n",
       " 'sinites',\n",
       " 'worth',\n",
       " 'area',\n",
       " 'slay',\n",
       " 'breeding',\n",
       " 'amazement',\n",
       " 'better',\n",
       " 'fed',\n",
       " 'machir',\n",
       " 'crafty',\n",
       " 'merciful',\n",
       " 'fresh',\n",
       " 'gracious',\n",
       " 'skillful',\n",
       " 'shemeber',\n",
       " 'aran',\n",
       " 'established',\n",
       " 'heman',\n",
       " 'salem',\n",
       " 'taut',\n",
       " 'riphath',\n",
       " 'paneah',\n",
       " 'horite',\n",
       " 'bacuth',\n",
       " 'jabal',\n",
       " 'tops',\n",
       " 'hamathites',\n",
       " 'appease',\n",
       " 'mesha',\n",
       " 'treasure',\n",
       " 'putting',\n",
       " 'sabteca',\n",
       " 'safely',\n",
       " 'troubles',\n",
       " 'pole',\n",
       " 'scarcely',\n",
       " 'ir',\n",
       " 'wayside',\n",
       " 'sorrowful',\n",
       " 'burn',\n",
       " 'zaphenath',\n",
       " 'formless',\n",
       " 'iram',\n",
       " 'merchants',\n",
       " 'mishma',\n",
       " 'zaavan',\n",
       " 'swarms',\n",
       " 'running',\n",
       " 'inquire',\n",
       " 'kemuel',\n",
       " 'wrapped',\n",
       " 'tender',\n",
       " 'captives',\n",
       " 'faults',\n",
       " 'rameses',\n",
       " 'plundered',\n",
       " 'shekel',\n",
       " 'bozrah',\n",
       " 'shield',\n",
       " 'deed',\n",
       " 'languished',\n",
       " 'pistachio',\n",
       " 'anointed',\n",
       " 'frail',\n",
       " 'redeemed',\n",
       " 'sahadutha',\n",
       " 'dinhabah',\n",
       " 'amalekites',\n",
       " 'agile',\n",
       " 'carcasses',\n",
       " 'temple',\n",
       " 'northward',\n",
       " 'gazed',\n",
       " 'slaughter',\n",
       " 'excel',\n",
       " 'kiriathaim',\n",
       " 'perpetuated',\n",
       " 'serving',\n",
       " 'charioteers',\n",
       " 'rebelled',\n",
       " 'tribute',\n",
       " 'unawares',\n",
       " 'thicket',\n",
       " 'adbeel',\n",
       " 'attended',\n",
       " 'lack',\n",
       " 'foal',\n",
       " 'release',\n",
       " 'shepho',\n",
       " 'owns',\n",
       " 'fare',\n",
       " 'pot',\n",
       " 'arrive',\n",
       " 'collected',\n",
       " 'fact',\n",
       " 'falls',\n",
       " 'slowly',\n",
       " 'banks',\n",
       " 'thong',\n",
       " 'suffer',\n",
       " 'hang',\n",
       " 'solemnly',\n",
       " 'dreamer',\n",
       " 'haggi',\n",
       " 'captive',\n",
       " 'speech',\n",
       " 'fierce',\n",
       " 'delicacies',\n",
       " 'fig',\n",
       " 'scatter',\n",
       " 'fro',\n",
       " 'repeated',\n",
       " 'clothed',\n",
       " 'carrying',\n",
       " 'subdue',\n",
       " 'table',\n",
       " 'nuts',\n",
       " 'abated',\n",
       " 'grandson',\n",
       " 'numbered',\n",
       " 'stole',\n",
       " 'clings',\n",
       " 'pitch',\n",
       " 'ashkenaz',\n",
       " 'horses',\n",
       " 'ophir',\n",
       " 'puvah',\n",
       " 'making',\n",
       " 'creation',\n",
       " 'crossing',\n",
       " 'odds',\n",
       " 'mortar',\n",
       " 'mahalath',\n",
       " 'yoke',\n",
       " 'wheat',\n",
       " 'cherubim',\n",
       " 'misfortunes',\n",
       " 'ashteroth',\n",
       " 'washes',\n",
       " 'delivery',\n",
       " 'zahab',\n",
       " 'mean',\n",
       " 'childbirth',\n",
       " 'perform',\n",
       " 'colt',\n",
       " 'played',\n",
       " 'midianites',\n",
       " 'ribs',\n",
       " 'fulfill',\n",
       " 'select',\n",
       " 'comfort',\n",
       " 'affection',\n",
       " 'tigris',\n",
       " 'spoil',\n",
       " 'hearts',\n",
       " 'embrace',\n",
       " 'scepter',\n",
       " 'driven',\n",
       " 'hashum',\n",
       " 'ashbel',\n",
       " 'fortune',\n",
       " 'widowhood',\n",
       " 'drunk',\n",
       " 'kenites',\n",
       " 'midianite',\n",
       " 'proposal',\n",
       " 'building',\n",
       " 'future',\n",
       " 'issue',\n",
       " 'compare',\n",
       " 'paid',\n",
       " 'knee',\n",
       " 'trembling',\n",
       " 'despised',\n",
       " 'occurred',\n",
       " 'seashore',\n",
       " 'bricks',\n",
       " 'bdellium',\n",
       " 'mishpat',\n",
       " 'slain',\n",
       " 'rock',\n",
       " 'seem',\n",
       " 'expect',\n",
       " 'farewell',\n",
       " 'erech',\n",
       " 'shillem',\n",
       " 'worship',\n",
       " 'magog',\n",
       " 'rescue',\n",
       " 'roll',\n",
       " 'encampments',\n",
       " 'sephar',\n",
       " 'risen',\n",
       " 'quiver',\n",
       " 'questions',\n",
       " 'peniel',\n",
       " 'befall',\n",
       " 'haven',\n",
       " 'speaks',\n",
       " 'moreh',\n",
       " 'hears',\n",
       " 'submit',\n",
       " 'fourteenth',\n",
       " 'dies',\n",
       " 'foreigners',\n",
       " 'odious',\n",
       " 'epher',\n",
       " 'using',\n",
       " 'measuring',\n",
       " 'hivites',\n",
       " 'carefully',\n",
       " 'maacah',\n",
       " 'summoned',\n",
       " 'ripened',\n",
       " 'leummim',\n",
       " 'result',\n",
       " 'edomites',\n",
       " 'follows',\n",
       " 'sheds',\n",
       " 'ah',\n",
       " 'ebal',\n",
       " 'unloaded',\n",
       " 'appoint',\n",
       " 'marries',\n",
       " 'slept',\n",
       " 'laughter',\n",
       " 'questioned',\n",
       " 'reserved',\n",
       " 'graceful',\n",
       " 'bronze',\n",
       " 'thoughts',\n",
       " 'manahath',\n",
       " 'used',\n",
       " 'spilled',\n",
       " 'bundles',\n",
       " 'blow',\n",
       " 'belly',\n",
       " 'hers',\n",
       " 'furthermore',\n",
       " 'laws',\n",
       " 'heber',\n",
       " 'altogether',\n",
       " 'springs',\n",
       " 'unleavened',\n",
       " 'plane',\n",
       " 'regarded',\n",
       " 'milch',\n",
       " 'wrestlings',\n",
       " 'aiah',\n",
       " 'southward',\n",
       " 'overdriven',\n",
       " 'bank',\n",
       " 'hamstrung',\n",
       " 'semen',\n",
       " 'point',\n",
       " 'jachin',\n",
       " 'promise',\n",
       " 'path',\n",
       " 'adviser',\n",
       " 'playing',\n",
       " 'interpretations',\n",
       " 'massa',\n",
       " 'chezib',\n",
       " 'suitable',\n",
       " 'determined',\n",
       " 'medan',\n",
       " 'uzal',\n",
       " 'pays',\n",
       " 'obal',\n",
       " 'bered',\n",
       " 'impossible',\n",
       " 'hazazon',\n",
       " 'vision',\n",
       " 'hori',\n",
       " 'letushim',\n",
       " 'abide',\n",
       " 'abida',\n",
       " 'attractive',\n",
       " 'seasons',\n",
       " 'hotly',\n",
       " 'yield',\n",
       " 'oni',\n",
       " 'staying',\n",
       " 'reach',\n",
       " 'gripping',\n",
       " 'reward',\n",
       " 'bushes',\n",
       " 'dawned',\n",
       " 'distressing',\n",
       " 'visit',\n",
       " 'olive',\n",
       " 'rained',\n",
       " 'linen',\n",
       " 'hunting',\n",
       " 'close',\n",
       " 'lurking',\n",
       " 'bites',\n",
       " 'pleases',\n",
       " 'open',\n",
       " 'news',\n",
       " 'hamul',\n",
       " 'winter',\n",
       " 'bilhan',\n",
       " 'roadside',\n",
       " 'talking',\n",
       " 'ashamed',\n",
       " 'loins',\n",
       " 'choicest',\n",
       " 'muppim',\n",
       " 'forgotten',\n",
       " 'booths',\n",
       " 'loud',\n",
       " 'upbraided',\n",
       " 'elah',\n",
       " 'eldaah',\n",
       " 'beeri',\n",
       " 'doubt',\n",
       " 'lud',\n",
       " 'run',\n",
       " 'crying',\n",
       " 'vindicated',\n",
       " 'prevented',\n",
       " 'kedar',\n",
       " 'longed',\n",
       " 'abhorrent',\n",
       " 'rank',\n",
       " 'tiras',\n",
       " 'budded',\n",
       " 'ford',\n",
       " 'drinks',\n",
       " 'believed',\n",
       " 'ishbak',\n",
       " 'defeated',\n",
       " 'explain',\n",
       " 'cypress',\n",
       " 'shore',\n",
       " 'piece',\n",
       " 'sheepfolds',\n",
       " 'ascending',\n",
       " 'lasha',\n",
       " 'decks',\n",
       " 'curds',\n",
       " 'weights',\n",
       " 'contended',\n",
       " 'karnaim',\n",
       " 'heroes',\n",
       " 'accepted',\n",
       " 'posterity',\n",
       " 'acknowledged',\n",
       " 'bag',\n",
       " 'sulfur',\n",
       " 'loudly',\n",
       " 'elishah',\n",
       " 'allon',\n",
       " 'mash',\n",
       " 'renown',\n",
       " 'breeze',\n",
       " 'endowed',\n",
       " 'receive',\n",
       " 'wander',\n",
       " 'touches',\n",
       " 'lain',\n",
       " 'wombs',\n",
       " 'wolf',\n",
       " 'kills',\n",
       " 'sheleph',\n",
       " 'inquired',\n",
       " 'thirteen',\n",
       " 'eternal',\n",
       " 'bera',\n",
       " 'feed',\n",
       " 'showed',\n",
       " 'freshly',\n",
       " 'childless',\n",
       " 'harming',\n",
       " 'everywhere',\n",
       " 'beneath',\n",
       " 'whelp',\n",
       " 'whiter',\n",
       " 'load',\n",
       " 'breaking',\n",
       " 'hurried',\n",
       " 'clusters',\n",
       " 'abomination',\n",
       " 'mounted',\n",
       " 'entreat',\n",
       " 'stunned',\n",
       " 'pigeon',\n",
       " 'revived',\n",
       " 'harvests',\n",
       " 'hidden',\n",
       " 'upright',\n",
       " 'decide',\n",
       " 'ararat',\n",
       " 'verified',\n",
       " 'wrath',\n",
       " 'gera',\n",
       " 'suffering',\n",
       " 'note',\n",
       " 'becomes',\n",
       " 'exchanged',\n",
       " 'tambourine',\n",
       " 'togarmah',\n",
       " 'commandments',\n",
       " 'bulls',\n",
       " 'sinning',\n",
       " 'picked',\n",
       " 'further',\n",
       " 'ravenous',\n",
       " 'tema',\n",
       " 'grandchildren',\n",
       " 'merry',\n",
       " 'added',\n",
       " 'rouse',\n",
       " 'hewed',\n",
       " 'cupbearing',\n",
       " 'finish',\n",
       " 'nephilim',\n",
       " 'pair',\n",
       " 'almond',\n",
       " 'swept',\n",
       " 'wait',\n",
       " 'hire',\n",
       " 'sackcloth',\n",
       " 'naaman',\n",
       " 'freely',\n",
       " 'limping',\n",
       " 'list',\n",
       " 'swarming',\n",
       " 'mirth',\n",
       " 'nevertheless',\n",
       " 'instructing',\n",
       " 'raiders',\n",
       " 'bodies',\n",
       " 'stop',\n",
       " 'kadmonites',\n",
       " 'woke',\n",
       " 'firstlings',\n",
       " 'en',\n",
       " 'eder',\n",
       " 'add',\n",
       " 'ard',\n",
       " 'devouring',\n",
       " 'horse',\n",
       " 'bewailed',\n",
       " 'madai',\n",
       " 'able',\n",
       " 'imprisoned',\n",
       " 'remove',\n",
       " 'accordance',\n",
       " 'destroys',\n",
       " 'former',\n",
       " 'starting',\n",
       " 'naharaim',\n",
       " 'moriah',\n",
       " 'sustained',\n",
       " 'slipped',\n",
       " 'daybreak',\n",
       " 'perish',\n",
       " 'welfare',\n",
       " 'fared',\n",
       " 'current',\n",
       " 'westward',\n",
       " 'genealogies',\n",
       " 'defeat',\n",
       " 'disaster',\n",
       " 'mizpah',\n",
       " 'terror',\n",
       " 'mibsam',\n",
       " 'lowest',\n",
       " 'multiplied',\n",
       " 'establishing',\n",
       " 'exposing',\n",
       " 'uncovered',\n",
       " 'attack',\n",
       " 'consoling',\n",
       " 'consume',\n",
       " 'furnace',\n",
       " 'huppim',\n",
       " 'jetur',\n",
       " 'tebah',\n",
       " 'villages',\n",
       " 'mount',\n",
       " 'chain',\n",
       " 'understand',\n",
       " 'shot',\n",
       " 'stepped',\n",
       " 'mocking',\n",
       " 'mention',\n",
       " 'touched',\n",
       " 'propose',\n",
       " 'ohad',\n",
       " 'receded',\n",
       " 'bounties',\n",
       " 'eating',\n",
       " 'burden',\n",
       " 'archers',\n",
       " 'joint',\n",
       " 'sitnah',\n",
       " 'mibzar',\n",
       " 'paying',\n",
       " 'mehetabel',\n",
       " 'embalm',\n",
       " 'surrounded',\n",
       " 'nod',\n",
       " 'already',\n",
       " 'awesome',\n",
       " 'innocent',\n",
       " 'unable',\n",
       " 'supplied',\n",
       " 'emptied',\n",
       " 'vigor',\n",
       " 'aloud',\n",
       " 'forgets',\n",
       " 'believe',\n",
       " 'moon',\n",
       " 'jemuel',\n",
       " 'eshban',\n",
       " 'likes',\n",
       " 'escaped',\n",
       " 'lingered',\n",
       " 'descended',\n",
       " 'tiller',\n",
       " 'dark',\n",
       " 'restrained',\n",
       " 'produce',\n",
       " 'areli',\n",
       " 'warrior',\n",
       " 'offerings',\n",
       " 'ludim',\n",
       " 'thistles',\n",
       " 'dowry',\n",
       " 'seba',\n",
       " 'reserve',\n",
       " 'poor',\n",
       " 'trained',\n",
       " 'avith',\n",
       " 'torch',\n",
       " 'prophet',\n",
       " 'virgin',\n",
       " 'fond',\n",
       " 'iniquity',\n",
       " 'rightly',\n",
       " 'resen',\n",
       " 'jahleel',\n",
       " 'brow',\n",
       " 'sip',\n",
       " 'gether',\n",
       " 'accountable',\n",
       " 'pipe',\n",
       " 'allow',\n",
       " 'lost',\n",
       " 'iron',\n",
       " 'trouble',\n",
       " 'masrekah',\n",
       " 'additional',\n",
       " 'doubling',\n",
       " 'zemarites',\n",
       " 'cake',\n",
       " 'teeth',\n",
       " 'offense',\n",
       " 'meanwhile',\n",
       " 'absent',\n",
       " 'hobah',\n",
       " 'quiet',\n",
       " 'melchizedek',\n",
       " 'thoroughly',\n",
       " 'fine',\n",
       " 'kittim',\n",
       " 'gershon',\n",
       " 'clothing',\n",
       " 'secretly',\n",
       " 'enemy',\n",
       " 'carmi',\n",
       " 'lose',\n",
       " 'finally',\n",
       " 'beor',\n",
       " 'meal',\n",
       " 'whim',\n",
       " 'salvation',\n",
       " 'thorns',\n",
       " 'duty',\n",
       " 'ishvi',\n",
       " 'wonderful',\n",
       " 'broad',\n",
       " 'capable',\n",
       " 'ride',\n",
       " 'jashub',\n",
       " 'wore',\n",
       " 'thirteenth',\n",
       " 'lentil',\n",
       " 'forced',\n",
       " 'sprouted',\n",
       " 'pinon',\n",
       " 'officer',\n",
       " 'watch',\n",
       " ...]"
      ]
     },
     "execution_count": 18,
     "metadata": {},
     "output_type": "execute_result"
    }
   ],
   "source": [
    "list_one_time"
   ]
  },
  {
   "cell_type": "code",
   "execution_count": 19,
   "metadata": {
    "colab": {
     "base_uri": "https://localhost:8080/",
     "height": 34
    },
    "colab_type": "code",
    "id": "Oza1oOGw1TpC",
    "outputId": "0e710064-aa09-4b2f-c2a3-6576f103d0c8"
   },
   "outputs": [
    {
     "data": {
      "text/plain": [
       "1106"
      ]
     },
     "execution_count": 19,
     "metadata": {},
     "output_type": "execute_result"
    }
   ],
   "source": [
    "len(list_one_time)"
   ]
  },
  {
   "cell_type": "markdown",
   "metadata": {
    "colab_type": "text",
    "id": "UZYuVi1FC5HO"
   },
   "source": [
    "Double check"
   ]
  },
  {
   "cell_type": "code",
   "execution_count": 20,
   "metadata": {
    "colab": {},
    "colab_type": "code",
    "id": "GIhd5Eq_CS1-"
   },
   "outputs": [],
   "source": [
    "for word in list_one_time:\n",
    "    counting = genesis.split().count(word)\n",
    "    if counting > 1:\n",
    "        print(word)"
   ]
  },
  {
   "cell_type": "markdown",
   "metadata": {},
   "source": [
    "## 2nd version\n",
    "\n",
    "Using dictionaries, filter and lambda functions in questions 2 and 3"
   ]
  },
  {
   "cell_type": "code",
   "execution_count": 21,
   "metadata": {},
   "outputs": [],
   "source": [
    "word_dict = dict() \n",
    "# using the data structure 'set' to remove duplicates\n",
    "for isolated_string in list(set(genesis.split())):\n",
    "# ignoring numeric strings  \n",
    "    if isolated_string.isalpha():   \n",
    "        word_dict[isolated_string] = genesis.split().count(isolated_string)"
   ]
  },
  {
   "cell_type": "markdown",
   "metadata": {},
   "source": [
    "### Question 2"
   ]
  },
  {
   "cell_type": "markdown",
   "metadata": {},
   "source": [
    "Sorting the dictionary by using an lambda function"
   ]
  },
  {
   "cell_type": "code",
   "execution_count": 22,
   "metadata": {
    "scrolled": true
   },
   "outputs": [
    {
     "data": {
      "text/plain": [
       "[('the', 2475), ('and', 2018), ('of', 1271), ('to', 1078), ('you', 650)]"
      ]
     },
     "execution_count": 22,
     "metadata": {},
     "output_type": "execute_result"
    }
   ],
   "source": [
    "sorted(word_dict.items(), key = lambda x:x[1], reverse=True)[:5]"
   ]
  },
  {
   "cell_type": "markdown",
   "metadata": {},
   "source": [
    "### Question 3"
   ]
  },
  {
   "cell_type": "markdown",
   "metadata": {},
   "source": [
    "Using the built-in function **filter**"
   ]
  },
  {
   "cell_type": "code",
   "execution_count": 29,
   "metadata": {},
   "outputs": [],
   "source": [
    "dict_one_time = dict(filter(lambda x:x[1]==1, word_dict.items())).keys()"
   ]
  },
  {
   "cell_type": "code",
   "execution_count": 30,
   "metadata": {},
   "outputs": [
    {
     "data": {
      "text/plain": [
       "1106"
      ]
     },
     "execution_count": 30,
     "metadata": {},
     "output_type": "execute_result"
    }
   ],
   "source": [
    "len(dict_one_time)"
   ]
  }
 ],
 "metadata": {
  "colab": {
   "collapsed_sections": [],
   "name": "1_Exercise_Pedro.ipynb",
   "provenance": []
  },
  "kernelspec": {
   "display_name": "Python 3",
   "language": "python",
   "name": "python3"
  },
  "language_info": {
   "codemirror_mode": {
    "name": "ipython",
    "version": 3
   },
   "file_extension": ".py",
   "mimetype": "text/x-python",
   "name": "python",
   "nbconvert_exporter": "python",
   "pygments_lexer": "ipython3",
   "version": "3.7.6"
  }
 },
 "nbformat": 4,
 "nbformat_minor": 4
}
