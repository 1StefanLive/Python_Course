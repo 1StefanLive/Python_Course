{
 "cells": [
  {
   "cell_type": "markdown",
   "metadata": {},
   "source": [
    "## Classes Exercises"
   ]
  },
  {
   "cell_type": "markdown",
   "metadata": {},
   "source": [
    "#### Fibo as a generator  \n",
    "http://www.diveintopython3.net/iterators.html  "
   ]
  },
  {
   "cell_type": "code",
   "execution_count": 8,
   "metadata": {},
   "outputs": [],
   "source": [
    "class Fib:\n",
    "    '''iterator that yields numbers in the Fibonacci sequence'''\n",
    "\n",
    "    def __init__(self, maxnum):\n",
    "        self.max = maxnum\n",
    "        #self.a = 0\n",
    "        #self.b = 1\n",
    "\n",
    "    def __iter__(self):\n",
    "        self.a = 0\n",
    "        self.b = 1\n",
    "        return self\n",
    "\n",
    "    def __next__(self):\n",
    "        fib = self.a\n",
    "        if fib > self.max:\n",
    "            raise StopIteration\n",
    "        self.a, self.b = self.b, self.a + self.b\n",
    "        return fib"
   ]
  },
  {
   "cell_type": "code",
   "execution_count": 9,
   "metadata": {},
   "outputs": [],
   "source": [
    "f = Fib(30)"
   ]
  },
  {
   "cell_type": "code",
   "execution_count": 10,
   "metadata": {},
   "outputs": [
    {
     "name": "stdout",
     "output_type": "stream",
     "text": [
      "0\n",
      "1\n",
      "1\n",
      "2\n",
      "3\n",
      "5\n",
      "8\n",
      "13\n",
      "21\n"
     ]
    }
   ],
   "source": [
    "for value in f:\n",
    "    print(value)"
   ]
  },
  {
   "cell_type": "markdown",
   "metadata": {},
   "source": [
    "Crie uma classe \"Automovel\", com propriedades:  \n",
    "- Modelo (atributo) --> O modelo do Automovel  \n",
    "- Autonomia (método)  --> Deve retornar quantos km ele pode andar  \n",
    "- Nível do tanque (método e atributo) --> Deve retornar o número de litros do tanque  \n",
    "- Capacidade do tanque (Atributo) --> Quantidade de litros do tanque \"cheio\", capacidade máxima    \n",
    "- Consumo (atributo) --> Um valor representando o consumo em km por litro  \n",
    "- Abastece (método) --> Acrescenta um numero de litros de combustível ao tanque, até, no máximo, sua capacidade  \n",
    "- Anda (método) --> Faz o automóvel andar um número específico de km  \n",
    "- Odometro --> (atributo) Retorna o número total de km andados  \n",
    "- Odometro parcial (atributo) --> Retorna o número de km andados desde o ultimo abastecimento  "
   ]
  },
  {
   "cell_type": "code",
   "execution_count": null,
   "metadata": {},
   "outputs": [],
   "source": [
    "class Auto:\n",
    "    def __init__(self, modelo, consumo, capacidade_tanque):\n",
    "        self.modelo = modelo\n",
    "        self.consumo = consumo\n",
    "        self.capacidade_tanque = capacidade_tanque\n",
    "        self.odometro = 0\n",
    "        self.odometro_parcial = 0\n",
    "        self.combustivel = 0\n",
    "        \n",
    "    def anda(self,km):\n",
    "        if km/self.consumo < self.combustivel:\n",
    "            self.combustivel -= (km/self.consumo)\n",
    "            self.odometro += km\n",
    "            self.odometro_parcial += km\n",
    "        else:\n",
    "            print('Você só pode andar {0:.2f} Km'.format(self.autonomia()))\n",
    "\n",
    "    def abastece(self, litros):\n",
    "        self.falta = self.capacidade_tanque - self.combustivel\n",
    "        if litros > self.falta:\n",
    "            print('Você só pode abastecer {0:.2f} litros'.format(self.falta))\n",
    "        else:\n",
    "            self.odometro_parcial = 0\n",
    "            self.combustivel += litros\n",
    "            print('Abastecemos {0:.2f} litros'.format(litros))\n",
    "            print('Tanque possui {0:.2f} litros'.format(self.combustivel))\n",
    "\n",
    "    def autonomia(self):\n",
    "        self.atnm = self.combustivel*self.consumo\n",
    "        print('A autonomia é de {0:.2f} Km'.format(self.atnm))\n",
    "        return self.atnm\n",
    "    \n",
    "    def nivel_tanque(self):\n",
    "        print('O tanque contém {0:.2f} litros'.format(self.combustivel))\n",
    "    \n",
    "    def mostra_odometro(self):\n",
    "        print('Odômetro parcial: {0:.2f}'.format(self.odometro_parcial))\n",
    "        print('Odômetro total: {0:.2f}'.format(self.odometro))"
   ]
  },
  {
   "cell_type": "code",
   "execution_count": null,
   "metadata": {},
   "outputs": [],
   "source": [
    "meucarro = Auto('Nissam',9,40)"
   ]
  },
  {
   "cell_type": "code",
   "execution_count": null,
   "metadata": {},
   "outputs": [],
   "source": [
    "meucarro.anda(240)"
   ]
  },
  {
   "cell_type": "code",
   "execution_count": null,
   "metadata": {},
   "outputs": [],
   "source": [
    "meucarro.abastece(20)"
   ]
  },
  {
   "cell_type": "code",
   "execution_count": null,
   "metadata": {},
   "outputs": [],
   "source": [
    "meucarro.autonomia()"
   ]
  },
  {
   "cell_type": "code",
   "execution_count": null,
   "metadata": {},
   "outputs": [],
   "source": [
    "meucarro.anda(240)"
   ]
  },
  {
   "cell_type": "code",
   "execution_count": null,
   "metadata": {},
   "outputs": [],
   "source": [
    "meucarro.anda(100)"
   ]
  },
  {
   "cell_type": "code",
   "execution_count": null,
   "metadata": {},
   "outputs": [],
   "source": [
    "meucarro.mostra_odometro()"
   ]
  },
  {
   "cell_type": "code",
   "execution_count": null,
   "metadata": {},
   "outputs": [],
   "source": [
    "meucarro.abastece(20)"
   ]
  },
  {
   "cell_type": "code",
   "execution_count": null,
   "metadata": {},
   "outputs": [],
   "source": [
    "meucarro.autonomia()"
   ]
  },
  {
   "cell_type": "code",
   "execution_count": null,
   "metadata": {},
   "outputs": [],
   "source": [
    "meucarro.mostra_odometro()"
   ]
  }
 ],
 "metadata": {
  "kernelspec": {
   "display_name": "Python 3",
   "language": "python",
   "name": "python3"
  },
  "language_info": {
   "codemirror_mode": {
    "name": "ipython",
    "version": 3
   },
   "file_extension": ".py",
   "mimetype": "text/x-python",
   "name": "python",
   "nbconvert_exporter": "python",
   "pygments_lexer": "ipython3",
   "version": "3.8.2"
  }
 },
 "nbformat": 4,
 "nbformat_minor": 4
}
