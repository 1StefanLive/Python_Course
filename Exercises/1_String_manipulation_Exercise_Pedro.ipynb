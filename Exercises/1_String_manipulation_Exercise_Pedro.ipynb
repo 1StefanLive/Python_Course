{
  "nbformat": 4,
  "nbformat_minor": 0,
  "metadata": {
    "kernelspec": {
      "display_name": "Python 3",
      "language": "python",
      "name": "python3"
    },
    "language_info": {
      "codemirror_mode": {
        "name": "ipython",
        "version": 3
      },
      "file_extension": ".py",
      "mimetype": "text/x-python",
      "name": "python",
      "nbconvert_exporter": "python",
      "pygments_lexer": "ipython3",
      "version": "3.6.8"
    },
    "colab": {
      "name": "1_Exercise_Pedro.ipynb",
      "provenance": [],
      "collapsed_sections": []
    }
  },
  "cells": [
    {
      "cell_type": "code",
      "metadata": {
        "id": "_7l_9ZgxdMUp",
        "colab_type": "code",
        "colab": {}
      },
      "source": [
        "import requests\n",
        "import re\n",
        "from bs4 import BeautifulSoup\n",
        "import string"
      ],
      "execution_count": null,
      "outputs": []
    },
    {
      "cell_type": "code",
      "metadata": {
        "id": "CMwe5lqUdMUu",
        "colab_type": "code",
        "colab": {}
      },
      "source": [
        "page = requests.get(\"http://www.vatican.va/archive/bible/genesis/documents/bible_genesis_en.html\")\n",
        "soup = BeautifulSoup(page.content, 'html.parser')\n",
        "\n",
        "for script in soup([\"script\", \"style\"]):\n",
        "    script.decompose()"
      ],
      "execution_count": null,
      "outputs": []
    },
    {
      "cell_type": "code",
      "metadata": {
        "id": "uVNnr4S6tkvU",
        "colab_type": "code",
        "colab": {}
      },
      "source": [
        "genesis = soup.get_text()\n",
        "genesis = re.sub(r'[\\n]+','\\n', genesis)"
      ],
      "execution_count": null,
      "outputs": []
    },
    {
      "cell_type": "markdown",
      "metadata": {
        "id": "icrl03pEdXyd",
        "colab_type": "text"
      },
      "source": [
        "1) Quantas vezes a palavra \"God\" aparece?\n",
        "\n",
        "2) Qual a palavra mais comum?\n",
        "\n",
        "3) Quais são as palavras que aparecem só uma vez?"
      ]
    },
    {
      "cell_type": "markdown",
      "metadata": {
        "id": "GmsIFpYJssJN",
        "colab_type": "text"
      },
      "source": [
        "Para fazer as questões vamos precisar usar **\"for\"** e **\"if\"**. Conceitos que ainda não foram vistos em sala. Além disso, vamos usar a estrutura de dados **\"set\"**, que também não foi vista."
      ]
    },
    {
      "cell_type": "code",
      "metadata": {
        "id": "8QYlso3VpUke",
        "colab_type": "code",
        "colab": {}
      },
      "source": [
        "# limpando caracteres indesejados\n",
        "for j in string.punctuation:\n",
        "  genesis = genesis.replace(j,' ')"
      ],
      "execution_count": null,
      "outputs": []
    },
    {
      "cell_type": "markdown",
      "metadata": {
        "id": "Vq6qqEU0z6Zm",
        "colab_type": "text"
      },
      "source": [
        "### Questão 1"
      ]
    },
    {
      "cell_type": "code",
      "metadata": {
        "id": "gLoRChE4fmS6",
        "colab_type": "code",
        "colab": {
          "base_uri": "https://localhost:8080/",
          "height": 34
        },
        "outputId": "c440a959-66ef-4d20-f5c1-78c0bd54cc8d"
      },
      "source": [
        "#jeito errado! Não estamos contando as palavaras, e sim quantas essa sequência de caracteres aparece\n",
        "genesis.count('God')"
      ],
      "execution_count": null,
      "outputs": [
        {
          "output_type": "execute_result",
          "data": {
            "text/plain": [
              "227"
            ]
          },
          "metadata": {
            "tags": []
          },
          "execution_count": 207
        }
      ]
    },
    {
      "cell_type": "code",
      "metadata": {
        "id": "iDNhKUJ_eQYj",
        "colab_type": "code",
        "colab": {
          "base_uri": "https://localhost:8080/",
          "height": 34
        },
        "outputId": "ae0f4e9f-5ac8-49ef-fe67-c0554145e7b5"
      },
      "source": [
        "genesis.split().count('God')"
      ],
      "execution_count": null,
      "outputs": [
        {
          "output_type": "execute_result",
          "data": {
            "text/plain": [
              "227"
            ]
          },
          "metadata": {
            "tags": []
          },
          "execution_count": 208
        }
      ]
    },
    {
      "cell_type": "markdown",
      "metadata": {
        "id": "ahVinp2GsHqt",
        "colab_type": "text"
      },
      "source": [
        "Nesse caso não houve problema, porque não há palavras que contenham essa palavra. Ex: Goddess"
      ]
    },
    {
      "cell_type": "markdown",
      "metadata": {
        "id": "fsGrKYf2z-9C",
        "colab_type": "text"
      },
      "source": [
        "### Questão 2"
      ]
    },
    {
      "cell_type": "markdown",
      "metadata": {
        "id": "lL4mqhHAuJ_q",
        "colab_type": "text"
      },
      "source": [
        "Vamos transformar todas as letras em minúsculas."
      ]
    },
    {
      "cell_type": "code",
      "metadata": {
        "id": "DywmtTL8uROS",
        "colab_type": "code",
        "colab": {}
      },
      "source": [
        "genesis = genesis.lower()"
      ],
      "execution_count": null,
      "outputs": []
    },
    {
      "cell_type": "markdown",
      "metadata": {
        "id": "GfZ6FdqS0k0m",
        "colab_type": "text"
      },
      "source": [
        "**lista_palavras**: lista com todas as palavras (sem repetições)"
      ]
    },
    {
      "cell_type": "code",
      "metadata": {
        "id": "vAvw-MbC0MbS",
        "colab_type": "code",
        "colab": {}
      },
      "source": [
        "lista_palavras = [] \n",
        "# vou usar conjunto para retirar duplicatas\n",
        "for i in list(set(genesis.split())):\n",
        "# queremos palavras, não numerais  \n",
        "  if i.isalpha():   \n",
        "    lista_palavras.append(i)"
      ],
      "execution_count": null,
      "outputs": []
    },
    {
      "cell_type": "markdown",
      "metadata": {
        "id": "r8lg6Ev709dL",
        "colab_type": "text"
      },
      "source": [
        "**lista_contagem**: lista com a frequência de cada palavra da **lista_palavras**"
      ]
    },
    {
      "cell_type": "code",
      "metadata": {
        "id": "No_hmhR60NNt",
        "colab_type": "code",
        "colab": {}
      },
      "source": [
        "lista_contagem = []\n",
        "for j in lista_palavras:\n",
        "  lista_contagem.append(genesis_minusculo.split().count(j))"
      ],
      "execution_count": null,
      "outputs": []
    },
    {
      "cell_type": "markdown",
      "metadata": {
        "id": "ugOQM9x8voI3",
        "colab_type": "text"
      },
      "source": [
        "As listas estão associadas, ou seja, para o mesmo index temos a palavra e a frequência correspondente. A estrutura de dados aqui seria dicionário ou até mesmo um dataframe\n"
      ]
    },
    {
      "cell_type": "code",
      "metadata": {
        "id": "ZmbxJn3ruvxb",
        "colab_type": "code",
        "colab": {
          "base_uri": "https://localhost:8080/",
          "height": 34
        },
        "outputId": "3469e69e-6a3b-4715-e541-8506c6fbd03c"
      },
      "source": [
        "len(lista_contagem) == len(lista_palavras)"
      ],
      "execution_count": null,
      "outputs": [
        {
          "output_type": "execute_result",
          "data": {
            "text/plain": [
              "True"
            ]
          },
          "metadata": {
            "tags": []
          },
          "execution_count": 173
        }
      ]
    },
    {
      "cell_type": "markdown",
      "metadata": {
        "id": "f_JiuJIYvNwC",
        "colab_type": "text"
      },
      "source": [
        "Criando uma cópia para criar uma versão ordenada da **lista_contagem**. Lembrando que list.sort é um método inplace que modificaria a ordem da nossa lista (o que a gente não quer!).\n"
      ]
    },
    {
      "cell_type": "code",
      "metadata": {
        "id": "5juPkI_PBjWp",
        "colab_type": "code",
        "colab": {}
      },
      "source": [
        "lista_contagem_ordenada = lista_contagem.copy()"
      ],
      "execution_count": 211,
      "outputs": []
    },
    {
      "cell_type": "code",
      "metadata": {
        "id": "SMzdCM224xh9",
        "colab_type": "code",
        "colab": {}
      },
      "source": [
        "lista_contagem_ordenada.sort(reverse = True)"
      ],
      "execution_count": 212,
      "outputs": []
    },
    {
      "cell_type": "code",
      "metadata": {
        "id": "y9Ro0Hoiv0Dc",
        "colab_type": "code",
        "colab": {}
      },
      "source": [
        "lista_5_maiores_freq = lista_contagem_ordenada[:5]"
      ],
      "execution_count": 213,
      "outputs": []
    },
    {
      "cell_type": "code",
      "metadata": {
        "id": "FUemI2eKwPe1",
        "colab_type": "code",
        "colab": {
          "base_uri": "https://localhost:8080/",
          "height": 34
        },
        "outputId": "7827aef7-96d2-4e89-b442-e5d53d9121c3"
      },
      "source": [
        "lista_5_maiores_freq"
      ],
      "execution_count": 214,
      "outputs": [
        {
          "output_type": "execute_result",
          "data": {
            "text/plain": [
              "[2475, 2018, 1271, 1078, 650]"
            ]
          },
          "metadata": {
            "tags": []
          },
          "execution_count": 214
        }
      ]
    },
    {
      "cell_type": "markdown",
      "metadata": {
        "id": "yaFzRrW_1ldx",
        "colab_type": "text"
      },
      "source": [
        "### Resposta da questão 2"
      ]
    },
    {
      "cell_type": "code",
      "metadata": {
        "id": "7Hdf28hf1N8k",
        "colab_type": "code",
        "colab": {
          "base_uri": "https://localhost:8080/",
          "height": 101
        },
        "outputId": "17033b55-c6bc-4443-d729-8401b6fc1155"
      },
      "source": [
        "#Vamos achar o index na lista_contagem para achar o index na lista_palavras\n",
        "\n",
        "for i in range(5):\n",
        "  index_palavra = lista_contagem.index(lista_5_maiores_freq[i])\n",
        "  print(lista_palavras[index_palavra])"
      ],
      "execution_count": 216,
      "outputs": [
        {
          "output_type": "stream",
          "text": [
            "the\n",
            "and\n",
            "of\n",
            "to\n",
            "you\n"
          ],
          "name": "stdout"
        }
      ]
    },
    {
      "cell_type": "markdown",
      "metadata": {
        "id": "Q8Sqw_z5z-QI",
        "colab_type": "text"
      },
      "source": [
        "Vamos criar a **lista_1_vez** para receber as palavras que aparecem só 1 vez"
      ]
    },
    {
      "cell_type": "code",
      "metadata": {
        "id": "uq2ASnXuy0z-",
        "colab_type": "code",
        "colab": {}
      },
      "source": [
        "lista_1_vez = []\n",
        "for freq,palavra in zip(lista_contagem,lista_palavras):\n",
        "  if freq == 1:\n",
        "    lista_1_vez.append(palavra)"
      ],
      "execution_count": null,
      "outputs": []
    },
    {
      "cell_type": "code",
      "metadata": {
        "id": "Xp7KFmDg0iTC",
        "colab_type": "code",
        "colab": {}
      },
      "source": [
        "lista_1_vez"
      ],
      "execution_count": null,
      "outputs": []
    },
    {
      "cell_type": "code",
      "metadata": {
        "id": "Oza1oOGw1TpC",
        "colab_type": "code",
        "colab": {
          "base_uri": "https://localhost:8080/",
          "height": 34
        },
        "outputId": "0e710064-aa09-4b2f-c2a3-6576f103d0c8"
      },
      "source": [
        "len(lista_1_vez)"
      ],
      "execution_count": null,
      "outputs": [
        {
          "output_type": "execute_result",
          "data": {
            "text/plain": [
              "1106"
            ]
          },
          "metadata": {
            "tags": []
          },
          "execution_count": 193
        }
      ]
    },
    {
      "cell_type": "markdown",
      "metadata": {
        "id": "FSU_k3F25tr_",
        "colab_type": "text"
      },
      "source": [
        "### Resposta da questão 3\n"
      ]
    },
    {
      "cell_type": "code",
      "metadata": {
        "id": "e6_GnGbmzEI_",
        "colab_type": "code",
        "colab": {}
      },
      "source": [
        "lista_1_vez"
      ],
      "execution_count": null,
      "outputs": []
    },
    {
      "cell_type": "markdown",
      "metadata": {
        "id": "UZYuVi1FC5HO",
        "colab_type": "text"
      },
      "source": [
        "Double check"
      ]
    },
    {
      "cell_type": "code",
      "metadata": {
        "id": "GIhd5Eq_CS1-",
        "colab_type": "code",
        "colab": {}
      },
      "source": [
        "for palavra in lista_1_vez:\n",
        "  contagem = genesis.split().count(palavra)\n",
        "  if contagem > 1:\n",
        "    print(palavra)"
      ],
      "execution_count": 225,
      "outputs": []
    },
    {
      "cell_type": "code",
      "metadata": {
        "id": "Bp1dCf-NCYiB",
        "colab_type": "code",
        "colab": {}
      },
      "source": [
        ""
      ],
      "execution_count": null,
      "outputs": []
    }
  ]
}