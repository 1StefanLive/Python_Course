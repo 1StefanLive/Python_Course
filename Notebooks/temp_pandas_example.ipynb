{
 "cells": [
  {
   "cell_type": "code",
   "execution_count": 1,
   "id": "fa146335-8963-44a6-b275-045538e87ba0",
   "metadata": {},
   "outputs": [],
   "source": [
    "import io\n",
    "import requests\n",
    "import urllib3\n",
    "import pandas as pd\n",
    "import matplotlib.pyplot as plt"
   ]
  },
  {
   "cell_type": "code",
   "execution_count": 2,
   "id": "bc978a5a-cdfa-4ec1-9e6f-89e8279ed4f1",
   "metadata": {},
   "outputs": [],
   "source": [
    "requests.packages.urllib3.disable_warnings()\n",
    "requests.packages.urllib3.util.ssl_.DEFAULT_CIPHERS += ':HIGH:!DH:!aNULL'\n",
    "try:\n",
    "    requests.packages.urllib3.contrib.pyopenssl.util.ssl_.DEFAULT_CIPHERS += ':HIGH:!DH:!aNULL'\n",
    "except AttributeError:\n",
    "    # no pyopenssl support used / needed / available\n",
    "    pass\n",
    "\n",
    "## See error when not running it in https://stackoverflow.com/questions/38015537/python-requests-exceptions-sslerror-dh-key-too-small"
   ]
  },
  {
   "cell_type": "code",
   "execution_count": 3,
   "id": "26533102-3ad3-4ba0-867c-61284d1e40bf",
   "metadata": {},
   "outputs": [],
   "source": [
    "## data home page: https://www.data.gv.at/katalog/dataset/covid-19-schutzimpfungen-impfungen-in-gemeinden\n",
    "\n",
    "url = \"https://info.gesundheitsministerium.gv.at/data/impfungen-gemeinden.csv\"\n",
    "\n",
    "csvfile = requests.get(url, verify=False).content\n",
    "vaccination = pd.read_csv(io.StringIO(csvfile.decode('utf-8')), sep=\";\")"
   ]
  },
  {
   "cell_type": "code",
   "execution_count": 4,
   "id": "ae019296-7d3d-4771-911f-e61cc5d69567",
   "metadata": {},
   "outputs": [
    {
     "data": {
      "text/html": [
       "<div>\n",
       "<style scoped>\n",
       "    .dataframe tbody tr th:only-of-type {\n",
       "        vertical-align: middle;\n",
       "    }\n",
       "\n",
       "    .dataframe tbody tr th {\n",
       "        vertical-align: top;\n",
       "    }\n",
       "\n",
       "    .dataframe thead th {\n",
       "        text-align: right;\n",
       "    }\n",
       "</style>\n",
       "<table border=\"1\" class=\"dataframe\">\n",
       "  <thead>\n",
       "    <tr style=\"text-align: right;\">\n",
       "      <th></th>\n",
       "      <th>Datum</th>\n",
       "      <th>Gemeindecode</th>\n",
       "      <th>Bevölkerung</th>\n",
       "      <th>Teilgeimpfte</th>\n",
       "      <th>TeilgeimpftePro100</th>\n",
       "      <th>Vollimmunisierte</th>\n",
       "      <th>VollimmunisiertePro100</th>\n",
       "    </tr>\n",
       "  </thead>\n",
       "  <tbody>\n",
       "    <tr>\n",
       "      <th>0</th>\n",
       "      <td>2021-11-29T23:59:59+01:00</td>\n",
       "      <td>10101</td>\n",
       "      <td>14895</td>\n",
       "      <td>11335</td>\n",
       "      <td>76.099362</td>\n",
       "      <td>10768</td>\n",
       "      <td>72.292716</td>\n",
       "    </tr>\n",
       "    <tr>\n",
       "      <th>1</th>\n",
       "      <td>2021-11-29T23:59:59+01:00</td>\n",
       "      <td>10201</td>\n",
       "      <td>2000</td>\n",
       "      <td>1551</td>\n",
       "      <td>77.550000</td>\n",
       "      <td>1474</td>\n",
       "      <td>73.700000</td>\n",
       "    </tr>\n",
       "    <tr>\n",
       "      <th>2</th>\n",
       "      <td>2021-11-29T23:59:59+01:00</td>\n",
       "      <td>10301</td>\n",
       "      <td>1883</td>\n",
       "      <td>1474</td>\n",
       "      <td>78.279341</td>\n",
       "      <td>1421</td>\n",
       "      <td>75.464684</td>\n",
       "    </tr>\n",
       "    <tr>\n",
       "      <th>3</th>\n",
       "      <td>2021-11-29T23:59:59+01:00</td>\n",
       "      <td>10302</td>\n",
       "      <td>1841</td>\n",
       "      <td>1455</td>\n",
       "      <td>79.033134</td>\n",
       "      <td>1397</td>\n",
       "      <td>75.882672</td>\n",
       "    </tr>\n",
       "    <tr>\n",
       "      <th>4</th>\n",
       "      <td>2021-11-29T23:59:59+01:00</td>\n",
       "      <td>10303</td>\n",
       "      <td>2122</td>\n",
       "      <td>1642</td>\n",
       "      <td>77.379830</td>\n",
       "      <td>1572</td>\n",
       "      <td>74.081056</td>\n",
       "    </tr>\n",
       "  </tbody>\n",
       "</table>\n",
       "</div>"
      ],
      "text/plain": [
       "                       Datum  Gemeindecode  Bevölkerung  Teilgeimpfte  \\\n",
       "0  2021-11-29T23:59:59+01:00         10101        14895         11335   \n",
       "1  2021-11-29T23:59:59+01:00         10201         2000          1551   \n",
       "2  2021-11-29T23:59:59+01:00         10301         1883          1474   \n",
       "3  2021-11-29T23:59:59+01:00         10302         1841          1455   \n",
       "4  2021-11-29T23:59:59+01:00         10303         2122          1642   \n",
       "\n",
       "   TeilgeimpftePro100  Vollimmunisierte  VollimmunisiertePro100  \n",
       "0           76.099362             10768               72.292716  \n",
       "1           77.550000              1474               73.700000  \n",
       "2           78.279341              1421               75.464684  \n",
       "3           79.033134              1397               75.882672  \n",
       "4           77.379830              1572               74.081056  "
      ]
     },
     "execution_count": 4,
     "metadata": {},
     "output_type": "execute_result"
    }
   ],
   "source": [
    "vaccination.head()"
   ]
  },
  {
   "cell_type": "code",
   "execution_count": 5,
   "id": "6f3ce9e3-dce1-4be6-aa5c-aa3f1f2a5908",
   "metadata": {},
   "outputs": [
    {
     "data": {
      "text/plain": [
       "array([10101, 10201, 10301, ..., 92101, 92201, 92301])"
      ]
     },
     "execution_count": 5,
     "metadata": {},
     "output_type": "execute_result"
    }
   ],
   "source": [
    "vaccination.Gemeindecode.unique()"
   ]
  },
  {
   "cell_type": "code",
   "execution_count": 6,
   "id": "c59cf46f-feed-431c-ab87-dd4a3dca909d",
   "metadata": {},
   "outputs": [
    {
     "data": {
      "text/html": [
       "<div>\n",
       "<style scoped>\n",
       "    .dataframe tbody tr th:only-of-type {\n",
       "        vertical-align: middle;\n",
       "    }\n",
       "\n",
       "    .dataframe tbody tr th {\n",
       "        vertical-align: top;\n",
       "    }\n",
       "\n",
       "    .dataframe thead th {\n",
       "        text-align: right;\n",
       "    }\n",
       "</style>\n",
       "<table border=\"1\" class=\"dataframe\">\n",
       "  <thead>\n",
       "    <tr style=\"text-align: right;\">\n",
       "      <th></th>\n",
       "      <th>Datum</th>\n",
       "      <th>Gemeindecode</th>\n",
       "      <th>Bevölkerung</th>\n",
       "      <th>Teilgeimpfte</th>\n",
       "      <th>TeilgeimpftePro100</th>\n",
       "      <th>Vollimmunisierte</th>\n",
       "      <th>VollimmunisiertePro100</th>\n",
       "    </tr>\n",
       "  </thead>\n",
       "  <tbody>\n",
       "    <tr>\n",
       "      <th>0</th>\n",
       "      <td>2021-11-29T23:59:59+01:00</td>\n",
       "      <td>10101</td>\n",
       "      <td>14895</td>\n",
       "      <td>11335</td>\n",
       "      <td>76.099362</td>\n",
       "      <td>10768</td>\n",
       "      <td>72.292716</td>\n",
       "    </tr>\n",
       "  </tbody>\n",
       "</table>\n",
       "</div>"
      ],
      "text/plain": [
       "                       Datum  Gemeindecode  Bevölkerung  Teilgeimpfte  \\\n",
       "0  2021-11-29T23:59:59+01:00         10101        14895         11335   \n",
       "\n",
       "   TeilgeimpftePro100  Vollimmunisierte  VollimmunisiertePro100  \n",
       "0           76.099362             10768               72.292716  "
      ]
     },
     "execution_count": 6,
     "metadata": {},
     "output_type": "execute_result"
    }
   ],
   "source": [
    "vaccination[vaccination[\"Gemeindecode\"] == 10101]"
   ]
  },
  {
   "cell_type": "code",
   "execution_count": 12,
   "id": "34e37ab7-6894-4808-9241-08b0d531ed49",
   "metadata": {},
   "outputs": [
    {
     "data": {
      "text/plain": [
       "<AxesSubplot:xlabel='Gemeindecode', ylabel='Vollimmunisierte'>"
      ]
     },
     "execution_count": 12,
     "metadata": {},
     "output_type": "execute_result"
    },
    {
     "data": {
      "image/png": "[encoded data removed]",
      "text/plain": [
       "<Figure size 1296x864 with 1 Axes>"
      ]
     },
     "metadata": {
      "needs_background": "light"
     },
     "output_type": "display_data"
    }
   ],
   "source": [
    "vaccination.plot.scatter(x=\"Gemeindecode\", y=\"Vollimmunisierte\", figsize=(18,12))"
   ]
  },
  {
   "cell_type": "code",
   "execution_count": null,
   "id": "dc161966-d44c-4aa8-adfc-1f6454966e8e",
   "metadata": {},
   "outputs": [],
   "source": []
  }
 ],
 "metadata": {
  "kernelspec": {
   "display_name": "Python 3 (ipykernel)",
   "language": "python",
   "name": "python3"
  },
  "language_info": {
   "codemirror_mode": {
    "name": "ipython",
    "version": 3
   },
   "file_extension": ".py",
   "mimetype": "text/x-python",
   "name": "python",
   "nbconvert_exporter": "python",
   "pygments_lexer": "ipython3",
   "version": "3.8.10"
  }
 },
 "nbformat": 4,
 "nbformat_minor": 5
}
