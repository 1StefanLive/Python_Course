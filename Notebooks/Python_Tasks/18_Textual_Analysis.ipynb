{
 "cells": [
  {
   "cell_type": "markdown",
   "metadata": {},
   "source": [
    "# Introduction to Python  \n",
    "\n",
    "## Natural Language Processing - Exploratory Data Analysis (EDA)"
   ]
  },
  {
   "cell_type": "code",
   "execution_count": 1,
   "metadata": {},
   "outputs": [
    {
     "name": "stdout",
     "output_type": "stream",
     "text": [
      "\u001b[31mERROR: pip's dependency resolver does not currently take into account all the packages that are installed. This behaviour is the source of the following dependency conflicts.\n",
      "scipy 1.6.2 requires numpy<1.23.0,>=1.16.5, but you have numpy 1.23.1 which is incompatible.\n",
      "imageio 2.16.1 requires pillow>=8.3.2, but you have pillow 8.2.0 which is incompatible.\u001b[0m\u001b[31m\n",
      "\u001b[0m"
     ]
    }
   ],
   "source": [
    "!pip install -U -q pip nltk gensim wordcloud textract textstat textblob spacy pyldavis \n",
    "!pip install -U -q goose3 numpy openpyxl python-levenshtein openpyxl"
   ]
  },
  {
   "cell_type": "code",
   "execution_count": 2,
   "metadata": {},
   "outputs": [
    {
     "name": "stderr",
     "output_type": "stream",
     "text": [
      "/home/renato/Documents/env_default/lib/python3.8/site-packages/scipy/__init__.py:138: UserWarning: A NumPy version >=1.16.5 and <1.23.0 is required for this version of SciPy (detected version 1.23.1)\n",
      "  warnings.warn(f\"A NumPy version >={np_minversion} and <{np_maxversion} is required for this version of \"\n",
      "/home/renato/Documents/env_default/lib/python3.8/site-packages/torch/cuda/__init__.py:80: UserWarning: CUDA initialization: Unexpected error from cudaGetDeviceCount(). Did you run some cuda functions before calling NumCudaDevices() that might have already set an error? Error 804: forward compatibility was attempted on non supported HW (Triggered internally at  ../c10/cuda/CUDAFunctions.cpp:112.)\n",
      "  return torch._C._cuda_getDeviceCount() > 0\n",
      "2022-08-03 23:15:41.835395: W tensorflow/stream_executor/platform/default/dso_loader.cc:64] Could not load dynamic library 'libcudart.so.11.0'; dlerror: libcudart.so.11.0: cannot open shared object file: No such file or directory\n",
      "2022-08-03 23:15:41.835430: I tensorflow/stream_executor/cuda/cudart_stub.cc:29] Ignore above cudart dlerror if you do not have a GPU set up on your machine.\n",
      "2022-08-03 23:15:42.954321: E tensorflow/stream_executor/cuda/cuda_driver.cc:271] failed call to cuInit: CUDA_ERROR_COMPAT_NOT_SUPPORTED_ON_DEVICE: forward compatibility was attempted on non supported HW\n",
      "2022-08-03 23:15:42.954367: I tensorflow/stream_executor/cuda/cuda_diagnostics.cc:169] retrieving CUDA diagnostic information for host: vienna\n",
      "2022-08-03 23:15:42.954373: I tensorflow/stream_executor/cuda/cuda_diagnostics.cc:176] hostname: vienna\n",
      "2022-08-03 23:15:42.954514: I tensorflow/stream_executor/cuda/cuda_diagnostics.cc:200] libcuda reported version is: 510.85.2\n",
      "2022-08-03 23:15:42.954536: I tensorflow/stream_executor/cuda/cuda_diagnostics.cc:204] kernel reported version is: 510.73.8\n",
      "2022-08-03 23:15:42.954541: E tensorflow/stream_executor/cuda/cuda_diagnostics.cc:313] kernel version 510.73.8 does not match DSO version 510.85.2 -- cannot find working devices in this configuration\n"
     ]
    }
   ],
   "source": [
    "import os\n",
    "import time\n",
    "import codecs\n",
    "import string\n",
    "import re\n",
    "from collections import Counter\n",
    "from collections import defaultdict\n",
    "\n",
    "import pandas as pd\n",
    "import numpy as np\n",
    "import matplotlib.pyplot as plt\n",
    "import seaborn as sns\n",
    "\n",
    "import urllib\n",
    "import requests\n",
    "from bs4 import BeautifulSoup\n",
    "import networkx as nx\n",
    "import gensim\n",
    "\n",
    "import nltk\n",
    "from wordcloud import WordCloud\n",
    "import textract\n",
    "from goose3 import Goose\n",
    "import textblob\n",
    "from textblob import TextBlob\n",
    "from textblob import Word\n",
    "\n",
    "import spacy\n",
    "import pyLDAvis\n",
    "import pyLDAvis.gensim_models\n",
    "import textstat\n",
    "\n",
    "from IPython.core.display import Image\n",
    "%matplotlib inline"
   ]
  },
  {
   "cell_type": "markdown",
   "metadata": {},
   "source": [
    "## I - Reading, formatting, visualizing and converting text from files "
   ]
  },
  {
   "cell_type": "markdown",
   "metadata": {},
   "source": [
    "Specifying the path to the files"
   ]
  },
  {
   "cell_type": "code",
   "execution_count": 3,
   "metadata": {},
   "outputs": [],
   "source": [
    "datapath = \"../../Data/\"\n",
    "outputs = \"../../Data/\"\n",
    "corpuspath = os.path.join(datapath, 'Texts')"
   ]
  },
  {
   "cell_type": "markdown",
   "metadata": {},
   "source": [
    "Examining files and folders programatically"
   ]
  },
  {
   "cell_type": "code",
   "execution_count": 4,
   "metadata": {},
   "outputs": [
    {
     "data": {
      "text/plain": [
       "['french-tragedy-split',\n",
       " 'french-tragedies-and-comedies',\n",
       " 'french-tragedy',\n",
       " 'british-fiction-corpus',\n",
       " 'doccluster',\n",
       " 'french-tragedies-and-comedies-split',\n",
       " 'austen-brontë',\n",
       " 'french-plays',\n",
       " 'hugo-les-misérables-split',\n",
       " 'outputs',\n",
       " 'hugo-les-misérables-original',\n",
       " 'austen-brontë-split',\n",
       " 'Gutenberg',\n",
       " 'stopwords',\n",
       " 'hugo-les-misérables']"
      ]
     },
     "execution_count": 4,
     "metadata": {},
     "output_type": "execute_result"
    }
   ],
   "source": [
    "onlydirs = [f for f in os.listdir(corpuspath) if os.path.isdir(os.path.join(corpuspath,f)) and not f.startswith('.')]\n",
    "onlydirs"
   ]
  },
  {
   "cell_type": "code",
   "execution_count": 5,
   "metadata": {},
   "outputs": [
    {
     "data": {
      "text/plain": [
       "['ARTIGOS-RBE-COM-RESUMO.xlsx',\n",
       " 'AldousHuxley_bravenewworld.pdf',\n",
       " 'BNCC_EI_EF_110518_versaofinal_site.pdf',\n",
       " 'MarcelProust_EmBuscadoTempoPerdido.pdf',\n",
       " 'Possibly_Misclassified_Cables_Review.xlsx',\n",
       " 'RobertFrost_Poetry.pdf',\n",
       " 'abcnews-date-text.csv']"
      ]
     },
     "execution_count": 5,
     "metadata": {},
     "output_type": "execute_result"
    }
   ],
   "source": [
    "onlyfiles = [f for f in os.listdir(corpuspath) if os.path.isfile(os.path.join(corpuspath,f)) and not f.startswith('.')]\n",
    "onlyfiles.sort()\n",
    "onlyfiles"
   ]
  },
  {
   "cell_type": "code",
   "execution_count": 6,
   "metadata": {},
   "outputs": [
    {
     "name": "stdout",
     "output_type": "stream",
     "text": [
      "Files in the folder:\n",
      "1 -- ARTIGOS-RBE-COM-RESUMO.xlsx\n",
      "2 -- AldousHuxley_bravenewworld.pdf\n",
      "3 -- BNCC_EI_EF_110518_versaofinal_site.pdf\n",
      "4 -- MarcelProust_EmBuscadoTempoPerdido.pdf\n",
      "5 -- Possibly_Misclassified_Cables_Review.xlsx\n",
      "6 -- RobertFrost_Poetry.pdf\n",
      "7 -- abcnews-date-text.csv\n"
     ]
    }
   ],
   "source": [
    "print('Files in the folder:')\n",
    "for i, w in enumerate(onlyfiles[0:]):\n",
    "    print(i+1, '--' ,w)"
   ]
  },
  {
   "cell_type": "markdown",
   "metadata": {},
   "source": [
    "### 1. First task: analyzing a text field on a Dataframe"
   ]
  },
  {
   "cell_type": "code",
   "execution_count": 7,
   "metadata": {},
   "outputs": [
    {
     "data": {
      "text/html": [
       "<div>\n",
       "<style scoped>\n",
       "    .dataframe tbody tr th:only-of-type {\n",
       "        vertical-align: middle;\n",
       "    }\n",
       "\n",
       "    .dataframe tbody tr th {\n",
       "        vertical-align: top;\n",
       "    }\n",
       "\n",
       "    .dataframe thead th {\n",
       "        text-align: right;\n",
       "    }\n",
       "</style>\n",
       "<table border=\"1\" class=\"dataframe\">\n",
       "  <thead>\n",
       "    <tr style=\"text-align: right;\">\n",
       "      <th></th>\n",
       "      <th>id</th>\n",
       "      <th>link to orig. doc</th>\n",
       "      <th>Prob_Classified</th>\n",
       "      <th>Prob_Unclassified</th>\n",
       "      <th>Odds</th>\n",
       "      <th>date</th>\n",
       "      <th>origclass</th>\n",
       "      <th>subject</th>\n",
       "    </tr>\n",
       "  </thead>\n",
       "  <tbody>\n",
       "    <tr>\n",
       "      <th>0</th>\n",
       "      <td>1975BANGKO06331</td>\n",
       "      <td>NaN</td>\n",
       "      <td>0.499997</td>\n",
       "      <td>0.500003</td>\n",
       "      <td>0.999987</td>\n",
       "      <td>1975-04-14</td>\n",
       "      <td>CONFIDENTIAL</td>\n",
       "      <td>gkr pl 480 rice in pipeline</td>\n",
       "    </tr>\n",
       "    <tr>\n",
       "      <th>1</th>\n",
       "      <td>1976MOSCOW15759</td>\n",
       "      <td>NaN</td>\n",
       "      <td>0.499995</td>\n",
       "      <td>0.500005</td>\n",
       "      <td>0.999980</td>\n",
       "      <td>1976-10-06</td>\n",
       "      <td>CONFIDENTIAL</td>\n",
       "      <td>oecd east-west initiative suggested addition</td>\n",
       "    </tr>\n",
       "    <tr>\n",
       "      <th>2</th>\n",
       "      <td>1974BOGOTA01772</td>\n",
       "      <td>NaN</td>\n",
       "      <td>0.499951</td>\n",
       "      <td>0.500049</td>\n",
       "      <td>0.999804</td>\n",
       "      <td>1974-02-28</td>\n",
       "      <td>CONFIDENTIAL</td>\n",
       "      <td>dea special agent positions</td>\n",
       "    </tr>\n",
       "    <tr>\n",
       "      <th>3</th>\n",
       "      <td>1975STATE034056</td>\n",
       "      <td>NaN</td>\n",
       "      <td>0.499901</td>\n",
       "      <td>0.500099</td>\n",
       "      <td>0.999605</td>\n",
       "      <td>1975-02-14</td>\n",
       "      <td>CONFIDENTIAL</td>\n",
       "      <td>homeporting destroyer tender in naples</td>\n",
       "    </tr>\n",
       "    <tr>\n",
       "      <th>4</th>\n",
       "      <td>1973STATE241960</td>\n",
       "      <td>NaN</td>\n",
       "      <td>0.499896</td>\n",
       "      <td>0.500104</td>\n",
       "      <td>0.999585</td>\n",
       "      <td>1973-12-11</td>\n",
       "      <td>CONFIDENTIAL</td>\n",
       "      <td>president ceausescu visit</td>\n",
       "    </tr>\n",
       "  </tbody>\n",
       "</table>\n",
       "</div>"
      ],
      "text/plain": [
       "                id  link to orig. doc  Prob_Classified  Prob_Unclassified  \\\n",
       "0  1975BANGKO06331                NaN         0.499997           0.500003   \n",
       "1  1976MOSCOW15759                NaN         0.499995           0.500005   \n",
       "2  1974BOGOTA01772                NaN         0.499951           0.500049   \n",
       "3  1975STATE034056                NaN         0.499901           0.500099   \n",
       "4  1973STATE241960                NaN         0.499896           0.500104   \n",
       "\n",
       "       Odds       date     origclass  \\\n",
       "0  0.999987 1975-04-14  CONFIDENTIAL   \n",
       "1  0.999980 1976-10-06  CONFIDENTIAL   \n",
       "2  0.999804 1974-02-28  CONFIDENTIAL   \n",
       "3  0.999605 1975-02-14  CONFIDENTIAL   \n",
       "4  0.999585 1973-12-11  CONFIDENTIAL   \n",
       "\n",
       "                                        subject  \n",
       "0                   gkr pl 480 rice in pipeline  \n",
       "1  oecd east-west initiative suggested addition  \n",
       "2                   dea special agent positions  \n",
       "3        homeporting destroyer tender in naples  \n",
       "4                     president ceausescu visit  "
      ]
     },
     "execution_count": 7,
     "metadata": {},
     "output_type": "execute_result"
    }
   ],
   "source": [
    "df = pd.read_excel(os.path.join(corpuspath, 'Possibly_Misclassified_Cables_Review.xlsx'))\n",
    "df.head()"
   ]
  },
  {
   "cell_type": "code",
   "execution_count": 8,
   "metadata": {},
   "outputs": [
    {
     "data": {
      "text/plain": [
       "Index(['id', 'link to orig. doc', 'Prob_Classified', 'Prob_Unclassified',\n",
       "       'Odds', 'date', 'origclass', 'subject'],\n",
       "      dtype='object')"
      ]
     },
     "execution_count": 8,
     "metadata": {},
     "output_type": "execute_result"
    }
   ],
   "source": [
    "df.columns"
   ]
  },
  {
   "cell_type": "code",
   "execution_count": 9,
   "metadata": {},
   "outputs": [
    {
     "name": "stdout",
     "output_type": "stream",
     "text": [
      "<class 'pandas.core.frame.DataFrame'>\n",
      "RangeIndex: 16927 entries, 0 to 16926\n",
      "Data columns (total 8 columns):\n",
      " #   Column             Non-Null Count  Dtype         \n",
      "---  ------             --------------  -----         \n",
      " 0   id                 16927 non-null  object        \n",
      " 1   link to orig. doc  0 non-null      float64       \n",
      " 2   Prob_Classified    16927 non-null  float64       \n",
      " 3   Prob_Unclassified  16927 non-null  float64       \n",
      " 4   Odds               16927 non-null  float64       \n",
      " 5   date               16927 non-null  datetime64[ns]\n",
      " 6   origclass          16927 non-null  object        \n",
      " 7   subject            16920 non-null  object        \n",
      "dtypes: datetime64[ns](1), float64(4), object(3)\n",
      "memory usage: 1.0+ MB\n"
     ]
    }
   ],
   "source": [
    "df.info()"
   ]
  },
  {
   "cell_type": "markdown",
   "metadata": {},
   "source": [
    "#### Dropping the rows which are empty"
   ]
  },
  {
   "cell_type": "code",
   "execution_count": 10,
   "metadata": {},
   "outputs": [],
   "source": [
    "df.dropna(axis='rows', subset=[\"subject\"], inplace=True)"
   ]
  },
  {
   "cell_type": "markdown",
   "metadata": {},
   "source": [
    "#### Adding a space at the end of each text and concatenating the texts"
   ]
  },
  {
   "cell_type": "code",
   "execution_count": 11,
   "metadata": {},
   "outputs": [],
   "source": [
    "df['subject'] += \" \"\n",
    "#df['subject'] = df['subject'] + \" \""
   ]
  },
  {
   "cell_type": "code",
   "execution_count": 12,
   "metadata": {},
   "outputs": [
    {
     "data": {
      "text/plain": [
       "'gkr pl 480 rice in pipeline oecd east-west initiative suggested addition dea special agent positions homeporting destroyer tender in naples president ceausescu visit opec price decision letter from president carter to president eanes press guidance for npw visit orit boycott pinochet to address labor rally visit of belgian foreign minister to rwanda penney throws in towel srv participation in 20th session escap committee on trade changes in honduran economic leadership vietnamese refugees in thailand tarapur us-ussr housing agreement pre-departure briefing for u.s executive secretary 10.00 civair klm frequencies nkomo-callaghan meeting british hicom informs us that nkomo will depart lusaka night of july 26 for london will meet owens-illinois case annual congressional report on security assistance planned study in u.s by large group of libyans sponsored by libyan atomic energy commission demirel comments on cyprus los resumed seventh session the continental shelf international steel agr'"
      ]
     },
     "execution_count": 12,
     "metadata": {},
     "output_type": "execute_result"
    }
   ],
   "source": [
    "texts = df['subject'].sum()\n",
    "texts[0:1000]"
   ]
  },
  {
   "cell_type": "markdown",
   "metadata": {},
   "source": [
    "#### Loading NLTK library and some corpora from NLTK"
   ]
  },
  {
   "cell_type": "code",
   "execution_count": 13,
   "metadata": {},
   "outputs": [
    {
     "name": "stderr",
     "output_type": "stream",
     "text": [
      "[nltk_data] Downloading package stopwords to /home/renato/nltk_data...\n",
      "[nltk_data]   Package stopwords is already up-to-date!\n",
      "[nltk_data] Downloading package punkt to /home/renato/nltk_data...\n",
      "[nltk_data]   Package punkt is already up-to-date!\n",
      "[nltk_data] Downloading package wordnet to /home/renato/nltk_data...\n",
      "[nltk_data]   Package wordnet is already up-to-date!\n",
      "[nltk_data] Downloading package averaged_perceptron_tagger to\n",
      "[nltk_data]     /home/renato/nltk_data...\n",
      "[nltk_data]   Package averaged_perceptron_tagger is already up-to-\n",
      "[nltk_data]       date!\n",
      "[nltk_data] Downloading package brown to /home/renato/nltk_data...\n",
      "[nltk_data]   Package brown is already up-to-date!\n"
     ]
    },
    {
     "data": {
      "text/plain": [
       "True"
      ]
     },
     "execution_count": 13,
     "metadata": {},
     "output_type": "execute_result"
    }
   ],
   "source": [
    "import nltk\n",
    "nltk.download('stopwords')\n",
    "nltk.download('punkt')\n",
    "nltk.download('wordnet')\n",
    "nltk.download('averaged_perceptron_tagger')\n",
    "nltk.download('brown')"
   ]
  },
  {
   "cell_type": "code",
   "execution_count": 14,
   "metadata": {},
   "outputs": [],
   "source": [
    "stop_pt = nltk.corpus.stopwords.words('portuguese')\n",
    "stop_en = nltk.corpus.stopwords.words('english')\n",
    "stop_de = nltk.corpus.stopwords.words('german')\n",
    "stop_en.extend(['-','', '”'])"
   ]
  },
  {
   "cell_type": "markdown",
   "metadata": {},
   "source": [
    "#### Examining some stopwords"
   ]
  },
  {
   "cell_type": "code",
   "execution_count": 15,
   "metadata": {},
   "outputs": [
    {
     "data": {
      "text/plain": [
       "['i',\n",
       " 'me',\n",
       " 'my',\n",
       " 'myself',\n",
       " 'we',\n",
       " 'our',\n",
       " 'ours',\n",
       " 'ourselves',\n",
       " 'you',\n",
       " \"you're\",\n",
       " \"you've\",\n",
       " \"you'll\",\n",
       " \"you'd\",\n",
       " 'your',\n",
       " 'yours']"
      ]
     },
     "execution_count": 15,
     "metadata": {},
     "output_type": "execute_result"
    }
   ],
   "source": [
    "stop_en[0:15]"
   ]
  },
  {
   "cell_type": "markdown",
   "metadata": {},
   "source": [
    "#### Examining all punctuation, from string package"
   ]
  },
  {
   "cell_type": "code",
   "execution_count": 16,
   "metadata": {},
   "outputs": [
    {
     "data": {
      "text/plain": [
       "'!\"#$%&\\'()*+,-./:;<=>?@[\\\\]^_`{|}~'"
      ]
     },
     "execution_count": 16,
     "metadata": {},
     "output_type": "execute_result"
    }
   ],
   "source": [
    "string.punctuation"
   ]
  },
  {
   "cell_type": "markdown",
   "metadata": {},
   "source": [
    "#### Transforming the string in a list of words to perform cleaning"
   ]
  },
  {
   "cell_type": "code",
   "execution_count": 17,
   "metadata": {},
   "outputs": [],
   "source": [
    "list_words = texts.split()"
   ]
  },
  {
   "cell_type": "markdown",
   "metadata": {},
   "source": [
    "#### Converting all words to lowercase"
   ]
  },
  {
   "cell_type": "code",
   "execution_count": 18,
   "metadata": {},
   "outputs": [],
   "source": [
    "list_words = [l.strip().lower() for l in list_words]"
   ]
  },
  {
   "cell_type": "markdown",
   "metadata": {},
   "source": [
    "#### Eliminating trailing punctuactions from each word on the list"
   ]
  },
  {
   "cell_type": "code",
   "execution_count": 19,
   "metadata": {},
   "outputs": [],
   "source": [
    "list_words = [l.strip(string.punctuation) for l in list_words]"
   ]
  },
  {
   "cell_type": "markdown",
   "metadata": {},
   "source": [
    "#### Eliminating the stopwords using the NLTK stopwords corpus (English)"
   ]
  },
  {
   "cell_type": "code",
   "execution_count": 20,
   "metadata": {},
   "outputs": [],
   "source": [
    "list_words = [l for l in list_words if l not in stop_en]"
   ]
  },
  {
   "cell_type": "markdown",
   "metadata": {},
   "source": [
    "#### Using the [Counter](https://docs.python.org/3/library/collections.html) from Collections"
   ]
  },
  {
   "cell_type": "code",
   "execution_count": 21,
   "metadata": {},
   "outputs": [],
   "source": [
    "from collections import Counter\n",
    "\n",
    "freqdist = Counter(list_words)"
   ]
  },
  {
   "cell_type": "code",
   "execution_count": 22,
   "metadata": {},
   "outputs": [
    {
     "data": {
      "text/plain": [
       "[('visit', 1017),\n",
       " ('meeting', 791),\n",
       " ('us', 622),\n",
       " ('press', 581),\n",
       " ('request', 577),\n",
       " ('conference', 526),\n",
       " ('u.s', 486),\n",
       " ('minister', 482),\n",
       " ('president', 470),\n",
       " ('secretary', 446),\n",
       " ('foreign', 439),\n",
       " ('committee', 436),\n",
       " ('agreement', 395),\n",
       " ('ambassador', 364),\n",
       " ('report', 355),\n",
       " ('assistance', 334),\n",
       " ('new', 316),\n",
       " ('program', 305),\n",
       " ('group', 278),\n",
       " ('statement', 262)]"
      ]
     },
     "execution_count": 22,
     "metadata": {},
     "output_type": "execute_result"
    }
   ],
   "source": [
    "freqdist.most_common(20)"
   ]
  },
  {
   "cell_type": "markdown",
   "metadata": {},
   "source": [
    "#### Creating wordcloud with [Wordcloud](https://github.com/amueller/word_cloud) library"
   ]
  },
  {
   "cell_type": "code",
   "execution_count": 23,
   "metadata": {},
   "outputs": [],
   "source": [
    "from wordcloud import WordCloud\n",
    "\n",
    "cleaned = ' '.join(list_words)\n",
    "wordcloud = WordCloud().generate(cleaned)"
   ]
  },
  {
   "cell_type": "code",
   "execution_count": 24,
   "metadata": {},
   "outputs": [
    {
     "data": {
      "image/png": "[encoded data removed]",
      "text/plain": [
       "<Figure size 1152x864 with 1 Axes>"
      ]
     },
     "metadata": {
      "needs_background": "light"
     },
     "output_type": "display_data"
    }
   ],
   "source": [
    "fig, ax = plt.subplots(figsize=(16, 12))\n",
    "ax.imshow(wordcloud, interpolation='nearest')\n",
    "plt.tight_layout()"
   ]
  },
  {
   "cell_type": "code",
   "execution_count": 25,
   "metadata": {},
   "outputs": [
    {
     "data": {
      "image/png": "[encoded data removed]",
      "text/plain": [
       "<Figure size 864x864 with 1 Axes>"
      ]
     },
     "metadata": {
      "needs_background": "light"
     },
     "output_type": "display_data"
    }
   ],
   "source": [
    "# lower max_font_size\n",
    "wordcloud = WordCloud(max_font_size=40).generate(cleaned)\n",
    "plt.figure(figsize=(12, 12))\n",
    "plt.imshow(wordcloud, interpolation=\"bilinear\")\n",
    "plt.axis(\"off\")\n",
    "plt.show()"
   ]
  },
  {
   "cell_type": "code",
   "execution_count": 26,
   "metadata": {},
   "outputs": [],
   "source": [
    "# The pil way (if you don't have matplotlib)\n",
    "image = wordcloud.to_image()\n",
    "image.show()"
   ]
  },
  {
   "cell_type": "markdown",
   "metadata": {},
   "source": [
    "### 2. Second task: Reading and converting text from PDF file"
   ]
  },
  {
   "cell_type": "code",
   "execution_count": 27,
   "metadata": {},
   "outputs": [
    {
     "name": "stdout",
     "output_type": "stream",
     "text": [
      "Files in the folder:\n",
      "0 -- ARTIGOS-RBE-COM-RESUMO.xlsx\n",
      "1 -- AldousHuxley_bravenewworld.pdf\n",
      "2 -- BNCC_EI_EF_110518_versaofinal_site.pdf\n",
      "3 -- MarcelProust_EmBuscadoTempoPerdido.pdf\n",
      "4 -- Possibly_Misclassified_Cables_Review.xlsx\n",
      "5 -- RobertFrost_Poetry.pdf\n",
      "6 -- abcnews-date-text.csv\n"
     ]
    }
   ],
   "source": [
    "print('Files in the folder:')\n",
    "for i, w in enumerate(onlyfiles[0:]):\n",
    "    print(i, '--' ,w)"
   ]
  },
  {
   "cell_type": "code",
   "execution_count": 28,
   "metadata": {},
   "outputs": [],
   "source": [
    "text = textract.process(os.path.join(corpuspath,onlyfiles[2])).decode('utf-8')"
   ]
  },
  {
   "cell_type": "code",
   "execution_count": 29,
   "metadata": {},
   "outputs": [
    {
     "data": {
      "text/plain": [
       "'EDUCAÇÃO É A BASE\\n\\n\\x0c\\x0cEDUCAÇÃO É A BASE\\n\\n\\x0cMINISTÉRIO DA EDUCAÇÃO\\nMINISTRO DA EDUCAÇÃO\\nRossieli Soares'"
      ]
     },
     "execution_count": 29,
     "metadata": {},
     "output_type": "execute_result"
    }
   ],
   "source": [
    "text[0:100]"
   ]
  },
  {
   "cell_type": "code",
   "execution_count": 30,
   "metadata": {},
   "outputs": [
    {
     "name": "stdout",
     "output_type": "stream",
     "text": [
      "EDUCAÇÃO É A BASE\n",
      "\n",
      "\f",
      "\f",
      "EDUCAÇÃO É A BASE\n",
      "\n",
      "\f",
      "MINISTÉRIO DA EDUCAÇÃO\n",
      "MINISTRO DA EDUCAÇÃO\n",
      "Rossieli Soares\n"
     ]
    }
   ],
   "source": [
    "print(text[0:100])"
   ]
  },
  {
   "cell_type": "code",
   "execution_count": 31,
   "metadata": {},
   "outputs": [
    {
     "name": "stdout",
     "output_type": "stream",
     "text": [
      "1104878\n"
     ]
    }
   ],
   "source": [
    "print(len(text))"
   ]
  },
  {
   "cell_type": "markdown",
   "metadata": {},
   "source": [
    "#### Cleaning and homogenizing texts:"
   ]
  },
  {
   "cell_type": "code",
   "execution_count": 32,
   "metadata": {},
   "outputs": [],
   "source": [
    "cleaned_text = text.lower()\n",
    "cleaned_text = re.sub(' +',' ', cleaned_text)              #Remove multiple spaces\n",
    "cleaned_text = re.sub(r'\\n\\s*\\n', '\\n', cleaned_text)      #Remove multiple newlines"
   ]
  },
  {
   "cell_type": "code",
   "execution_count": 33,
   "metadata": {},
   "outputs": [
    {
     "name": "stdout",
     "output_type": "stream",
     "text": [
      "1100659\n"
     ]
    }
   ],
   "source": [
    "print(len(cleaned_text))"
   ]
  },
  {
   "cell_type": "code",
   "execution_count": 34,
   "metadata": {},
   "outputs": [
    {
     "name": "stdout",
     "output_type": "stream",
     "text": [
      "educação é a base\n",
      "\f",
      "\f",
      "educação é a base\n",
      "\f",
      "ministério da educação\n",
      "ministro da educação\n",
      "rossieli soares da silva\n",
      "secretaria executiva\n",
      "henrique sartori de almeida prado\n",
      "secretaria de educação básica\n",
      "katia c\n"
     ]
    }
   ],
   "source": [
    "print(cleaned_text[0:200])"
   ]
  },
  {
   "cell_type": "code",
   "execution_count": 35,
   "metadata": {},
   "outputs": [
    {
     "data": {
      "text/plain": [
       "[('', 922),\n",
       " ('diferentes', 859),\n",
       " ('ensino', 842),\n",
       " ('textos', 539),\n",
       " ('práticas', 534),\n",
       " ('fundamental', 516),\n",
       " ('base', 450),\n",
       " ('educação', 441),\n",
       " ('produção', 426),\n",
       " ('habilidades', 422),\n",
       " ('língua', 409),\n",
       " ('conhecimento', 404),\n",
       " ('nacional', 384),\n",
       " ('etc', 383),\n",
       " ('sobre', 381),\n",
       " ('vida', 362),\n",
       " ('identificar', 348),\n",
       " ('curricular', 345),\n",
       " ('objetos', 334),\n",
       " ('linguagens', 329)]"
      ]
     },
     "execution_count": 35,
     "metadata": {},
     "output_type": "execute_result"
    }
   ],
   "source": [
    "list_words = cleaned_text.split()\n",
    "list_words = [l.strip().lower() for l in list_words]\n",
    "list_words = [l.strip(string.punctuation + '“”’“”–') for l in list_words]\n",
    "list_words = [l for l in list_words if l not in stop_pt]\n",
    "\n",
    "freqdist = Counter(list_words)\n",
    "freqdist.most_common(20)"
   ]
  },
  {
   "cell_type": "markdown",
   "metadata": {},
   "source": [
    "#### Finding ocurrences of a word:"
   ]
  },
  {
   "cell_type": "code",
   "execution_count": 36,
   "metadata": {},
   "outputs": [
    {
     "name": "stdout",
     "output_type": "stream",
     "text": [
      "The word is found 149 times in the following positions:\n",
      "[2084, 11529, 14085, 14973, 15042, 15072, 15163, 15226, 17850, 18416, 18932, 19030, 22903, 23374, 23672, 31910, 37456, 41655, 42014, 44779, 45122, 45534, 51892, 52552, 53509, 53698, 53780, 70936, 73506, 74697, 75520, 79202, 79488, 105056, 119174, 125041, 131984, 137189, 139223, 139325, 139985, 153196, 176474, 176609, 176718, 176729, 176760, 180313, 208531, 233268, 254112, 254286, 254316, 254392, 274274, 274509, 274763, 274956, 275029, 280246, 314228, 315507, 315863, 317394, 335657, 337929, 338459, 338546, 338880, 339005, 407791, 410566, 447070, 628931, 635047, 635273, 635639, 637015, 638287, 675723, 687334, 708453, 719896, 732781, 732858, 740077, 759154, 760507, 761496, 761542, 761655, 763164, 763609, 770077, 770164, 772881, 774308, 782290, 789769, 790678, 790720, 793471, 793631, 796910, 805081, 805291, 835197, 844034, 848400, 852141, 860327, 860760, 864922, 867322, 867682, 868828, 869661, 873700, 890696, 892126, 892646, 892691, 898543, 898695, 898795, 898804, 914099, 914136, 914878, 915318, 917916, 919221, 921033, 921243, 921379, 1022388, 1024774, 1040168, 1047807, 1059477, 1060036, 1060324, 1061233, 1062308, 1062400, 1064166, 1064769, 1064906, 1065027]\n"
     ]
    }
   ],
   "source": [
    "word = 'direito'\n",
    "pos = 0 \n",
    "positions = []\n",
    "\n",
    "while pos != -1:\n",
    "    position = cleaned_text.find(word,pos+1)\n",
    "    pos = position\n",
    "    positions.append(position)\n",
    "positions.pop()\n",
    "print(f'The word is found {len(positions)} times in the following positions:')\n",
    "print(positions)"
   ]
  },
  {
   "cell_type": "markdown",
   "metadata": {},
   "source": [
    "#### Understanding contexts in which words occur:"
   ]
  },
  {
   "cell_type": "code",
   "execution_count": 37,
   "metadata": {},
   "outputs": [],
   "source": [
    "# Pure Python\n",
    "#window = 18\n",
    "#for position in positions[0:20]:\n",
    "#    print(cleaned_text[position - window:position + window + len(word)].strip())"
   ]
  },
  {
   "cell_type": "code",
   "execution_count": 38,
   "metadata": {},
   "outputs": [
    {
     "name": "stdout",
     "output_type": "stream",
     "text": [
      "Displaying 20 of 29 matches:\n",
      "ituição federal 19885 , artigo 205 , reconhece educação direito fundamental compartilhado estado , família sociedade de\n",
      "ilhado estado , família sociedade determinar educação , direito todos dever estado família , promovida incentivada cola\n",
      "tunidades ingresso permanência escola educação básica , direito aprender concretiza . brasil , longo história , natural\n",
      "cional comum curricular entretanto , embora reconhecida direito todas crianças dever estado , educação infantil passa o\n",
      "rocínio unesco . disponível : < http :// - ipol . org / direito - linguistic >. acesso : 6 dez . 2017 . 32 mec , meio s\n",
      "ronteira >. acesso : 6 dez . 2017 . povos indígenas têm direito constitucional desenvolver territórios projetos educaci\n",
      "mpo atuação vida pública ), exercício desses direitos – direito literatura arte , direito informação conhecimentos disp\n",
      ", exercício desses direitos – direito literatura arte , direito informação conhecimentos disponíveis . cada campo atuaç\n",
      "ireitos humanos formação ética responsabilidade ( outro direito vida digna tanto quanto ). ainda nesse campo , presente\n",
      "stâncias atuação pautada ética responsabilidade ( outro direito vida digna tanto quanto ); - desenvolvimento habilidade\n",
      "e temática . ( ef67lp15 ) identificar proibição imposta direito garantido , bem circunstâncias aplicação , artigos rela\n",
      "uipe debatedor , apresentador / mediador , espectador ( direito perguntas ), / juiz / avaliador , forma compreender fun\n",
      "cráticos atuação pautada ética responsabilidade ( outro direito vida digna tanto quanto ). ( ef89lp18 ) explorar analis\n",
      "omoção saúde . 9 . reconhecer acesso práticas corporais direito cidadão , propondo produzindo alternativas realização c\n",
      "s dentro país , modo reconhecer diversidade linguística direito valorizar usos heterogêneos , híbridos multimodais emer\n",
      "idade vida ( áreas meio ambiente , mobilidade , moradia direito cidade ) discutir propostas implementadas órgãos afetam\n",
      " características resultado estrabismo astigmatismo olho direito pintor . exercício interpretação permite compreender si\n",
      "realidade educandos ; b ) propiciar conhecimentos sobre direito liberdade consciência crença , constante propósito prom\n",
      "esa promoção direitos humanos . ( ef07er08 ) reconhecer direito liberdade consciência , crença convicção , questionando\n",
      "cação básica ensino médio etapa final educação básica , direito público subjetivo todo cidadão brasileiro . todavia , r\n"
     ]
    }
   ],
   "source": [
    "# Using NLTK\n",
    "\n",
    "tknzr = nltk.tokenize.WordPunctTokenizer()\n",
    "tokens = tknzr.tokenize(cleaned_text)\n",
    "tokens = [token for token in tokens if token not in stop_pt]\n",
    "nltk_text = nltk.Text(tokens)\n",
    "\n",
    "nltk_text.concordance(word.lower(), width=120, lines=20)"
   ]
  },
  {
   "cell_type": "markdown",
   "metadata": {},
   "source": [
    "#### Words that occur in similar contexts than the query expression:"
   ]
  },
  {
   "cell_type": "code",
   "execution_count": 39,
   "metadata": {},
   "outputs": [
    {
     "name": "stdout",
     "output_type": "stream",
     "text": [
      "ensino limites\n"
     ]
    }
   ],
   "source": [
    "nltk_text.similar('direito')"
   ]
  },
  {
   "cell_type": "markdown",
   "metadata": {},
   "source": [
    "#### [Collocations](http://en.wikipedia.org/wiki/Collocation) are expressions of multiple words which commonly co-occur.  \n",
    "Ref: [NLTK](http://www.nltk.org/howto/collocations.html)  "
   ]
  },
  {
   "cell_type": "code",
   "execution_count": 40,
   "metadata": {},
   "outputs": [
    {
     "data": {
      "text/plain": [
       "[('ensino', 'fundamental'),\n",
       " ('comum', 'curricular'),\n",
       " ('nacional', 'comum'),\n",
       " ('nacional', 'curricular'),\n",
       " ('base', 'comum'),\n",
       " ('base', 'curricular'),\n",
       " ('competências', 'específicas'),\n",
       " ('base', 'nacional'),\n",
       " ('língua', 'inglesa'),\n",
       " ('ensino', 'médio'),\n",
       " ('educação', 'básica'),\n",
       " ('unidades', 'temáticas'),\n",
       " ('língua', 'portuguesa'),\n",
       " ('esportes', 'esportes'),\n",
       " ('educação', 'educação'),\n",
       " ('ciências', 'humanas'),\n",
       " ('maria', 'maria'),\n",
       " ('objetos', 'conhecimento'),\n",
       " ('resolver', 'problemas'),\n",
       " ('consed', 'consed')]"
      ]
     },
     "execution_count": 40,
     "metadata": {},
     "output_type": "execute_result"
    }
   ],
   "source": [
    "nltk_text.collocation_list(num=20, window_size=20)"
   ]
  },
  {
   "cell_type": "markdown",
   "metadata": {},
   "source": [
    "#### Finding bigrams using [Pointwise Mutual Information](http://en.wikipedia.org/wiki/Pointwise_mutual_information)."
   ]
  },
  {
   "cell_type": "code",
   "execution_count": 41,
   "metadata": {},
   "outputs": [
    {
     "name": "stdout",
     "output_type": "stream",
     "text": [
      "malhas quadriculadas\n",
      "dupla entrada\n",
      "dirigente municipal\n",
      "planilhas eletrônicas\n",
      "faixa etária\n",
      "itinerários formativos\n",
      "sala aula\n",
      "relacionam agrupamento\n",
      "tendência central\n",
      "ficha técnica\n",
      "obrigatório desenho\n",
      "estados unidos\n",
      "tomados modelo\n",
      "modelo obrigatório\n",
      "23 mar\n",
      "cumpre destacar\n",
      "expressam arranjo\n",
      "reta numérica\n",
      "dispositivos aplicativos\n",
      "adição subtração\n",
      "agrupamentos propostos\n",
      "composicional estilo\n",
      "seres vivos\n",
      "dezembro 1996\n",
      "plano cartesiano\n",
      "numeração decimal\n",
      "discurso direto\n",
      "muitas vezes\n",
      "matriz indígena\n",
      "unidos américa\n"
     ]
    }
   ],
   "source": [
    "max_items = 30\n",
    "freq_min_b = 10\n",
    "bigram_measures = nltk.collocations.BigramAssocMeasures()\n",
    "finder2 = nltk.collocations.BigramCollocationFinder.from_words(nltk_text)\n",
    "finder2.apply_word_filter(lambda w: w in string.punctuation)\n",
    "finder2.apply_freq_filter(freq_min_b)\n",
    "for a, b in finder2.nbest(bigram_measures.pmi, max_items):\n",
    "    print(a, b)"
   ]
  },
  {
   "cell_type": "markdown",
   "metadata": {},
   "source": [
    "### Finding bigrams using raw frequency"
   ]
  },
  {
   "cell_type": "code",
   "execution_count": 42,
   "metadata": {},
   "outputs": [
    {
     "name": "stdout",
     "output_type": "stream",
     "text": [
      "ensino fundamental\n",
      "base nacional\n",
      "nacional comum\n",
      "comum curricular\n",
      "ensino médio\n",
      "objetos conhecimento\n",
      "língua portuguesa\n",
      "unidades temáticas\n",
      "língua inglesa\n",
      "fundamental habilidades\n",
      "educação básica\n",
      "fundamental –\n",
      "– anos\n",
      "ciências humanas\n",
      "competências específicas\n",
      "linguagens –\n",
      "produção textos\n",
      "práticas linguagem\n",
      "etc .),\n",
      "– língua\n",
      "portuguesa ensino\n",
      "práticas corporais\n",
      "anos iniciais\n",
      "ciências natureza\n",
      "educação infantil\n",
      "temáticas objetos\n",
      "etc .)\n",
      "etc .).\n",
      "resolver elaborar\n",
      "elaborar problemas\n",
      "consed ),\n",
      "dentre outros\n",
      "anos finais\n",
      "tecnologias digitais\n",
      "efeitos sentido\n",
      "http ://\n",
      "curricular língua\n",
      "direitos humanos\n",
      "educação física\n",
      "análise linguística\n",
      "situação comunicativa\n",
      "campos atuação\n",
      "diferentes linguagens\n",
      "vida cotidiana\n",
      "tendo vista\n",
      "considerando situação\n",
      "competência específica\n",
      "lei nº\n",
      "áreas conhecimento\n",
      "ano unidades\n",
      "ensino religioso\n",
      "portuguesa –\n",
      "diário oficial\n",
      "linguagem objetos\n",
      "linguagens tecnologias\n",
      "oficial união\n",
      "9º ano\n",
      "5º ano\n",
      "conhecimento habilidades\n",
      "números naturais\n",
      "comunicativa tema\n",
      "área ciências\n",
      "aprendizagem desenvolvimento\n",
      "divulgação científica\n",
      "além disso\n",
      "campo vida\n",
      "resolver problemas\n",
      "unidade temática\n",
      "vida pública\n",
      "competências gerais\n",
      "diferentes tipos\n",
      "outros gêneros\n",
      "diferentes formas\n",
      "humanas –\n",
      "nacional educação\n",
      "undime ),\n",
      "diferentes contextos\n",
      "matemática ensino\n",
      "mundo trabalho\n",
      "tecnologias ensino\n",
      "conhecimento campo\n",
      "gerais educação\n",
      "conselho nacional\n",
      ">. acesso\n",
      "campo jornalístico\n",
      "humanas sociais\n",
      "curriculares nacionais\n",
      "etc .,\n",
      "grupos sociais\n",
      "plano cartesiano\n",
      "sociais aplicadas\n",
      "diretrizes curriculares\n",
      "gêneros campo\n",
      "nesse sentido\n",
      "textos orais\n",
      "– 6º\n",
      "”, “\n",
      "campo atuação\n",
      "contexto produção\n",
      "cultura digital\n",
      "culturas juvenis\n",
      "reflexão sobre\n",
      ":// portal\n",
      "desenvolvimento competências\n",
      "práticas leitura\n",
      "seção 1\n",
      "condições produção\n",
      "história ensino\n",
      "resolução problemas\n",
      "assunto texto\n",
      "informação comunicação\n",
      "natureza tecnologias\n",
      "tradições religiosas\n",
      "artes visuais\n",
      "compartilhada autônoma\n",
      "componentes curriculares\n",
      "diferentes gêneros\n",
      "geografia ensino\n",
      "manifestações artísticas\n",
      "matemática tecnologias\n",
      "números racionais\n",
      "problemas envolvam\n",
      "tempo espaço\n",
      "), maria\n",
      "ajuda professor\n",
      "ceb nº\n",
      "estudo pesquisa\n",
      "formas organização\n",
      "objetivos aprendizagem\n",
      "práticas sociais\n",
      "textos pertencentes\n",
      "todos campos\n",
      "atuação vida\n",
      "brincadeiras jogos\n",
      "diferentes grupos\n",
      "estabelecer relações\n",
      "leitura produção\n",
      "planejar produzir\n",
      "23 mar\n",
      ":// www\n",
      "atuação social\n",
      "colaboração colegas\n",
      "diferentes culturas\n",
      "finalidade texto\n",
      "levando conta\n",
      "outras áreas\n",
      "outros ).\n",
      "pontos vista\n",
      "práticas estudo\n",
      "1 ano\n",
      "11 meses\n",
      "anos 11\n",
      "campo artístico\n",
      "componente curricular\n",
      "desenvolvimento habilidades\n",
      "diferentes fontes\n",
      "formas expressão\n",
      "fundamental 4\n",
      "pertencentes gêneros\n",
      "semelhanças diferenças\n",
      "área linguagens\n",
      "aprendizagens essenciais\n",
      "cada vez\n",
      "campo práticas\n",
      "conhecimento científico\n",
      "conhecimentos sobre\n",
      "corporais aventura\n",
      "física ensino\n",
      "ler compreender\n",
      "matemática –\n",
      "outros ),\n",
      "unidades medida\n",
      "vida social\n",
      "6º 9º\n",
      "adição subtração\n",
      "colegas ajuda\n",
      "curricular matemática\n",
      "diferentes mídias\n",
      "digitais informação\n",
      "figuras geométricas\n",
      "htm >.\n",
      "português brasil\n",
      "recursos linguísticos\n"
     ]
    }
   ],
   "source": [
    "for a, b in (finder2.above_score(bigram_measures.raw_freq, 20.0 / len(list(nltk.bigrams(tokens))))):\n",
    "        print(a, b)"
   ]
  },
  {
   "cell_type": "markdown",
   "metadata": {},
   "source": [
    "### Finding Trigrams using [Pointwise Mutual Information](http://en.wikipedia.org/wiki/Pointwise_mutual_information)."
   ]
  },
  {
   "cell_type": "code",
   "execution_count": 43,
   "metadata": {},
   "outputs": [
    {
     "name": "stdout",
     "output_type": "stream",
     "text": [
      "ghisleine trigo silveira\n",
      "adição parcelas iguais\n",
      "tomados modelo obrigatório\n",
      "modelo obrigatório desenho\n",
      "20 dezembro 1996\n",
      "tabelas dupla entrada\n",
      "cumpre destacar critérios\n",
      "concordância nominal verbal\n",
      "matriz indígena africana\n",
      "estados unidos américa\n",
      "expressam arranjo possível\n",
      "obrigatório desenho currículos\n",
      "medidas tendência central\n",
      "ênfases adicionadas ).\n",
      "estabelece diretrizes bases\n",
      "relacionam agrupamento desses\n",
      "rossieli soares silva\n",
      "formatação diagramação específica\n",
      "sistema monetário brasileiro\n",
      "quais relacionam agrupamento\n",
      "escola acolhe juventudes\n",
      "colaboração colegas ajuda\n",
      "diário oficial união\n",
      "http :// www\n",
      "sistema numeração decimal\n",
      "devem tomados modelo\n",
      "representação decimal finita\n",
      "acordo convenções gênero\n",
      "http :// portal\n",
      "propostos devem tomados\n"
     ]
    }
   ],
   "source": [
    "max_items = 30\n",
    "freq_min_t = 6\n",
    "trigram_measures = nltk.collocations.TrigramAssocMeasures()\n",
    "finder3 = nltk.collocations.TrigramCollocationFinder.from_words(nltk_text)\n",
    "finder3.apply_word_filter(lambda w: w in string.punctuation)\n",
    "finder3.apply_ngram_filter(lambda w1, w2, w3:  w1 in ['da', 'de', 'das'])\n",
    "finder3.apply_freq_filter(freq_min_t)\n",
    "for a, b, c in finder3.nbest(trigram_measures.pmi, max_items):\n",
    "    print(a, b, c)"
   ]
  },
  {
   "cell_type": "markdown",
   "metadata": {},
   "source": [
    "### Finding trigrams using raw frequency"
   ]
  },
  {
   "cell_type": "code",
   "execution_count": 44,
   "metadata": {},
   "outputs": [
    {
     "name": "stdout",
     "output_type": "stream",
     "text": [
      "base nacional comum\n",
      "nacional comum curricular\n",
      "ensino fundamental habilidades\n",
      "ensino fundamental –\n",
      "fundamental – anos\n",
      "língua portuguesa ensino\n",
      "temáticas objetos conhecimento\n",
      "unidades temáticas objetos\n",
      "– língua portuguesa\n",
      "linguagens – língua\n",
      "resolver elaborar problemas\n",
      "portuguesa ensino fundamental\n",
      "– anos iniciais\n",
      "comum curricular língua\n",
      "considerando situação comunicativa\n",
      "– anos finais\n",
      "ano unidades temáticas\n",
      "língua portuguesa –\n",
      "curricular língua portuguesa\n",
      "diário oficial união\n",
      "linguagem objetos conhecimento\n",
      "práticas linguagem objetos\n",
      "objetos conhecimento habilidades\n",
      "situação comunicativa tema\n",
      "ciências humanas –\n",
      "matemática ensino fundamental\n",
      "tecnologias ensino médio\n",
      "gerais educação básica\n",
      "objetos conhecimento campo\n",
      "competências gerais educação\n",
      "ciências humanas sociais\n",
      "conselho nacional educação\n",
      "humanas sociais aplicadas\n",
      "outros gêneros campo\n",
      "dentre outros gêneros\n",
      "diretrizes curriculares nacionais\n",
      "http :// portal\n",
      "ciências natureza tecnologias\n",
      "história ensino fundamental\n",
      "campo vida cotidiana\n",
      "geografia ensino fundamental\n",
      "objetivos aprendizagem desenvolvimento\n",
      "atuação vida pública\n",
      "http :// www\n",
      "área ciências humanas\n",
      "anos 11 meses\n",
      "ensino fundamental 4\n",
      "campos atuação social\n",
      "educação física ensino\n",
      "física ensino fundamental\n",
      "práticas estudo pesquisa\n",
      "textos pertencentes gêneros\n",
      "6º 9º ano\n",
      "colaboração colegas ajuda\n",
      "colegas ajuda professor\n",
      "digitais informação comunicação\n",
      "elaborar problemas envolvam\n",
      "práticas corporais aventura\n",
      "tecnologias digitais informação\n",
      "todos campos atuação\n"
     ]
    }
   ],
   "source": [
    "for a, b, c in finder3.above_score(trigram_measures.raw_freq, 20.0 / len(list(nltk.trigrams(tokens)))):\n",
    "        print (a, b, c)"
   ]
  },
  {
   "cell_type": "markdown",
   "metadata": {},
   "source": [
    "### Finding n-grams using raw frequency"
   ]
  },
  {
   "cell_type": "code",
   "execution_count": 45,
   "metadata": {},
   "outputs": [
    {
     "data": {
      "text/plain": [
       "[(('base', 'nacional', 'comum', 'curricular'), 292),\n",
       " (('ensino', 'fundamental', '–', 'anos'), 108),\n",
       " (('ensino', 'fundamental', 'habilidades', '('), 89),\n",
       " (('unidades', 'temáticas', 'objetos', 'conhecimento'), 78),\n",
       " (('–', 'língua', 'portuguesa', 'ensino'), 77),\n",
       " (('língua', 'portuguesa', 'ensino', 'fundamental'), 69),\n",
       " ((')', 'resolver', 'elaborar', 'problemas'), 65),\n",
       " (('linguagens', '–', 'língua', 'portuguesa'), 63),\n",
       " (('disponível', ':', '<', 'http'), 59),\n",
       " ((':', '<', 'http', '://'), 59),\n",
       " (('.', 'disponível', ':', '<'), 58),\n",
       " (('fundamental', '–', 'anos', 'iniciais'), 57),\n",
       " (('nacional', 'comum', 'curricular', 'língua'), 55),\n",
       " (('.', 'gov', '.', 'br'), 53),\n",
       " (('gov', '.', 'br', '/'), 53),\n",
       " (('fundamental', '–', 'anos', 'finais'), 51),\n",
       " (('ano', 'unidades', 'temáticas', 'objetos'), 49),\n",
       " (('análise', 'linguística', '/', 'semiótica'), 48),\n",
       " (('diário', 'oficial', 'união', ','), 47),\n",
       " (('oficial', 'união', ',', 'brasília'), 47)]"
      ]
     },
     "execution_count": 45,
     "metadata": {},
     "output_type": "execute_result"
    }
   ],
   "source": [
    "from nltk.util import ngrams\n",
    "n = 4\n",
    "xgrams = ngrams(tokens, n)\n",
    "xgrams_counter = Counter(xgrams)\n",
    "xgrams_counter.most_common(20)"
   ]
  },
  {
   "cell_type": "markdown",
   "metadata": {},
   "source": [
    "#### Creating a dispersion plot of words in the document"
   ]
  },
  {
   "cell_type": "code",
   "execution_count": 46,
   "metadata": {},
   "outputs": [
    {
     "name": "stderr",
     "output_type": "stream",
     "text": [
      "/home/renato/Documents/env_default/lib/python3.8/site-packages/nltk/draw/__init__.py:15: UserWarning: nltk.draw package not loaded (please install Tkinter library).\n",
      "  warnings.warn(\"nltk.draw package not loaded (please install Tkinter library).\")\n"
     ]
    },
    {
     "data": {
      "image/png": "[encoded data removed]",
      "text/plain": [
       "<Figure size 1152x432 with 1 Axes>"
      ]
     },
     "metadata": {
      "needs_background": "light"
     },
     "output_type": "display_data"
    }
   ],
   "source": [
    "dispersion_words = ['análise', 'hate', 'brave','world', 'day']\n",
    "plt.figure(figsize=(16,6))\n",
    "nltk_text.dispersion_plot(dispersion_words)"
   ]
  },
  {
   "cell_type": "markdown",
   "metadata": {},
   "source": [
    "#### Different ways to visualize frequent words:"
   ]
  },
  {
   "cell_type": "code",
   "execution_count": 47,
   "metadata": {},
   "outputs": [
    {
     "data": {
      "text/plain": [
       "[('', 922),\n",
       " ('diferentes', 859),\n",
       " ('ensino', 842),\n",
       " ('textos', 539),\n",
       " ('práticas', 534),\n",
       " ('fundamental', 516),\n",
       " ('base', 450),\n",
       " ('educação', 441),\n",
       " ('produção', 426),\n",
       " ('habilidades', 422),\n",
       " ('língua', 409),\n",
       " ('conhecimento', 404),\n",
       " ('nacional', 384),\n",
       " ('etc', 383),\n",
       " ('sobre', 381),\n",
       " ('vida', 362),\n",
       " ('identificar', 348),\n",
       " ('curricular', 345),\n",
       " ('objetos', 334),\n",
       " ('linguagens', 329),\n",
       " ('outros', 329),\n",
       " ('comum', 323),\n",
       " ('forma', 323),\n",
       " ('sociais', 309),\n",
       " ('analisar', 305),\n",
       " ('anos', 296),\n",
       " ('formas', 287),\n",
       " ('mundo', 283),\n",
       " ('campo', 283),\n",
       " ('ano', 274),\n",
       " ('relações', 274),\n",
       " ('meio', 273),\n",
       " ('uso', 272),\n",
       " ('desenvolvimento', 268),\n",
       " ('leitura', 253),\n",
       " ('gêneros', 253),\n",
       " ('estudantes', 252),\n",
       " ('texto', 240),\n",
       " ('conhecimentos', 238),\n",
       " ('médio', 237),\n",
       " ('problemas', 236),\n",
       " ('processos', 226),\n",
       " ('outras', 225),\n",
       " ('social', 223),\n",
       " ('ciências', 222),\n",
       " ('natureza', 221),\n",
       " ('tecnologias', 219),\n",
       " ('•', 215),\n",
       " ('compreensão', 207),\n",
       " ('linguagem', 201),\n",
       " ('culturais', 200),\n",
       " ('relação', 199),\n",
       " ('análise', 198),\n",
       " ('alunos', 196),\n",
       " ('construção', 192),\n",
       " ('unidades', 191),\n",
       " ('competências', 190),\n",
       " ('brasil', 188),\n",
       " ('escrita', 186),\n",
       " ('portuguesa', 182),\n",
       " ('contexto', 180),\n",
       " ('contextos', 180),\n",
       " ('matemática', 177),\n",
       " ('compreender', 174),\n",
       " ('considerando', 172),\n",
       " ('temáticas', 171),\n",
       " ('trabalho', 171),\n",
       " ('situações', 171),\n",
       " ('organização', 170),\n",
       " ('área', 168),\n",
       " ('cada', 165),\n",
       " ('recursos', 164),\n",
       " ('reconhecer', 160),\n",
       " ('tempo', 159),\n",
       " ('elementos', 159),\n",
       " ('digitais', 158),\n",
       " ('formação', 157),\n",
       " ('espaço', 156),\n",
       " ('características', 155),\n",
       " ('sentido', 152),\n",
       " ('modo', 149),\n",
       " ('experiências', 148),\n",
       " ('história', 146),\n",
       " ('informações', 146),\n",
       " ('culturas', 142),\n",
       " ('cultura', 141),\n",
       " ('bncc', 140),\n",
       " ('resolver', 139),\n",
       " ('humanas', 136),\n",
       " ('escola', 136),\n",
       " ('estratégias', 136),\n",
       " ('números', 136),\n",
       " ('diversas', 135),\n",
       " ('sociedade', 133),\n",
       " ('básica', 132),\n",
       " ('aprendizagem', 131),\n",
       " ('inglesa', 131),\n",
       " ('utilizar', 131),\n",
       " ('específicas', 130),\n",
       " ('crianças', 130)]"
      ]
     },
     "execution_count": 47,
     "metadata": {},
     "output_type": "execute_result"
    }
   ],
   "source": [
    "freqdist.most_common(100)"
   ]
  },
  {
   "cell_type": "code",
   "execution_count": 48,
   "metadata": {},
   "outputs": [
    {
     "data": {
      "image/png": "[encoded data removed]",
      "text/plain": [
       "<Figure size 1332x756 with 1 Axes>"
      ]
     },
     "metadata": {
      "needs_background": "light"
     },
     "output_type": "display_data"
    }
   ],
   "source": [
    "labels, values = zip(*freqdist.most_common(30))\n",
    "\n",
    "indexes = np.arange(len(labels))\n",
    "width = 0.5\n",
    "\n",
    "plt.bar(indexes, values, width)\n",
    "fig = plt.gcf()\n",
    "fig.set_size_inches(18.5, 10.5)\n",
    "plt.xticks(indexes + width * 0.5, labels)\n",
    "plt.show()"
   ]
  },
  {
   "cell_type": "code",
   "execution_count": 49,
   "metadata": {},
   "outputs": [
    {
     "data": {
      "image/png": "[encoded data removed]",
      "text/plain": [
       "<Figure size 864x576 with 1 Axes>"
      ]
     },
     "metadata": {
      "needs_background": "light"
     },
     "output_type": "display_data"
    },
    {
     "data": {
      "text/plain": [
       "<AxesSubplot:xlabel='Samples', ylabel='Counts'>"
      ]
     },
     "execution_count": 49,
     "metadata": {},
     "output_type": "execute_result"
    }
   ],
   "source": [
    "fd_words = nltk.FreqDist(tokens)\n",
    "fig, axes = plt.subplots(nrows=1, ncols=1, figsize=(12,8)) \n",
    "fd_words.plot(30)"
   ]
  },
  {
   "cell_type": "markdown",
   "metadata": {},
   "source": [
    "#### Cumulative distribution of frequencies:"
   ]
  },
  {
   "cell_type": "code",
   "execution_count": 50,
   "metadata": {},
   "outputs": [
    {
     "data": {
      "image/png": "[encoded data removed]",
      "text/plain": [
       "<Figure size 864x576 with 1 Axes>"
      ]
     },
     "metadata": {
      "needs_background": "light"
     },
     "output_type": "display_data"
    },
    {
     "data": {
      "text/plain": [
       "<AxesSubplot:xlabel='Samples', ylabel='Cumulative Counts'>"
      ]
     },
     "execution_count": 50,
     "metadata": {},
     "output_type": "execute_result"
    }
   ],
   "source": [
    "fig, axes = plt.subplots(nrows=1, ncols=1, figsize=(12,8)) \n",
    "fd_words.plot(100, cumulative = True)"
   ]
  },
  {
   "cell_type": "markdown",
   "metadata": {},
   "source": [
    "### 3. Third task: Extracting text from html pages using [Goose](https://github.com/goose3/goose3)"
   ]
  },
  {
   "cell_type": "code",
   "execution_count": 51,
   "metadata": {},
   "outputs": [],
   "source": [
    "from goose3 import Goose\n",
    "\n",
    "url = 'https://edition.cnn.com/2022/08/03/asia/china-reaction-pelosi-taiwan-intl-hnk-mic/index.html'\n",
    "\n",
    "g = Goose()\n",
    "#g = Goose(Goose({'use_meta_language': False, 'target_language':'en', 'parser_class':'lxml'}))\n",
    "\n",
    "article = g.extract(url=url)"
   ]
  },
  {
   "cell_type": "markdown",
   "metadata": {},
   "source": [
    "#### Extracting links"
   ]
  },
  {
   "cell_type": "code",
   "execution_count": 52,
   "metadata": {},
   "outputs": [
    {
     "data": {
      "text/plain": [
       "['https://www.cnn.com/2022/08/03/economy/china-suspends-imports-taiwan-products-intl-hnk/index.html']"
      ]
     },
     "execution_count": 52,
     "metadata": {},
     "output_type": "execute_result"
    }
   ],
   "source": [
    "[l for l in article.links if l.startswith('http')]"
   ]
  },
  {
   "cell_type": "markdown",
   "metadata": {},
   "source": [
    "#### Extracting title"
   ]
  },
  {
   "cell_type": "code",
   "execution_count": 53,
   "metadata": {},
   "outputs": [
    {
     "data": {
      "text/plain": [
       "'Analysis: Pelosi angers China but Taiwan, not the US, may pay the higher price'"
      ]
     },
     "execution_count": 53,
     "metadata": {},
     "output_type": "execute_result"
    }
   ],
   "source": [
    "article.title"
   ]
  },
  {
   "cell_type": "markdown",
   "metadata": {},
   "source": [
    "#### Extracting header"
   ]
  },
  {
   "cell_type": "code",
   "execution_count": 54,
   "metadata": {},
   "outputs": [
    {
     "data": {
      "text/plain": [
       "'When US House Speaker Nancy Pelosi touched down in Taiwan on Tuesday night, China was ready with its response.'"
      ]
     },
     "execution_count": 54,
     "metadata": {},
     "output_type": "execute_result"
    }
   ],
   "source": [
    "article.meta_description"
   ]
  },
  {
   "cell_type": "markdown",
   "metadata": {},
   "source": [
    "#### Extracting cleaned text"
   ]
  },
  {
   "cell_type": "code",
   "execution_count": 55,
   "metadata": {},
   "outputs": [
    {
     "data": {
      "text/plain": [
       "'A version of this story appeared in CNN\\'s Meanwhile in China newsletter, a three-times-a-week update exploring what you need to know about the country\\'s rise and how it impacts the world. Sign up here.\\n\\n(CNN) When US House Speaker Nancy Pelosi touched down in Taiwan on Tuesday night, China was ready with its response.\\n\\nIn quick succession, a slew of government and political bodies fired off statements condemning the visit and warning of its \"severe impact\" on US-China relations, while China\\'s military said it would immediately launch \"air and sea exercises\" and released a plan for drills surrounding the island in coming days.\\n\\nPelosi\\'s visit -- the first by a top-ranked US lawmaker in 25 years and part of a larger Asia tour -- was seen by Beijing as a \"major political provocation\" and a challenge to China\\'s sovereignty. China\\'s ruling Communist Party claims the self-governed democracy of Taiwan as its own, despite never having controlled it.\\n\\nDespite Beijing\\'s objections, Pelosi and a congressional delegation embarked on a series of high profile meetings at Taiwan\\'s legislature and at the office of Taiwanese President Tsai Ing-wen, where the California Democrat said her delegation came to send an \"unequivocal message\" that \"America stands with Taiwan.\"\\n\\n\"We want Taiwan to always have freedom with security and we\\'re not backing away from that,\" Pelosi said, praising the courage of the Taiwanese people to uphold democracy.\\n\\nPelosi\\'s defiance of China\\'s warnings not to visit the island may have aggravated troubled US-China relations, but analysts say the party likely to end up feeling the brunt of Beijing\\'s pressure is not the United States, but Taiwan.\\n\\nBeijing wasted no time making its displeasure clear as the US Air Force jet carrying Pelosi\\'s delegation touched down in Taiwan on Tuesday evening, but its response so far has been more restrained than somwe of the possibilities floated by nationalist voices in China in recent days.\\n\\nChina\\'s military will run exercises around Taiwan and launch a series of \"targeted military operations to counteract the situation,\" according to statements released by its Eastern Theater Command and Ministry of Defense Tuesday.\\n\\nAn official map indicating the location of some of these planned drills -- initially set to run Thursday to Sunday -- suggest they are closer to the island than previous exercises -- and even encroach on Taiwan\\'s territorial waters. Analysts say that indicates they are an escalation from previous threats leveraged by Beijing against Taiwan.\\n\\nThe map shows the drills will encircle the island more completely than previous exercises -- including the military exercise areas and missile splashdown zones during a major crisis in the Taiwan Strait in the mid-1990s.\\n\\nWith these drills, China has \"gone a lot farther than they ever have before,\" according to Carl Schuster, a former US Navy captain and former director of operations at the US Pacific Command\\'s Joint Intelligence Center.\\n\\n\"The geopolitical signal being sent is that China can close Taiwan\\'s air and sea access whenever it wants,\" he said.\\n\\nTaiwan\\'s Defense Ministry in a press briefing Wednesday called the plan tantamount to a \"maritime and aerial blockade\" that would \"threaten international waterway, challenge the international order, undermine cross-strait status quo and endanger regional security.\"\\n\\nBut how significant the exercises would ultimately be would depend on what happens in the coming days, according to political scientist Chong Ja Ian of the National University of Singapore, who said much was at stake for China\\'s image at home and abroad.\\n\\n\"Beijing (does not) want to escalate things in a way it cannot control. At the same time, it cannot send a signal that looks too weak,\" said Chong, noting the latter would have domestic ramifications for Chinese leader Xi Jinping and potentially affect Beijing\\'s ability \"to make other regional states toe its line.\"\\n\\n\"What that sweet spot looks like (for Beijing) no one really knows,\" he said.\\n\\nBut even as China launches its response, Pelosi\\'s touchdown in Taipei, and her high profile schedule of meetings Wednesday, marked a significant setback for Beijing, which had for days sought to deter her trip with threats of retaliation and warnings about crossing a \"red line.\"\\n\\nAnd disappointment of the failure of those threats was palpable in some circles in China.\\n\\nHowever, Hu Xijin, a political pundit and former editor-in-chief of the state-run nationalist tabloid Global Times -- who had warned of Chinese military retaliation against the US in the lead-up to Pelosi\\'s trip -- tried to temper any discontent.\\n\\n\"Pelosi landed in Taiwan, which of course reflects that our deterrent power is not enough to stop her early offensive,\" Hu wrote in a post on his verified Weibo account Wednesday.\\n\\n\"But if you are very frustrated because of this, thinking that we have \\'lost\\' and encountered a new \\'national humiliation,\\' it\\'s a bit exaggerated then. Some individuals can think that way, but we must not have such a collective vulnerability,\" he said.\\n\\nPelosi\\'s visit came at a particularly sensitive time for China as Xi, the country\\'s most powerful leader in decades, is preparing to break conventions and seek a third term at the Communist Party\\'s 20th Congress this fall. And that raises the stakes of China\\'s failure to dissuade the speaker from visiting, analysts say.\\n\\n\"The Chinese tried to to use saber rattling and use the rhetorical war in order to deter Pelosi\\'s trip, and they went overboard with their threats,\" said Yun Sun, director of the China Program at the Stimson Center in Washington, pointing to rhetoric in China\\'s public sphere over potential actions like no fly-zones or even intercepting Pelosi\\'s plane.\\n\\n\"Now Pelosi decided to have the trip and that leaves the Chinese hanging, because they can\\'t really deliver,\" she said.\\n\\nThis reveals \"quite a few problems\" in China\\'s foreign policy, \"that they think saber rattling is enough to get them what they want, but the cost of that is their future credibility,\" she said.\\n\\nAnd while the situation was unlikely to affect Xi\\'s move into a third term, the visit, especially on the heels of his call with US President Joe Biden last week in which the Chinese leader warned the US against \"playing with fire\" on the Taiwan issue, was a \"major embarrassment\" domestically, Sun said.\\n\\nBut while Beijing\\'s anger was directed at the US speaker -- who Chinese officials accused of \"knowingly and maliciously\" provoking a \"crisis\" -- analysts said Taiwan stands to feel the brunt of its fury.\\n\\nThe planned military exercises, meant to \"squeeze Taiwan,\" would likely be followed up with continued actions in the Taiwan Strait, according to Sun.\\n\\n\"The Pelosi visit actually will lead to a new escalation of the Chinese military coercion of Taiwan in the foreseeable future. That punishment is the key of the Chinese response at this point, because it cannot punish the United States,\" she said.\\n\\nChina\\'s Ministry of Commerce also announced Wednesday it would immediately suspend its export of natural sand to Taiwan, a key component for the production of semiconductor chips -- a move Taiwan\\'s Bureau of Mines said would have \"limited\" effect.\\n\\nAnd in the face of China\\'s plans for military drills, Taiwan\\'s Maritime and Port Bureau also issued three notices on Wednesday, asking vessels to use alternative routes for seven ports around the island.\\n\\nTaiwan also started negotiating with neighboring Japan and the Philippines to find alternative aviation routes to avoid Chinese assets.\\n\\nPelosi departed the island Wednesday, leaving a defiant Taiwan under even more pressure as China vents its fury.\\n\\nWhen asked during a regular news briefing in Beijing whether the export suspension was meant to punish Taiwan over Pelosi\\'s visit, China\\'s Assistant Minister of Foreign Affairs Hua Chunying refused to comment on specific trade actions but said \"one thing is certain here.\"\\n\\n\"The US and Taiwan separatist forces must take the responsibility and pay the price for the mistakes they made,\" she said.'"
      ]
     },
     "execution_count": 55,
     "metadata": {},
     "output_type": "execute_result"
    }
   ],
   "source": [
    "article.cleaned_text[:]"
   ]
  },
  {
   "cell_type": "code",
   "execution_count": 56,
   "metadata": {
    "scrolled": true
   },
   "outputs": [],
   "source": [
    "article.top_image"
   ]
  },
  {
   "cell_type": "markdown",
   "metadata": {},
   "source": [
    "## II - Translation, Part of Speech, advanced NLP functions"
   ]
  },
  {
   "cell_type": "markdown",
   "metadata": {},
   "source": [
    "#### 3.1 Using [Textblob](http://textblob.readthedocs.io/en/dev/) ([Github](https://github.com/sloria/TextBlob))\n",
    "\n",
    "[Another article](https://www.analyticsvidhya.com/blog/2018/02/natural-language-processing-for-beginners-using-textblob/)"
   ]
  },
  {
   "cell_type": "code",
   "execution_count": 57,
   "metadata": {},
   "outputs": [],
   "source": [
    "from textblob import TextBlob\n",
    "from textblob import Word"
   ]
  },
  {
   "cell_type": "code",
   "execution_count": 58,
   "metadata": {},
   "outputs": [
    {
     "name": "stdout",
     "output_type": "stream",
     "text": [
      "/home/renato/Documents/env_default/lib/python3.8/site-packages/scipy/__init__.py:138: UserWarning: A NumPy version >=1.16.5 and <1.23.0 is required for this version of SciPy (detected version 1.23.1)\n",
      "  warnings.warn(f\"A NumPy version >={np_minversion} and <{np_maxversion} is required for this version of \"\n",
      "[nltk_data] Downloading package brown to /home/renato/nltk_data...\n",
      "[nltk_data]   Package brown is already up-to-date!\n",
      "[nltk_data] Downloading package punkt to /home/renato/nltk_data...\n",
      "[nltk_data]   Package punkt is already up-to-date!\n",
      "[nltk_data] Downloading package wordnet to /home/renato/nltk_data...\n",
      "[nltk_data]   Package wordnet is already up-to-date!\n",
      "[nltk_data] Downloading package averaged_perceptron_tagger to\n",
      "[nltk_data]     /home/renato/nltk_data...\n",
      "[nltk_data]   Package averaged_perceptron_tagger is already up-to-\n",
      "[nltk_data]       date!\n",
      "[nltk_data] Downloading package conll2000 to /home/renato/nltk_data...\n",
      "[nltk_data]   Unzipping corpora/conll2000.zip.\n",
      "[nltk_data] Downloading package movie_reviews to\n",
      "[nltk_data]     /home/renato/nltk_data...\n",
      "[nltk_data]   Unzipping corpora/movie_reviews.zip.\n",
      "Finished.\n"
     ]
    }
   ],
   "source": [
    "!python -m textblob.download_corpora"
   ]
  },
  {
   "cell_type": "code",
   "execution_count": 59,
   "metadata": {},
   "outputs": [],
   "source": [
    "text_en = '''\n",
    "The titular threat of The Blob has always struck me as the ultimate movie\n",
    "monster: an insatiably hungry, amoeba-like mass able to penetrate\n",
    "virtually any safeguard, capable of--as a doomed doctor chillingly\n",
    "describes it--\"assimilating flesh on contact.\n",
    "Snide comparisons to gelatin be damned, it's a concept with the most\n",
    "devastating of potential consequences, not unlike the grey goo scenario\n",
    "proposed by technological theorists, etc., fearful of\n",
    "artificial intelligence run rampant.\n",
    "'''\n",
    "\n",
    "text_de = '''\n",
    "Familie Müller plant ihren Urlaub. Sie geht in ein Reisebüro und lässt sich \n",
    "von einem Angestellten beraten. Als Reiseziel wählt sie Mallorca aus. \n",
    "Familie Müller bucht einen Flug auf die Mittelmeerinsel. Sie bucht außerdem \n",
    "zwei Zimmer in einem großen Hotel direkt am Strand. Familie Müller badet gerne im Meer.\n",
    "Am Abflugtag fahren Herr und Frau Müller mit ihren beiden Kindern im Taxi zum \n",
    "Flughafen. Dort warten schon viele Urlauber. Alle wollen nach Mallorca fliegen. \n",
    "Familie Müller hat viel Gepäck dabei: drei große Koffer und zwei Taschen. \n",
    "Die Taschen sind Handgepäck. Familie Müller nimmt sie mit in das Flugzeug. \n",
    "Am Flugschalter checkt die Familie ein und erhält ihre Bordkarten. Die Angestellte \n",
    "am Flugschalter erklärt Herrn Müller den Weg zum Flugsteig. Es ist nicht mehr \n",
    "viel Zeit bis zum Abflug. Familie Müller geht durch die Sicherheitskontrolle. \n",
    "Als alle das richtige Gate erreichen, setzen sie sich in den Wartebereich. \n",
    "Kurz darauf wird ihre Flugnummer aufgerufen und Familie Müller steigt mit vielen \n",
    "anderen Passagieren in das Flugzeug nach Mallorca. Beim Starten fühlt sich Herr Müller \n",
    "nicht wohl. Ihm wird ein wenig übel. Nach zwei Stunden landet das Flugzeug. \n",
    "Am Gepäckband warten alle Passagiere noch auf ihr fehlendes Gepäck. Danach \n",
    "kann endlich der Urlaub beginnen.\n",
    "'''"
   ]
  },
  {
   "cell_type": "code",
   "execution_count": 60,
   "metadata": {},
   "outputs": [],
   "source": [
    "blob_en = TextBlob(text_en)\n",
    "blob_de = TextBlob(text_de)"
   ]
  },
  {
   "cell_type": "code",
   "execution_count": 61,
   "metadata": {},
   "outputs": [
    {
     "name": "stdout",
     "output_type": "stream",
     "text": [
      "Sentence: \n",
      "The titular threat of The Blob has always struck me as the ultimate movie\n",
      "monster: an insatiably hungry, amoeba-like mass able to penetrate\n",
      "virtually any safeguard, capable of--as a doomed doctor chillingly\n",
      "describes it--\"assimilating flesh on contact. \n",
      "\n",
      "Sentence: Snide comparisons to gelatin be damned, it's a concept with the most\n",
      "devastating of potential consequences, not unlike the grey goo scenario\n",
      "proposed by technological theorists, etc., fearful of\n",
      "artificial intelligence run rampant. \n",
      "\n"
     ]
    }
   ],
   "source": [
    "for s in blob_en.sentences:\n",
    "    print(f'Sentence: {s} \\n')"
   ]
  },
  {
   "cell_type": "code",
   "execution_count": 62,
   "metadata": {},
   "outputs": [
    {
     "name": "stdout",
     "output_type": "stream",
     "text": [
      "Sentence: \n",
      "Familie Müller plant ihren Urlaub. \n",
      "\n",
      "Sentence: Sie geht in ein Reisebüro und lässt sich \n",
      "von einem Angestellten beraten. \n",
      "\n",
      "Sentence: Als Reiseziel wählt sie Mallorca aus. \n",
      "\n",
      "Sentence: Familie Müller bucht einen Flug auf die Mittelmeerinsel. \n",
      "\n",
      "Sentence: Sie bucht außerdem \n",
      "zwei Zimmer in einem großen Hotel direkt am Strand. \n",
      "\n",
      "Sentence: Familie Müller badet gerne im Meer. \n",
      "\n",
      "Sentence: Am Abflugtag fahren Herr und Frau Müller mit ihren beiden Kindern im Taxi zum \n",
      "Flughafen. \n",
      "\n",
      "Sentence: Dort warten schon viele Urlauber. \n",
      "\n",
      "Sentence: Alle wollen nach Mallorca fliegen. \n",
      "\n",
      "Sentence: Familie Müller hat viel Gepäck dabei: drei große Koffer und zwei Taschen. \n",
      "\n",
      "Sentence: Die Taschen sind Handgepäck. \n",
      "\n",
      "Sentence: Familie Müller nimmt sie mit in das Flugzeug. \n",
      "\n",
      "Sentence: Am Flugschalter checkt die Familie ein und erhält ihre Bordkarten. \n",
      "\n",
      "Sentence: Die Angestellte \n",
      "am Flugschalter erklärt Herrn Müller den Weg zum Flugsteig. \n",
      "\n",
      "Sentence: Es ist nicht mehr \n",
      "viel Zeit bis zum Abflug. \n",
      "\n",
      "Sentence: Familie Müller geht durch die Sicherheitskontrolle. \n",
      "\n",
      "Sentence: Als alle das richtige Gate erreichen, setzen sie sich in den Wartebereich. \n",
      "\n",
      "Sentence: Kurz darauf wird ihre Flugnummer aufgerufen und Familie Müller steigt mit vielen \n",
      "anderen Passagieren in das Flugzeug nach Mallorca. \n",
      "\n",
      "Sentence: Beim Starten fühlt sich Herr Müller \n",
      "nicht wohl. \n",
      "\n",
      "Sentence: Ihm wird ein wenig übel. \n",
      "\n",
      "Sentence: Nach zwei Stunden landet das Flugzeug. \n",
      "\n",
      "Sentence: Am Gepäckband warten alle Passagiere noch auf ihr fehlendes Gepäck. \n",
      "\n",
      "Sentence: Danach \n",
      "kann endlich der Urlaub beginnen. \n",
      "\n"
     ]
    }
   ],
   "source": [
    "for s in blob_de.sentences:\n",
    "    print(f'Sentence: {s} \\n')"
   ]
  },
  {
   "cell_type": "code",
   "execution_count": 63,
   "metadata": {},
   "outputs": [
    {
     "data": {
      "text/plain": [
       "WordList(['Snide', 'comparisons', 'to', 'gelatin', 'be', 'damned', 'it', \"'s\", 'a', 'concept', 'with', 'the', 'most', 'devastating', 'of', 'potential', 'consequences', 'not', 'unlike', 'the', 'grey', 'goo', 'scenario', 'proposed', 'by', 'technological', 'theorists', 'etc', 'fearful', 'of', 'artificial', 'intelligence', 'run', 'rampant'])"
      ]
     },
     "execution_count": 63,
     "metadata": {},
     "output_type": "execute_result"
    }
   ],
   "source": [
    "blob_en.sentences[1].words"
   ]
  },
  {
   "cell_type": "markdown",
   "metadata": {},
   "source": [
    "Functions applied to the Word object:  "
   ]
  },
  {
   "cell_type": "code",
   "execution_count": 64,
   "metadata": {},
   "outputs": [
    {
     "data": {
      "text/plain": [
       "'Platforms'"
      ]
     },
     "execution_count": 64,
     "metadata": {},
     "output_type": "execute_result"
    }
   ],
   "source": [
    "w = Word('Platform')\n",
    "w.pluralize()"
   ]
  },
  {
   "cell_type": "code",
   "execution_count": 65,
   "metadata": {},
   "outputs": [
    {
     "data": {
      "text/plain": [
       "WordList(['Snide', 'comparison', 'to', 'gelatin', 'be', 'damned', 'it', \"'\", 'a', 'concept', 'with', 'the', 'most', 'devastating', 'of', 'potential', 'consequence', 'not', 'unlike', 'the', 'grey', 'goo', 'scenario', 'proposed', 'by', 'technological', 'theorist', 'etc', 'fearful', 'of', 'artificial', 'intelligence', 'run', 'rampant'])"
      ]
     },
     "execution_count": 65,
     "metadata": {},
     "output_type": "execute_result"
    }
   ],
   "source": [
    "blob_en.sentences[1].words.singularize()"
   ]
  },
  {
   "cell_type": "code",
   "execution_count": 66,
   "metadata": {},
   "outputs": [
    {
     "data": {
      "text/plain": [
       "'run'"
      ]
     },
     "execution_count": 66,
     "metadata": {},
     "output_type": "execute_result"
    }
   ],
   "source": [
    "w = Word('running')\n",
    "w.lemmatize(\"v\") ## v here represents verb"
   ]
  },
  {
   "cell_type": "markdown",
   "metadata": {},
   "source": [
    "POS tags  "
   ]
  },
  {
   "cell_type": "code",
   "execution_count": 67,
   "metadata": {},
   "outputs": [
    {
     "data": {
      "text/plain": [
       "[('The', 'DT'),\n",
       " ('titular', 'JJ'),\n",
       " ('threat', 'NN'),\n",
       " ('of', 'IN'),\n",
       " ('The', 'DT'),\n",
       " ('Blob', 'NNP'),\n",
       " ('has', 'VBZ'),\n",
       " ('always', 'RB'),\n",
       " ('struck', 'VBN'),\n",
       " ('me', 'PRP')]"
      ]
     },
     "execution_count": 67,
     "metadata": {},
     "output_type": "execute_result"
    }
   ],
   "source": [
    "blob_en.tags[0:10]"
   ]
  },
  {
   "cell_type": "code",
   "execution_count": 68,
   "metadata": {},
   "outputs": [
    {
     "data": {
      "text/plain": [
       "[('Familie', 'NNP'),\n",
       " ('Müller', 'NNP'),\n",
       " ('plant', 'NN'),\n",
       " ('ihren', 'NN'),\n",
       " ('Urlaub', 'NNP'),\n",
       " ('Sie', 'NNP'),\n",
       " ('geht', 'NN'),\n",
       " ('in', 'IN'),\n",
       " ('ein', 'JJ'),\n",
       " ('Reisebüro', 'NNP')]"
      ]
     },
     "execution_count": 68,
     "metadata": {},
     "output_type": "execute_result"
    }
   ],
   "source": [
    "blob_de.tags[0:10]"
   ]
  },
  {
   "cell_type": "markdown",
   "metadata": {},
   "source": [
    "Ngrams  "
   ]
  },
  {
   "cell_type": "code",
   "execution_count": 69,
   "metadata": {},
   "outputs": [
    {
     "name": "stdout",
     "output_type": "stream",
     "text": [
      "['The', 'titular']\n",
      "['titular', 'threat']\n",
      "['threat', 'of']\n",
      "['of', 'The']\n",
      "['The', 'Blob']\n",
      "['Blob', 'has']\n",
      "['has', 'always']\n",
      "['always', 'struck']\n",
      "['struck', 'me']\n",
      "['me', 'as']\n",
      "['as', 'the']\n",
      "['the', 'ultimate']\n",
      "['ultimate', 'movie']\n",
      "['movie', 'monster']\n",
      "['monster', 'an']\n",
      "['an', 'insatiably']\n",
      "['insatiably', 'hungry']\n",
      "['hungry', 'amoeba-like']\n",
      "['amoeba-like', 'mass']\n",
      "['mass', 'able']\n",
      "['able', 'to']\n",
      "['to', 'penetrate']\n",
      "['penetrate', 'virtually']\n",
      "['virtually', 'any']\n",
      "['any', 'safeguard']\n",
      "['safeguard', 'capable']\n",
      "['capable', 'of']\n",
      "['of', 'as']\n",
      "['as', 'a']\n",
      "['a', 'doomed']\n",
      "['doomed', 'doctor']\n",
      "['doctor', 'chillingly']\n",
      "['chillingly', 'describes']\n",
      "['describes', 'it']\n",
      "['it', 'assimilating']\n",
      "['assimilating', 'flesh']\n",
      "['flesh', 'on']\n",
      "['on', 'contact']\n",
      "['contact', 'Snide']\n",
      "['Snide', 'comparisons']\n",
      "['comparisons', 'to']\n",
      "['to', 'gelatin']\n",
      "['gelatin', 'be']\n",
      "['be', 'damned']\n",
      "['damned', 'it']\n",
      "['it', \"'s\"]\n",
      "[\"'s\", 'a']\n",
      "['a', 'concept']\n",
      "['concept', 'with']\n",
      "['with', 'the']\n",
      "['the', 'most']\n",
      "['most', 'devastating']\n",
      "['devastating', 'of']\n",
      "['of', 'potential']\n",
      "['potential', 'consequences']\n",
      "['consequences', 'not']\n",
      "['not', 'unlike']\n",
      "['unlike', 'the']\n",
      "['the', 'grey']\n",
      "['grey', 'goo']\n",
      "['goo', 'scenario']\n",
      "['scenario', 'proposed']\n",
      "['proposed', 'by']\n",
      "['by', 'technological']\n",
      "['technological', 'theorists']\n",
      "['theorists', 'etc']\n",
      "['etc', 'fearful']\n",
      "['fearful', 'of']\n",
      "['of', 'artificial']\n",
      "['artificial', 'intelligence']\n",
      "['intelligence', 'run']\n",
      "['run', 'rampant']\n"
     ]
    }
   ],
   "source": [
    "for ngram in blob_en.ngrams(2):\n",
    "    print(ngram)"
   ]
  },
  {
   "cell_type": "markdown",
   "metadata": {},
   "source": [
    "Noun Phrase Extraction"
   ]
  },
  {
   "cell_type": "code",
   "execution_count": 70,
   "metadata": {},
   "outputs": [
    {
     "data": {
      "text/plain": [
       "WordList(['titular threat', 'blob', 'ultimate movie monster', 'amoeba-like mass', 'snide', 'potential consequences', 'grey goo scenario', 'technological theorists', 'artificial intelligence run rampant'])"
      ]
     },
     "execution_count": 70,
     "metadata": {},
     "output_type": "execute_result"
    }
   ],
   "source": [
    "blob_en.noun_phrases"
   ]
  },
  {
   "cell_type": "code",
   "execution_count": 71,
   "metadata": {},
   "outputs": [
    {
     "data": {
      "text/plain": [
       "WordList(['familie müller', 'plant ihren', 'urlaub', 'sie', 'reisebüro', 'und lässt sich von einem', 'angestellten', 'als reiseziel', 'wählt sie', 'mallorca', 'familie müller', 'bucht einen', 'flug', 'mittelmeerinsel', 'sie', 'bucht außerdem zwei', 'zimmer', 'einem großen hotel direkt', 'strand', 'familie müller', 'badet gerne im', 'meer', 'am abflugtag', 'herr', 'frau müller', 'mit ihren beiden', 'kindern', 'taxi', 'flughafen', 'dort', 'warten schon viele', 'urlauber', 'alle', 'wollen nach', 'mallorca', 'familie müller', 'hat viel', 'gepäck', 'drei große', 'koffer', 'und zwei', 'taschen', 'die taschen', 'handgepäck', 'familie müller', 'nimmt sie mit', 'flugzeug', 'am flugschalter', 'familie', 'ein und erhält ihre', 'bordkarten', 'die angestellte', 'flugschalter', 'herrn müller', 'weg', 'flugsteig', 'es', 'ist nicht mehr viel', 'zeit', 'bis zum', 'abflug', 'familie müller', 'geht durch', 'sicherheitskontrolle', 'als', 'alle das richtige gate erreichen', 'setzen sie sich', 'wartebereich', 'kurz', 'darauf wird ihre', 'flugnummer', 'aufgerufen und', 'familie müller', 'steigt mit vielen anderen', 'passagieren', 'flugzeug', 'mallorca', 'beim starten', 'fühlt sich', 'herr müller', 'nicht wohl', 'ihm', 'wird ein wenig übel', 'nach', 'stunden', 'landet das', 'flugzeug', 'am gepäckband', 'warten alle', 'passagiere', 'noch auf ihr fehlendes', 'gepäck', 'danach', 'kann endlich der', 'urlaub'])"
      ]
     },
     "execution_count": 71,
     "metadata": {},
     "output_type": "execute_result"
    }
   ],
   "source": [
    "blob_de.noun_phrases"
   ]
  },
  {
   "cell_type": "markdown",
   "metadata": {},
   "source": [
    "Sentiment Analysis  "
   ]
  },
  {
   "cell_type": "code",
   "execution_count": 72,
   "metadata": {},
   "outputs": [
    {
     "name": "stdout",
     "output_type": "stream",
     "text": [
      "0.06000000000000001\n",
      "-0.34166666666666673\n"
     ]
    }
   ],
   "source": [
    "for sentence in blob_en.sentences:\n",
    "    print(sentence.sentiment.polarity)"
   ]
  },
  {
   "cell_type": "markdown",
   "metadata": {},
   "source": [
    "Spellcheck"
   ]
  },
  {
   "cell_type": "code",
   "execution_count": 73,
   "metadata": {},
   "outputs": [
    {
     "data": {
      "text/plain": [
       "TextBlob(\"The Austrian Centre for Digital Humanities and Cultural Heritage from the Austrian Academy of Sciences\")"
      ]
     },
     "execution_count": 73,
     "metadata": {},
     "output_type": "execute_result"
    }
   ],
   "source": [
    "sentence = TextBlob('The Austrien Centre for Digital Humanities and Cultural Heritaige from the Austrian Academy of Sciences')\n",
    "sentence.correct()"
   ]
  },
  {
   "cell_type": "code",
   "execution_count": 74,
   "metadata": {},
   "outputs": [
    {
     "data": {
      "text/plain": [
       "[('Low', 0.19878603945371776),\n",
       " ('Blow', 0.10925644916540213),\n",
       " ('Club', 0.10773899848254932),\n",
       " ('Clot', 0.1062215477996965),\n",
       " ('Slow', 0.09863429438543247),\n",
       " ('Flow', 0.07283763277693475),\n",
       " ('Lot', 0.05311077389984825),\n",
       " ('Mob', 0.03945371775417299),\n",
       " ('Glow', 0.03338391502276176),\n",
       " ('Log', 0.030349013657056147),\n",
       " ('Sob', 0.028831562974203338),\n",
       " ('Globe', 0.024279210925644917),\n",
       " ('Plot', 0.018209408194233688),\n",
       " ('Job', 0.01669195751138088),\n",
       " ('Plow', 0.013657056145675266),\n",
       " ('Rob', 0.007587253414264037),\n",
       " ('Slab', 0.006069802731411229),\n",
       " ('Los', 0.004552352048558422),\n",
       " ('Bob', 0.004552352048558422),\n",
       " ('Knob', 0.0030349013657056147),\n",
       " ('Flop', 0.0030349013657056147),\n",
       " ('Flog', 0.0030349013657056147),\n",
       " ('Blot', 0.0030349013657056147),\n",
       " ('Slot', 0.0015174506828528073),\n",
       " ('Slop', 0.0015174506828528073),\n",
       " ('Loi', 0.0015174506828528073),\n",
       " ('Lo', 0.0015174506828528073),\n",
       " ('Lb', 0.0015174506828528073),\n",
       " ('Lab', 0.0015174506828528073),\n",
       " ('Cob', 0.0015174506828528073),\n",
       " ('Bloc', 0.0015174506828528073),\n",
       " ('Aloe', 0.0015174506828528073)]"
      ]
     },
     "execution_count": 74,
     "metadata": {},
     "output_type": "execute_result"
    }
   ],
   "source": [
    "blob_en.words[5].spellcheck()"
   ]
  },
  {
   "cell_type": "markdown",
   "metadata": {},
   "source": [
    "Text classification"
   ]
  },
  {
   "cell_type": "code",
   "execution_count": 75,
   "metadata": {},
   "outputs": [],
   "source": [
    "training = [\n",
    "('Tom Holland is a terrible spiderman.','neg'),\n",
    "('a terrible Javert (Russell Crowe) ruined Les Miserables for me...','neg'),\n",
    "('The Dark Knight Rises is the greatest superhero movie ever!','pos'),\n",
    "('Fantastic Four should have never been made.','neg'),\n",
    "('Wes Anderson is my favorite director!','pos'),\n",
    "('Captain America 2 is pretty awesome.','pos'),\n",
    "(\"Let's pretend \\\"Batman and Robin\\\" never happened..\",'neg'),\n",
    "]\n",
    "\n",
    "testing = [\n",
    "('Superman was never an interesting character.','neg'),\n",
    "('Fantastic Mr Fox is an awesome film!','pos'),\n",
    "('Dragonball Evolution is simply terrible!!','neg')\n",
    "]"
   ]
  },
  {
   "cell_type": "code",
   "execution_count": 76,
   "metadata": {},
   "outputs": [],
   "source": [
    "from textblob import classifiers\n",
    "nb_classifier = classifiers.NaiveBayesClassifier(training)\n",
    "dt_classifier = classifiers.DecisionTreeClassifier(training)"
   ]
  },
  {
   "cell_type": "code",
   "execution_count": 77,
   "metadata": {},
   "outputs": [
    {
     "name": "stdout",
     "output_type": "stream",
     "text": [
      "1.0\n"
     ]
    }
   ],
   "source": [
    "print (nb_classifier.accuracy(testing))"
   ]
  },
  {
   "cell_type": "code",
   "execution_count": 78,
   "metadata": {},
   "outputs": [
    {
     "name": "stdout",
     "output_type": "stream",
     "text": [
      "0.6666666666666666\n"
     ]
    }
   ],
   "source": [
    "print (dt_classifier.accuracy(testing))"
   ]
  },
  {
   "cell_type": "code",
   "execution_count": 79,
   "metadata": {},
   "outputs": [
    {
     "name": "stdout",
     "output_type": "stream",
     "text": [
      "Most Informative Features\n",
      "            contains(is) = True              pos : neg    =      2.9 : 1.0\n",
      "             contains(a) = False             pos : neg    =      1.8 : 1.0\n",
      "         contains(never) = False             pos : neg    =      1.8 : 1.0\n",
      "      contains(terrible) = False             pos : neg    =      1.8 : 1.0\n"
     ]
    }
   ],
   "source": [
    "nb_classifier.show_informative_features(4)"
   ]
  },
  {
   "cell_type": "code",
   "execution_count": 80,
   "metadata": {},
   "outputs": [
    {
     "name": "stdout",
     "output_type": "stream",
     "text": [
      "pos\n"
     ]
    }
   ],
   "source": [
    "blob = TextBlob('the weather is terrible!', classifier=dt_classifier)\n",
    "print (blob.classify())"
   ]
  },
  {
   "cell_type": "markdown",
   "metadata": {},
   "source": [
    "#### 3.2 Using [Spacy](https://spacy.io/)\n",
    "\n",
    "[Doc 1](https://spacy.io/usage/spacy-101#lightning-tour), [Doc 2](https://github.com/explosion/spacy-notebooks), [Doc 3](https://github.com/explosion/spacy-notebooks/blob/master/notebooks/conference_notebooks/advanced_text_analysis.ipynb)"
   ]
  },
  {
   "cell_type": "markdown",
   "metadata": {},
   "source": [
    "Downloading the language models from Spacy"
   ]
  },
  {
   "cell_type": "code",
   "execution_count": 81,
   "metadata": {},
   "outputs": [
    {
     "name": "stdout",
     "output_type": "stream",
     "text": [
      "/home/renato/Documents/env_default/lib/python3.8/site-packages/torch/cuda/__init__.py:80: UserWarning: CUDA initialization: Unexpected error from cudaGetDeviceCount(). Did you run some cuda functions before calling NumCudaDevices() that might have already set an error? Error 804: forward compatibility was attempted on non supported HW (Triggered internally at  ../c10/cuda/CUDAFunctions.cpp:112.)\n",
      "  return torch._C._cuda_getDeviceCount() > 0\n",
      "2022-08-03 23:16:08.785687: W tensorflow/stream_executor/platform/default/dso_loader.cc:64] Could not load dynamic library 'libcudart.so.11.0'; dlerror: libcudart.so.11.0: cannot open shared object file: No such file or directory\n",
      "2022-08-03 23:16:08.785731: I tensorflow/stream_executor/cuda/cudart_stub.cc:29] Ignore above cudart dlerror if you do not have a GPU set up on your machine.\n",
      "/home/renato/Documents/env_default/lib/python3.8/site-packages/scipy/__init__.py:138: UserWarning: A NumPy version >=1.16.5 and <1.23.0 is required for this version of SciPy (detected version 1.23.1)\n",
      "  warnings.warn(f\"A NumPy version >={np_minversion} and <{np_maxversion} is required for this version of \"\n",
      "2022-08-03 23:16:09.953395: E tensorflow/stream_executor/cuda/cuda_driver.cc:271] failed call to cuInit: CUDA_ERROR_COMPAT_NOT_SUPPORTED_ON_DEVICE: forward compatibility was attempted on non supported HW\n",
      "2022-08-03 23:16:09.953427: I tensorflow/stream_executor/cuda/cuda_diagnostics.cc:169] retrieving CUDA diagnostic information for host: vienna\n",
      "2022-08-03 23:16:09.953433: I tensorflow/stream_executor/cuda/cuda_diagnostics.cc:176] hostname: vienna\n",
      "2022-08-03 23:16:09.953515: I tensorflow/stream_executor/cuda/cuda_diagnostics.cc:200] libcuda reported version is: 510.85.2\n",
      "2022-08-03 23:16:09.953536: I tensorflow/stream_executor/cuda/cuda_diagnostics.cc:204] kernel reported version is: 510.73.8\n",
      "2022-08-03 23:16:09.953543: E tensorflow/stream_executor/cuda/cuda_diagnostics.cc:313] kernel version 510.73.8 does not match DSO version 510.85.2 -- cannot find working devices in this configuration\n",
      "\u001b[2K\u001b[38;5;2m✔ Loaded compatibility table\u001b[0m\n",
      "\u001b[1m\n",
      "================= Installed pipeline packages (spaCy v3.4.1) =================\u001b[0m\n",
      "\u001b[38;5;4mℹ spaCy installation:\n",
      "/home/renato/Documents/env_default/lib/python3.8/site-packages/spacy\u001b[0m\n",
      "\n",
      "No pipeline packages found in your current environment.\n",
      "\n"
     ]
    }
   ],
   "source": [
    "#!python -m spacy download en_core_web_sm\n",
    "#!python -m spacy download de_core_news_sm\n",
    "#!python -m spacy download pt_core_news_sm\n",
    "#!python -m spacy download de_core_news_md\n",
    "\n",
    "!python -m spacy validate"
   ]
  },
  {
   "cell_type": "markdown",
   "metadata": {},
   "source": [
    "Load resources and process text"
   ]
  },
  {
   "cell_type": "code",
   "execution_count": 82,
   "metadata": {},
   "outputs": [],
   "source": [
    "import spacy"
   ]
  },
  {
   "cell_type": "code",
   "execution_count": 83,
   "metadata": {},
   "outputs": [
    {
     "ename": "OSError",
     "evalue": "[E050] Can't find model 'en_core_web_sm'. It doesn't seem to be a Python package or a valid path to a data directory.",
     "output_type": "error",
     "traceback": [
      "\u001b[0;31m---------------------------------------------------------------------------\u001b[0m",
      "\u001b[0;31mOSError\u001b[0m                                   Traceback (most recent call last)",
      "Input \u001b[0;32mIn [83]\u001b[0m, in \u001b[0;36m<cell line: 1>\u001b[0;34m()\u001b[0m\n\u001b[0;32m----> 1\u001b[0m en_nlp \u001b[38;5;241m=\u001b[39m spacy\u001b[38;5;241m.\u001b[39mload(\u001b[38;5;124m'\u001b[39m\u001b[38;5;124men_core_web_sm\u001b[39m\u001b[38;5;124m'\u001b[39m)\n\u001b[1;32m      2\u001b[0m de_nlp \u001b[38;5;241m=\u001b[39m spacy\u001b[38;5;241m.\u001b[39mload(\u001b[38;5;124m'\u001b[39m\u001b[38;5;124mde_core_news_sm\u001b[39m\u001b[38;5;124m'\u001b[39m)\n\u001b[1;32m      3\u001b[0m pt_nlp \u001b[38;5;241m=\u001b[39m spacy\u001b[38;5;241m.\u001b[39mload(\u001b[38;5;124m'\u001b[39m\u001b[38;5;124mpt_core_news_sm\u001b[39m\u001b[38;5;124m'\u001b[39m)\n",
      "File \u001b[0;32m~/Documents/env_default/lib/python3.8/site-packages/spacy/__init__.py:54\u001b[0m, in \u001b[0;36mload\u001b[0;34m(name, vocab, disable, enable, exclude, config)\u001b[0m\n\u001b[1;32m     30\u001b[0m \u001b[38;5;28;01mdef\u001b[39;00m \u001b[38;5;21mload\u001b[39m(\n\u001b[1;32m     31\u001b[0m     name: Union[\u001b[38;5;28mstr\u001b[39m, Path],\n\u001b[1;32m     32\u001b[0m     \u001b[38;5;241m*\u001b[39m,\n\u001b[0;32m   (...)\u001b[0m\n\u001b[1;32m     37\u001b[0m     config: Union[Dict[\u001b[38;5;28mstr\u001b[39m, Any], Config] \u001b[38;5;241m=\u001b[39m util\u001b[38;5;241m.\u001b[39mSimpleFrozenDict(),\n\u001b[1;32m     38\u001b[0m ) \u001b[38;5;241m-\u001b[39m\u001b[38;5;241m>\u001b[39m Language:\n\u001b[1;32m     39\u001b[0m     \u001b[38;5;124;03m\"\"\"Load a spaCy model from an installed package or a local path.\u001b[39;00m\n\u001b[1;32m     40\u001b[0m \n\u001b[1;32m     41\u001b[0m \u001b[38;5;124;03m    name (str): Package name or model path.\u001b[39;00m\n\u001b[0;32m   (...)\u001b[0m\n\u001b[1;32m     52\u001b[0m \u001b[38;5;124;03m    RETURNS (Language): The loaded nlp object.\u001b[39;00m\n\u001b[1;32m     53\u001b[0m \u001b[38;5;124;03m    \"\"\"\u001b[39;00m\n\u001b[0;32m---> 54\u001b[0m     \u001b[38;5;28;01mreturn\u001b[39;00m \u001b[43mutil\u001b[49m\u001b[38;5;241;43m.\u001b[39;49m\u001b[43mload_model\u001b[49m\u001b[43m(\u001b[49m\n\u001b[1;32m     55\u001b[0m \u001b[43m        \u001b[49m\u001b[43mname\u001b[49m\u001b[43m,\u001b[49m\n\u001b[1;32m     56\u001b[0m \u001b[43m        \u001b[49m\u001b[43mvocab\u001b[49m\u001b[38;5;241;43m=\u001b[39;49m\u001b[43mvocab\u001b[49m\u001b[43m,\u001b[49m\n\u001b[1;32m     57\u001b[0m \u001b[43m        \u001b[49m\u001b[43mdisable\u001b[49m\u001b[38;5;241;43m=\u001b[39;49m\u001b[43mdisable\u001b[49m\u001b[43m,\u001b[49m\n\u001b[1;32m     58\u001b[0m \u001b[43m        \u001b[49m\u001b[43menable\u001b[49m\u001b[38;5;241;43m=\u001b[39;49m\u001b[43menable\u001b[49m\u001b[43m,\u001b[49m\n\u001b[1;32m     59\u001b[0m \u001b[43m        \u001b[49m\u001b[43mexclude\u001b[49m\u001b[38;5;241;43m=\u001b[39;49m\u001b[43mexclude\u001b[49m\u001b[43m,\u001b[49m\n\u001b[1;32m     60\u001b[0m \u001b[43m        \u001b[49m\u001b[43mconfig\u001b[49m\u001b[38;5;241;43m=\u001b[39;49m\u001b[43mconfig\u001b[49m\u001b[43m,\u001b[49m\n\u001b[1;32m     61\u001b[0m \u001b[43m    \u001b[49m\u001b[43m)\u001b[49m\n",
      "File \u001b[0;32m~/Documents/env_default/lib/python3.8/site-packages/spacy/util.py:436\u001b[0m, in \u001b[0;36mload_model\u001b[0;34m(name, vocab, disable, enable, exclude, config)\u001b[0m\n\u001b[1;32m    434\u001b[0m \u001b[38;5;28;01mif\u001b[39;00m name \u001b[38;5;129;01min\u001b[39;00m OLD_MODEL_SHORTCUTS:\n\u001b[1;32m    435\u001b[0m     \u001b[38;5;28;01mraise\u001b[39;00m \u001b[38;5;167;01mIOError\u001b[39;00m(Errors\u001b[38;5;241m.\u001b[39mE941\u001b[38;5;241m.\u001b[39mformat(name\u001b[38;5;241m=\u001b[39mname, full\u001b[38;5;241m=\u001b[39mOLD_MODEL_SHORTCUTS[name]))  \u001b[38;5;66;03m# type: ignore[index]\u001b[39;00m\n\u001b[0;32m--> 436\u001b[0m \u001b[38;5;28;01mraise\u001b[39;00m \u001b[38;5;167;01mIOError\u001b[39;00m(Errors\u001b[38;5;241m.\u001b[39mE050\u001b[38;5;241m.\u001b[39mformat(name\u001b[38;5;241m=\u001b[39mname))\n",
      "\u001b[0;31mOSError\u001b[0m: [E050] Can't find model 'en_core_web_sm'. It doesn't seem to be a Python package or a valid path to a data directory."
     ]
    }
   ],
   "source": [
    "en_nlp = spacy.load('en_core_web_sm')\n",
    "de_nlp = spacy.load('de_core_news_sm')\n",
    "pt_nlp = spacy.load('pt_core_news_sm')"
   ]
  },
  {
   "cell_type": "code",
   "execution_count": null,
   "metadata": {},
   "outputs": [],
   "source": [
    "text_german = '''\n",
    "Der du von dem Himmel bist,\n",
    "Alles Leid und Schmerzen stillest,\n",
    "Den, der doppelt elend ist,\n",
    "Doppelt mit Erquickung füllest;\n",
    "Ach, ich bin des Treibens müde!\n",
    "Was soll all der Schmerz und Lust?\n",
    "Süßer Friede,\n",
    "Komm, ach komm in meine Brust!\n",
    "'''\n",
    "\n",
    "text_english = '''\n",
    "somewhere i have never travelled, gladly beyond\n",
    "any experience,your eyes have their silence:\n",
    "in your most frail gesture are things which enclose me,\n",
    "or which i cannot touch because they are too near.\n",
    "Your slightest look easily will unclose me\n",
    "though i have closed myself as fingers,\n",
    "you open always petal by petal myself as Spring opens\n",
    "(touching skilfully, mysteriously) her first rose.\n",
    "Or if your wish be to close me,i and\n",
    "my life will shut very beautifully,suddenly,\n",
    "as when the heart of this flower imagines\n",
    "the snow carefully everywhere descending;\n",
    "nothing which we are to perceive in this world equals\n",
    "the power of your intense fragility: whose texture\n",
    "compels me with the colour of its countries,\n",
    "rendering death and forever with each breathing.\n",
    "I do not know what it is about you that closes\n",
    "and opens; only something in me understands\n",
    "the voice of your eyes is deeper than all roses)\n",
    "nobody, not even the rain, has such small hands.\n",
    "\n",
    "'''\n",
    "\n",
    "text_portuguese = '''\n",
    "Ora (direis) ouvir estrelas! Certo\n",
    "Perdeste o senso!\" E eu vos direi, no entanto,\n",
    "Que, para ouvi-las, muita vez desperto\n",
    "E abro as janelas, pálido de espanto...\n",
    "\n",
    "E conversamos toda a noite, enquanto\n",
    "A via-láctea, como um pálio aberto,\n",
    "Cintila. E, ao vir do sol, saudoso e em pranto,\n",
    "Inda as procuro pelo céu deserto.\n",
    "\n",
    "Direis agora: \"Tresloucado amigo!\n",
    "Que conversas com elas? Que sentido\n",
    "Tem o que dizem, quando estão contigo?\"\n",
    "\n",
    "E eu vos direi: \"Amai para entendê-las!\n",
    "Pois só quem ama pode ter ouvido\n",
    "Capaz de ouvir e de entender estrelas. \n",
    "'''"
   ]
  },
  {
   "cell_type": "code",
   "execution_count": null,
   "metadata": {},
   "outputs": [],
   "source": [
    "en_doc = en_nlp(text_english)\n",
    "de_doc = de_nlp(text_german)\n",
    "pt_doc = pt_nlp(text_portuguese)"
   ]
  },
  {
   "cell_type": "markdown",
   "metadata": {},
   "source": [
    "Each SpaCy document is already tokenized into words, which are accessible by iterating over the document:"
   ]
  },
  {
   "cell_type": "code",
   "execution_count": null,
   "metadata": {},
   "outputs": [],
   "source": [
    "print(en_doc[0:7])"
   ]
  },
  {
   "cell_type": "markdown",
   "metadata": {},
   "source": [
    "You can also iterate over the sentences. doc.sents is a generator object, so we can use next():"
   ]
  },
  {
   "cell_type": "code",
   "execution_count": null,
   "metadata": {},
   "outputs": [],
   "source": [
    "en_Sents = list(en_doc.sents)\n",
    "print(en_Sents)"
   ]
  },
  {
   "cell_type": "markdown",
   "metadata": {},
   "source": [
    "For example, let's find the longest sentence(s):"
   ]
  },
  {
   "cell_type": "code",
   "execution_count": null,
   "metadata": {},
   "outputs": [],
   "source": [
    "SentenceLengths = [len(sent) for sent in en_Sents]\n",
    "[sent for sent in en_Sents if len(sent) == max(SentenceLengths)]"
   ]
  },
  {
   "cell_type": "markdown",
   "metadata": {},
   "source": [
    "Exploring Words: each word has a huge number of properties:"
   ]
  },
  {
   "cell_type": "code",
   "execution_count": null,
   "metadata": {},
   "outputs": [],
   "source": [
    "print(en_doc[2])\n",
    "print(type(en_doc[2]))"
   ]
  },
  {
   "cell_type": "code",
   "execution_count": null,
   "metadata": {},
   "outputs": [],
   "source": [
    "[prop for prop in dir(en_doc[2]) if not prop.startswith('_')]"
   ]
  },
  {
   "cell_type": "markdown",
   "metadata": {},
   "source": [
    "Using just the indices (.i), we can make a lexical dispersion plot for the occurrences of that word in the novel. (This is just the SpaCy equivalent of the lexical dispersion plot from the NLTK)"
   ]
  },
  {
   "cell_type": "code",
   "execution_count": null,
   "metadata": {},
   "outputs": [],
   "source": [
    "en_doc[2].i"
   ]
  },
  {
   "cell_type": "code",
   "execution_count": null,
   "metadata": {},
   "outputs": [],
   "source": [
    "def locations(needle, haystack): \n",
    "    \"\"\" \n",
    "    Make a list of locations, bin those into a histogram, \n",
    "    and finally put it into a Pandas Series object so that we\n",
    "    can later make it into a DataFrame. \n",
    "    \"\"\"\n",
    "    return pd.Series(np.histogram([word.i for word in haystack if word.text.lower() == needle], bins=50)[0])"
   ]
  },
  {
   "cell_type": "code",
   "execution_count": null,
   "metadata": {},
   "outputs": [],
   "source": [
    "from pylab import rcParams\n",
    "rcParams['figure.figsize'] = 16, 8\n",
    "\n",
    "pd.DataFrame(\n",
    "    {name: locations(name.lower(), en_doc) \n",
    "     for name in ['an', 'as', 'by']}\n",
    ").plot(subplots=True)"
   ]
  },
  {
   "cell_type": "markdown",
   "metadata": {},
   "source": [
    "Exploring [Named Entities](https://spacy.io/api/annotation)\n",
    "\n",
    "Named entities can be accessed through doc.ents"
   ]
  },
  {
   "cell_type": "code",
   "execution_count": null,
   "metadata": {},
   "outputs": [],
   "source": [
    "news_text = '''\n",
    "Mexico City (CNN)At least 54 people were killed and more than 100 injured when a truck overturned in southern Mexico on Thursday, with most of the victims believed to be migrants from Central America, according to local authorities.\n",
    "The incident happened in Mexico's Chiapas state, which borders Guatemala, when the truck carrying dozens of migrants crashed. Photos from the scene show the truck on its side next to a footbridge and bodies laid out on the road wrapped in body bags.\n",
    "State Governor Rutilio Escandón tweeted that in addition to the deaths, 105 people were injured in the crash -- among them are 83 men and 22 and women.\n",
    "'''\n",
    "\n",
    "en_doc2 = en_nlp(news_text)"
   ]
  },
  {
   "cell_type": "code",
   "execution_count": null,
   "metadata": {},
   "outputs": [],
   "source": [
    "set([w.label_ for w in en_doc2.ents])"
   ]
  },
  {
   "cell_type": "code",
   "execution_count": null,
   "metadata": {},
   "outputs": [],
   "source": [
    "[ent for ent in en_doc2.ents if ent.label_ == 'LOC']"
   ]
  },
  {
   "cell_type": "code",
   "execution_count": null,
   "metadata": {},
   "outputs": [],
   "source": [
    "[ent for ent in en_doc2.ents if ent.label_ == 'GPE']"
   ]
  },
  {
   "cell_type": "markdown",
   "metadata": {},
   "source": [
    "Parts of Speech  \n",
    "\n",
    "Each word already has a part of speech and a tag associated with it."
   ]
  },
  {
   "cell_type": "code",
   "execution_count": null,
   "metadata": {},
   "outputs": [],
   "source": [
    "tagDict = {w.pos: w.pos_ for w in en_doc2} \n",
    "tagDict"
   ]
  },
  {
   "cell_type": "code",
   "execution_count": null,
   "metadata": {},
   "outputs": [],
   "source": [
    "en_docPOS = pd.Series(en_doc2.count_by(spacy.attrs.POS))/len(en_doc2)\n",
    "\n",
    "df = pd.DataFrame([en_docPOS], index=['en'])\n",
    "df.columns = [tagDict[column] for column in df.columns]\n",
    "df.T.plot(kind='bar')"
   ]
  },
  {
   "cell_type": "code",
   "execution_count": null,
   "metadata": {},
   "outputs": [],
   "source": [
    "en_docProns = [w for w in en_doc2 if w.pos_ == 'PRON']\n",
    "Counter([w.text.strip() for w in en_docProns]).most_common(10)"
   ]
  },
  {
   "cell_type": "code",
   "execution_count": null,
   "metadata": {},
   "outputs": [],
   "source": [
    "en_docSents = [sent for sent in en_doc2.sents if 'Mexico' in sent.text]\n",
    "en_docSents"
   ]
  },
  {
   "cell_type": "code",
   "execution_count": null,
   "metadata": {},
   "outputs": [],
   "source": [
    "for word in en_docSents[1]: \n",
    "    print(word, word.tag_, word.pos_)"
   ]
  },
  {
   "cell_type": "markdown",
   "metadata": {},
   "source": [
    "Dependency Parsing  \n",
    "\n",
    "Now let's analyze the structure of the sentence.  \n",
    "\n",
    "This sentence has lots of properties:  "
   ]
  },
  {
   "cell_type": "code",
   "execution_count": null,
   "metadata": {},
   "outputs": [],
   "source": [
    "[prop for prop in dir(en_docSents[1]) if not prop.startswith('_')]"
   ]
  },
  {
   "cell_type": "markdown",
   "metadata": {},
   "source": [
    "To drill down into the sentence, we can start with the root:"
   ]
  },
  {
   "cell_type": "code",
   "execution_count": null,
   "metadata": {},
   "outputs": [],
   "source": [
    "en_docSents[1].root"
   ]
  },
  {
   "cell_type": "code",
   "execution_count": null,
   "metadata": {},
   "outputs": [],
   "source": [
    "list(en_docSents[1].root.children)"
   ]
  },
  {
   "cell_type": "code",
   "execution_count": null,
   "metadata": {},
   "outputs": [],
   "source": [
    "for word in en_docSents[1]: \n",
    "    print(word, ': ', str(list(word.children)))"
   ]
  },
  {
   "cell_type": "markdown",
   "metadata": {},
   "source": [
    "Probabilities\n",
    "\n",
    "SpaCy has a list of probabilities for English words, and these probabilities are automatically associated with each word once we parse the document.  \n",
    "Let's see what the distribution is like:"
   ]
  },
  {
   "cell_type": "code",
   "execution_count": null,
   "metadata": {},
   "outputs": [],
   "source": [
    "probabilities = [word.prob for word in en_doc] \n",
    "pd.Series(probabilities).hist()"
   ]
  },
  {
   "cell_type": "markdown",
   "metadata": {},
   "source": [
    "Let's peek at some of the improbable words"
   ]
  },
  {
   "cell_type": "code",
   "execution_count": null,
   "metadata": {},
   "outputs": [],
   "source": [
    "list(set([word.text.strip().lower() for word in en_doc if word.prob < -19]))[:20]"
   ]
  },
  {
   "cell_type": "code",
   "execution_count": null,
   "metadata": {},
   "outputs": [],
   "source": [
    "Counter([word.text.strip().lower() \n",
    "         for word in en_doc \n",
    "         if word.prob < -19.5]).most_common(20)"
   ]
  },
  {
   "cell_type": "code",
   "execution_count": null,
   "metadata": {},
   "outputs": [],
   "source": [
    "def ngrams(doc, n): \n",
    "    doc = [word for word in doc \n",
    "           if word.is_alpha # Get rid of punctuation\n",
    "           if not word.text.isupper()] # Get rid of all-caps speaker headings\n",
    "    return list(zip(*[doc[i:] for i in range(n)]))"
   ]
  },
  {
   "cell_type": "code",
   "execution_count": null,
   "metadata": {},
   "outputs": [],
   "source": [
    "docGrams = set(ngrams(en_doc, 3))"
   ]
  },
  {
   "cell_type": "code",
   "execution_count": null,
   "metadata": {},
   "outputs": [],
   "source": [
    "for gram in docGrams: \n",
    "    if sum([word.prob for word in gram]) < -40: \n",
    "        print(gram)"
   ]
  },
  {
   "cell_type": "markdown",
   "metadata": {},
   "source": [
    "### EDA text pipeline based in [this](https://neptune.ai/blog/exploratory-data-analysis-natural-language-processing-tools) and [this](https://www.machinelearningplus.com/nlp/topic-modeling-visualization-how-to-present-results-lda-models/) articles  "
   ]
  },
  {
   "cell_type": "markdown",
   "metadata": {},
   "source": [
    "#### Analyzing text statistics\n",
    "\n",
    "Text statistics visualizations are simple but very insightful techniques. \n",
    "\n",
    "They include:\n",
    "\n",
    "- word frequency analysis,\n",
    "- sentence length analysis,\n",
    "- average word length analysis"
   ]
  },
  {
   "cell_type": "code",
   "execution_count": null,
   "metadata": {},
   "outputs": [],
   "source": [
    "news= pd.read_csv(os.path.join(datapath, 'Texts','abcnews-date-text.csv'),nrows=10000)\n",
    "news.head(3)"
   ]
  },
  {
   "cell_type": "markdown",
   "metadata": {},
   "source": [
    "#### First, let's take a look at the number of characters present in each sentence. This can give us a rough idea about the news headline length."
   ]
  },
  {
   "cell_type": "code",
   "execution_count": null,
   "metadata": {},
   "outputs": [],
   "source": [
    "news['headline_text'].str.len().hist()"
   ]
  },
  {
   "cell_type": "markdown",
   "metadata": {},
   "source": [
    "#### Now, we will move on to data exploration at a word-level. Let’s plot the number of words appearing in each news headline."
   ]
  },
  {
   "cell_type": "code",
   "execution_count": null,
   "metadata": {},
   "outputs": [],
   "source": [
    "news['headline_text'].str.split().map(lambda x: len(x)).hist()"
   ]
  },
  {
   "cell_type": "markdown",
   "metadata": {},
   "source": [
    "#### Up next, let’s check the average word length in each sentence."
   ]
  },
  {
   "cell_type": "code",
   "execution_count": null,
   "metadata": {},
   "outputs": [],
   "source": [
    "news['headline_text'].str.split().apply(lambda x : [len(i) for i in x]).map(lambda x: np.mean(x)).hist()"
   ]
  },
  {
   "cell_type": "markdown",
   "metadata": {},
   "source": [
    "#### Loading stopwords list"
   ]
  },
  {
   "cell_type": "code",
   "execution_count": null,
   "metadata": {},
   "outputs": [],
   "source": [
    "#import nltk\n",
    "#nltk.download('stopwords')\n",
    "stop = set(nltk.corpus.stopwords.words('english'))"
   ]
  },
  {
   "cell_type": "markdown",
   "metadata": {},
   "source": [
    "#### Now, we’ll  create the corpus."
   ]
  },
  {
   "cell_type": "code",
   "execution_count": null,
   "metadata": {},
   "outputs": [],
   "source": [
    "corpus=[]\n",
    "new = news['headline_text'].str.split()\n",
    "new = new.values.tolist()\n",
    "corpus = [word for i in new for word in i]"
   ]
  },
  {
   "cell_type": "markdown",
   "metadata": {},
   "source": [
    "#### Plot top stopwords"
   ]
  },
  {
   "cell_type": "code",
   "execution_count": null,
   "metadata": {},
   "outputs": [],
   "source": [
    "dic = defaultdict(int)\n",
    "for word in corpus:\n",
    "    if word in stop:\n",
    "        dic[word] += 1\n",
    "top = sorted(dic.items(), key=lambda x:x[1],reverse=True)[:10] \n",
    "x,y = zip(*top)\n",
    "plt.bar(x,y)"
   ]
  },
  {
   "cell_type": "markdown",
   "metadata": {},
   "source": [
    "#### We will use the counter function from the collections library to count and store the occurrences of each word in a list of tuples."
   ]
  },
  {
   "cell_type": "code",
   "execution_count": null,
   "metadata": {},
   "outputs": [],
   "source": [
    "counter = Counter(corpus)\n",
    "most = counter.most_common()\n",
    "\n",
    "x, y = [], []\n",
    "for word,count in most[:40]:\n",
    "    if (word not in stop):\n",
    "        x.append(word)\n",
    "        y.append(count)\n",
    "        \n",
    "sns.barplot(x=y,y=x)"
   ]
  },
  {
   "cell_type": "markdown",
   "metadata": {},
   "source": [
    "#### Ngram exploration  \n",
    "\n",
    "Ngrams are simply contiguous sequences of n words.   \n",
    "\n",
    "Looking at most frequent n-grams can give you a better understanding of the context in which the word was used.  "
   ]
  },
  {
   "cell_type": "code",
   "execution_count": null,
   "metadata": {},
   "outputs": [],
   "source": [
    "from nltk.util import ngrams\n",
    "list(ngrams(['I' ,'went','to','the','river','bank'],2))"
   ]
  },
  {
   "cell_type": "markdown",
   "metadata": {},
   "source": [
    "#### To build a representation of our vocabulary we will use Countvectorizer."
   ]
  },
  {
   "cell_type": "code",
   "execution_count": null,
   "metadata": {},
   "outputs": [],
   "source": [
    "from sklearn.feature_extraction.text import CountVectorizer\n",
    "\n",
    "def get_top_ngram(corpus, n=None):\n",
    "    vec = CountVectorizer(ngram_range=(n, n)).fit(corpus)\n",
    "    bag_of_words = vec.transform(corpus)\n",
    "    sum_words = bag_of_words.sum(axis=0) \n",
    "    words_freq = [(word, sum_words[0, idx]) \n",
    "                  for word, idx in vec.vocabulary_.items()]\n",
    "    words_freq =sorted(words_freq, key = lambda x: x[1], reverse=True)\n",
    "    return words_freq[:10]"
   ]
  },
  {
   "cell_type": "code",
   "execution_count": null,
   "metadata": {},
   "outputs": [],
   "source": [
    "top_n_bigrams=get_top_ngram(news['headline_text'],2)[:10]\n",
    "x,y = map(list,zip(*top_n_bigrams))\n",
    "sns.barplot(x=y,y=x)"
   ]
  },
  {
   "cell_type": "markdown",
   "metadata": {},
   "source": [
    "#### How about trigrams?"
   ]
  },
  {
   "cell_type": "code",
   "execution_count": null,
   "metadata": {},
   "outputs": [],
   "source": [
    "top_tri_grams=get_top_ngram(news['headline_text'],n=3)\n",
    "x,y = map(list,zip(*top_tri_grams))\n",
    "sns.barplot(x=y,y=x)"
   ]
  },
  {
   "cell_type": "markdown",
   "metadata": {},
   "source": [
    "#### Topic Modeling exploration with pyLDAvis"
   ]
  },
  {
   "cell_type": "code",
   "execution_count": null,
   "metadata": {},
   "outputs": [],
   "source": [
    "nltk.download('punkt')\n",
    "nltk.download('wordnet')\n",
    "\n",
    "def preprocess_news(df):\n",
    "    corpus = []\n",
    "    stem = nltk.stem.PorterStemmer()\n",
    "    lem = nltk.stem.WordNetLemmatizer()\n",
    "    for news in df['headline_text']:\n",
    "        words=[w for w in nltk.tokenize.word_tokenize(news) if (w not in stop)]\n",
    "        words=[lem.lemmatize(w) for w in words if len(w)>2]\n",
    "        corpus.append(words)\n",
    "    return corpus\n",
    "\n",
    "corpus = preprocess_news(news)"
   ]
  },
  {
   "cell_type": "markdown",
   "metadata": {},
   "source": [
    "#### Now, let’s create the bag of words model using gensim"
   ]
  },
  {
   "cell_type": "code",
   "execution_count": null,
   "metadata": {},
   "outputs": [],
   "source": [
    "dic = gensim.corpora.Dictionary(corpus)\n",
    "bow_corpus = [dic.doc2bow(doc) for doc in corpus]"
   ]
  },
  {
   "cell_type": "markdown",
   "metadata": {},
   "source": [
    "#### Create the LDA model:"
   ]
  },
  {
   "cell_type": "code",
   "execution_count": null,
   "metadata": {},
   "outputs": [],
   "source": [
    "lda_model = gensim.models.LdaMulticore(bow_corpus, num_topics = 4, id2word = dic, passes = 10, workers = 2,  per_word_topics=True)\n",
    "lda_model.show_topics()"
   ]
  },
  {
   "cell_type": "markdown",
   "metadata": {},
   "source": [
    "#### What is the Dominant topic and its percentage contribution in each document"
   ]
  },
  {
   "cell_type": "code",
   "execution_count": null,
   "metadata": {},
   "outputs": [],
   "source": [
    "def format_topics_sentences(ldamodel, corpus, texts):\n",
    "    # Init output\n",
    "    sent_topics_df = pd.DataFrame()\n",
    "\n",
    "    # Get main topic in each document\n",
    "    for i, row_list in enumerate(ldamodel[corpus]):\n",
    "        row = row_list[0] if ldamodel.per_word_topics else row_list            \n",
    "        # print(row)\n",
    "        row = sorted(row, key=lambda x: (x[1]), reverse=True)\n",
    "        # Get the Dominant topic, Perc Contribution and Keywords for each document\n",
    "        for j, (topic_num, prop_topic) in enumerate(row):\n",
    "            if j == 0:  # => dominant topic\n",
    "                wp = ldamodel.show_topic(topic_num)\n",
    "                topic_keywords = \", \".join([word for word, prop in wp])\n",
    "                sent_topics_df = sent_topics_df.append(pd.Series([int(topic_num), \n",
    "                                                                  round(prop_topic,4), \n",
    "                                                                  topic_keywords]), \n",
    "                                                       ignore_index=True)\n",
    "            else:\n",
    "                break\n",
    "    sent_topics_df.columns = ['Dominant_Topic', 'Perc_Contribution', 'Topic_Keywords']\n",
    "\n",
    "    # Add original text to the end of the output\n",
    "    contents = pd.Series(texts)\n",
    "    sent_topics_df = pd.concat([sent_topics_df, contents], axis=1)\n",
    "    return(sent_topics_df)\n",
    "\n",
    "\n",
    "df_topic_sents_keywords = format_topics_sentences(lda_model, bow_corpus, news['headline_text'])\n",
    "\n",
    "# Format\n",
    "df_dominant_topic = df_topic_sents_keywords.reset_index()\n",
    "df_dominant_topic.columns = ['Document_No', 'Dominant_Topic', 'Topic_Perc_Contrib', 'Keywords', 'Text']\n",
    "df_dominant_topic.head(10)"
   ]
  },
  {
   "cell_type": "markdown",
   "metadata": {},
   "source": [
    "#### Frequency Distribution of Word Counts in Documents"
   ]
  },
  {
   "cell_type": "code",
   "execution_count": null,
   "metadata": {},
   "outputs": [],
   "source": [
    "doc_lens = [len(d) for d in df_dominant_topic.Text]\n",
    "\n",
    "# Plot\n",
    "plt.figure(figsize=(24,12), dpi=160)\n",
    "plt.hist(doc_lens, color='navy') #, bins = 100)\n",
    "#plt.text(750, 100, \"Mean   : \" + str(round(np.mean(doc_lens))))\n",
    "#plt.text(750,  90, \"Median : \" + str(round(np.median(doc_lens))))\n",
    "#plt.text(750,  80, \"Stdev   : \" + str(round(np.std(doc_lens))))\n",
    "#plt.text(750,  70, \"1%ile    : \" + str(round(np.quantile(doc_lens, q=0.01))))\n",
    "#plt.text(750,  60, \"99%ile  : \" + str(round(np.quantile(doc_lens, q=0.99))))\n",
    "\n",
    "plt.gca().set(ylabel='Number of Documents', xlabel='Document Word Count',) # xlim=(0, 100),)\n",
    "plt.tick_params(size=16)\n",
    "#plt.xticks(np.linspace(0,100,9))\n",
    "plt.title('Distribution of Document Word Counts', fontdict=dict(size=22))\n",
    "plt.show()"
   ]
  },
  {
   "cell_type": "markdown",
   "metadata": {},
   "source": [
    "#### By Topic"
   ]
  },
  {
   "cell_type": "code",
   "execution_count": null,
   "metadata": {},
   "outputs": [],
   "source": [
    "import seaborn as sns\n",
    "import matplotlib.colors as mcolors\n",
    "cols = [color for name, color in mcolors.TABLEAU_COLORS.items()]  # more colors: 'mcolors.XKCD_COLORS'\n",
    "\n",
    "fig, axes = plt.subplots(2,2,figsize=(16,14), dpi=160, sharex=True, sharey=True)\n",
    "\n",
    "for i, ax in enumerate(axes.flatten()):    \n",
    "    df_dominant_topic_sub = df_dominant_topic.loc[df_dominant_topic.Dominant_Topic == i, :]\n",
    "    doc_lens = [len(d) for d in df_dominant_topic_sub.Text]\n",
    "    ax.hist(doc_lens, color=cols[i]) #, bins = 1000)\n",
    "    ax.tick_params(axis='y', labelcolor=cols[i], color=cols[i])\n",
    "    sns.kdeplot(doc_lens, color=\"black\", shade=False, ax=ax.twinx())\n",
    "    ax.set(xlabel='Document Word Count') #xlim=(0, 1000),\n",
    "    ax.set_ylabel('Number of Documents', color=cols[i])\n",
    "    ax.set_title('Topic: '+str(i), fontdict=dict(size=16, color=cols[i]))\n",
    "\n",
    "fig.tight_layout()\n",
    "fig.subplots_adjust(top=0.90)\n",
    "#plt.xticks(np.linspace(0,1000,9))\n",
    "fig.suptitle('Distribution of Document Word Counts by Dominant Topic', fontsize=22)\n",
    "plt.show()"
   ]
  },
  {
   "cell_type": "markdown",
   "metadata": {},
   "source": [
    "#### Word Clouds of Top N Keywords in Each Topic"
   ]
  },
  {
   "cell_type": "code",
   "execution_count": null,
   "metadata": {},
   "outputs": [],
   "source": [
    "# 1. Wordcloud of Top N words in each topic\n",
    "from matplotlib import pyplot as plt\n",
    "from wordcloud import WordCloud, STOPWORDS\n",
    "import matplotlib.colors as mcolors\n",
    "\n",
    "cols = [color for name, color in mcolors.TABLEAU_COLORS.items()]  # more colors: 'mcolors.XKCD_COLORS'\n",
    "\n",
    "cloud = WordCloud(stopwords=STOPWORDS,\n",
    "                  background_color='white',\n",
    "                  width=2500,\n",
    "                  height=1800,\n",
    "                  max_words=10,\n",
    "                  colormap='tab10',\n",
    "                  color_func=lambda *args, **kwargs: cols[i],\n",
    "                  prefer_horizontal=1.0)\n",
    "\n",
    "topics = lda_model.show_topics(formatted=False)\n",
    "\n",
    "fig, axes = plt.subplots(2, 2, figsize=(10,10), sharex=True, sharey=True)\n",
    "\n",
    "for i, ax in enumerate(axes.flatten()):\n",
    "    fig.add_subplot(ax)\n",
    "    topic_words = dict(topics[i][1])\n",
    "    cloud.generate_from_frequencies(topic_words, max_font_size=300)\n",
    "    plt.gca().imshow(cloud)\n",
    "    plt.gca().set_title('Topic ' + str(i), fontdict=dict(size=16))\n",
    "    plt.gca().axis('off')\n",
    "\n",
    "\n",
    "plt.subplots_adjust(wspace=0, hspace=0)\n",
    "plt.axis('off')\n",
    "plt.margins(x=0, y=0)\n",
    "plt.tight_layout()\n",
    "plt.show()"
   ]
  },
  {
   "cell_type": "markdown",
   "metadata": {},
   "source": [
    "#### Word Counts of Topic Keywords"
   ]
  },
  {
   "cell_type": "code",
   "execution_count": null,
   "metadata": {},
   "outputs": [],
   "source": [
    "topics = lda_model.show_topics(formatted=False)\n",
    "data_flat = [w for w_list in news['headline_text'] for w in w_list]\n",
    "counter = Counter(data_flat)\n",
    "\n",
    "out = []\n",
    "for i, topic in topics:\n",
    "    for word, weight in topic:\n",
    "        out.append([word, i , weight, counter[word]])\n",
    "\n",
    "df = pd.DataFrame(out, columns=['word', 'topic_id', 'importance', 'word_count'])        \n",
    "\n",
    "# Plot Word Count and Weights of Topic Keywords\n",
    "fig, axes = plt.subplots(2, 2, figsize=(16,10), sharey=True, dpi=160)\n",
    "cols = [color for name, color in mcolors.TABLEAU_COLORS.items()]\n",
    "for i, ax in enumerate(axes.flatten()):\n",
    "    ax.bar(x='word', height=\"word_count\", data=df.loc[df.topic_id==i, :], color=cols[i], width=0.5, alpha=0.3, label='Word Count')\n",
    "    ax_twin = ax.twinx()\n",
    "    ax_twin.bar(x='word', height=\"importance\", data=df.loc[df.topic_id==i, :], color=cols[i], width=0.2, label='Weights')\n",
    "    ax.set_ylabel('Word Count', color=cols[i])\n",
    "    ax_twin.set_ylim(0, 0.030); ax.set_ylim(0, 3500)\n",
    "    ax.set_title('Topic: ' + str(i), color=cols[i], fontsize=16)\n",
    "    ax.tick_params(axis='y', left=False)\n",
    "    ax.set_xticklabels(df.loc[df.topic_id==i, 'word'], rotation=30, horizontalalignment= 'right')\n",
    "    ax.legend(loc='upper left'); ax_twin.legend(loc='upper right')\n",
    "\n",
    "fig.tight_layout(w_pad=2)    \n",
    "fig.suptitle('Word Count and Importance of Topic Keywords', fontsize=22, y=1.05)    \n",
    "plt.show()"
   ]
  },
  {
   "cell_type": "markdown",
   "metadata": {},
   "source": [
    "#### Sentence Chart Colored by Topic"
   ]
  },
  {
   "cell_type": "code",
   "execution_count": null,
   "metadata": {},
   "outputs": [],
   "source": [
    "# Sentence Coloring of N Sentences\n",
    "from matplotlib.patches import Rectangle\n",
    "\n",
    "def sentences_chart(lda_model, corpus, start=0, end=13):\n",
    "    corp = corpus[start:end]\n",
    "    mycolors = [color for name, color in mcolors.TABLEAU_COLORS.items()]\n",
    "\n",
    "    fig, axes = plt.subplots(end-start, 1, figsize=(20, (end-start)*0.95), dpi=160)       \n",
    "    axes[0].axis('off')\n",
    "    for i, ax in enumerate(axes):\n",
    "        if i > 0:\n",
    "            corp_cur = corp[i-1] \n",
    "            topic_percs, wordid_topics, wordid_phivalues = lda_model[corp_cur]\n",
    "            word_dominanttopic = [(lda_model.id2word[wd], topic[0]) for wd, topic in wordid_topics]    \n",
    "            ax.text(0.01, \n",
    "                    0.5, \n",
    "                    \"Doc \" + str(i-1) + \": \", \n",
    "                    verticalalignment='center',\n",
    "                    fontsize=16, \n",
    "                    color='black',\n",
    "                    transform=ax.transAxes, \n",
    "                    fontweight=700)\n",
    "\n",
    "            # Draw Rectange\n",
    "            topic_percs_sorted = sorted(topic_percs, key=lambda x: (x[1]), reverse=True)\n",
    "            ax.add_patch(Rectangle((0.0, 0.05), 0.99, 0.90, fill=None, alpha=1, \n",
    "                                   color = mycolors[topic_percs_sorted[0][0]], linewidth=2))\n",
    "\n",
    "            word_pos = 0.06\n",
    "            for j, (word, topics) in enumerate(word_dominanttopic):\n",
    "                if j < 14:\n",
    "                    ax.text(word_pos, 0.5, word,\n",
    "                            horizontalalignment = 'left',\n",
    "                            verticalalignment = 'center',\n",
    "                            fontsize = 16, color = mycolors[topics],\n",
    "                            transform = ax.transAxes, fontweight=700)\n",
    "                    word_pos += .009 * len(word)  # to move the word for the next iter\n",
    "                    ax.axis('off')\n",
    "                    \n",
    "            ax.text(word_pos, 0.5, \n",
    "                    '. . .',\n",
    "                    horizontalalignment='left',\n",
    "                    verticalalignment='center',\n",
    "                    fontsize=16, color='black',\n",
    "                    transform=ax.transAxes)       \n",
    "\n",
    "    plt.subplots_adjust(wspace=0, hspace=0)\n",
    "    plt.suptitle('Sentence Topic Coloring for Documents: ' + str(start) + ' to ' + str(end-2), fontsize=22, y=0.95, fontweight=700)\n",
    "    plt.tight_layout()\n",
    "    plt.show()\n",
    "\n",
    "sentences_chart(lda_model, bow_corpus)    "
   ]
  },
  {
   "cell_type": "markdown",
   "metadata": {},
   "source": [
    "#### What are the most discussed topics in the documents?"
   ]
  },
  {
   "cell_type": "code",
   "execution_count": null,
   "metadata": {},
   "outputs": [],
   "source": [
    "# Sentence Coloring of N Sentences\n",
    "def topics_per_document(model, corpus, start=0, end=1):\n",
    "    corpus_sel = corpus[start:end]\n",
    "    dominant_topics = []\n",
    "    topic_percentages = []\n",
    "    for i, corp in enumerate(corpus_sel):\n",
    "        topic_percs, wordid_topics, wordid_phivalues = model[corp]\n",
    "        dominant_topic = sorted(topic_percs, key = lambda x: x[1], reverse=True)[0][0]\n",
    "        dominant_topics.append((i, dominant_topic))\n",
    "        topic_percentages.append(topic_percs)\n",
    "    return(dominant_topics, topic_percentages)\n",
    "\n",
    "dominant_topics, topic_percentages = topics_per_document(model=lda_model, corpus=bow_corpus, end=-1)            \n",
    "\n",
    "# Distribution of Dominant Topics in Each Document\n",
    "df = pd.DataFrame(dominant_topics, columns=['Document_Id', 'Dominant_Topic'])\n",
    "dominant_topic_in_each_doc = df.groupby('Dominant_Topic').size()\n",
    "df_dominant_topic_in_each_doc = dominant_topic_in_each_doc.to_frame(name='count').reset_index()\n",
    "\n",
    "# Total Topic Distribution by actual weight\n",
    "topic_weightage_by_doc = pd.DataFrame([dict(t) for t in topic_percentages])\n",
    "df_topic_weightage_by_doc = topic_weightage_by_doc.sum().to_frame(name='count').reset_index()\n",
    "\n",
    "# Top 3 Keywords for each Topic\n",
    "topic_top3words = [(i, topic) for i, topics in lda_model.show_topics(formatted=False) \n",
    "                                 for j, (topic, wt) in enumerate(topics) if j < 3]\n",
    "\n",
    "df_top3words_stacked = pd.DataFrame(topic_top3words, columns=['topic_id', 'words'])\n",
    "df_top3words = df_top3words_stacked.groupby('topic_id').agg(', \\n'.join)\n",
    "df_top3words.reset_index(level=0, inplace=True)"
   ]
  },
  {
   "cell_type": "code",
   "execution_count": null,
   "metadata": {},
   "outputs": [],
   "source": [
    "from matplotlib.ticker import FuncFormatter\n",
    "\n",
    "# Plot\n",
    "fig, (ax1, ax2) = plt.subplots(1, 2, figsize=(10, 4), dpi=120, sharey=True)\n",
    "\n",
    "# Topic Distribution by Dominant Topics\n",
    "ax1.bar(x='Dominant_Topic', height='count', data=df_dominant_topic_in_each_doc, width=.5, color='firebrick')\n",
    "ax1.set_xticks(range(df_dominant_topic_in_each_doc.Dominant_Topic.unique().__len__()))\n",
    "tick_formatter = FuncFormatter(lambda x, pos: 'Topic ' + str(x)+ '\\n' + df_top3words.loc[df_top3words.topic_id==x, 'words'].values[0])\n",
    "ax1.xaxis.set_major_formatter(tick_formatter)\n",
    "ax1.set_title('Number of Documents by Dominant Topic', fontdict=dict(size=10))\n",
    "ax1.set_ylabel('Number of Documents')\n",
    "# ax1.set_ylim(0, 1000)\n",
    "\n",
    "# Topic Distribution by Topic Weights\n",
    "ax2.bar(x='index', height='count', data=df_topic_weightage_by_doc, width=.5, color='steelblue')\n",
    "ax2.set_xticks(range(df_topic_weightage_by_doc.index.unique().__len__()))\n",
    "ax2.xaxis.set_major_formatter(tick_formatter)\n",
    "ax2.set_title('Number of Documents by Topic Weightage', fontdict=dict(size=10))\n",
    "\n",
    "plt.show()"
   ]
  },
  {
   "cell_type": "markdown",
   "metadata": {},
   "source": [
    "#### t-SNE Clustering Chart"
   ]
  },
  {
   "cell_type": "code",
   "execution_count": null,
   "metadata": {},
   "outputs": [],
   "source": [
    "# Get topic weights and dominant topics ------------\n",
    "from sklearn.manifold import TSNE\n",
    "from bokeh.plotting import figure, output_file, show\n",
    "from bokeh.models import Label\n",
    "from bokeh.io import output_notebook\n",
    "\n",
    "# Get topic weights\n",
    "topic_weights = []\n",
    "for i, row_list in enumerate(lda_model[bow_corpus]):\n",
    "    topic_weights.append([w for i, w in row_list[0]])\n",
    "\n",
    "# Array of topic weights    \n",
    "arr = pd.DataFrame(topic_weights).fillna(0).values\n",
    "\n",
    "# Keep the well separated points (optional)\n",
    "arr = arr[np.amax(arr, axis=1) > 0.35]\n",
    "\n",
    "# Dominant topic number in each doc\n",
    "topic_num = np.argmax(arr, axis=1)\n",
    "\n",
    "# tSNE Dimension Reduction\n",
    "tsne_model = TSNE(n_components=2, verbose=1, random_state=0, angle=.99, init='pca')\n",
    "tsne_lda = tsne_model.fit_transform(arr)\n",
    "\n",
    "# Plot the Topic Clusters using Bokeh\n",
    "output_notebook()\n",
    "n_topics = 6\n",
    "mycolors = np.array([color for name, color in mcolors.TABLEAU_COLORS.items()])\n",
    "plot = figure(title=\"t-SNE Clustering of {} LDA Topics\".format(n_topics), plot_width=900, plot_height=700)\n",
    "plot.scatter(x=tsne_lda[:,0], y=tsne_lda[:,1], color=mycolors[topic_num])\n",
    "show(plot)"
   ]
  },
  {
   "cell_type": "markdown",
   "metadata": {},
   "source": [
    "#### Visualizes the results of LDA interactively"
   ]
  },
  {
   "cell_type": "code",
   "execution_count": null,
   "metadata": {},
   "outputs": [],
   "source": [
    "pyLDAvis.enable_notebook()\n",
    "vis = pyLDAvis.gensim_models.prepare(lda_model, bow_corpus, dic)\n",
    "vis"
   ]
  },
  {
   "cell_type": "markdown",
   "metadata": {},
   "source": [
    "#### Wordcloud"
   ]
  },
  {
   "cell_type": "code",
   "execution_count": null,
   "metadata": {},
   "outputs": [],
   "source": [
    "from wordcloud import WordCloud, STOPWORDS\n",
    "stopwords = set(STOPWORDS)\n",
    "\n",
    "def show_wordcloud(data):\n",
    "    wordcloud = WordCloud(\n",
    "        background_color='white',\n",
    "        stopwords=stopwords,\n",
    "        max_words=100,\n",
    "        max_font_size=30,\n",
    "        scale=3,\n",
    "        random_state=1)\n",
    "   \n",
    "    wordcloud=wordcloud.generate(str(data))\n",
    "\n",
    "    fig = plt.figure(1, figsize=(12, 12))\n",
    "    plt.axis('off')\n",
    "\n",
    "    plt.imshow(wordcloud)\n",
    "    plt.show()\n",
    "\n",
    "show_wordcloud(corpus)"
   ]
  },
  {
   "cell_type": "markdown",
   "metadata": {},
   "source": [
    "#### Sentiment analysis"
   ]
  },
  {
   "cell_type": "code",
   "execution_count": null,
   "metadata": {},
   "outputs": [],
   "source": [
    "from textblob import TextBlob\n",
    "TextBlob('100 people killed in Iraq').sentiment"
   ]
  },
  {
   "cell_type": "code",
   "execution_count": null,
   "metadata": {},
   "outputs": [],
   "source": [
    "def polarity(text):\n",
    "    return TextBlob(text).sentiment.polarity\n",
    "\n",
    "news['polarity_score'] = news['headline_text'].apply(lambda x : polarity(x))\n",
    "news['polarity_score'].hist()"
   ]
  },
  {
   "cell_type": "markdown",
   "metadata": {},
   "source": [
    "#### Let’s dig a bit deeper by classifying the news as negative, positive and neutral based on the scores."
   ]
  },
  {
   "cell_type": "code",
   "execution_count": null,
   "metadata": {},
   "outputs": [],
   "source": [
    "def sentiment(x):\n",
    "    if x < 0:\n",
    "        return 'neg'\n",
    "    elif x == 0:\n",
    "        return 'neu'\n",
    "    else:\n",
    "        return 'pos'\n",
    "    \n",
    "news['polarity']=news['polarity_score'].map(lambda x: sentiment(x))\n",
    "plt.bar(news.polarity.value_counts().index, news.polarity.value_counts())"
   ]
  },
  {
   "cell_type": "code",
   "execution_count": null,
   "metadata": {},
   "outputs": [],
   "source": [
    "news[news['polarity'] == 'pos']['headline_text'].head()"
   ]
  },
  {
   "cell_type": "code",
   "execution_count": null,
   "metadata": {},
   "outputs": [],
   "source": [
    "news[news['polarity'] == 'neg']['headline_text'].head()"
   ]
  },
  {
   "cell_type": "markdown",
   "metadata": {},
   "source": [
    "#### Vader Sentiment Analysis"
   ]
  },
  {
   "cell_type": "code",
   "execution_count": null,
   "metadata": {},
   "outputs": [],
   "source": [
    "from nltk.sentiment.vader import SentimentIntensityAnalyzer\n",
    "\n",
    "nltk.download('vader_lexicon')\n",
    "sid = SentimentIntensityAnalyzer()\n",
    "\n",
    "def get_vader_score(sent):\n",
    "    # Polarity score returns dictionary\n",
    "    ss = sid.polarity_scores(sent)\n",
    "    #return ss\n",
    "    return np.argmax(list(ss.values())[:-1])\n",
    "\n",
    "news['polarity']=news['headline_text'].map(lambda x: get_vader_score(x))\n",
    "polarity=news['polarity'].replace({0:'neg',1:'neu',2:'pos'})\n",
    "\n",
    "plt.bar(polarity.value_counts().index, polarity.value_counts())"
   ]
  },
  {
   "cell_type": "markdown",
   "metadata": {},
   "source": [
    "#### Named Entity Recognition"
   ]
  },
  {
   "cell_type": "code",
   "execution_count": null,
   "metadata": {},
   "outputs": [],
   "source": [
    "#!python -m spacy download en_core_web_sm\n",
    "\n",
    "nlp = spacy.load(\"en_core_web_sm\")"
   ]
  },
  {
   "cell_type": "code",
   "execution_count": null,
   "metadata": {},
   "outputs": [],
   "source": [
    "doc = nlp('India and Iran have agreed to boost the economic viability \\\n",
    "of the strategic Chabahar port through various measures, \\\n",
    "including larger subsidies to merchant shipping firms using the facility, \\\n",
    "people familiar with the development said on Thursday.')\n",
    "\n",
    "[(x.text,x.label_) for x in doc.ents]"
   ]
  },
  {
   "cell_type": "code",
   "execution_count": null,
   "metadata": {},
   "outputs": [],
   "source": [
    "from spacy import displacy\n",
    "\n",
    "displacy.render(doc, style='ent')"
   ]
  },
  {
   "cell_type": "code",
   "execution_count": null,
   "metadata": {},
   "outputs": [],
   "source": [
    "def ner(text):\n",
    "    doc = nlp(text)\n",
    "    return [X.label_ for X in doc.ents]\n",
    "\n",
    "ent = news['headline_text'].apply(lambda x : ner(x))\n",
    "ent = [x for sub in ent for x in sub]\n",
    "\n",
    "counter = Counter(ent)\n",
    "count = counter.most_common()"
   ]
  },
  {
   "cell_type": "markdown",
   "metadata": {},
   "source": [
    "#### Now, we can visualize the entity frequencies: "
   ]
  },
  {
   "cell_type": "code",
   "execution_count": null,
   "metadata": {},
   "outputs": [],
   "source": [
    "x,y = map(list,zip(*count))\n",
    "sns.barplot(x=y, y=x)"
   ]
  },
  {
   "cell_type": "markdown",
   "metadata": {},
   "source": [
    "#### We can also visualize the most common token per entity"
   ]
  },
  {
   "cell_type": "code",
   "execution_count": null,
   "metadata": {},
   "outputs": [],
   "source": [
    "def ner(text, ent=\"GPE\"):\n",
    "    doc = nlp(text)\n",
    "    return [X.text for X in doc.ents if X.label_ == ent]\n",
    "\n",
    "gpe = news['headline_text'].apply(lambda x: ner(x))\n",
    "gpe = [i for x in gpe for i in x]\n",
    "counter = Counter(gpe)\n",
    "\n",
    "x,y = map(list,zip(*counter.most_common(10)))\n",
    "sns.barplot(x=y,y=x)"
   ]
  },
  {
   "cell_type": "markdown",
   "metadata": {},
   "source": [
    "#### Most common names on News headlines"
   ]
  },
  {
   "cell_type": "code",
   "execution_count": null,
   "metadata": {},
   "outputs": [],
   "source": [
    "per = news['headline_text'].apply(lambda x: ner(x,\"PERSON\"))\n",
    "per = [i for x in per for i in x]\n",
    "counter = Counter(per)\n",
    "\n",
    "x,y = map(list,zip(*counter.most_common(10)))\n",
    "sns.barplot(x=y,y=x)"
   ]
  },
  {
   "cell_type": "markdown",
   "metadata": {},
   "source": [
    "#### Exploration through Parts of Speach Tagging in python"
   ]
  },
  {
   "cell_type": "code",
   "execution_count": null,
   "metadata": {},
   "outputs": [],
   "source": [
    "import nltk\n",
    "sentence = \"The greatest comeback stories in 2019\"\n",
    "tokens = nltk.tokenize.word_tokenize(sentence)\n",
    "nltk.pos_tag(tokens)"
   ]
  },
  {
   "cell_type": "code",
   "execution_count": null,
   "metadata": {},
   "outputs": [],
   "source": [
    "doc = nlp('The greatest comeback stories in 2019')\n",
    "displacy.render(doc, style='dep', jupyter=True, options={'distance': 90})"
   ]
  },
  {
   "cell_type": "markdown",
   "metadata": {},
   "source": [
    "#### Now that we now what POS tagging is, let’s use it to explore our headlines dataset"
   ]
  },
  {
   "cell_type": "code",
   "execution_count": null,
   "metadata": {},
   "outputs": [],
   "source": [
    "def pos(text):\n",
    "    pos = nltk.pos_tag(nltk.tokenize.word_tokenize(text))\n",
    "    pos = list(map(list,zip(*pos)))[1]\n",
    "    return pos\n",
    "\n",
    "tags = news['headline_text'].apply(lambda x : pos(x))\n",
    "tags = [x for l in tags for x in l]\n",
    "counter = Counter(tags)\n",
    "\n",
    "x,y = list(map(list,zip(*counter.most_common(7))))\n",
    "sns.barplot(x=y,y=x)"
   ]
  },
  {
   "cell_type": "markdown",
   "metadata": {},
   "source": [
    "#### We can dig deeper into this by investigating which singular noun occur most commonly in news headlines"
   ]
  },
  {
   "cell_type": "code",
   "execution_count": null,
   "metadata": {},
   "outputs": [],
   "source": [
    "def get_adjs(text):\n",
    "    adj = []\n",
    "    pos = nltk.pos_tag(nltk.tokenize.word_tokenize(text))\n",
    "    for word,tag in pos:\n",
    "        if tag == 'NN':\n",
    "            adj.append(word)\n",
    "    return adj\n",
    "\n",
    "\n",
    "words = news['headline_text'].apply(lambda x : get_adjs(x))\n",
    "words = [x for l in words for x in l]\n",
    "counter = Counter(words)\n",
    "\n",
    "x,y = list(map(list,zip(*counter.most_common(7))))\n",
    "sns.barplot(x=y,y=x)"
   ]
  },
  {
   "cell_type": "markdown",
   "metadata": {},
   "source": [
    "#### Exploring through text complexity  \n",
    "\n",
    "Readability index is a numeric value that indicates how difficult (or easy) it is to read and understand a text.  "
   ]
  },
  {
   "cell_type": "code",
   "execution_count": null,
   "metadata": {},
   "outputs": [],
   "source": [
    "from textstat import flesch_reading_ease\n",
    "\n",
    "news['headline_text'].apply(lambda x : flesch_reading_ease(x)).hist()"
   ]
  },
  {
   "cell_type": "markdown",
   "metadata": {},
   "source": [
    "Almost all of the readability scores fall above 60. This means that an average 11-year-old student can read and understand the news headlines. Let’s check all news headlines that have a readability score below 5  "
   ]
  },
  {
   "cell_type": "code",
   "execution_count": null,
   "metadata": {},
   "outputs": [],
   "source": [
    "news['reading'] = news['headline_text'].apply(lambda x : flesch_reading_ease(x))\n",
    "x = [i for i in range(len(news['reading'])) if news['reading'].iloc[i] < 5]\n",
    "news.iloc[x]['headline_text'].head()"
   ]
  }
 ],
 "metadata": {
  "kernelspec": {
   "display_name": "Python 3 (ipykernel)",
   "language": "python",
   "name": "python3"
  },
  "language_info": {
   "codemirror_mode": {
    "name": "ipython",
    "version": 3
   },
   "file_extension": ".py",
   "mimetype": "text/x-python",
   "name": "python",
   "nbconvert_exporter": "python",
   "pygments_lexer": "ipython3",
   "version": "3.8.10"
  }
 },
 "nbformat": 4,
 "nbformat_minor": 4
}
