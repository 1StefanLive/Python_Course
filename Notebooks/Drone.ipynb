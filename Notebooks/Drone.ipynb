{
 "cells": [
  {
   "cell_type": "code",
   "execution_count": 11,
   "id": "90ba85cb-4fd5-44ca-98b3-d06f9c23340c",
   "metadata": {},
   "outputs": [],
   "source": [
    "class Drone:\n",
    "    def __init__(self):\n",
    "        self.x = 0\n",
    "        self.y = 0\n",
    "        self.z = 0\n",
    "        self.battery = 20 * 60\n",
    "        self.odometer_total = 0 \n",
    "        self.odometer_partial = 0\n",
    "        \n",
    "    def show_level(self):\n",
    "        print('The energy level is enough for {:.3f} seconds flying'.format(self.battery))\n",
    "        \n",
    "    def charge_battey(self):\n",
    "        self.show_level()\n",
    "        print('Charging Battery...')\n",
    "        self.battery = 20 * 60\n",
    "        self.odometer_partial = 0\n",
    "    \n",
    "    def show_coordinates(self):\n",
    "        print('The Drone is located in: \\nX:\\t{}\\nY:\\t{}\\nZ:\\t{}'.format(self.x, self.y, self.z))\n",
    "        print('The Drone has flown {:.3f} meters'.format(self.odometer_total))\n",
    "        print('The Drone has flown {:.3f} meters since last battery charge'.format(self.odometer_partial))\n",
    "    \n",
    "    def fly_to(self,x,y):\n",
    "        \n",
    "        #Calculating euclidean distance\n",
    "        distance = ((x-self.x)**2 + (y-self.y)**2)**0.5\n",
    "        \n",
    "        # We allow 20 seconds for the Drone to reach the cruise altitude\n",
    "        flying_time = 20 + distance/2 + 20\n",
    "        print('Estimated remaining flying time is {:.3f} seconds'.format(flying_time))\n",
    "        if self.battery >= flying_time:\n",
    "            print('Flying...')\n",
    "            self.x = x\n",
    "            self.y = y\n",
    "            self.battery -= flying_time\n",
    "            self.odometer_total += distance\n",
    "            self.odometer_partial += distance\n",
    "            self.show_coordinates()\n",
    "        else:\n",
    "            print('The energy level is enough for {:.3f} seconds flying'.format(self.battery))"
   ]
  },
  {
   "cell_type": "code",
   "execution_count": 12,
   "id": "b7965e74-95f7-4eb2-bd79-ca25beafa32e",
   "metadata": {},
   "outputs": [],
   "source": [
    "f = Drone()"
   ]
  },
  {
   "cell_type": "code",
   "execution_count": 19,
   "id": "1f085b15-a135-466f-95ec-8f5c34aa5399",
   "metadata": {},
   "outputs": [
    {
     "name": "stdout",
     "output_type": "stream",
     "text": [
      "Estimated remaining flying time is 51.180 seconds\n",
      "Flying...\n",
      "The Drone is located in: \n",
      "X:\t12\n",
      "Y:\t12\n",
      "Z:\t0\n",
      "The Drone has flown 121.692 meters\n",
      "The Drone has flown 121.692 meters since last battery charge\n"
     ]
    }
   ],
   "source": [
    "f.fly_to(12,12)"
   ]
  },
  {
   "cell_type": "code",
   "execution_count": 17,
   "id": "487d5916-ee53-46c0-8f17-6793d8833774",
   "metadata": {},
   "outputs": [
    {
     "name": "stdout",
     "output_type": "stream",
     "text": [
      "Estimated remaining flying time is 50.000 seconds\n",
      "Flying...\n",
      "The Drone is located in: \n",
      "X:\t32\n",
      "Y:\t12\n",
      "Z:\t0\n",
      "The Drone has flown 89.331 meters\n",
      "The Drone has flown 89.331 meters since last battery charge\n"
     ]
    }
   ],
   "source": [
    "f.fly_to(32,12)"
   ]
  },
  {
   "cell_type": "code",
   "execution_count": 18,
   "id": "84707475-4d65-4f32-8207-5164ae61937c",
   "metadata": {},
   "outputs": [
    {
     "name": "stdout",
     "output_type": "stream",
     "text": [
      "Estimated remaining flying time is 45.000 seconds\n",
      "Flying...\n",
      "The Drone is located in: \n",
      "X:\t32\n",
      "Y:\t22\n",
      "Z:\t0\n",
      "The Drone has flown 99.331 meters\n",
      "The Drone has flown 99.331 meters since last battery charge\n"
     ]
    }
   ],
   "source": [
    "f.fly_to(32,22)"
   ]
  },
  {
   "cell_type": "code",
   "execution_count": null,
   "id": "96670a37-d799-4005-b0e0-6ca74d0c183b",
   "metadata": {},
   "outputs": [],
   "source": []
  }
 ],
 "metadata": {
  "kernelspec": {
   "display_name": "Python 3 (ipykernel)",
   "language": "python",
   "name": "python3"
  },
  "language_info": {
   "codemirror_mode": {
    "name": "ipython",
    "version": 3
   },
   "file_extension": ".py",
   "mimetype": "text/x-python",
   "name": "python",
   "nbconvert_exporter": "python",
   "pygments_lexer": "ipython3",
   "version": "3.8.10"
  }
 },
 "nbformat": 4,
 "nbformat_minor": 5
}
