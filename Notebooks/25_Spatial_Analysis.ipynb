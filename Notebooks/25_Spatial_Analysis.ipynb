{
 "cells": [
  {
   "cell_type": "markdown",
   "metadata": {},
   "source": [
    "# Introduction to Python  \n",
    "\n",
    "### Geographical and Spatial Analysis"
   ]
  },
  {
   "cell_type": "markdown",
   "metadata": {},
   "source": [
    "Installing packages and extensions"
   ]
  },
  {
   "cell_type": "code",
   "execution_count": 1,
   "metadata": {},
   "outputs": [],
   "source": [
    "## Installing Node.js\n",
    "\n",
    "#!sudo npm cache clean -f\n",
    "#!sudo npm install -g n\n",
    "#!sudo n latest\n",
    "#!sudo apt install --reinstall nodejs libnode64"
   ]
  },
  {
   "cell_type": "code",
   "execution_count": 2,
   "metadata": {},
   "outputs": [],
   "source": [
    "## Installing jupyterlab extensions\n",
    "\n",
    "# jupyter labextension install jupyterlab-plotly\n",
    "# !jupyter nbextension enable --py widgetsnbextension --sys-prefix\n",
    "# !jupyter nbextension enable --py plotlywidget --sys-prefix"
   ]
  },
  {
   "cell_type": "code",
   "execution_count": 3,
   "metadata": {},
   "outputs": [],
   "source": [
    "# !pip install plotly plotly-geo geopandas shapely pyshp html5lib nominatim geopy pydotplus python-twitter ipywidgets\n",
    "\n",
    "## or\n",
    "\n",
    "#import pip\n",
    "#pip.main(['install','nominatim'])\n",
    "#pip.main(['install','geopy'])\n",
    "#pip.main(['install','pydotplus'])\n",
    "#pip.main(['install','python-twitter'])\n",
    "#pip.main(['install','python-levenshtein'])"
   ]
  },
  {
   "cell_type": "markdown",
   "metadata": {},
   "source": [
    "Importing packages"
   ]
  },
  {
   "cell_type": "code",
   "execution_count": 4,
   "metadata": {},
   "outputs": [],
   "source": [
    "import re\n",
    "import sys\n",
    "import os\n",
    "import json\n",
    "import time\n",
    "import codecs\n",
    "from datetime import datetime\n",
    "from datetime import timedelta\n",
    "from itertools import chain\n",
    "from itertools import cycle\n",
    "\n",
    "import numpy as np\n",
    "import pandas as pd\n",
    "import matplotlib.pyplot as plt\n",
    "from matplotlib import cm\n",
    "\n",
    "import Levenshtein\n",
    "import networkx as nx\n",
    "import twitter\n",
    "import nltk\n",
    "\n",
    "import urllib\n",
    "from urllib.request import urlopen\n",
    "import webbrowser\n",
    "from bs4 import BeautifulSoup\n",
    "\n",
    "import pydotplus #Install http://www.graphviz.org/ & Instal https://pypi.python.org/pypi/pydotplus\n",
    "\n",
    "from IPython.display import Image, HTML, IFrame, FileLink, FileLinks #needed to render in notebook\n",
    "from IPython.core.display import display\n",
    "import ipywidgets as widgets\n",
    "\n",
    "%matplotlib inline"
   ]
  },
  {
   "cell_type": "markdown",
   "metadata": {},
   "source": [
    "Set default figure size for this notebook"
   ]
  },
  {
   "cell_type": "code",
   "execution_count": 5,
   "metadata": {},
   "outputs": [],
   "source": [
    "plt.rcParams['figure.figsize'] = (16.0, 12.8)\n",
    "#plt.switch_backend('Agg')"
   ]
  },
  {
   "cell_type": "markdown",
   "metadata": {},
   "source": [
    "## 1) Using Geopy geolocators\n",
    "\n",
    "[Geopy](https://pypi.python.org/pypi/geopy)  \n",
    "[Geopy Geocoders](https://geopy.readthedocs.io/en/stable/#module-geopy.geocoders)"
   ]
  },
  {
   "cell_type": "code",
   "execution_count": 6,
   "metadata": {},
   "outputs": [],
   "source": [
    "# Packages for spatial analysis\n",
    "\n",
    "\n",
    "import geopandas as gpd\n",
    "from geopandas.tools import geocode\n",
    "from shapely.geometry import LineString, MultiPolygon\n",
    "import folium\n",
    "from folium import Choropleth, Circle, Marker, GeoJson\n",
    "from folium.plugins import HeatMap, MarkerCluster\n"
   ]
  },
  {
   "cell_type": "code",
   "execution_count": 7,
   "metadata": {},
   "outputs": [],
   "source": [
    "import geopy.geocoders as gg\n",
    "\n",
    "geolocator = gg.Nominatim(user_agent=\"test_application\") #https://operations.osmfoundation.org/policies/nominatim/"
   ]
  },
  {
   "cell_type": "markdown",
   "metadata": {},
   "source": [
    "#### To geolocate a query to an address and coordinates:"
   ]
  },
  {
   "cell_type": "code",
   "execution_count": 8,
   "metadata": {},
   "outputs": [
    {
     "name": "stdout",
     "output_type": "stream",
     "text": [
      "Universität Wien, 1, Universitätsring, Schottenviertel, Innere Stadt, Wien, 1010, Österreich\n"
     ]
    }
   ],
   "source": [
    "address = \"Universitätsring 1, 1010 Wien\"\n",
    "location = geolocator.geocode(address)\n",
    "print(location.address)"
   ]
  },
  {
   "cell_type": "code",
   "execution_count": 9,
   "metadata": {},
   "outputs": [
    {
     "name": "stdout",
     "output_type": "stream",
     "text": [
      "(48.2131284, 16.360685994114505)\n"
     ]
    }
   ],
   "source": [
    "print((location.latitude, location.longitude))"
   ]
  },
  {
   "cell_type": "code",
   "execution_count": 10,
   "metadata": {},
   "outputs": [
    {
     "name": "stdout",
     "output_type": "stream",
     "text": [
      "{\n",
      "    \"boundingbox\": [\n",
      "        \"48.2123003\",\n",
      "        \"48.2139265\",\n",
      "        \"16.3590774\",\n",
      "        \"16.3612496\"\n",
      "    ],\n",
      "    \"class\": \"building\",\n",
      "    \"display_name\": \"Universit\\u00e4t Wien, 1, Universit\\u00e4tsring, Schottenviertel, Innere Stadt, Wien, 1010, \\u00d6sterreich\",\n",
      "    \"importance\": 0.7225825467552771,\n",
      "    \"lat\": \"48.2131284\",\n",
      "    \"licence\": \"Data \\u00a9 OpenStreetMap contributors, ODbL 1.0. https://osm.org/copyright\",\n",
      "    \"lon\": \"16.360685994114505\",\n",
      "    \"osm_id\": 1441683,\n",
      "    \"osm_type\": \"relation\",\n",
      "    \"place_id\": 258934147,\n",
      "    \"type\": \"university\"\n",
      "}\n"
     ]
    }
   ],
   "source": [
    "print(json.dumps(location.raw, indent=4, sort_keys=True))"
   ]
  },
  {
   "cell_type": "markdown",
   "metadata": {},
   "source": [
    "#### To find an address with coordinates:"
   ]
  },
  {
   "cell_type": "code",
   "execution_count": 11,
   "metadata": {},
   "outputs": [
    {
     "name": "stdout",
     "output_type": "stream",
     "text": [
      "23, Gottfried-Alber-Gasse, KG Breitensee, Penzing, Wien, 1140, Österreich\n",
      "(48.200611550000005, 16.299628930858802)\n"
     ]
    }
   ],
   "source": [
    "addresses = geolocator.reverse((48.2,16.3))\n",
    "for address in addresses:\n",
    "    print(address)"
   ]
  },
  {
   "cell_type": "markdown",
   "metadata": {},
   "source": [
    "#### More precise coordinates"
   ]
  },
  {
   "cell_type": "code",
   "execution_count": 12,
   "metadata": {},
   "outputs": [
    {
     "name": "stdout",
     "output_type": "stream",
     "text": [
      "Arkadenhof, Reichsratsstraße, Alservorstadt, KG Alsergrund, Innere Stadt, Wien, Österreich\n"
     ]
    }
   ],
   "source": [
    "coordinates = (48.213237, 16.360047)\n",
    "location = geolocator.reverse(coordinates)\n",
    "print(location.address)"
   ]
  },
  {
   "cell_type": "code",
   "execution_count": 13,
   "metadata": {},
   "outputs": [
    {
     "name": "stdout",
     "output_type": "stream",
     "text": [
      "(48.21307295, 16.36002102413772)\n"
     ]
    }
   ],
   "source": [
    "print((location.latitude, location.longitude))"
   ]
  },
  {
   "cell_type": "code",
   "execution_count": 14,
   "metadata": {},
   "outputs": [
    {
     "name": "stdout",
     "output_type": "stream",
     "text": [
      "{\n",
      "    \"address\": {\n",
      "        \"city\": \"Wien\",\n",
      "        \"city_district\": \"Innere Stadt\",\n",
      "        \"country\": \"\\u00d6sterreich\",\n",
      "        \"country_code\": \"at\",\n",
      "        \"man_made\": \"Arkadenhof\",\n",
      "        \"road\": \"Reichsratsstra\\u00dfe\",\n",
      "        \"suburb\": \"Alservorstadt\"\n",
      "    },\n",
      "    \"boundingbox\": [\n",
      "        \"48.2128577\",\n",
      "        \"48.2133902\",\n",
      "        \"16.3595503\",\n",
      "        \"16.3605998\"\n",
      "    ],\n",
      "    \"display_name\": \"Arkadenhof, Reichsratsstra\\u00dfe, Alservorstadt, KG Alsergrund, Innere Stadt, Wien, \\u00d6sterreich\",\n",
      "    \"lat\": \"48.21307295\",\n",
      "    \"licence\": \"Data \\u00a9 OpenStreetMap contributors, ODbL 1.0. https://osm.org/copyright\",\n",
      "    \"lon\": \"16.36002102413772\",\n",
      "    \"osm_id\": 23908556,\n",
      "    \"osm_type\": \"way\",\n",
      "    \"place_id\": 93674662\n",
      "}\n"
     ]
    }
   ],
   "source": [
    "print(json.dumps(location.raw, indent=4, sort_keys=True))"
   ]
  },
  {
   "cell_type": "markdown",
   "metadata": {},
   "source": [
    "### Showing coordinates on embedded map using display\n",
    "\n",
    "[Google maps](https://developers.google.com/maps/documentation/staticmaps/)  \n",
    "[Google maps parameters](http://stackoverflow.com/questions/2660201/what-parameters-should-i-use-in-a-google-maps-url-to-go-to-a-lat-lon/9919251#9919251)\n",
    "\n",
    "#m – normal map  \n",
    "k – satellite  \n",
    "h – hybrid  \n",
    "p – terrain"
   ]
  },
  {
   "cell_type": "code",
   "execution_count": 15,
   "metadata": {},
   "outputs": [],
   "source": [
    "from IPython.core.display import display"
   ]
  },
  {
   "cell_type": "code",
   "execution_count": 16,
   "metadata": {},
   "outputs": [
    {
     "data": {
      "text/html": [
       "\n",
       "        <iframe\n",
       "            width=\"800px\"\n",
       "            height=\"600px\"\n",
       "            src=\"http://maps.google.com/maps?q=(48.200611550000005, 16.299628930858802)&loc:48.21307295+16.36002102413772&z=17&t=k&output=embed\"\n",
       "            frameborder=\"0\"\n",
       "            allowfullscreen\n",
       "        ></iframe>\n",
       "        "
      ],
      "text/plain": [
       "<IPython.lib.display.IFrame at 0x7fb043ec3eb0>"
      ]
     },
     "metadata": {},
     "output_type": "display_data"
    }
   ],
   "source": [
    "def gmap(address,lat,lon,zoom=15,tmap='m'):\n",
    "    # Google Maps URL template for an iframe\n",
    "    base_url = 'http://maps.google.com/maps'\n",
    "    gmap_url = base_url + f'?q={address}&loc:{lat}+{lon}&z={zoom}&t={tmap}&output=embed'\n",
    "    display(IFrame(gmap_url, '800px', '600px'))\n",
    "    \n",
    "gmap(address, location.latitude, location.longitude, 17, 'k')"
   ]
  },
  {
   "cell_type": "markdown",
   "metadata": {},
   "source": [
    "### Using [Plotly](https://plotly.com/)\n",
    "\n",
    "[Running with Jupyter Lab](https://plotly.com/python/getting-started/#jupyterlab-support-python-35)  \n",
    "[Blog post](https://towardsdatascience.com/make-beautiful-spatial-visualizations-with-plotly-and-mapbox-fd5a638d6b3c)"
   ]
  },
  {
   "cell_type": "code",
   "execution_count": 30,
   "metadata": {},
   "outputs": [],
   "source": [
    "#import plotly as py\n",
    "\n",
    "from plotly.offline import init_notebook_mode, iplot\n",
    "import plotly.express as px\n",
    "import chart_studio.plotly as py\n",
    "import plotly.graph_objects as go\n",
    "import plotly.figure_factory as ff\n",
    "import plotly.io as pio\n",
    "\n",
    "pio.renderers.default = 'iframe' # or 'notebook' or 'colab'\n",
    "#init_notebook_mode()"
   ]
  },
  {
   "cell_type": "markdown",
   "metadata": {},
   "source": [
    "#### [Maps Configuration](https://plotly.com/python/map-configuration/)"
   ]
  },
  {
   "cell_type": "code",
   "execution_count": 31,
   "metadata": {},
   "outputs": [
    {
     "data": {
      "text/html": [
       "<iframe\n",
       "    scrolling=\"no\"\n",
       "    width=\"100%\"\n",
       "    height=\"320\"\n",
       "    src=\"iframe_figures/figure_31.html\"\n",
       "    frameborder=\"0\"\n",
       "    allowfullscreen\n",
       "></iframe>\n"
      ]
     },
     "metadata": {},
     "output_type": "display_data"
    }
   ],
   "source": [
    "fig = go.Figure(go.Scattergeo())\n",
    "fig.update_layout(height=300, margin={\"r\":0,\"t\":0,\"l\":0,\"b\":0})\n",
    "fig.show()"
   ]
  },
  {
   "cell_type": "code",
   "execution_count": 32,
   "metadata": {},
   "outputs": [
    {
     "data": {
      "text/html": [
       "<iframe\n",
       "    scrolling=\"no\"\n",
       "    width=\"100%\"\n",
       "    height=\"320\"\n",
       "    src=\"iframe_figures/figure_32.html\"\n",
       "    frameborder=\"0\"\n",
       "    allowfullscreen\n",
       "></iframe>\n"
      ]
     },
     "metadata": {},
     "output_type": "display_data"
    }
   ],
   "source": [
    "fig = go.Figure(go.Scattergeo())\n",
    "fig.update_geos(\n",
    "    visible=True,\n",
    "    resolution=50,\n",
    "    showcoastlines=True, coastlinecolor=\"RebeccaPurple\",\n",
    "    showland=True, landcolor=\"LightGreen\",\n",
    "    showocean=True, oceancolor=\"LightBlue\",\n",
    "    showlakes=True, lakecolor=\"Blue\",\n",
    "    showrivers=True, rivercolor=\"Blue\"\n",
    ")\n",
    "\n",
    "fig.update_layout(height=300, margin={\"r\":0,\"t\":0,\"l\":0,\"b\":0})\n",
    "fig.show()"
   ]
  },
  {
   "cell_type": "code",
   "execution_count": 33,
   "metadata": {},
   "outputs": [
    {
     "data": {
      "text/html": [
       "<iframe\n",
       "    scrolling=\"no\"\n",
       "    width=\"100%\"\n",
       "    height=\"320\"\n",
       "    src=\"iframe_figures/figure_33.html\"\n",
       "    frameborder=\"0\"\n",
       "    allowfullscreen\n",
       "></iframe>\n"
      ]
     },
     "metadata": {},
     "output_type": "display_data"
    }
   ],
   "source": [
    "fig = go.Figure(go.Scattergeo())\n",
    "fig.update_geos(projection_type=\"orthographic\")\n",
    "fig.update_layout(height=300, margin={\"r\":0,\"t\":0,\"l\":0,\"b\":0})\n",
    "fig.show()"
   ]
  },
  {
   "cell_type": "code",
   "execution_count": 34,
   "metadata": {},
   "outputs": [
    {
     "data": {
      "text/html": [
       "<iframe\n",
       "    scrolling=\"no\"\n",
       "    width=\"100%\"\n",
       "    height=\"320\"\n",
       "    src=\"iframe_figures/figure_34.html\"\n",
       "    frameborder=\"0\"\n",
       "    allowfullscreen\n",
       "></iframe>\n"
      ]
     },
     "metadata": {},
     "output_type": "display_data"
    }
   ],
   "source": [
    "fig = go.Figure(go.Scattergeo())\n",
    "fig.update_geos(projection_type=\"natural earth\")\n",
    "fig.update_layout(height=300, margin={\"r\":0,\"t\":0,\"l\":0,\"b\":0})\n",
    "fig.show()"
   ]
  },
  {
   "cell_type": "markdown",
   "metadata": {},
   "source": [
    "### Choropleth map using GeoJSON"
   ]
  },
  {
   "cell_type": "code",
   "execution_count": 35,
   "metadata": {},
   "outputs": [],
   "source": [
    "with urlopen('https://raw.githubusercontent.com/plotly/datasets/master/geojson-counties-fips.json') as response:\n",
    "    counties = json.load(response)"
   ]
  },
  {
   "cell_type": "code",
   "execution_count": 36,
   "metadata": {},
   "outputs": [
    {
     "data": {
      "text/plain": [
       "dict_keys(['type', 'features'])"
      ]
     },
     "execution_count": 36,
     "metadata": {},
     "output_type": "execute_result"
    }
   ],
   "source": [
    "counties.keys()"
   ]
  },
  {
   "cell_type": "code",
   "execution_count": 37,
   "metadata": {},
   "outputs": [
    {
     "data": {
      "text/plain": [
       "{'type': 'Feature',\n",
       " 'properties': {'GEO_ID': '0500000US01001',\n",
       "  'STATE': '01',\n",
       "  'COUNTY': '001',\n",
       "  'NAME': 'Autauga',\n",
       "  'LSAD': 'County',\n",
       "  'CENSUSAREA': 594.436},\n",
       " 'geometry': {'type': 'Polygon',\n",
       "  'coordinates': [[[-86.496774, 32.344437],\n",
       "    [-86.717897, 32.402814],\n",
       "    [-86.814912, 32.340803],\n",
       "    [-86.890581, 32.502974],\n",
       "    [-86.917595, 32.664169],\n",
       "    [-86.71339, 32.661732],\n",
       "    [-86.714219, 32.705694],\n",
       "    [-86.413116, 32.707386],\n",
       "    [-86.411172, 32.409937],\n",
       "    [-86.496774, 32.344437]]]},\n",
       " 'id': '01001'}"
      ]
     },
     "execution_count": 37,
     "metadata": {},
     "output_type": "execute_result"
    }
   ],
   "source": [
    "counties['features'][0]"
   ]
  },
  {
   "cell_type": "code",
   "execution_count": 38,
   "metadata": {},
   "outputs": [
    {
     "data": {
      "text/html": [
       "<div>\n",
       "<style scoped>\n",
       "    .dataframe tbody tr th:only-of-type {\n",
       "        vertical-align: middle;\n",
       "    }\n",
       "\n",
       "    .dataframe tbody tr th {\n",
       "        vertical-align: top;\n",
       "    }\n",
       "\n",
       "    .dataframe thead th {\n",
       "        text-align: right;\n",
       "    }\n",
       "</style>\n",
       "<table border=\"1\" class=\"dataframe\">\n",
       "  <thead>\n",
       "    <tr style=\"text-align: right;\">\n",
       "      <th></th>\n",
       "      <th>fips</th>\n",
       "      <th>unemp</th>\n",
       "    </tr>\n",
       "  </thead>\n",
       "  <tbody>\n",
       "    <tr>\n",
       "      <th>0</th>\n",
       "      <td>01001</td>\n",
       "      <td>5.3</td>\n",
       "    </tr>\n",
       "    <tr>\n",
       "      <th>1</th>\n",
       "      <td>01003</td>\n",
       "      <td>5.4</td>\n",
       "    </tr>\n",
       "    <tr>\n",
       "      <th>2</th>\n",
       "      <td>01005</td>\n",
       "      <td>8.6</td>\n",
       "    </tr>\n",
       "    <tr>\n",
       "      <th>3</th>\n",
       "      <td>01007</td>\n",
       "      <td>6.6</td>\n",
       "    </tr>\n",
       "    <tr>\n",
       "      <th>4</th>\n",
       "      <td>01009</td>\n",
       "      <td>5.5</td>\n",
       "    </tr>\n",
       "  </tbody>\n",
       "</table>\n",
       "</div>"
      ],
      "text/plain": [
       "    fips  unemp\n",
       "0  01001    5.3\n",
       "1  01003    5.4\n",
       "2  01005    8.6\n",
       "3  01007    6.6\n",
       "4  01009    5.5"
      ]
     },
     "execution_count": 38,
     "metadata": {},
     "output_type": "execute_result"
    }
   ],
   "source": [
    "df1 = pd.read_csv(\"https://raw.githubusercontent.com/plotly/datasets/master/fips-unemp-16.csv\", dtype={\"fips\": str})\n",
    "df1.head()"
   ]
  },
  {
   "cell_type": "code",
   "execution_count": 39,
   "metadata": {},
   "outputs": [
    {
     "data": {
      "text/html": [
       "<iframe\n",
       "    scrolling=\"no\"\n",
       "    width=\"100%\"\n",
       "    height=\"545px\"\n",
       "    src=\"iframe_figures/figure_39.html\"\n",
       "    frameborder=\"0\"\n",
       "    allowfullscreen\n",
       "></iframe>\n"
      ]
     },
     "metadata": {},
     "output_type": "display_data"
    }
   ],
   "source": [
    "fig = px.choropleth(df1,\n",
    "                    geojson=counties, \n",
    "                    locations='fips', \n",
    "                    color='unemp',\n",
    "                    color_continuous_scale=\"Viridis\",\n",
    "                    range_color=(0, 12),\n",
    "                    scope=\"usa\",\n",
    "                    labels={'unemp':'unemployment rate'}\n",
    "                   )\n",
    "fig.update_layout(margin={\"r\":0,\"t\":0,\"l\":0,\"b\":0})\n",
    "fig.show()"
   ]
  },
  {
   "cell_type": "code",
   "execution_count": 40,
   "metadata": {},
   "outputs": [
    {
     "data": {
      "text/html": [
       "<iframe\n",
       "    scrolling=\"no\"\n",
       "    width=\"100%\"\n",
       "    height=\"320\"\n",
       "    src=\"iframe_figures/figure_40.html\"\n",
       "    frameborder=\"0\"\n",
       "    allowfullscreen\n",
       "></iframe>\n"
      ]
     },
     "metadata": {},
     "output_type": "display_data"
    }
   ],
   "source": [
    "data = dict(type = 'choropleth',\n",
    "            locations = ['Germany','Switzerland','Czechia','Italy','Slovakia','Slovenia','Hungary', 'Liechtenstein', 'Greece'],\n",
    "            locationmode = 'country names',\n",
    "            colorscale= 'Portland',\n",
    "            text= ['DE','CH','CZ','IT','SK','SI','HU','LI','GR'],\n",
    "            z=[1.0,2.0,3.0,4.0,5.0,6.0,7.0,8.0,9.0],\n",
    "            colorbar = {'title':'Country Colours', 'len':200,'lenmode':'pixels' })\n",
    "\n",
    "fig = go.Figure(data = [data])\n",
    "\n",
    "fig.update_geos(projection_type=\"orthographic\")\n",
    "fig.update_layout(height=300, margin={\"r\":0,\"t\":0,\"l\":0,\"b\":0})\n",
    "fig.show()\n",
    "\n",
    "#iplot(fig)"
   ]
  },
  {
   "cell_type": "markdown",
   "metadata": {},
   "source": [
    "#### Using data on [World Hapiness](https://www.kaggle.com/unsdsn/world-happiness#2017.csv)"
   ]
  },
  {
   "cell_type": "code",
   "execution_count": 41,
   "metadata": {},
   "outputs": [
    {
     "data": {
      "text/html": [
       "<div>\n",
       "<style scoped>\n",
       "    .dataframe tbody tr th:only-of-type {\n",
       "        vertical-align: middle;\n",
       "    }\n",
       "\n",
       "    .dataframe tbody tr th {\n",
       "        vertical-align: top;\n",
       "    }\n",
       "\n",
       "    .dataframe thead th {\n",
       "        text-align: right;\n",
       "    }\n",
       "</style>\n",
       "<table border=\"1\" class=\"dataframe\">\n",
       "  <thead>\n",
       "    <tr style=\"text-align: right;\">\n",
       "      <th></th>\n",
       "      <th>Country</th>\n",
       "      <th>Happiness.Rank</th>\n",
       "      <th>Happiness.Score</th>\n",
       "      <th>Whisker.high</th>\n",
       "      <th>Whisker.low</th>\n",
       "      <th>Economy..GDP.per.Capita.</th>\n",
       "      <th>Family</th>\n",
       "      <th>Health..Life.Expectancy.</th>\n",
       "      <th>Freedom</th>\n",
       "      <th>Generosity</th>\n",
       "      <th>Trust..Government.Corruption.</th>\n",
       "      <th>Dystopia.Residual</th>\n",
       "    </tr>\n",
       "  </thead>\n",
       "  <tbody>\n",
       "    <tr>\n",
       "      <th>0</th>\n",
       "      <td>Norway</td>\n",
       "      <td>1</td>\n",
       "      <td>7.537</td>\n",
       "      <td>7.594445</td>\n",
       "      <td>7.479556</td>\n",
       "      <td>1.616463</td>\n",
       "      <td>1.533524</td>\n",
       "      <td>0.796667</td>\n",
       "      <td>0.635423</td>\n",
       "      <td>0.362012</td>\n",
       "      <td>0.315964</td>\n",
       "      <td>2.277027</td>\n",
       "    </tr>\n",
       "    <tr>\n",
       "      <th>1</th>\n",
       "      <td>Denmark</td>\n",
       "      <td>2</td>\n",
       "      <td>7.522</td>\n",
       "      <td>7.581728</td>\n",
       "      <td>7.462272</td>\n",
       "      <td>1.482383</td>\n",
       "      <td>1.551122</td>\n",
       "      <td>0.792566</td>\n",
       "      <td>0.626007</td>\n",
       "      <td>0.355280</td>\n",
       "      <td>0.400770</td>\n",
       "      <td>2.313707</td>\n",
       "    </tr>\n",
       "    <tr>\n",
       "      <th>2</th>\n",
       "      <td>Iceland</td>\n",
       "      <td>3</td>\n",
       "      <td>7.504</td>\n",
       "      <td>7.622030</td>\n",
       "      <td>7.385970</td>\n",
       "      <td>1.480633</td>\n",
       "      <td>1.610574</td>\n",
       "      <td>0.833552</td>\n",
       "      <td>0.627163</td>\n",
       "      <td>0.475540</td>\n",
       "      <td>0.153527</td>\n",
       "      <td>2.322715</td>\n",
       "    </tr>\n",
       "    <tr>\n",
       "      <th>3</th>\n",
       "      <td>Switzerland</td>\n",
       "      <td>4</td>\n",
       "      <td>7.494</td>\n",
       "      <td>7.561772</td>\n",
       "      <td>7.426227</td>\n",
       "      <td>1.564980</td>\n",
       "      <td>1.516912</td>\n",
       "      <td>0.858131</td>\n",
       "      <td>0.620071</td>\n",
       "      <td>0.290549</td>\n",
       "      <td>0.367007</td>\n",
       "      <td>2.276716</td>\n",
       "    </tr>\n",
       "    <tr>\n",
       "      <th>4</th>\n",
       "      <td>Finland</td>\n",
       "      <td>5</td>\n",
       "      <td>7.469</td>\n",
       "      <td>7.527542</td>\n",
       "      <td>7.410458</td>\n",
       "      <td>1.443572</td>\n",
       "      <td>1.540247</td>\n",
       "      <td>0.809158</td>\n",
       "      <td>0.617951</td>\n",
       "      <td>0.245483</td>\n",
       "      <td>0.382612</td>\n",
       "      <td>2.430182</td>\n",
       "    </tr>\n",
       "  </tbody>\n",
       "</table>\n",
       "</div>"
      ],
      "text/plain": [
       "       Country  Happiness.Rank  Happiness.Score  Whisker.high  Whisker.low  \\\n",
       "0       Norway               1            7.537      7.594445     7.479556   \n",
       "1      Denmark               2            7.522      7.581728     7.462272   \n",
       "2      Iceland               3            7.504      7.622030     7.385970   \n",
       "3  Switzerland               4            7.494      7.561772     7.426227   \n",
       "4      Finland               5            7.469      7.527542     7.410458   \n",
       "\n",
       "   Economy..GDP.per.Capita.    Family  Health..Life.Expectancy.   Freedom  \\\n",
       "0                  1.616463  1.533524                  0.796667  0.635423   \n",
       "1                  1.482383  1.551122                  0.792566  0.626007   \n",
       "2                  1.480633  1.610574                  0.833552  0.627163   \n",
       "3                  1.564980  1.516912                  0.858131  0.620071   \n",
       "4                  1.443572  1.540247                  0.809158  0.617951   \n",
       "\n",
       "   Generosity  Trust..Government.Corruption.  Dystopia.Residual  \n",
       "0    0.362012                       0.315964           2.277027  \n",
       "1    0.355280                       0.400770           2.313707  \n",
       "2    0.475540                       0.153527           2.322715  \n",
       "3    0.290549                       0.367007           2.276716  \n",
       "4    0.245483                       0.382612           2.430182  "
      ]
     },
     "execution_count": 41,
     "metadata": {},
     "output_type": "execute_result"
    }
   ],
   "source": [
    "df3 = pd.read_csv('../Data/CSV/happiness2017.csv')\n",
    "df3.head()"
   ]
  },
  {
   "cell_type": "code",
   "execution_count": 42,
   "metadata": {},
   "outputs": [
    {
     "name": "stdout",
     "output_type": "stream",
     "text": [
      "<class 'pandas.core.frame.DataFrame'>\n",
      "RangeIndex: 155 entries, 0 to 154\n",
      "Data columns (total 12 columns):\n",
      " #   Column                         Non-Null Count  Dtype  \n",
      "---  ------                         --------------  -----  \n",
      " 0   Country                        155 non-null    object \n",
      " 1   Happiness.Rank                 155 non-null    int64  \n",
      " 2   Happiness.Score                155 non-null    float64\n",
      " 3   Whisker.high                   155 non-null    float64\n",
      " 4   Whisker.low                    155 non-null    float64\n",
      " 5   Economy..GDP.per.Capita.       155 non-null    float64\n",
      " 6   Family                         155 non-null    float64\n",
      " 7   Health..Life.Expectancy.       155 non-null    float64\n",
      " 8   Freedom                        155 non-null    float64\n",
      " 9   Generosity                     155 non-null    float64\n",
      " 10  Trust..Government.Corruption.  155 non-null    float64\n",
      " 11  Dystopia.Residual              155 non-null    float64\n",
      "dtypes: float64(10), int64(1), object(1)\n",
      "memory usage: 14.7+ KB\n"
     ]
    }
   ],
   "source": [
    "df3.info()"
   ]
  },
  {
   "cell_type": "code",
   "execution_count": 43,
   "metadata": {},
   "outputs": [],
   "source": [
    "#Create an account token at: https://account.mapbox.com/\n",
    "mapbox_access_token = open('./mapbox_token.txt').read()"
   ]
  },
  {
   "cell_type": "code",
   "execution_count": 63,
   "metadata": {},
   "outputs": [],
   "source": [
    "layout = go.Layout(title='Hapiness',\n",
    "                   autosize=True,\n",
    "                   hovermode='closest',\n",
    "                   showlegend=False,\n",
    "                   mapbox=dict(accesstoken=mapbox_access_token,\n",
    "                               bearing=0,\n",
    "                               center=dict(lat=38,\n",
    "                                           lon=-94),\n",
    "                               pitch=0,\n",
    "                               zoom=3,\n",
    "                               style='light'),)"
   ]
  },
  {
   "cell_type": "code",
   "execution_count": 64,
   "metadata": {},
   "outputs": [
    {
     "data": {
      "text/html": [
       "<iframe\n",
       "    scrolling=\"no\"\n",
       "    width=\"100%\"\n",
       "    height=\"545px\"\n",
       "    src=\"iframe_figures/figure_64.html\"\n",
       "    frameborder=\"0\"\n",
       "    allowfullscreen\n",
       "></iframe>\n"
      ]
     },
     "metadata": {},
     "output_type": "display_data"
    }
   ],
   "source": [
    "data = dict(type = 'choropleth',\n",
    "            locations = df3['Country'],\n",
    "            locationmode='country names',\n",
    "            #colorscale = ['Viridis'],\n",
    "            z=df3['Happiness.Score'])\n",
    "\n",
    "fig = go.Figure(data=data, layout=layout)\n",
    "\n",
    "#fig.update_geos(projection_type=\"orthographic\")\n",
    "#fig.update_layout(height=300, margin={\"r\":0,\"t\":0,\"l\":0,\"b\":0})\n",
    "fig.show()\n",
    "\n",
    "#iplot(fig)"
   ]
  },
  {
   "cell_type": "markdown",
   "metadata": {},
   "source": [
    "### Case study: Using Nominatim for plotting UFO Data\n",
    "\n",
    "http://wiki.openstreetmap.org/wiki/Nominatim_usage_policy\n",
    "https://github.com/twain47/Nominatim/blob/master/docs/Installation.md"
   ]
  },
  {
   "cell_type": "code",
   "execution_count": 46,
   "metadata": {},
   "outputs": [],
   "source": [
    "from nominatim import Nominatim"
   ]
  },
  {
   "cell_type": "code",
   "execution_count": 47,
   "metadata": {},
   "outputs": [],
   "source": [
    "base_url = \"http://www.nuforc.org/webreports/\"\n",
    "index_url = \"http://www.nuforc.org/webreports/ndxevent.html\""
   ]
  },
  {
   "cell_type": "code",
   "execution_count": 48,
   "metadata": {},
   "outputs": [],
   "source": [
    "def can_cast_as_dt(dateStr, fmt):\n",
    "    try:\n",
    "        datetime.strptime(dateStr, fmt)\n",
    "        return True\n",
    "    except ValueError:\n",
    "        return False\n",
    "\n",
    "def parse_dt(dateStr):\n",
    "    # the data in the website comes in two different formats, try both \n",
    "    for fmt in [\"%m/%d/%y %H:%M\", \"%m/%d/%y\"]:\n",
    "        try:\n",
    "            return datetime.strptime(dateStr, fmt)\n",
    "        except ValueError:\n",
    "            continue\n",
    "\n",
    "def get_data_from_url(url):\n",
    "    print(\"Processing {}\".format(url))\n",
    "    data = []\n",
    "    source = BeautifulSoup(urllib.request.urlopen(url), \"html5lib\")\n",
    "    for row in source('tr'):\n",
    "        if not row('td'):\n",
    "            continue # header row\n",
    "        row_data = row('td')\n",
    "        # parse the datetime from the string\n",
    "        date_time = parse_dt(row_data[0].text)\n",
    "        city = row_data[1].text\n",
    "        state = row_data[2].text\n",
    "        shape = row_data[3].text\n",
    "        duration = row_data[4].text\n",
    "        data.append((date_time, city, state, shape, duration))\n",
    "    return data"
   ]
  },
  {
   "cell_type": "code",
   "execution_count": 49,
   "metadata": {},
   "outputs": [
    {
     "name": "stdout",
     "output_type": "stream",
     "text": [
      "Processing http://www.nuforc.org/webreports/ndxe202105.html\n",
      "Processing http://www.nuforc.org/webreports/ndxe202104.html\n",
      "Processing http://www.nuforc.org/webreports/ndxe202103.html\n",
      "Processing http://www.nuforc.org/webreports/ndxe202102.html\n",
      "Processing http://www.nuforc.org/webreports/ndxe202101.html\n",
      "Processing http://www.nuforc.org/webreports/ndxe202012.html\n",
      "Processing http://www.nuforc.org/webreports/ndxe202011.html\n",
      "Processing http://www.nuforc.org/webreports/ndxe202010.html\n",
      "Processing http://www.nuforc.org/webreports/ndxe202009.html\n",
      "Processing http://www.nuforc.org/webreports/ndxe202008.html\n",
      "Processing http://www.nuforc.org/webreports/ndxe202007.html\n",
      "Processing http://www.nuforc.org/webreports/ndxe202006.html\n"
     ]
    }
   ],
   "source": [
    "# get the index page\n",
    "raw_page = urllib.request.urlopen(index_url)\n",
    "source = BeautifulSoup(raw_page, \"html5lib\")\n",
    "# get all the links in the index page\n",
    "func1 = lambda x: (x.text, base_url + x['href'])\n",
    "monthly_urls = list(map(func1,source('a')))\n",
    "# get  the last 12 links that have a text like mm/yyyy\n",
    "func2 = lambda x: can_cast_as_dt(x[0], \"%m/%Y\")\n",
    "last_year_urls = filter(func2, monthly_urls[0:13]) \n",
    "# extract the data from each monthly page and flatten the lists of tuples\n",
    "last_year_ufos = list(chain(*map(lambda x: get_data_from_url(x[1]), last_year_urls)))\n",
    "# initialize a pandas DataFrame with the list of tuples"
   ]
  },
  {
   "cell_type": "code",
   "execution_count": 50,
   "metadata": {},
   "outputs": [],
   "source": [
    "ufos_df = pd.DataFrame(last_year_ufos, columns=[\"start\",\"city\",\"state\",\"shape\",\"duration_description\"])"
   ]
  },
  {
   "cell_type": "code",
   "execution_count": 51,
   "metadata": {},
   "outputs": [
    {
     "data": {
      "text/html": [
       "<div>\n",
       "<style scoped>\n",
       "    .dataframe tbody tr th:only-of-type {\n",
       "        vertical-align: middle;\n",
       "    }\n",
       "\n",
       "    .dataframe tbody tr th {\n",
       "        vertical-align: top;\n",
       "    }\n",
       "\n",
       "    .dataframe thead th {\n",
       "        text-align: right;\n",
       "    }\n",
       "</style>\n",
       "<table border=\"1\" class=\"dataframe\">\n",
       "  <thead>\n",
       "    <tr style=\"text-align: right;\">\n",
       "      <th></th>\n",
       "      <th>start</th>\n",
       "      <th>city</th>\n",
       "      <th>state</th>\n",
       "      <th>shape</th>\n",
       "      <th>duration_description</th>\n",
       "    </tr>\n",
       "  </thead>\n",
       "  <tbody>\n",
       "    <tr>\n",
       "      <th>0</th>\n",
       "      <td>2021-05-19 20:15:00</td>\n",
       "      <td>Atlanta</td>\n",
       "      <td>GA</td>\n",
       "      <td>Sphere</td>\n",
       "      <td>10 min</td>\n",
       "    </tr>\n",
       "    <tr>\n",
       "      <th>1</th>\n",
       "      <td>2021-05-19 17:25:00</td>\n",
       "      <td>Glens Falls</td>\n",
       "      <td>NY</td>\n",
       "      <td>Triangle</td>\n",
       "      <td>20 minutes</td>\n",
       "    </tr>\n",
       "    <tr>\n",
       "      <th>2</th>\n",
       "      <td>2021-05-19 14:30:00</td>\n",
       "      <td>North Haledon</td>\n",
       "      <td>NJ</td>\n",
       "      <td>Other</td>\n",
       "      <td>20 mins</td>\n",
       "    </tr>\n",
       "    <tr>\n",
       "      <th>3</th>\n",
       "      <td>2021-05-19 10:50:00</td>\n",
       "      <td>Clarksburg</td>\n",
       "      <td>MD</td>\n",
       "      <td>Triangle</td>\n",
       "      <td>1 min</td>\n",
       "    </tr>\n",
       "    <tr>\n",
       "      <th>4</th>\n",
       "      <td>2021-05-19 01:00:00</td>\n",
       "      <td>Sharon Connecticut</td>\n",
       "      <td>CT</td>\n",
       "      <td>Light</td>\n",
       "      <td>1 hour</td>\n",
       "    </tr>\n",
       "  </tbody>\n",
       "</table>\n",
       "</div>"
      ],
      "text/plain": [
       "                start                city state     shape duration_description\n",
       "0 2021-05-19 20:15:00             Atlanta    GA    Sphere               10 min\n",
       "1 2021-05-19 17:25:00         Glens Falls    NY  Triangle           20 minutes\n",
       "2 2021-05-19 14:30:00       North Haledon    NJ     Other              20 mins\n",
       "3 2021-05-19 10:50:00          Clarksburg    MD  Triangle                1 min\n",
       "4 2021-05-19 01:00:00  Sharon Connecticut    CT     Light               1 hour"
      ]
     },
     "execution_count": 51,
     "metadata": {},
     "output_type": "execute_result"
    }
   ],
   "source": [
    "ufos_df.head()"
   ]
  },
  {
   "cell_type": "code",
   "execution_count": 52,
   "metadata": {},
   "outputs": [],
   "source": [
    "ufos_df.replace(to_replace='', value=np.nan, inplace=True, limit=None, regex=False, method='pad')\n",
    "ufos_df = ufos_df.dropna() "
   ]
  },
  {
   "cell_type": "code",
   "execution_count": 53,
   "metadata": {},
   "outputs": [
    {
     "data": {
      "text/html": [
       "<div>\n",
       "<style scoped>\n",
       "    .dataframe tbody tr th:only-of-type {\n",
       "        vertical-align: middle;\n",
       "    }\n",
       "\n",
       "    .dataframe tbody tr th {\n",
       "        vertical-align: top;\n",
       "    }\n",
       "\n",
       "    .dataframe thead th {\n",
       "        text-align: right;\n",
       "    }\n",
       "</style>\n",
       "<table border=\"1\" class=\"dataframe\">\n",
       "  <thead>\n",
       "    <tr style=\"text-align: right;\">\n",
       "      <th></th>\n",
       "      <th>start</th>\n",
       "      <th>city</th>\n",
       "      <th>state</th>\n",
       "      <th>shape</th>\n",
       "      <th>duration_description</th>\n",
       "    </tr>\n",
       "  </thead>\n",
       "  <tbody>\n",
       "    <tr>\n",
       "      <th>0</th>\n",
       "      <td>2021-05-19 20:15:00</td>\n",
       "      <td>Atlanta</td>\n",
       "      <td>GA</td>\n",
       "      <td>Sphere</td>\n",
       "      <td>10 min</td>\n",
       "    </tr>\n",
       "    <tr>\n",
       "      <th>1</th>\n",
       "      <td>2021-05-19 17:25:00</td>\n",
       "      <td>Glens Falls</td>\n",
       "      <td>NY</td>\n",
       "      <td>Triangle</td>\n",
       "      <td>20 minutes</td>\n",
       "    </tr>\n",
       "    <tr>\n",
       "      <th>2</th>\n",
       "      <td>2021-05-19 14:30:00</td>\n",
       "      <td>North Haledon</td>\n",
       "      <td>NJ</td>\n",
       "      <td>Other</td>\n",
       "      <td>20 mins</td>\n",
       "    </tr>\n",
       "    <tr>\n",
       "      <th>3</th>\n",
       "      <td>2021-05-19 10:50:00</td>\n",
       "      <td>Clarksburg</td>\n",
       "      <td>MD</td>\n",
       "      <td>Triangle</td>\n",
       "      <td>1 min</td>\n",
       "    </tr>\n",
       "    <tr>\n",
       "      <th>4</th>\n",
       "      <td>2021-05-19 01:00:00</td>\n",
       "      <td>Sharon Connecticut</td>\n",
       "      <td>CT</td>\n",
       "      <td>Light</td>\n",
       "      <td>1 hour</td>\n",
       "    </tr>\n",
       "  </tbody>\n",
       "</table>\n",
       "</div>"
      ],
      "text/plain": [
       "                start                city state     shape duration_description\n",
       "0 2021-05-19 20:15:00             Atlanta    GA    Sphere               10 min\n",
       "1 2021-05-19 17:25:00         Glens Falls    NY  Triangle           20 minutes\n",
       "2 2021-05-19 14:30:00       North Haledon    NJ     Other              20 mins\n",
       "3 2021-05-19 10:50:00          Clarksburg    MD  Triangle                1 min\n",
       "4 2021-05-19 01:00:00  Sharon Connecticut    CT     Light               1 hour"
      ]
     },
     "execution_count": 53,
     "metadata": {},
     "output_type": "execute_result"
    }
   ],
   "source": [
    "ufos_df.head()"
   ]
  },
  {
   "cell_type": "markdown",
   "metadata": {},
   "source": [
    "#### Engineering time"
   ]
  },
  {
   "cell_type": "code",
   "execution_count": 54,
   "metadata": {},
   "outputs": [],
   "source": [
    "# function that infers the duration from the text \n",
    "def infer_duration_in_seconds(text):\n",
    "    # try different regexps to extract the total seconds\n",
    "    text = text.replace('<','')\n",
    "    text = text.replace('>','')\n",
    "    text = text.replace('?','')\n",
    "    text = text.replace('+','')\n",
    "    text = text.replace('~','')\n",
    "    metric_text = [\"second\",\"s\",\"Second\",\"segundo\",\"minute\",\"m\",\"min\",\"Minute\",\"hour\",\"h\",\"Hour\",'Currently']\n",
    "    metric_seconds = [1,1,1,1,60,60,60,3600,3600,3600,10]\n",
    "    for metric,mult in zip(metric_text, metric_seconds):\n",
    "        regex = \"\\s*(\\d+)\\+?\\s*{}s?\".format(metric)\n",
    "        res = re.findall(regex,text)\n",
    "        if len(res)>0:\n",
    "            return int(float(res[0]) * mult)\n",
    "    return 0"
   ]
  },
  {
   "cell_type": "code",
   "execution_count": 55,
   "metadata": {},
   "outputs": [],
   "source": [
    "# extract the duration in seconds\n",
    "ufos_df[\"duration_secs\"] = ufos_df[\"duration_description\"].apply(infer_duration_in_seconds)\n",
    "\n",
    "# now we can infer the end time of the UFO sighting as well\n",
    "# which will be useful for the animation later\n",
    "ufos_df[\"end\"] = ufos_df.apply(lambda x:x[\"start\"] + timedelta(seconds=x[\"duration_secs\"]),axis=1)\n",
    "ufos_df = ufos_df.dropna()"
   ]
  },
  {
   "cell_type": "code",
   "execution_count": 56,
   "metadata": {},
   "outputs": [
    {
     "data": {
      "text/html": [
       "<div>\n",
       "<style scoped>\n",
       "    .dataframe tbody tr th:only-of-type {\n",
       "        vertical-align: middle;\n",
       "    }\n",
       "\n",
       "    .dataframe tbody tr th {\n",
       "        vertical-align: top;\n",
       "    }\n",
       "\n",
       "    .dataframe thead th {\n",
       "        text-align: right;\n",
       "    }\n",
       "</style>\n",
       "<table border=\"1\" class=\"dataframe\">\n",
       "  <thead>\n",
       "    <tr style=\"text-align: right;\">\n",
       "      <th></th>\n",
       "      <th>start</th>\n",
       "      <th>city</th>\n",
       "      <th>state</th>\n",
       "      <th>shape</th>\n",
       "      <th>duration_description</th>\n",
       "      <th>duration_secs</th>\n",
       "      <th>end</th>\n",
       "    </tr>\n",
       "  </thead>\n",
       "  <tbody>\n",
       "    <tr>\n",
       "      <th>0</th>\n",
       "      <td>2021-05-19 20:15:00</td>\n",
       "      <td>Atlanta</td>\n",
       "      <td>GA</td>\n",
       "      <td>Sphere</td>\n",
       "      <td>10 min</td>\n",
       "      <td>600</td>\n",
       "      <td>2021-05-19 20:25:00</td>\n",
       "    </tr>\n",
       "    <tr>\n",
       "      <th>1</th>\n",
       "      <td>2021-05-19 17:25:00</td>\n",
       "      <td>Glens Falls</td>\n",
       "      <td>NY</td>\n",
       "      <td>Triangle</td>\n",
       "      <td>20 minutes</td>\n",
       "      <td>1200</td>\n",
       "      <td>2021-05-19 17:45:00</td>\n",
       "    </tr>\n",
       "    <tr>\n",
       "      <th>2</th>\n",
       "      <td>2021-05-19 14:30:00</td>\n",
       "      <td>North Haledon</td>\n",
       "      <td>NJ</td>\n",
       "      <td>Other</td>\n",
       "      <td>20 mins</td>\n",
       "      <td>1200</td>\n",
       "      <td>2021-05-19 14:50:00</td>\n",
       "    </tr>\n",
       "    <tr>\n",
       "      <th>3</th>\n",
       "      <td>2021-05-19 10:50:00</td>\n",
       "      <td>Clarksburg</td>\n",
       "      <td>MD</td>\n",
       "      <td>Triangle</td>\n",
       "      <td>1 min</td>\n",
       "      <td>60</td>\n",
       "      <td>2021-05-19 10:51:00</td>\n",
       "    </tr>\n",
       "    <tr>\n",
       "      <th>4</th>\n",
       "      <td>2021-05-19 01:00:00</td>\n",
       "      <td>Sharon Connecticut</td>\n",
       "      <td>CT</td>\n",
       "      <td>Light</td>\n",
       "      <td>1 hour</td>\n",
       "      <td>3600</td>\n",
       "      <td>2021-05-19 02:00:00</td>\n",
       "    </tr>\n",
       "  </tbody>\n",
       "</table>\n",
       "</div>"
      ],
      "text/plain": [
       "                start                city state     shape  \\\n",
       "0 2021-05-19 20:15:00             Atlanta    GA    Sphere   \n",
       "1 2021-05-19 17:25:00         Glens Falls    NY  Triangle   \n",
       "2 2021-05-19 14:30:00       North Haledon    NJ     Other   \n",
       "3 2021-05-19 10:50:00          Clarksburg    MD  Triangle   \n",
       "4 2021-05-19 01:00:00  Sharon Connecticut    CT     Light   \n",
       "\n",
       "  duration_description  duration_secs                 end  \n",
       "0               10 min            600 2021-05-19 20:25:00  \n",
       "1           20 minutes           1200 2021-05-19 17:45:00  \n",
       "2              20 mins           1200 2021-05-19 14:50:00  \n",
       "3                1 min             60 2021-05-19 10:51:00  \n",
       "4               1 hour           3600 2021-05-19 02:00:00  "
      ]
     },
     "execution_count": 56,
     "metadata": {},
     "output_type": "execute_result"
    }
   ],
   "source": [
    "ufos_df.head()"
   ]
  },
  {
   "cell_type": "markdown",
   "metadata": {},
   "source": [
    "#### Finding Locations"
   ]
  },
  {
   "cell_type": "code",
   "execution_count": 57,
   "metadata": {},
   "outputs": [
    {
     "data": {
      "text/plain": [
       "[{'place_id': 469421,\n",
       "  'licence': 'Data © OpenStreetMap contributors, ODbL 1.0. https://osm.org/copyright',\n",
       "  'osm_type': 'node',\n",
       "  'osm_id': 158616376,\n",
       "  'boundingbox': ['36.8175016', '37.1375016', '-76.58977', '-76.26977'],\n",
       "  'lat': '36.9775016',\n",
       "  'lon': '-76.42977',\n",
       "  'display_name': 'Newport News, Virginia, 23607, United States',\n",
       "  'class': 'place',\n",
       "  'type': 'city',\n",
       "  'importance': 0.686660556787456,\n",
       "  'icon': 'https://nominatim.openstreetmap.org/ui/mapicons//poi_place_city.p.20.png'},\n",
       " {'place_id': 258088659,\n",
       "  'licence': 'Data © OpenStreetMap contributors, ODbL 1.0. https://osm.org/copyright',\n",
       "  'osm_type': 'relation',\n",
       "  'osm_id': 3864704,\n",
       "  'boundingbox': ['36.930691', '37.2206658', '-76.646093', '-76.36161'],\n",
       "  'lat': '37.0914429',\n",
       "  'lon': '-76.5213892',\n",
       "  'display_name': 'Newport News, Virginia, United States',\n",
       "  'class': 'boundary',\n",
       "  'type': 'administrative',\n",
       "  'importance': 0.686660556787456,\n",
       "  'icon': 'https://nominatim.openstreetmap.org/ui/mapicons//poi_boundary_administrative.p.20.png'},\n",
       " {'place_id': 74662792,\n",
       "  'licence': 'Data © OpenStreetMap contributors, ODbL 1.0. https://osm.org/copyright',\n",
       "  'osm_type': 'node',\n",
       "  'osm_id': 7022584310,\n",
       "  'boundingbox': ['37.0178211', '37.0278211', '-76.4568619', '-76.4468619'],\n",
       "  'lat': '37.0228211',\n",
       "  'lon': '-76.4518619',\n",
       "  'display_name': 'Newport News, 9304, Warwick Boulevard, Huntington Heights, Newport News, Virginia, 23601, United States',\n",
       "  'class': 'railway',\n",
       "  'type': 'station',\n",
       "  'importance': 0.49244155193061573,\n",
       "  'icon': 'https://nominatim.openstreetmap.org/ui/mapicons//transport_train_station2.p.20.png'},\n",
       " {'place_id': 529846,\n",
       "  'licence': 'Data © OpenStreetMap contributors, ODbL 1.0. https://osm.org/copyright',\n",
       "  'osm_type': 'node',\n",
       "  'osm_id': 221158656,\n",
       "  'boundingbox': ['37.02192', '37.02202', '-76.451263', '-76.451163'],\n",
       "  'lat': '37.02197',\n",
       "  'lon': '-76.451213',\n",
       "  'display_name': 'Newport News, Warwick Boulevard, Huntington Heights, Newport News, Virginia, 23608, United States',\n",
       "  'class': 'railway',\n",
       "  'type': 'stop',\n",
       "  'importance': 0.201},\n",
       " {'place_id': 76432967,\n",
       "  'licence': 'Data © OpenStreetMap contributors, ODbL 1.0. https://osm.org/copyright',\n",
       "  'osm_type': 'node',\n",
       "  'osm_id': 7022584309,\n",
       "  'boundingbox': ['37.0230356', '37.0231356', '-76.4519501', '-76.4518501'],\n",
       "  'lat': '37.0230856',\n",
       "  'lon': '-76.4519001',\n",
       "  'display_name': 'Newport News, South Avenue, Hilton Village, Newport News, Virginia, 23605, United States',\n",
       "  'class': 'railway',\n",
       "  'type': 'stop',\n",
       "  'importance': 0.201},\n",
       " {'place_id': 69096801,\n",
       "  'licence': 'Data © OpenStreetMap contributors, ODbL 1.0. https://osm.org/copyright',\n",
       "  'osm_type': 'node',\n",
       "  'osm_id': 6173044103,\n",
       "  'boundingbox': ['52.0855514', '52.0856514', '-0.7270735', '-0.7269735'],\n",
       "  'lat': '52.0856014',\n",
       "  'lon': '-0.7270235',\n",
       "  'display_name': 'Newport News, 114, High Street, Green Park, Newport Pagnell, Milton Keynes, South East England, England, MK16 8EH, United Kingdom',\n",
       "  'class': 'shop',\n",
       "  'type': 'newsagent',\n",
       "  'importance': 0.201}]"
      ]
     },
     "execution_count": 57,
     "metadata": {},
     "output_type": "execute_result"
    }
   ],
   "source": [
    "geolocator = Nominatim()\n",
    "geolocator.query('Newport News')\n",
    "#geolocator.query(\"Houston, TX\")"
   ]
  },
  {
   "cell_type": "code",
   "execution_count": 58,
   "metadata": {
    "scrolled": true
   },
   "outputs": [],
   "source": [
    "#Be careful with too many queries made to the server in a short period of time\n",
    "\n",
    "ufos_df[\"lat\"] = 0\n",
    "ufos_df[\"lon\"] = 0\n",
    "for i in range(len(ufos_df[0:10])):\n",
    "    try:\n",
    "        resp_json = geolocator.query(ufos_df['city'][i])\n",
    "        ufos_df.loc[i, \"lat\"] = resp_json[0]['lat']\n",
    "        ufos_df.loc[i, \"lon\"] = resp_json[0]['lon']\n",
    "    except:\n",
    "        ufos_df.loc[i, \"lat\"] = 0\n",
    "        ufos_df.loc[i, \"lat\"] = 0\n",
    "    time.sleep(1.5)"
   ]
  },
  {
   "cell_type": "code",
   "execution_count": 59,
   "metadata": {},
   "outputs": [
    {
     "data": {
      "text/html": [
       "<div>\n",
       "<style scoped>\n",
       "    .dataframe tbody tr th:only-of-type {\n",
       "        vertical-align: middle;\n",
       "    }\n",
       "\n",
       "    .dataframe tbody tr th {\n",
       "        vertical-align: top;\n",
       "    }\n",
       "\n",
       "    .dataframe thead th {\n",
       "        text-align: right;\n",
       "    }\n",
       "</style>\n",
       "<table border=\"1\" class=\"dataframe\">\n",
       "  <thead>\n",
       "    <tr style=\"text-align: right;\">\n",
       "      <th></th>\n",
       "      <th>start</th>\n",
       "      <th>city</th>\n",
       "      <th>state</th>\n",
       "      <th>shape</th>\n",
       "      <th>duration_description</th>\n",
       "      <th>duration_secs</th>\n",
       "      <th>end</th>\n",
       "      <th>lat</th>\n",
       "      <th>lon</th>\n",
       "    </tr>\n",
       "  </thead>\n",
       "  <tbody>\n",
       "    <tr>\n",
       "      <th>0</th>\n",
       "      <td>2021-05-19 20:15:00</td>\n",
       "      <td>Atlanta</td>\n",
       "      <td>GA</td>\n",
       "      <td>Sphere</td>\n",
       "      <td>10 min</td>\n",
       "      <td>600</td>\n",
       "      <td>2021-05-19 20:25:00</td>\n",
       "      <td>33.7489924</td>\n",
       "      <td>-84.3902644</td>\n",
       "    </tr>\n",
       "    <tr>\n",
       "      <th>1</th>\n",
       "      <td>2021-05-19 17:25:00</td>\n",
       "      <td>Glens Falls</td>\n",
       "      <td>NY</td>\n",
       "      <td>Triangle</td>\n",
       "      <td>20 minutes</td>\n",
       "      <td>1200</td>\n",
       "      <td>2021-05-19 17:45:00</td>\n",
       "      <td>43.309941</td>\n",
       "      <td>-73.644447</td>\n",
       "    </tr>\n",
       "    <tr>\n",
       "      <th>2</th>\n",
       "      <td>2021-05-19 14:30:00</td>\n",
       "      <td>North Haledon</td>\n",
       "      <td>NJ</td>\n",
       "      <td>Other</td>\n",
       "      <td>20 mins</td>\n",
       "      <td>1200</td>\n",
       "      <td>2021-05-19 14:50:00</td>\n",
       "      <td>40.9550981</td>\n",
       "      <td>-74.1859782</td>\n",
       "    </tr>\n",
       "    <tr>\n",
       "      <th>3</th>\n",
       "      <td>2021-05-19 10:50:00</td>\n",
       "      <td>Clarksburg</td>\n",
       "      <td>MD</td>\n",
       "      <td>Triangle</td>\n",
       "      <td>1 min</td>\n",
       "      <td>60</td>\n",
       "      <td>2021-05-19 10:51:00</td>\n",
       "      <td>39.2806451</td>\n",
       "      <td>-80.3445341</td>\n",
       "    </tr>\n",
       "    <tr>\n",
       "      <th>4</th>\n",
       "      <td>2021-05-19 01:00:00</td>\n",
       "      <td>Sharon Connecticut</td>\n",
       "      <td>CT</td>\n",
       "      <td>Light</td>\n",
       "      <td>1 hour</td>\n",
       "      <td>3600</td>\n",
       "      <td>2021-05-19 02:00:00</td>\n",
       "      <td>41.8792599</td>\n",
       "      <td>-73.4767897</td>\n",
       "    </tr>\n",
       "    <tr>\n",
       "      <th>5</th>\n",
       "      <td>2021-05-19 00:23:00</td>\n",
       "      <td>Rosamond</td>\n",
       "      <td>CA</td>\n",
       "      <td>Formation</td>\n",
       "      <td>1 minute</td>\n",
       "      <td>60</td>\n",
       "      <td>2021-05-19 00:24:00</td>\n",
       "      <td>34.871511</td>\n",
       "      <td>-118.21577475000001</td>\n",
       "    </tr>\n",
       "    <tr>\n",
       "      <th>6</th>\n",
       "      <td>2021-05-18 00:00:00</td>\n",
       "      <td>Corvallis</td>\n",
       "      <td>OR</td>\n",
       "      <td>Cigar</td>\n",
       "      <td>20 seconds</td>\n",
       "      <td>20</td>\n",
       "      <td>2021-05-18 00:00:20</td>\n",
       "      <td>44.5645659</td>\n",
       "      <td>-123.2620435</td>\n",
       "    </tr>\n",
       "    <tr>\n",
       "      <th>7</th>\n",
       "      <td>2021-05-18 21:25:00</td>\n",
       "      <td>Colton</td>\n",
       "      <td>CA</td>\n",
       "      <td>Circle</td>\n",
       "      <td>15 seconds</td>\n",
       "      <td>15</td>\n",
       "      <td>2021-05-18 21:25:15</td>\n",
       "      <td>34.0739016</td>\n",
       "      <td>-117.3136547</td>\n",
       "    </tr>\n",
       "    <tr>\n",
       "      <th>8</th>\n",
       "      <td>2021-05-18 12:00:00</td>\n",
       "      <td>Lewisburg</td>\n",
       "      <td>PA</td>\n",
       "      <td>Other</td>\n",
       "      <td>All night/every night</td>\n",
       "      <td>0</td>\n",
       "      <td>2021-05-18 12:00:00</td>\n",
       "      <td>37.8017879</td>\n",
       "      <td>-80.4456303</td>\n",
       "    </tr>\n",
       "    <tr>\n",
       "      <th>9</th>\n",
       "      <td>2021-05-18 11:30:00</td>\n",
       "      <td>Paso Robles</td>\n",
       "      <td>CA</td>\n",
       "      <td>Sphere</td>\n",
       "      <td>5-10 seconds</td>\n",
       "      <td>10</td>\n",
       "      <td>2021-05-18 11:30:10</td>\n",
       "      <td>35.6267654</td>\n",
       "      <td>-120.6912456</td>\n",
       "    </tr>\n",
       "  </tbody>\n",
       "</table>\n",
       "</div>"
      ],
      "text/plain": [
       "                start                city state      shape  \\\n",
       "0 2021-05-19 20:15:00             Atlanta    GA     Sphere   \n",
       "1 2021-05-19 17:25:00         Glens Falls    NY   Triangle   \n",
       "2 2021-05-19 14:30:00       North Haledon    NJ      Other   \n",
       "3 2021-05-19 10:50:00          Clarksburg    MD   Triangle   \n",
       "4 2021-05-19 01:00:00  Sharon Connecticut    CT      Light   \n",
       "5 2021-05-19 00:23:00            Rosamond    CA  Formation   \n",
       "6 2021-05-18 00:00:00           Corvallis    OR      Cigar   \n",
       "7 2021-05-18 21:25:00              Colton    CA     Circle   \n",
       "8 2021-05-18 12:00:00           Lewisburg    PA      Other   \n",
       "9 2021-05-18 11:30:00         Paso Robles    CA     Sphere   \n",
       "\n",
       "    duration_description  duration_secs                 end         lat  \\\n",
       "0                 10 min            600 2021-05-19 20:25:00  33.7489924   \n",
       "1             20 minutes           1200 2021-05-19 17:45:00   43.309941   \n",
       "2                20 mins           1200 2021-05-19 14:50:00  40.9550981   \n",
       "3                  1 min             60 2021-05-19 10:51:00  39.2806451   \n",
       "4                 1 hour           3600 2021-05-19 02:00:00  41.8792599   \n",
       "5               1 minute             60 2021-05-19 00:24:00   34.871511   \n",
       "6             20 seconds             20 2021-05-18 00:00:20  44.5645659   \n",
       "7             15 seconds             15 2021-05-18 21:25:15  34.0739016   \n",
       "8  All night/every night              0 2021-05-18 12:00:00  37.8017879   \n",
       "9           5-10 seconds             10 2021-05-18 11:30:10  35.6267654   \n",
       "\n",
       "                   lon  \n",
       "0          -84.3902644  \n",
       "1           -73.644447  \n",
       "2          -74.1859782  \n",
       "3          -80.3445341  \n",
       "4          -73.4767897  \n",
       "5  -118.21577475000001  \n",
       "6         -123.2620435  \n",
       "7         -117.3136547  \n",
       "8          -80.4456303  \n",
       "9         -120.6912456  "
      ]
     },
     "execution_count": 59,
     "metadata": {},
     "output_type": "execute_result"
    }
   ],
   "source": [
    "ufos_df.to_pickle(os.path.join('../Data/','ufos_df.pkl'))\n",
    "ufos_df = pd.read_pickle(os.path.join('../Data','ufos_df.pkl'))\n",
    "ufos_df.head(10)"
   ]
  },
  {
   "cell_type": "code",
   "execution_count": 60,
   "metadata": {},
   "outputs": [],
   "source": [
    "# Note: dropna will drop any columns with None values, which is desirable\n",
    "ufos_df[[\"start\",\"end\",\"lon\",\"lat\",\"shape\"]].dropna().to_csv(os.path.join('../Data/','ufo_data.csv'), index=False, encoding=\"utf-8\")"
   ]
  },
  {
   "cell_type": "code",
   "execution_count": 61,
   "metadata": {},
   "outputs": [
    {
     "data": {
      "text/html": [
       "<div>\n",
       "<style scoped>\n",
       "    .dataframe tbody tr th:only-of-type {\n",
       "        vertical-align: middle;\n",
       "    }\n",
       "\n",
       "    .dataframe tbody tr th {\n",
       "        vertical-align: top;\n",
       "    }\n",
       "\n",
       "    .dataframe thead th {\n",
       "        text-align: right;\n",
       "    }\n",
       "</style>\n",
       "<table border=\"1\" class=\"dataframe\">\n",
       "  <thead>\n",
       "    <tr style=\"text-align: right;\">\n",
       "      <th></th>\n",
       "      <th>start</th>\n",
       "      <th>city</th>\n",
       "      <th>state</th>\n",
       "      <th>shape</th>\n",
       "      <th>duration_description</th>\n",
       "      <th>duration_secs</th>\n",
       "      <th>end</th>\n",
       "      <th>lat</th>\n",
       "      <th>lon</th>\n",
       "      <th>geometry</th>\n",
       "    </tr>\n",
       "  </thead>\n",
       "  <tbody>\n",
       "    <tr>\n",
       "      <th>0</th>\n",
       "      <td>2021-05-19 20:15:00</td>\n",
       "      <td>Atlanta</td>\n",
       "      <td>GA</td>\n",
       "      <td>Sphere</td>\n",
       "      <td>10 min</td>\n",
       "      <td>600</td>\n",
       "      <td>2021-05-19 20:25:00</td>\n",
       "      <td>33.7489924</td>\n",
       "      <td>-84.3902644</td>\n",
       "      <td>POINT (-84.39026 33.74899)</td>\n",
       "    </tr>\n",
       "    <tr>\n",
       "      <th>1</th>\n",
       "      <td>2021-05-19 17:25:00</td>\n",
       "      <td>Glens Falls</td>\n",
       "      <td>NY</td>\n",
       "      <td>Triangle</td>\n",
       "      <td>20 minutes</td>\n",
       "      <td>1200</td>\n",
       "      <td>2021-05-19 17:45:00</td>\n",
       "      <td>43.309941</td>\n",
       "      <td>-73.644447</td>\n",
       "      <td>POINT (-73.64445 43.30994)</td>\n",
       "    </tr>\n",
       "    <tr>\n",
       "      <th>2</th>\n",
       "      <td>2021-05-19 14:30:00</td>\n",
       "      <td>North Haledon</td>\n",
       "      <td>NJ</td>\n",
       "      <td>Other</td>\n",
       "      <td>20 mins</td>\n",
       "      <td>1200</td>\n",
       "      <td>2021-05-19 14:50:00</td>\n",
       "      <td>40.9550981</td>\n",
       "      <td>-74.1859782</td>\n",
       "      <td>POINT (-74.18598 40.95510)</td>\n",
       "    </tr>\n",
       "    <tr>\n",
       "      <th>3</th>\n",
       "      <td>2021-05-19 10:50:00</td>\n",
       "      <td>Clarksburg</td>\n",
       "      <td>MD</td>\n",
       "      <td>Triangle</td>\n",
       "      <td>1 min</td>\n",
       "      <td>60</td>\n",
       "      <td>2021-05-19 10:51:00</td>\n",
       "      <td>39.2806451</td>\n",
       "      <td>-80.3445341</td>\n",
       "      <td>POINT (-80.34453 39.28065)</td>\n",
       "    </tr>\n",
       "    <tr>\n",
       "      <th>4</th>\n",
       "      <td>2021-05-19 01:00:00</td>\n",
       "      <td>Sharon Connecticut</td>\n",
       "      <td>CT</td>\n",
       "      <td>Light</td>\n",
       "      <td>1 hour</td>\n",
       "      <td>3600</td>\n",
       "      <td>2021-05-19 02:00:00</td>\n",
       "      <td>41.8792599</td>\n",
       "      <td>-73.4767897</td>\n",
       "      <td>POINT (-73.47679 41.87926)</td>\n",
       "    </tr>\n",
       "  </tbody>\n",
       "</table>\n",
       "</div>"
      ],
      "text/plain": [
       "                start                city state     shape  \\\n",
       "0 2021-05-19 20:15:00             Atlanta    GA    Sphere   \n",
       "1 2021-05-19 17:25:00         Glens Falls    NY  Triangle   \n",
       "2 2021-05-19 14:30:00       North Haledon    NJ     Other   \n",
       "3 2021-05-19 10:50:00          Clarksburg    MD  Triangle   \n",
       "4 2021-05-19 01:00:00  Sharon Connecticut    CT     Light   \n",
       "\n",
       "  duration_description  duration_secs                 end         lat  \\\n",
       "0               10 min            600 2021-05-19 20:25:00  33.7489924   \n",
       "1           20 minutes           1200 2021-05-19 17:45:00   43.309941   \n",
       "2              20 mins           1200 2021-05-19 14:50:00  40.9550981   \n",
       "3                1 min             60 2021-05-19 10:51:00  39.2806451   \n",
       "4               1 hour           3600 2021-05-19 02:00:00  41.8792599   \n",
       "\n",
       "           lon                    geometry  \n",
       "0  -84.3902644  POINT (-84.39026 33.74899)  \n",
       "1   -73.644447  POINT (-73.64445 43.30994)  \n",
       "2  -74.1859782  POINT (-74.18598 40.95510)  \n",
       "3  -80.3445341  POINT (-80.34453 39.28065)  \n",
       "4  -73.4767897  POINT (-73.47679 41.87926)  "
      ]
     },
     "execution_count": 61,
     "metadata": {},
     "output_type": "execute_result"
    }
   ],
   "source": [
    "gdf = gpd.GeoDataFrame(ufos_df, geometry=gpd.points_from_xy(ufos_df.lon, ufos_df.lat))\n",
    "gdf.head()"
   ]
  },
  {
   "cell_type": "code",
   "execution_count": 62,
   "metadata": {},
   "outputs": [
    {
     "data": {
      "image/png": "[encoded data removed]",
      "text/plain": [
       "<Figure size 1152x921.6 with 1 Axes>"
      ]
     },
     "metadata": {
      "needs_background": "light"
     },
     "output_type": "display_data"
    }
   ],
   "source": [
    "world = gpd.read_file(gpd.datasets.get_path('naturalearth_lowres'))\n",
    "\n",
    "# We restrict to North America.\n",
    "ax = world[world.continent == 'North America'].plot(color='blue', edgecolor='black')\n",
    "\n",
    "# We can now plot our ``GeoDataFrame``.\n",
    "gdf.plot(ax=ax, color='red')\n",
    "plt.show()"
   ]
  },
  {
   "cell_type": "markdown",
   "metadata": {},
   "source": [
    "### Spatial Analysis with Twitter"
   ]
  },
  {
   "cell_type": "code",
   "execution_count": null,
   "metadata": {},
   "outputs": [],
   "source": [
    "import twitter"
   ]
  },
  {
   "cell_type": "code",
   "execution_count": null,
   "metadata": {},
   "outputs": [],
   "source": [
    "with open('./twitter_tokens.txt', 'r') as twitter_tokens:\n",
    "    tokens = twitter_tokens.read().split(',')\n",
    "consumer_key = tokens[0].strip()\n",
    "consumer_secret = tokens[1].strip()\n",
    "access_token = tokens[2].strip()\n",
    "access_token_secret = tokens[3].strip()"
   ]
  },
  {
   "cell_type": "code",
   "execution_count": null,
   "metadata": {},
   "outputs": [],
   "source": [
    "api = twitter.Api(consumer_key, consumer_secret, access_token, access_token_secret, sleep_on_rate_limit=True)"
   ]
  },
  {
   "cell_type": "code",
   "execution_count": null,
   "metadata": {},
   "outputs": [],
   "source": [
    "msgpublicas = api.GetStreamSample()\n",
    "geo_points = 0\n",
    "lats, lons = [], []\n",
    "users = []\n",
    "while geo_points < 6:\n",
    "    tweet = next(msgpublicas)\n",
    "    if 'coordinates' in tweet.keys() and tweet['coordinates'] != None:\n",
    "        print(tweet['text'])\n",
    "        coords = tweet['coordinates']['coordinates']\n",
    "        user = tweet['user']['id']\n",
    "        print(u'User {} in coordinates {}'.format(user, [coords[1],coords[0]]))\n",
    "        lons.append(float(coords[0]))\n",
    "        lats.append(float(coords[1]))\n",
    "        users.append(user)\n",
    "        geo_points +=1"
   ]
  },
  {
   "cell_type": "code",
   "execution_count": null,
   "metadata": {},
   "outputs": [],
   "source": [
    "df_twitter = pd.DataFrame({'User':users, 'lat':lats, 'long':lons})\n",
    "df_twitter.to_pickle(os.path.join('../Data/','df_twitter.pkl'))\n",
    "df_twitter = pd.read_pickle(os.path.join('../Data','df_twitter.pkl'))\n",
    "df_twitter.head()"
   ]
  },
  {
   "cell_type": "code",
   "execution_count": null,
   "metadata": {},
   "outputs": [],
   "source": [
    "fig = px.scatter_geo(df_twitter,\n",
    "                     lat = 'lat',\n",
    "                     lon = 'long',\n",
    "                     #locations=\"iso_alpha\",\n",
    "                     #color=\"continent\", # which column to use to set the color of markers\n",
    "                     hover_name=\"User\", # column added to hover information\n",
    "                     #size=\"pop\", # size of markers\n",
    "                     projection='mercator')\n",
    "#py.offline.plot(fig)\n",
    "f = go.FigureWidget(fig)\n",
    "f"
   ]
  },
  {
   "cell_type": "code",
   "execution_count": null,
   "metadata": {},
   "outputs": [],
   "source": [
    "gdf_twitter = gpd.GeoDataFrame(df_twitter, geometry=gpd.points_from_xy(df_twitter.long, df_twitter.lat))\n",
    "gdf_twitter.head()"
   ]
  },
  {
   "cell_type": "code",
   "execution_count": null,
   "metadata": {},
   "outputs": [],
   "source": [
    "world = gpd.read_file(gpd.datasets.get_path('naturalearth_lowres'))\n",
    "ax = world.plot(color='white', edgecolor='black')\n",
    "gdf_twitter.plot(ax=ax, color='green')\n",
    "plt.show()"
   ]
  }
 ],
 "metadata": {
  "kernelspec": {
   "display_name": "Python 3 (ipykernel)",
   "language": "python",
   "name": "python3"
  },
  "language_info": {
   "codemirror_mode": {
    "name": "ipython",
    "version": 3
   },
   "file_extension": ".py",
   "mimetype": "text/x-python",
   "name": "python",
   "nbconvert_exporter": "python",
   "pygments_lexer": "ipython3",
   "version": "3.8.5"
  }
 },
 "nbformat": 4,
 "nbformat_minor": 4
}
