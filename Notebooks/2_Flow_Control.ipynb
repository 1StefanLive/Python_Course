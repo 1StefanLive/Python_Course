{
 "cells": [
  {
   "cell_type": "code",
   "execution_count": 15,
   "metadata": {},
   "outputs": [],
   "source": [
    "import time\n",
    "import random"
   ]
  },
  {
   "cell_type": "markdown",
   "metadata": {},
   "source": [
    "# Introduction to Python  \n",
    "\n",
    "## [Control Flow Commands](https://docs.python.org/3/tutorial/controlflow.html)"
   ]
  },
  {
   "cell_type": "markdown",
   "metadata": {},
   "source": [
    "+ _if_ , _elif_, _else_\n",
    "+ _for_\n",
    "+ _while_\n",
    "+ _break_, _continue_, _pass_\n",
    "+ _try_, _except_"
   ]
  },
  {
   "cell_type": "markdown",
   "metadata": {},
   "source": [
    "### Conditional: _if_  /  _elif_  /  _else_\n",
    "\n",
    "+ Python uses the control flow if/elif/else to evaluate expressions  \n",
    "+ Conditions can be evaluated as True or False  \n",
    "+ One block can contain one _if_ statement, zero, one or many _elif_ statements and zero or one _else_ statement.  "
   ]
  },
  {
   "cell_type": "raw",
   "metadata": {},
   "source": [
    "#### Sintax:\n",
    "\n",
    "if <condition>:\n",
    "    code\n",
    "elif <condition>:     (optional)\n",
    "    code\n",
    "elif <condition>:     (optional)\n",
    "    code\n",
    "...\n",
    "else:                 (optional) \n",
    "    code"
   ]
  },
  {
   "cell_type": "code",
   "execution_count": 2,
   "metadata": {},
   "outputs": [
    {
     "name": "stdout",
     "output_type": "stream",
     "text": [
      "Name does not start with T,U,V, X or Z\n",
      "Ending if statement\n"
     ]
    }
   ],
   "source": [
    "name = 'Matheus'\n",
    "\n",
    "if name.startswith('T'):\n",
    "    print(f'Name starts with {name[0]}')\n",
    "    print('I am here')\n",
    "elif name.startswith('U'):\n",
    "    print(f'Name starts with {name[0]} e ends with {name[-1]}')\n",
    "elif name.startswith('V'):\n",
    "    print(f'Name starts with {name[0]}')\n",
    "elif name.startswith('X'):\n",
    "    print(f'Name starts with {name[0]}')\n",
    "elif name.startswith('Z'):\n",
    "    print(f'Name starts with {name[0]}')\n",
    "else:\n",
    "    print('Name does not start with T,U,V, X or Z')\n",
    "print('Ending if statement')"
   ]
  },
  {
   "cell_type": "markdown",
   "metadata": {},
   "source": [
    "#### We can also use nested _if_ statements"
   ]
  },
  {
   "cell_type": "code",
   "execution_count": 3,
   "metadata": {},
   "outputs": [
    {
     "name": "stdout",
     "output_type": "stream",
     "text": [
      "greater than 5\n"
     ]
    }
   ],
   "source": [
    "number = 6\n",
    "if number > 5:\n",
    "    print('greater than 5')\n",
    "    if number > 7:\n",
    "        print('greater than 7')\n",
    "        if number > 3:\n",
    "            print('greater than 3')\n",
    "else:\n",
    "    print('the number is less of equal to 5')"
   ]
  },
  {
   "cell_type": "markdown",
   "metadata": {},
   "source": [
    "### Loops: the _for_ command"
   ]
  },
  {
   "cell_type": "markdown",
   "metadata": {},
   "source": [
    "+ _for_ takes a sequence and loops through it, until it ends\n",
    "+ Each pass is called an _iteration_\n",
    "+ Any object that is _iterable_ can be passed to _for_ loops"
   ]
  },
  {
   "cell_type": "raw",
   "metadata": {},
   "source": [
    "#### Sintax:\n",
    "\n",
    "for <any_variable_name> in <any_iterable>:\n",
    "    code"
   ]
  },
  {
   "cell_type": "code",
   "execution_count": 7,
   "metadata": {},
   "outputs": [
    {
     "name": "stdout",
     "output_type": "stream",
     "text": [
      "---\n",
      "2 Daysies\n",
      "\n",
      "---\n",
      "4 Daysies\n",
      "\n",
      "---\n",
      "6 Daysies\n",
      "\n",
      "---\n",
      "8 Daysies\n",
      "\n",
      "---\n",
      "10 Daysies\n",
      "\n"
     ]
    }
   ],
   "source": [
    "for integer in range(2,11,2):\n",
    "    print('---')\n",
    "    print(f'{integer} Daysies')\n",
    "    print()"
   ]
  },
  {
   "cell_type": "code",
   "execution_count": 8,
   "metadata": {},
   "outputs": [
    {
     "name": "stdout",
     "output_type": "stream",
     "text": [
      "1\n",
      "9\n",
      "25\n",
      "49\n",
      "81\n"
     ]
    }
   ],
   "source": [
    "for number in range(1,10,2):\n",
    "    print(number**2)"
   ]
  },
  {
   "cell_type": "code",
   "execution_count": 9,
   "metadata": {},
   "outputs": [
    {
     "name": "stdout",
     "output_type": "stream",
     "text": [
      "M\n",
      "y\n",
      " \n",
      "n\n",
      "a\n",
      "m\n",
      "e\n",
      " \n",
      "i\n",
      "s\n",
      " \n",
      "L\n",
      "i\n",
      "t\n",
      "t\n",
      "l\n",
      "e\n",
      " \n",
      "J\n",
      "o\n",
      "h\n",
      "n\n"
     ]
    }
   ],
   "source": [
    "for letter in 'My name is Little John':\n",
    "    print(letter)"
   ]
  },
  {
   "cell_type": "code",
   "execution_count": 10,
   "metadata": {},
   "outputs": [
    {
     "name": "stdout",
     "output_type": "stream",
     "text": [
      "1 1 1\n",
      "4 16 64\n",
      "8 64 512\n",
      "9 81 729\n",
      "10 100 1000\n"
     ]
    }
   ],
   "source": [
    "for element in [1,4,8,9,10]:\n",
    "    print(element, element**2, element**3)"
   ]
  },
  {
   "cell_type": "code",
   "execution_count": 11,
   "metadata": {},
   "outputs": [
    {
     "name": "stdout",
     "output_type": "stream",
     "text": [
      "1\n",
      "4\n",
      "5\n"
     ]
    }
   ],
   "source": [
    "c = {1,4,4,4,4,5}\n",
    "for element in c:\n",
    "    print(element)"
   ]
  },
  {
   "cell_type": "markdown",
   "metadata": {},
   "source": [
    "### Loop with conditional: the comman _while_\n",
    "\n",
    "+ With _while_, you define a condition at the beggining\n",
    "+ While the condition is true, the loop will continue\n",
    "+ It is easy to create infinite loops with _while_"
   ]
  },
  {
   "cell_type": "raw",
   "metadata": {},
   "source": [
    "#### Sintax:\n",
    "\n",
    "while <condition>:\n",
    "    code"
   ]
  },
  {
   "cell_type": "code",
   "execution_count": 13,
   "metadata": {},
   "outputs": [
    {
     "name": "stdout",
     "output_type": "stream",
     "text": [
      "1\n",
      "2\n",
      "3\n",
      "4\n",
      "5\n",
      "6\n",
      "7\n",
      "8\n",
      "9\n"
     ]
    }
   ],
   "source": [
    "x = 1\n",
    "while x < 10:\n",
    "    print(x)\n",
    "    x += 1"
   ]
  },
  {
   "cell_type": "code",
   "execution_count": 18,
   "metadata": {},
   "outputs": [
    {
     "name": "stdout",
     "output_type": "stream",
     "text": [
      "0.042491710963613705\n",
      "0.9327442147019489\n",
      "0.9700328490719126\n",
      "0.14603183874774617\n",
      "0.7480339145619549\n",
      "0.5176702952133913\n",
      "0.31399028278007124\n",
      "0.393469478094729\n",
      "0.13999689141097926\n",
      "0.7917361209613268\n",
      "0.576781071759647\n",
      "0.36452555691016686\n",
      "0.6473817916718233\n",
      "0.20399872145875875\n",
      "0.5822522994988814\n",
      "0.440741480190289\n"
     ]
    }
   ],
   "source": [
    "while True:\n",
    "    x = random.random()\n",
    "    print(x)\n",
    "    if 0.5 > x > 0.4:\n",
    "        break"
   ]
  },
  {
   "cell_type": "markdown",
   "metadata": {},
   "source": [
    "### Change flow behaviour with _break_, _continue_ and _pass_\n",
    "\n",
    "+ The _break_ statement, breaks out of the innermost enclosing for or while loop.\n",
    "+ The _continue_ statement continues with the next iteration of the loop.\n",
    "+ The _pass_ statement does nothing. It can be used when a statement is required syntactically but the program requires no action."
   ]
  },
  {
   "cell_type": "code",
   "execution_count": 21,
   "metadata": {},
   "outputs": [
    {
     "name": "stdout",
     "output_type": "stream",
     "text": [
      "Sum of first  120 integers is :  7260\n"
     ]
    }
   ],
   "source": [
    "numbers = range(1,1000)\n",
    "num_sum = 0  \n",
    "count = 0  \n",
    "\n",
    "for x in numbers:  \n",
    "    #num_sum = num_sum + x\n",
    "    num_sum += x\n",
    "    # count = count + 1\n",
    "    count += 1\n",
    "    if count == 120:  \n",
    "        break  \n",
    "print(\"Sum of first \",count,\"integers is : \", num_sum)  "
   ]
  },
  {
   "cell_type": "code",
   "execution_count": 24,
   "metadata": {},
   "outputs": [
    {
     "name": "stdout",
     "output_type": "stream",
     "text": [
      "0\n",
      "1\n",
      "2\n",
      "3\n",
      "4\n",
      "5\n",
      "6\n",
      "7\n",
      "8\n",
      "9\n",
      "10\n"
     ]
    }
   ],
   "source": [
    "x = 0\n",
    "while True:\n",
    "    print(x)\n",
    "    x += 1\n",
    "    if x > 10:\n",
    "        break"
   ]
  },
  {
   "cell_type": "code",
   "execution_count": 25,
   "metadata": {},
   "outputs": [
    {
     "name": "stdout",
     "output_type": "stream",
     "text": [
      "0\n",
      "1\n",
      "2\n",
      "3\n",
      "4\n",
      "6\n",
      "8\n"
     ]
    }
   ],
   "source": [
    "for number in range(10):\n",
    "    if number in [5,7,9]:\n",
    "        continue\n",
    "    print(number)"
   ]
  },
  {
   "cell_type": "code",
   "execution_count": 26,
   "metadata": {},
   "outputs": [
    {
     "name": "stdout",
     "output_type": "stream",
     "text": [
      "x equals to 1 and y equals to 2\n",
      "x equals to 7 and y equals to 9\n",
      "x equals to 1 and y equals to 7\n"
     ]
    }
   ],
   "source": [
    "for x,y in [(1,2),(3,6),(7,9),(3,4),(1,7)]:\n",
    "    if x == 3:\n",
    "        continue\n",
    "    print(f'x equals to {x} and y equals to {y}')"
   ]
  },
  {
   "cell_type": "code",
   "execution_count": 29,
   "metadata": {},
   "outputs": [
    {
     "ename": "SyntaxError",
     "evalue": "unexpected EOF while parsing (<ipython-input-29-ee182518b9b8>, line 1)",
     "output_type": "error",
     "traceback": [
      "\u001b[0;36m  File \u001b[0;32m\"<ipython-input-29-ee182518b9b8>\"\u001b[0;36m, line \u001b[0;32m1\u001b[0m\n\u001b[0;31m    for x in range(10):        #error\u001b[0m\n\u001b[0m                                     ^\u001b[0m\n\u001b[0;31mSyntaxError\u001b[0m\u001b[0;31m:\u001b[0m unexpected EOF while parsing\n"
     ]
    }
   ],
   "source": [
    "for x in range(10):        #error"
   ]
  },
  {
   "cell_type": "code",
   "execution_count": 30,
   "metadata": {},
   "outputs": [],
   "source": [
    "for x in range(10):\n",
    "    pass"
   ]
  },
  {
   "cell_type": "code",
   "execution_count": 33,
   "metadata": {},
   "outputs": [
    {
     "name": "stdout",
     "output_type": "stream",
     "text": [
      "Current Letter : P\n",
      "Current Letter : y\n",
      "Current Letter : t\n",
      "This is pass block\n",
      "Current Letter : h\n",
      "Current Letter : o\n",
      "Current Letter : n\n"
     ]
    }
   ],
   "source": [
    "for letter in 'Python': \n",
    "    if letter == 'h':\n",
    "        pass\n",
    "        print('This is pass block')\n",
    "    print('Current Letter :', letter)"
   ]
  },
  {
   "cell_type": "markdown",
   "metadata": {},
   "source": [
    "* Números ímpares divisíveis por 7 e 5 até 100"
   ]
  },
  {
   "cell_type": "code",
   "execution_count": 26,
   "metadata": {},
   "outputs": [
    {
     "name": "stdout",
     "output_type": "stream",
     "text": [
      "[35]\n"
     ]
    }
   ],
   "source": [
    "seq = range(101)\n",
    "lista = []\n",
    "for numero in seq:\n",
    "    if numero%7 == 0 and numero%5 == 0 and numero%2 != 0:\n",
    "        lista.append(numero)\n",
    "print(lista)"
   ]
  },
  {
   "cell_type": "markdown",
   "metadata": {},
   "source": [
    "* Gerando números primos"
   ]
  },
  {
   "cell_type": "code",
   "execution_count": 27,
   "metadata": {},
   "outputs": [
    {
     "name": "stdout",
     "output_type": "stream",
     "text": [
      "48.63446784351075\n"
     ]
    }
   ],
   "source": [
    "print(time.time()/(3600*24*365))"
   ]
  },
  {
   "cell_type": "code",
   "execution_count": 28,
   "metadata": {},
   "outputs": [
    {
     "name": "stdout",
     "output_type": "stream",
     "text": [
      "6.8021910190582275\n"
     ]
    }
   ],
   "source": [
    "t0 = time.time()\n",
    "primos = []\n",
    "for i in range(2, 10000):\n",
    "    k = True\n",
    "    for j in range(2, i):\n",
    "        if i%j==0:\n",
    "            k = False\n",
    "    if k:\n",
    "        primos.append(i)\n",
    "#print(primos)\n",
    "print(time.time() - t0)"
   ]
  },
  {
   "cell_type": "code",
   "execution_count": 29,
   "metadata": {},
   "outputs": [
    {
     "name": "stdout",
     "output_type": "stream",
     "text": [
      "0.09703826904296875\n"
     ]
    }
   ],
   "source": [
    "t0 = time.time()\n",
    "seq = range(3,10000)\n",
    "primos = [2]\n",
    "for candidato in seq:\n",
    "    E_primo = True\n",
    "    for primo in primos:\n",
    "        if candidato%primo == 0:\n",
    "            E_primo = False\n",
    "            break\n",
    "    if E_primo:\n",
    "        primos.append(candidato)\n",
    "        #print(candidato)\n",
    "print(time.time() - t0)"
   ]
  },
  {
   "cell_type": "markdown",
   "metadata": {},
   "source": [
    "### Try e Except\n",
    "[Tipos de erro](https://stackabuse.com/python-exception-handling/) no Python\n",
    "\n",
    "O comando try permite que você teste se há erros no bloco de código.  \n",
    "O comando except permite que você trate deste erro.  \n",
    "O comando finally permite que você execute um código independente de ter havido erro ou não.    "
   ]
  },
  {
   "cell_type": "code",
   "execution_count": 2,
   "metadata": {},
   "outputs": [],
   "source": [
    "x = 2\n",
    "y = [1,3]"
   ]
  },
  {
   "cell_type": "code",
   "execution_count": 3,
   "metadata": {},
   "outputs": [
    {
     "ename": "TypeError",
     "evalue": "unsupported operand type(s) for +: 'int' and 'list'",
     "output_type": "error",
     "traceback": [
      "\u001b[0;31m---------------------------------------------------------------------------\u001b[0m",
      "\u001b[0;31mTypeError\u001b[0m                                 Traceback (most recent call last)",
      "\u001b[0;32m<ipython-input-3-1ce410750f60>\u001b[0m in \u001b[0;36m<module>\u001b[0;34m()\u001b[0m\n\u001b[0;32m----> 1\u001b[0;31m \u001b[0mx\u001b[0m \u001b[0;34m+\u001b[0m \u001b[0my\u001b[0m \u001b[0;31m# vai dar erro\u001b[0m\u001b[0;34m\u001b[0m\u001b[0m\n\u001b[0m",
      "\u001b[0;31mTypeError\u001b[0m: unsupported operand type(s) for +: 'int' and 'list'"
     ]
    }
   ],
   "source": [
    "x + y # vai dar erro"
   ]
  },
  {
   "cell_type": "code",
   "execution_count": 4,
   "metadata": {},
   "outputs": [
    {
     "name": "stdout",
     "output_type": "stream",
     "text": [
      "Ocorreu um erro\n"
     ]
    }
   ],
   "source": [
    "try:\n",
    "    x + y \n",
    "except:\n",
    "    print(\"Ocorreu um erro\")"
   ]
  },
  {
   "cell_type": "code",
   "execution_count": 5,
   "metadata": {},
   "outputs": [
    {
     "name": "stdout",
     "output_type": "stream",
     "text": [
      "Ocorreu um erro\n"
     ]
    }
   ],
   "source": [
    "try:\n",
    "    x + y \n",
    "except:\n",
    "    print(\"Ocorreu um erro\")\n",
    "else:\n",
    "    print(\"tá tudo certo com o código\")"
   ]
  },
  {
   "cell_type": "code",
   "execution_count": 7,
   "metadata": {},
   "outputs": [
    {
     "name": "stdout",
     "output_type": "stream",
     "text": [
      "Ocorreu um erro\n",
      "saímos do bloco\n"
     ]
    }
   ],
   "source": [
    "try:\n",
    "    x + y \n",
    "except:\n",
    "    print(\"Ocorreu um erro\")\n",
    "else:\n",
    "    print(\"tá tudo certo com o código\")\n",
    "finally:\n",
    "    print(\"saímos do bloco\")"
   ]
  },
  {
   "cell_type": "code",
   "execution_count": 8,
   "metadata": {},
   "outputs": [
    {
     "name": "stdout",
     "output_type": "stream",
     "text": [
      "Exception caught:unsupported operand type(s) for +: 'int' and 'list'\n"
     ]
    }
   ],
   "source": [
    "try:\n",
    "    x + y \n",
    "except Exception as e:\n",
    "    print(\"Exception caught:\" + str(e))"
   ]
  },
  {
   "cell_type": "code",
   "execution_count": 58,
   "metadata": {},
   "outputs": [
    {
     "name": "stdout",
     "output_type": "stream",
     "text": [
      "Erro de Tipo\n"
     ]
    }
   ],
   "source": [
    "try:\n",
    "    x + y \n",
    "except TypeError:\n",
    "    print(\"Erro de Tipo\")\n",
    "    \n",
    "except ValueError:\n",
    "    print(\"Erro de valor\")\n",
    "    \n",
    "except Exception as e:\n",
    "    print(\"Exception caught:\" + str(e))"
   ]
  },
  {
   "cell_type": "code",
   "execution_count": 9,
   "metadata": {},
   "outputs": [
    {
     "name": "stdout",
     "output_type": "stream",
     "text": [
      "I/O error(2): No such file or directory\n"
     ]
    }
   ],
   "source": [
    "import sys\n",
    "\n",
    "try:\n",
    "    f = open('integers.txt')\n",
    "    s = f.readline()\n",
    "    i = int(s.strip())\n",
    "except IOError as e:\n",
    "    errno, strerror = e.args\n",
    "    print(\"I/O error({0}): {1}\".format(errno,strerror))\n",
    "    # e can be printed directly without using .args:\n",
    "    # print(e)\n",
    "except ValueError:\n",
    "    print(\"No valid integer in line.\")\n",
    "except Exception as e:\n",
    "    print(\"Exception caught:\" + str(e))\n",
    "    raise"
   ]
  }
 ],
 "metadata": {
  "kernelspec": {
   "display_name": "Python 3",
   "language": "python",
   "name": "python3"
  },
  "language_info": {
   "codemirror_mode": {
    "name": "ipython",
    "version": 3
   },
   "file_extension": ".py",
   "mimetype": "text/x-python",
   "name": "python",
   "nbconvert_exporter": "python",
   "pygments_lexer": "ipython3",
   "version": "3.8.2"
  }
 },
 "nbformat": 4,
 "nbformat_minor": 4
}
